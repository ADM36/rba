{
  "nbformat": 4,
  "nbformat_minor": 0,
  "metadata": {
    "colab": {
      "name": "(3a) Modeling: BQML [MAKE A COPY]",
      "provenance": [],
      "collapsed_sections": []
    },
    "kernelspec": {
      "display_name": "Python 3",
      "name": "python3"
    },
    "language_info": {
      "name": "python"
    }
  },
  "cells": [
    {
      "cell_type": "markdown",
      "metadata": {
        "id": "gqL1c-Xy_3yq"
      },
      "source": [
        "Copyright 2021 Google LLC\n",
        "\n",
        "Licensed under the Apache License, Version 2.0 (the \"License\");\n",
        "you may not use this file except in compliance with the License.\n",
        "You may obtain a copy of the License at\n",
        "\n",
        "[https://www.apache.org/licenses/LICENSE-2.0](https://www.apache.org/licenses/LICENSE-2.0)\n",
        "\n",
        "Unless required by applicable law or agreed to in writing, software\n",
        "distributed under the License is distributed on an \"AS IS\" BASIS,\n",
        "WITHOUT WARRANTIES OR CONDITIONS OF ANY KIND, either express or implied.\n",
        "See the License for the specific language governing permissions and\n",
        "limitations under the License.\n",
        "\n",
        "This solution, including any related sample code or data, is made available \n",
        "on an “as is,” “as available,” and “with all faults” basis, solely for \n",
        "illustrative purposes, and without warranty or representation of any kind. \n",
        "This solution is experimental, unsupported and provided solely for your \n",
        "convenience. Your use of it is subject to your agreements with Google, as \n",
        "applicable, and may constitute a beta feature as defined under those \n",
        "agreements.  To the extent that you make any data available to Google in \n",
        "connection with your use of the solution, you represent and warrant that you \n",
        "have all necessary and appropriate rights, consents and permissions to permit \n",
        "Google to use and process that data.  By using any portion of this solution, \n",
        "you acknowledge, assume and accept all risks, known and unknown, associated \n",
        "with its usage, including with respect to your deployment of any portion of \n",
        "this solution in your systems, or usage in connection with your business, \n",
        "if at all."
      ]
    },
    {
      "cell_type": "markdown",
      "metadata": {
        "id": "l19lClJob3IR"
      },
      "source": [
        "# Setup"
      ]
    },
    {
      "cell_type": "markdown",
      "metadata": {
        "id": "uh6JyZGLcEgE"
      },
      "source": [
        "### Load modules"
      ]
    },
    {
      "cell_type": "code",
      "metadata": {
        "id": "4aupXJjFcHkq",
        "colab": {
          "base_uri": "https://localhost:8080/"
        },
        "outputId": "9f006d38-04ef-44b4-90ec-b72eba06893d"
      },
      "source": [
        "# authenication libraries for colab & bigquery tools\n",
        "from google.colab import auth\n",
        "from google.cloud import bigquery\n",
        "!pip install --upgrade -q gspread \n",
        "import gspread\n",
        "from gspread_dataframe import set_with_dataframe\n",
        "from oauth2client.client import GoogleCredentials\n",
        "auth.authenticate_user()\n",
        "gc = gspread.authorize(GoogleCredentials.get_application_default())\n",
        "bigquery.USE_LEGACY_SQL = False\n",
        "\n",
        "# BQ Magics\n",
        "from google.cloud import bigquery\n",
        "from google.cloud.bigquery import magics\n",
        "magics.context.project = 'db-platform-sol' \n",
        "client = bigquery.Client(project=magics.context.project)\n",
        "%load_ext google.cloud.bigquery\n",
        "\n",
        "!pip install relativeImp\n",
        "from relativeImp import relativeImp\n",
        "\n",
        "# data processing libraries\n",
        "import numpy as np\n",
        "import pandas as pd\n",
        "import matplotlib.pyplot as plt\n",
        "from statsmodels.stats.stattools import durbin_watson\n",
        "import statsmodels.api as sm\n",
        "import seaborn as sns"
      ],
      "execution_count": 65,
      "outputs": [
        {
          "output_type": "stream",
          "name": "stdout",
          "text": [
            "The google.cloud.bigquery extension is already loaded. To reload it, use:\n",
            "  %reload_ext google.cloud.bigquery\n",
            "Requirement already satisfied: relativeImp in /usr/local/lib/python3.7/dist-packages (0.0.2)\n",
            "Requirement already satisfied: numpy in /usr/local/lib/python3.7/dist-packages (from relativeImp) (1.19.5)\n",
            "Requirement already satisfied: pandas in /usr/local/lib/python3.7/dist-packages (from relativeImp) (1.1.5)\n",
            "Requirement already satisfied: python-dateutil>=2.7.3 in /usr/local/lib/python3.7/dist-packages (from pandas->relativeImp) (2.8.2)\n",
            "Requirement already satisfied: pytz>=2017.2 in /usr/local/lib/python3.7/dist-packages (from pandas->relativeImp) (2018.9)\n",
            "Requirement already satisfied: six>=1.5 in /usr/local/lib/python3.7/dist-packages (from python-dateutil>=2.7.3->pandas->relativeImp) (1.15.0)\n"
          ]
        }
      ]
    },
    {
      "cell_type": "markdown",
      "metadata": {
        "id": "8N8-scWPc7fP"
      },
      "source": [
        "### Load model input data"
      ]
    },
    {
      "cell_type": "code",
      "metadata": {
        "id": "72-DM56LFrGg"
      },
      "source": [
        "%%bigquery df\n",
        "SELECT *\n",
        "FROM `db-platform-sol.ComcastGBA_test.ne_mains_clean`\n",
        "WHERE Division IS NOT NULL;"
      ],
      "execution_count": 66,
      "outputs": []
    },
    {
      "cell_type": "code",
      "metadata": {
        "colab": {
          "base_uri": "https://localhost:8080/"
        },
        "id": "psVo1ZxHCyZ-",
        "outputId": "dbd69097-6c23-462e-e96c-2694922e3049"
      },
      "source": [
        "df.columns"
      ],
      "execution_count": 67,
      "outputs": [
        {
          "output_type": "execute_result",
          "data": {
            "text/plain": [
              "Index(['Division', 'day', 'total_clicks', 'NonBrand_clicks', 'Brand_clicks',\n",
              "       'Brand_x_RMKT_x_EC_clicks', 'Brand_x_Core_x_NC_clicks',\n",
              "       'NonBrand_x_Core_x_NC_clicks', 'Brand_x_RMKT_x_NCFM_clicks',\n",
              "       'NonBrand_x_RMKT_x_NCFM_clicks',\n",
              "       ...\n",
              "       'DBM_x_Display_x_ACQ_imps', 'Pandora_x_Display_x_AWA_imps',\n",
              "       'OTHER_x_Social_x_AWA_imps', 'The_Trade_Desk_x_Display_x_ACQ_imps',\n",
              "       'Oath_x_Video_x_ACQ_imps', 'Division_y', 'new_accounts',\n",
              "       'national_imps', 'national_clicks', '__index_level_0__'],\n",
              "      dtype='object', length=158)"
            ]
          },
          "metadata": {},
          "execution_count": 67
        }
      ]
    },
    {
      "cell_type": "code",
      "metadata": {
        "id": "fPQPXs4t6gpT"
      },
      "source": [
        "df = df[['Brand_x_Core_x_NC_clicks', 'The_Trade_Desk_x_Audio_x_AWA_imps','DBM_x_Display_x_RTG_imps', 'Amazon_x_Display_x_AWA_imps',\n",
        "         'DBM_x_Video_x_AWA_imps', 'The_Trade_Desk_x_Display_x_AWA_imps', 'Brand_x_RMKT_x_EC_clicks','OTHER_x_Display_x_AWA_imps',\n",
        "         'Amazon_x_Display_x_RTG_imps', 'DBM_x_Display_x_ACQ_imps','Oath_x_Display_x_AWA_imps', 'DBM_x_Display_x_AWA_imps', 'new_accounts']]"
      ],
      "execution_count": 68,
      "outputs": []
    },
    {
      "cell_type": "code",
      "metadata": {
        "id": "qbPuqnntZ9Tr"
      },
      "source": [
        "df = df.fillna(0)"
      ],
      "execution_count": 69,
      "outputs": []
    },
    {
      "cell_type": "code",
      "metadata": {
        "colab": {
          "base_uri": "https://localhost:8080/",
          "height": 313
        },
        "id": "yToddasyh-77",
        "outputId": "b0442b19-3ac1-4376-a1cc-7af2c107a7f3"
      },
      "source": [
        "df.describe()"
      ],
      "execution_count": 70,
      "outputs": [
        {
          "output_type": "execute_result",
          "data": {
            "text/html": [
              "<div>\n",
              "<style scoped>\n",
              "    .dataframe tbody tr th:only-of-type {\n",
              "        vertical-align: middle;\n",
              "    }\n",
              "\n",
              "    .dataframe tbody tr th {\n",
              "        vertical-align: top;\n",
              "    }\n",
              "\n",
              "    .dataframe thead th {\n",
              "        text-align: right;\n",
              "    }\n",
              "</style>\n",
              "<table border=\"1\" class=\"dataframe\">\n",
              "  <thead>\n",
              "    <tr style=\"text-align: right;\">\n",
              "      <th></th>\n",
              "      <th>Brand_x_Core_x_NC_clicks</th>\n",
              "      <th>The_Trade_Desk_x_Audio_x_AWA_imps</th>\n",
              "      <th>DBM_x_Display_x_RTG_imps</th>\n",
              "      <th>Amazon_x_Display_x_AWA_imps</th>\n",
              "      <th>DBM_x_Video_x_AWA_imps</th>\n",
              "      <th>The_Trade_Desk_x_Display_x_AWA_imps</th>\n",
              "      <th>Brand_x_RMKT_x_EC_clicks</th>\n",
              "      <th>OTHER_x_Display_x_AWA_imps</th>\n",
              "      <th>Amazon_x_Display_x_RTG_imps</th>\n",
              "      <th>DBM_x_Display_x_ACQ_imps</th>\n",
              "      <th>Oath_x_Display_x_AWA_imps</th>\n",
              "      <th>DBM_x_Display_x_AWA_imps</th>\n",
              "      <th>new_accounts</th>\n",
              "    </tr>\n",
              "  </thead>\n",
              "  <tbody>\n",
              "    <tr>\n",
              "      <th>count</th>\n",
              "      <td>607.000000</td>\n",
              "      <td>607.000000</td>\n",
              "      <td>6.070000e+02</td>\n",
              "      <td>6.070000e+02</td>\n",
              "      <td>6.070000e+02</td>\n",
              "      <td>607.000000</td>\n",
              "      <td>607.000000</td>\n",
              "      <td>6.070000e+02</td>\n",
              "      <td>6.070000e+02</td>\n",
              "      <td>6.070000e+02</td>\n",
              "      <td>607.000000</td>\n",
              "      <td>6.070000e+02</td>\n",
              "      <td>607.000000</td>\n",
              "    </tr>\n",
              "    <tr>\n",
              "      <th>mean</th>\n",
              "      <td>14329.436573</td>\n",
              "      <td>90002.678748</td>\n",
              "      <td>1.467573e+06</td>\n",
              "      <td>4.194357e+05</td>\n",
              "      <td>3.751410e+05</td>\n",
              "      <td>22417.869852</td>\n",
              "      <td>6327.876442</td>\n",
              "      <td>2.937962e+06</td>\n",
              "      <td>8.531091e+05</td>\n",
              "      <td>3.860112e+06</td>\n",
              "      <td>65537.889621</td>\n",
              "      <td>1.938495e+06</td>\n",
              "      <td>1500.762768</td>\n",
              "    </tr>\n",
              "    <tr>\n",
              "      <th>std</th>\n",
              "      <td>2300.490429</td>\n",
              "      <td>119544.592658</td>\n",
              "      <td>4.819902e+05</td>\n",
              "      <td>6.335222e+05</td>\n",
              "      <td>4.362467e+05</td>\n",
              "      <td>54948.202651</td>\n",
              "      <td>2882.918545</td>\n",
              "      <td>2.793634e+06</td>\n",
              "      <td>1.027559e+06</td>\n",
              "      <td>3.824958e+06</td>\n",
              "      <td>88365.995374</td>\n",
              "      <td>2.138514e+06</td>\n",
              "      <td>459.591467</td>\n",
              "    </tr>\n",
              "    <tr>\n",
              "      <th>min</th>\n",
              "      <td>7894.000000</td>\n",
              "      <td>0.000000</td>\n",
              "      <td>1.351720e+05</td>\n",
              "      <td>0.000000e+00</td>\n",
              "      <td>0.000000e+00</td>\n",
              "      <td>0.000000</td>\n",
              "      <td>2327.000000</td>\n",
              "      <td>1.390000e+02</td>\n",
              "      <td>0.000000e+00</td>\n",
              "      <td>0.000000e+00</td>\n",
              "      <td>0.000000</td>\n",
              "      <td>0.000000e+00</td>\n",
              "      <td>365.000000</td>\n",
              "    </tr>\n",
              "    <tr>\n",
              "      <th>25%</th>\n",
              "      <td>12746.000000</td>\n",
              "      <td>0.000000</td>\n",
              "      <td>1.323660e+06</td>\n",
              "      <td>6.000000e+00</td>\n",
              "      <td>3.000000e+00</td>\n",
              "      <td>0.000000</td>\n",
              "      <td>4073.000000</td>\n",
              "      <td>6.477115e+05</td>\n",
              "      <td>0.000000e+00</td>\n",
              "      <td>2.027536e+06</td>\n",
              "      <td>0.000000</td>\n",
              "      <td>3.138890e+05</td>\n",
              "      <td>1174.000000</td>\n",
              "    </tr>\n",
              "    <tr>\n",
              "      <th>50%</th>\n",
              "      <td>14275.000000</td>\n",
              "      <td>42017.000000</td>\n",
              "      <td>1.557938e+06</td>\n",
              "      <td>9.819300e+04</td>\n",
              "      <td>2.407770e+05</td>\n",
              "      <td>0.000000</td>\n",
              "      <td>5298.000000</td>\n",
              "      <td>1.611886e+06</td>\n",
              "      <td>0.000000e+00</td>\n",
              "      <td>2.783977e+06</td>\n",
              "      <td>1.000000</td>\n",
              "      <td>1.202255e+06</td>\n",
              "      <td>1478.000000</td>\n",
              "    </tr>\n",
              "    <tr>\n",
              "      <th>75%</th>\n",
              "      <td>15913.000000</td>\n",
              "      <td>154324.000000</td>\n",
              "      <td>1.750654e+06</td>\n",
              "      <td>6.826945e+05</td>\n",
              "      <td>6.460510e+05</td>\n",
              "      <td>0.000000</td>\n",
              "      <td>8145.000000</td>\n",
              "      <td>5.092392e+06</td>\n",
              "      <td>1.666294e+06</td>\n",
              "      <td>4.409462e+06</td>\n",
              "      <td>117787.000000</td>\n",
              "      <td>2.465588e+06</td>\n",
              "      <td>1697.000000</td>\n",
              "    </tr>\n",
              "    <tr>\n",
              "      <th>max</th>\n",
              "      <td>21552.000000</td>\n",
              "      <td>786651.000000</td>\n",
              "      <td>2.433525e+06</td>\n",
              "      <td>2.859646e+06</td>\n",
              "      <td>2.889383e+06</td>\n",
              "      <td>319197.000000</td>\n",
              "      <td>16450.000000</td>\n",
              "      <td>1.034507e+07</td>\n",
              "      <td>4.003753e+06</td>\n",
              "      <td>2.050622e+07</td>\n",
              "      <td>395993.000000</td>\n",
              "      <td>8.800172e+06</td>\n",
              "      <td>3011.000000</td>\n",
              "    </tr>\n",
              "  </tbody>\n",
              "</table>\n",
              "</div>"
            ],
            "text/plain": [
              "       Brand_x_Core_x_NC_clicks  ...  new_accounts\n",
              "count                607.000000  ...    607.000000\n",
              "mean               14329.436573  ...   1500.762768\n",
              "std                 2300.490429  ...    459.591467\n",
              "min                 7894.000000  ...    365.000000\n",
              "25%                12746.000000  ...   1174.000000\n",
              "50%                14275.000000  ...   1478.000000\n",
              "75%                15913.000000  ...   1697.000000\n",
              "max                21552.000000  ...   3011.000000\n",
              "\n",
              "[8 rows x 13 columns]"
            ]
          },
          "metadata": {},
          "execution_count": 70
        }
      ]
    },
    {
      "cell_type": "markdown",
      "metadata": {
        "id": "j2kOEcAxArc7"
      },
      "source": [
        "## BQML Model"
      ]
    },
    {
      "cell_type": "markdown",
      "metadata": {
        "id": "4tnNNcg28cbE"
      },
      "source": [
        "Run the model"
      ]
    },
    {
      "cell_type": "code",
      "metadata": {
        "colab": {
          "base_uri": "https://localhost:8080/",
          "height": 32
        },
        "id": "9cp6xyg278H7",
        "outputId": "09ab47f0-dd27-47b3-9aad-b6983feaeafa"
      },
      "source": [
        "%%bigquery\n",
        "CREATE OR REPLACE MODEL `db-platform-sol.ComcastGBA_test.rba_model` \n",
        "OPTIONS (model_type='linear_reg',\n",
        "         input_label_cols = ['new_accounts'])\n",
        "AS SELECT Brand_x_Core_x_NC_clicks,\n",
        "          The_Trade_Desk_x_Audio_x_AWA_imps,\n",
        "          DBM_x_Display_x_RTG_imps, \n",
        "          Amazon_x_Display_x_AWA_imps,\n",
        "          DBM_x_Video_x_AWA_imps, \n",
        "          The_Trade_Desk_x_Display_x_AWA_imps,\n",
        "          Brand_x_RMKT_x_EC_clicks,  \n",
        "          OTHER_x_Display_x_AWA_imps,\n",
        "          Amazon_x_Display_x_RTG_imps, \n",
        "          DBM_x_Display_x_ACQ_imps,\n",
        "          Oath_x_Display_x_AWA_imps,\n",
        "          DBM_x_Display_x_AWA_imps,\n",
        "       new_accounts\n",
        "    FROM `db-platform-sol.ComcastGBA_test.ne_mains_clean`;"
      ],
      "execution_count": 98,
      "outputs": [
        {
          "output_type": "execute_result",
          "data": {
            "text/html": [
              "<div>\n",
              "<style scoped>\n",
              "    .dataframe tbody tr th:only-of-type {\n",
              "        vertical-align: middle;\n",
              "    }\n",
              "\n",
              "    .dataframe tbody tr th {\n",
              "        vertical-align: top;\n",
              "    }\n",
              "\n",
              "    .dataframe thead th {\n",
              "        text-align: right;\n",
              "    }\n",
              "</style>\n",
              "<table border=\"1\" class=\"dataframe\">\n",
              "  <thead>\n",
              "    <tr style=\"text-align: right;\">\n",
              "      <th></th>\n",
              "    </tr>\n",
              "  </thead>\n",
              "  <tbody>\n",
              "  </tbody>\n",
              "</table>\n",
              "</div>"
            ],
            "text/plain": [
              "Empty DataFrame\n",
              "Columns: []\n",
              "Index: []"
            ]
          },
          "metadata": {},
          "execution_count": 98
        }
      ]
    },
    {
      "cell_type": "markdown",
      "metadata": {
        "id": "taBcsWgY8dnI"
      },
      "source": [
        "Output results (un-standardized)"
      ]
    },
    {
      "cell_type": "code",
      "metadata": {
        "id": "fCPvQV-ozkop"
      },
      "source": [
        "%%bigquery bqml_results_unscaled\n",
        "SELECT *\n",
        "FROM ML.WEIGHTS(MODEL `db-platform-sol.ComcastGBA_test.rba_model`)"
      ],
      "execution_count": 99,
      "outputs": []
    },
    {
      "cell_type": "code",
      "metadata": {
        "id": "sPYunF95A14c",
        "colab": {
          "base_uri": "https://localhost:8080/",
          "height": 445
        },
        "outputId": "a9710f5e-0a1f-41a7-9022-704ceceb8310"
      },
      "source": [
        "bqml_results_unscaled"
      ],
      "execution_count": 100,
      "outputs": [
        {
          "output_type": "execute_result",
          "data": {
            "text/html": [
              "<div>\n",
              "<style scoped>\n",
              "    .dataframe tbody tr th:only-of-type {\n",
              "        vertical-align: middle;\n",
              "    }\n",
              "\n",
              "    .dataframe tbody tr th {\n",
              "        vertical-align: top;\n",
              "    }\n",
              "\n",
              "    .dataframe thead th {\n",
              "        text-align: right;\n",
              "    }\n",
              "</style>\n",
              "<table border=\"1\" class=\"dataframe\">\n",
              "  <thead>\n",
              "    <tr style=\"text-align: right;\">\n",
              "      <th></th>\n",
              "      <th>processed_input</th>\n",
              "      <th>weight</th>\n",
              "      <th>category_weights</th>\n",
              "    </tr>\n",
              "  </thead>\n",
              "  <tbody>\n",
              "    <tr>\n",
              "      <th>0</th>\n",
              "      <td>Brand_x_Core_x_NC_clicks</td>\n",
              "      <td>0.153363</td>\n",
              "      <td>[]</td>\n",
              "    </tr>\n",
              "    <tr>\n",
              "      <th>1</th>\n",
              "      <td>The_Trade_Desk_x_Audio_x_AWA_imps</td>\n",
              "      <td>-0.001071</td>\n",
              "      <td>[]</td>\n",
              "    </tr>\n",
              "    <tr>\n",
              "      <th>2</th>\n",
              "      <td>DBM_x_Display_x_RTG_imps</td>\n",
              "      <td>0.000080</td>\n",
              "      <td>[]</td>\n",
              "    </tr>\n",
              "    <tr>\n",
              "      <th>3</th>\n",
              "      <td>Amazon_x_Display_x_AWA_imps</td>\n",
              "      <td>0.000086</td>\n",
              "      <td>[]</td>\n",
              "    </tr>\n",
              "    <tr>\n",
              "      <th>4</th>\n",
              "      <td>DBM_x_Video_x_AWA_imps</td>\n",
              "      <td>0.000129</td>\n",
              "      <td>[]</td>\n",
              "    </tr>\n",
              "    <tr>\n",
              "      <th>5</th>\n",
              "      <td>The_Trade_Desk_x_Display_x_AWA_imps</td>\n",
              "      <td>0.001864</td>\n",
              "      <td>[]</td>\n",
              "    </tr>\n",
              "    <tr>\n",
              "      <th>6</th>\n",
              "      <td>Brand_x_RMKT_x_EC_clicks</td>\n",
              "      <td>-0.050669</td>\n",
              "      <td>[]</td>\n",
              "    </tr>\n",
              "    <tr>\n",
              "      <th>7</th>\n",
              "      <td>OTHER_x_Display_x_AWA_imps</td>\n",
              "      <td>-0.000024</td>\n",
              "      <td>[]</td>\n",
              "    </tr>\n",
              "    <tr>\n",
              "      <th>8</th>\n",
              "      <td>Amazon_x_Display_x_RTG_imps</td>\n",
              "      <td>-0.000090</td>\n",
              "      <td>[]</td>\n",
              "    </tr>\n",
              "    <tr>\n",
              "      <th>9</th>\n",
              "      <td>DBM_x_Display_x_ACQ_imps</td>\n",
              "      <td>0.000045</td>\n",
              "      <td>[]</td>\n",
              "    </tr>\n",
              "    <tr>\n",
              "      <th>10</th>\n",
              "      <td>Oath_x_Display_x_AWA_imps</td>\n",
              "      <td>0.000757</td>\n",
              "      <td>[]</td>\n",
              "    </tr>\n",
              "    <tr>\n",
              "      <th>11</th>\n",
              "      <td>DBM_x_Display_x_AWA_imps</td>\n",
              "      <td>-0.000092</td>\n",
              "      <td>[]</td>\n",
              "    </tr>\n",
              "    <tr>\n",
              "      <th>12</th>\n",
              "      <td>__INTERCEPT__</td>\n",
              "      <td>-475.022852</td>\n",
              "      <td>[]</td>\n",
              "    </tr>\n",
              "  </tbody>\n",
              "</table>\n",
              "</div>"
            ],
            "text/plain": [
              "                        processed_input      weight category_weights\n",
              "0              Brand_x_Core_x_NC_clicks    0.153363               []\n",
              "1     The_Trade_Desk_x_Audio_x_AWA_imps   -0.001071               []\n",
              "2              DBM_x_Display_x_RTG_imps    0.000080               []\n",
              "3           Amazon_x_Display_x_AWA_imps    0.000086               []\n",
              "4                DBM_x_Video_x_AWA_imps    0.000129               []\n",
              "5   The_Trade_Desk_x_Display_x_AWA_imps    0.001864               []\n",
              "6              Brand_x_RMKT_x_EC_clicks   -0.050669               []\n",
              "7            OTHER_x_Display_x_AWA_imps   -0.000024               []\n",
              "8           Amazon_x_Display_x_RTG_imps   -0.000090               []\n",
              "9              DBM_x_Display_x_ACQ_imps    0.000045               []\n",
              "10            Oath_x_Display_x_AWA_imps    0.000757               []\n",
              "11             DBM_x_Display_x_AWA_imps   -0.000092               []\n",
              "12                        __INTERCEPT__ -475.022852               []"
            ]
          },
          "metadata": {},
          "execution_count": 100
        }
      ]
    },
    {
      "cell_type": "markdown",
      "metadata": {
        "id": "-iYwsTK48gVc"
      },
      "source": [
        "Output results (standardized)"
      ]
    },
    {
      "cell_type": "code",
      "metadata": {
        "id": "0Me9Piby8hzF"
      },
      "source": [
        "%%bigquery bqml_results_scaled\n",
        "SELECT\n",
        "  *\n",
        "FROM\n",
        "  ML.WEIGHTS(MODEL `db-platform-sol.ComcastGBA_test.rba_model`,\n",
        "    STRUCT(true AS standardize))"
      ],
      "execution_count": 101,
      "outputs": []
    },
    {
      "cell_type": "code",
      "metadata": {
        "colab": {
          "base_uri": "https://localhost:8080/",
          "height": 445
        },
        "id": "CiSyIHoP8pLc",
        "outputId": "9fc2b082-6496-4647-b360-1d7a5c55211c"
      },
      "source": [
        "bqml_results_scaled"
      ],
      "execution_count": 102,
      "outputs": [
        {
          "output_type": "execute_result",
          "data": {
            "text/html": [
              "<div>\n",
              "<style scoped>\n",
              "    .dataframe tbody tr th:only-of-type {\n",
              "        vertical-align: middle;\n",
              "    }\n",
              "\n",
              "    .dataframe tbody tr th {\n",
              "        vertical-align: top;\n",
              "    }\n",
              "\n",
              "    .dataframe thead th {\n",
              "        text-align: right;\n",
              "    }\n",
              "</style>\n",
              "<table border=\"1\" class=\"dataframe\">\n",
              "  <thead>\n",
              "    <tr style=\"text-align: right;\">\n",
              "      <th></th>\n",
              "      <th>processed_input</th>\n",
              "      <th>weight</th>\n",
              "      <th>category_weights</th>\n",
              "    </tr>\n",
              "  </thead>\n",
              "  <tbody>\n",
              "    <tr>\n",
              "      <th>0</th>\n",
              "      <td>Brand_x_Core_x_NC_clicks</td>\n",
              "      <td>351.248455</td>\n",
              "      <td>[]</td>\n",
              "    </tr>\n",
              "    <tr>\n",
              "      <th>1</th>\n",
              "      <td>The_Trade_Desk_x_Audio_x_AWA_imps</td>\n",
              "      <td>-127.106733</td>\n",
              "      <td>[]</td>\n",
              "    </tr>\n",
              "    <tr>\n",
              "      <th>2</th>\n",
              "      <td>DBM_x_Display_x_RTG_imps</td>\n",
              "      <td>37.679770</td>\n",
              "      <td>[]</td>\n",
              "    </tr>\n",
              "    <tr>\n",
              "      <th>3</th>\n",
              "      <td>Amazon_x_Display_x_AWA_imps</td>\n",
              "      <td>57.273691</td>\n",
              "      <td>[]</td>\n",
              "    </tr>\n",
              "    <tr>\n",
              "      <th>4</th>\n",
              "      <td>DBM_x_Video_x_AWA_imps</td>\n",
              "      <td>55.506460</td>\n",
              "      <td>[]</td>\n",
              "    </tr>\n",
              "    <tr>\n",
              "      <th>5</th>\n",
              "      <td>The_Trade_Desk_x_Display_x_AWA_imps</td>\n",
              "      <td>140.096276</td>\n",
              "      <td>[]</td>\n",
              "    </tr>\n",
              "    <tr>\n",
              "      <th>6</th>\n",
              "      <td>Brand_x_RMKT_x_EC_clicks</td>\n",
              "      <td>-151.937216</td>\n",
              "      <td>[]</td>\n",
              "    </tr>\n",
              "    <tr>\n",
              "      <th>7</th>\n",
              "      <td>OTHER_x_Display_x_AWA_imps</td>\n",
              "      <td>-66.640444</td>\n",
              "      <td>[]</td>\n",
              "    </tr>\n",
              "    <tr>\n",
              "      <th>8</th>\n",
              "      <td>Amazon_x_Display_x_RTG_imps</td>\n",
              "      <td>-65.948474</td>\n",
              "      <td>[]</td>\n",
              "    </tr>\n",
              "    <tr>\n",
              "      <th>9</th>\n",
              "      <td>DBM_x_Display_x_ACQ_imps</td>\n",
              "      <td>168.553334</td>\n",
              "      <td>[]</td>\n",
              "    </tr>\n",
              "    <tr>\n",
              "      <th>10</th>\n",
              "      <td>Oath_x_Display_x_AWA_imps</td>\n",
              "      <td>65.729515</td>\n",
              "      <td>[]</td>\n",
              "    </tr>\n",
              "    <tr>\n",
              "      <th>11</th>\n",
              "      <td>DBM_x_Display_x_AWA_imps</td>\n",
              "      <td>-195.895682</td>\n",
              "      <td>[]</td>\n",
              "    </tr>\n",
              "    <tr>\n",
              "      <th>12</th>\n",
              "      <td>__INTERCEPT__</td>\n",
              "      <td>1501.610879</td>\n",
              "      <td>[]</td>\n",
              "    </tr>\n",
              "  </tbody>\n",
              "</table>\n",
              "</div>"
            ],
            "text/plain": [
              "                        processed_input       weight category_weights\n",
              "0              Brand_x_Core_x_NC_clicks   351.248455               []\n",
              "1     The_Trade_Desk_x_Audio_x_AWA_imps  -127.106733               []\n",
              "2              DBM_x_Display_x_RTG_imps    37.679770               []\n",
              "3           Amazon_x_Display_x_AWA_imps    57.273691               []\n",
              "4                DBM_x_Video_x_AWA_imps    55.506460               []\n",
              "5   The_Trade_Desk_x_Display_x_AWA_imps   140.096276               []\n",
              "6              Brand_x_RMKT_x_EC_clicks  -151.937216               []\n",
              "7            OTHER_x_Display_x_AWA_imps   -66.640444               []\n",
              "8           Amazon_x_Display_x_RTG_imps   -65.948474               []\n",
              "9              DBM_x_Display_x_ACQ_imps   168.553334               []\n",
              "10            Oath_x_Display_x_AWA_imps    65.729515               []\n",
              "11             DBM_x_Display_x_AWA_imps  -195.895682               []\n",
              "12                        __INTERCEPT__  1501.610879               []"
            ]
          },
          "metadata": {},
          "execution_count": 102
        }
      ]
    },
    {
      "cell_type": "markdown",
      "metadata": {
        "id": "KtvXzEFDDeyp"
      },
      "source": [
        "### Evaluation"
      ]
    },
    {
      "cell_type": "code",
      "metadata": {
        "id": "0KPZXxNXzkl-"
      },
      "source": [
        "%%bigquery bqml_scores\n",
        "SELECT *\n",
        "FROM ML.EVALUATE(MODEL `db-platform-sol.ComcastGBA_test.rba_model`)"
      ],
      "execution_count": 103,
      "outputs": []
    },
    {
      "cell_type": "code",
      "metadata": {
        "id": "QktcOckLzkKv"
      },
      "source": [
        "bqml_mae = bqml_scores.mean_absolute_error\n",
        "bqml_rmse = np.sqrt(bqml_scores['mean_squared_error'])\n",
        "bqml_scores['rmse'] = bqml_rmse"
      ],
      "execution_count": 104,
      "outputs": []
    },
    {
      "cell_type": "code",
      "metadata": {
        "id": "5anQGJQF268d",
        "colab": {
          "base_uri": "https://localhost:8080/",
          "height": 79
        },
        "outputId": "7324ed93-bdd0-4675-84ac-22186318e63e"
      },
      "source": [
        "bqml_scores"
      ],
      "execution_count": 105,
      "outputs": [
        {
          "output_type": "execute_result",
          "data": {
            "text/html": [
              "<div>\n",
              "<style scoped>\n",
              "    .dataframe tbody tr th:only-of-type {\n",
              "        vertical-align: middle;\n",
              "    }\n",
              "\n",
              "    .dataframe tbody tr th {\n",
              "        vertical-align: top;\n",
              "    }\n",
              "\n",
              "    .dataframe thead th {\n",
              "        text-align: right;\n",
              "    }\n",
              "</style>\n",
              "<table border=\"1\" class=\"dataframe\">\n",
              "  <thead>\n",
              "    <tr style=\"text-align: right;\">\n",
              "      <th></th>\n",
              "      <th>mean_absolute_error</th>\n",
              "      <th>mean_squared_error</th>\n",
              "      <th>mean_squared_log_error</th>\n",
              "      <th>median_absolute_error</th>\n",
              "      <th>r2_score</th>\n",
              "      <th>explained_variance</th>\n",
              "      <th>rmse</th>\n",
              "    </tr>\n",
              "  </thead>\n",
              "  <tbody>\n",
              "    <tr>\n",
              "      <th>0</th>\n",
              "      <td>192.344913</td>\n",
              "      <td>60998.916926</td>\n",
              "      <td>0.031564</td>\n",
              "      <td>166.108972</td>\n",
              "      <td>0.735002</td>\n",
              "      <td>0.735979</td>\n",
              "      <td>246.979588</td>\n",
              "    </tr>\n",
              "  </tbody>\n",
              "</table>\n",
              "</div>"
            ],
            "text/plain": [
              "   mean_absolute_error  mean_squared_error  ...  explained_variance        rmse\n",
              "0           192.344913        60998.916926  ...            0.735979  246.979588\n",
              "\n",
              "[1 rows x 7 columns]"
            ]
          },
          "metadata": {},
          "execution_count": 105
        }
      ]
    },
    {
      "cell_type": "markdown",
      "metadata": {
        "id": "_5mUPHgA5a1V"
      },
      "source": [
        "#### Calculate relative importance of each tactic"
      ]
    },
    {
      "cell_type": "code",
      "metadata": {
        "id": "yQfsJMBO5c58"
      },
      "source": [
        "yName = 'new_accounts'\n",
        "xNames = ['Brand_x_Core_x_NC_clicks', 'The_Trade_Desk_x_Audio_x_AWA_imps','DBM_x_Display_x_RTG_imps', 'Amazon_x_Display_x_AWA_imps',\n",
        "         'DBM_x_Video_x_AWA_imps', 'The_Trade_Desk_x_Display_x_AWA_imps', 'Brand_x_RMKT_x_EC_clicks','OTHER_x_Display_x_AWA_imps',\n",
        "         'Amazon_x_Display_x_RTG_imps', 'DBM_x_Display_x_ACQ_imps','Oath_x_Display_x_AWA_imps', 'DBM_x_Display_x_AWA_imps']\n",
        "df_results = relativeImp(df, outcomeName = yName, driverNames = xNames)"
      ],
      "execution_count": 106,
      "outputs": []
    },
    {
      "cell_type": "code",
      "metadata": {
        "colab": {
          "base_uri": "https://localhost:8080/",
          "height": 415
        },
        "id": "5Orc1YT45kf7",
        "outputId": "5719db74-cd2b-4c81-bb25-df8346c76f79"
      },
      "source": [
        "df_results"
      ],
      "execution_count": 107,
      "outputs": [
        {
          "output_type": "execute_result",
          "data": {
            "text/html": [
              "<div>\n",
              "<style scoped>\n",
              "    .dataframe tbody tr th:only-of-type {\n",
              "        vertical-align: middle;\n",
              "    }\n",
              "\n",
              "    .dataframe tbody tr th {\n",
              "        vertical-align: top;\n",
              "    }\n",
              "\n",
              "    .dataframe thead th {\n",
              "        text-align: right;\n",
              "    }\n",
              "</style>\n",
              "<table border=\"1\" class=\"dataframe\">\n",
              "  <thead>\n",
              "    <tr style=\"text-align: right;\">\n",
              "      <th></th>\n",
              "      <th>driver</th>\n",
              "      <th>rawRelaImpt</th>\n",
              "      <th>normRelaImpt</th>\n",
              "    </tr>\n",
              "  </thead>\n",
              "  <tbody>\n",
              "    <tr>\n",
              "      <th>0</th>\n",
              "      <td>Brand_x_Core_x_NC_clicks</td>\n",
              "      <td>0.438799</td>\n",
              "      <td>57.602715</td>\n",
              "    </tr>\n",
              "    <tr>\n",
              "      <th>1</th>\n",
              "      <td>The_Trade_Desk_x_Audio_x_AWA_imps</td>\n",
              "      <td>0.012567</td>\n",
              "      <td>1.649672</td>\n",
              "    </tr>\n",
              "    <tr>\n",
              "      <th>2</th>\n",
              "      <td>DBM_x_Display_x_RTG_imps</td>\n",
              "      <td>0.039293</td>\n",
              "      <td>5.158105</td>\n",
              "    </tr>\n",
              "    <tr>\n",
              "      <th>3</th>\n",
              "      <td>Amazon_x_Display_x_AWA_imps</td>\n",
              "      <td>0.049373</td>\n",
              "      <td>6.481381</td>\n",
              "    </tr>\n",
              "    <tr>\n",
              "      <th>4</th>\n",
              "      <td>DBM_x_Video_x_AWA_imps</td>\n",
              "      <td>0.043450</td>\n",
              "      <td>5.703847</td>\n",
              "    </tr>\n",
              "    <tr>\n",
              "      <th>5</th>\n",
              "      <td>The_Trade_Desk_x_Display_x_AWA_imps</td>\n",
              "      <td>0.062278</td>\n",
              "      <td>8.175426</td>\n",
              "    </tr>\n",
              "    <tr>\n",
              "      <th>6</th>\n",
              "      <td>Brand_x_RMKT_x_EC_clicks</td>\n",
              "      <td>0.040925</td>\n",
              "      <td>5.372351</td>\n",
              "    </tr>\n",
              "    <tr>\n",
              "      <th>7</th>\n",
              "      <td>OTHER_x_Display_x_AWA_imps</td>\n",
              "      <td>0.014191</td>\n",
              "      <td>1.862876</td>\n",
              "    </tr>\n",
              "    <tr>\n",
              "      <th>8</th>\n",
              "      <td>Amazon_x_Display_x_RTG_imps</td>\n",
              "      <td>0.010347</td>\n",
              "      <td>1.358337</td>\n",
              "    </tr>\n",
              "    <tr>\n",
              "      <th>9</th>\n",
              "      <td>DBM_x_Display_x_ACQ_imps</td>\n",
              "      <td>0.010533</td>\n",
              "      <td>1.382645</td>\n",
              "    </tr>\n",
              "    <tr>\n",
              "      <th>10</th>\n",
              "      <td>Oath_x_Display_x_AWA_imps</td>\n",
              "      <td>0.012431</td>\n",
              "      <td>1.631851</td>\n",
              "    </tr>\n",
              "    <tr>\n",
              "      <th>11</th>\n",
              "      <td>DBM_x_Display_x_AWA_imps</td>\n",
              "      <td>0.027582</td>\n",
              "      <td>3.620794</td>\n",
              "    </tr>\n",
              "  </tbody>\n",
              "</table>\n",
              "</div>"
            ],
            "text/plain": [
              "                                 driver  rawRelaImpt  normRelaImpt\n",
              "0              Brand_x_Core_x_NC_clicks     0.438799     57.602715\n",
              "1     The_Trade_Desk_x_Audio_x_AWA_imps     0.012567      1.649672\n",
              "2              DBM_x_Display_x_RTG_imps     0.039293      5.158105\n",
              "3           Amazon_x_Display_x_AWA_imps     0.049373      6.481381\n",
              "4                DBM_x_Video_x_AWA_imps     0.043450      5.703847\n",
              "5   The_Trade_Desk_x_Display_x_AWA_imps     0.062278      8.175426\n",
              "6              Brand_x_RMKT_x_EC_clicks     0.040925      5.372351\n",
              "7            OTHER_x_Display_x_AWA_imps     0.014191      1.862876\n",
              "8           Amazon_x_Display_x_RTG_imps     0.010347      1.358337\n",
              "9              DBM_x_Display_x_ACQ_imps     0.010533      1.382645\n",
              "10            Oath_x_Display_x_AWA_imps     0.012431      1.631851\n",
              "11             DBM_x_Display_x_AWA_imps     0.027582      3.620794"
            ]
          },
          "metadata": {},
          "execution_count": 107
        }
      ]
    },
    {
      "cell_type": "code",
      "metadata": {
        "colab": {
          "base_uri": "https://localhost:8080/"
        },
        "id": "OqhM7snT6JJs",
        "outputId": "8a5c818b-dd5c-41ff-d845-4eb3bafe2309"
      },
      "source": [
        "df_results['rawRelaImpt'].sum()"
      ],
      "execution_count": 108,
      "outputs": [
        {
          "output_type": "execute_result",
          "data": {
            "text/plain": [
              "0.7617686540559064"
            ]
          },
          "metadata": {},
          "execution_count": 108
        }
      ]
    },
    {
      "cell_type": "code",
      "metadata": {
        "colab": {
          "base_uri": "https://localhost:8080/"
        },
        "id": "YSu4lxVN6M7v",
        "outputId": "4dff8770-1851-41f3-e6c4-c40fd4766b5d"
      },
      "source": [
        "df_results['normRelaImpt'].sum()"
      ],
      "execution_count": 109,
      "outputs": [
        {
          "output_type": "execute_result",
          "data": {
            "text/plain": [
              "99.99999999999997"
            ]
          },
          "metadata": {},
          "execution_count": 109
        }
      ]
    },
    {
      "cell_type": "markdown",
      "metadata": {
        "id": "mCKeutMiqOc2"
      },
      "source": [
        "# Validate Linear Regression Model Assumptions"
      ]
    },
    {
      "cell_type": "markdown",
      "metadata": {
        "id": "xIiQh9x17Kmc"
      },
      "source": [
        "Generate model predictions and residuals"
      ]
    },
    {
      "cell_type": "code",
      "metadata": {
        "id": "cOuAWoAT7JDU"
      },
      "source": [
        "%%bigquery model_predictions\n",
        "SELECT\n",
        "  predicted_new_accounts, new_accounts\n",
        "FROM\n",
        "  ML.PREDICT(MODEL `db-platform-sol.ComcastGBA_test.rba_model`,\n",
        "    (\n",
        "    SELECT\n",
        "        *\n",
        "    FROM\n",
        "      `db-platform-sol.ComcastGBA_test.ne_mains_clean`));"
      ],
      "execution_count": 110,
      "outputs": []
    },
    {
      "cell_type": "code",
      "metadata": {
        "id": "87fbrpbM7cE3"
      },
      "source": [
        "model_predictions['residuals'] = model_predictions.predicted_new_accounts - model_predictions.new_accounts"
      ],
      "execution_count": 111,
      "outputs": []
    },
    {
      "cell_type": "code",
      "metadata": {
        "colab": {
          "base_uri": "https://localhost:8080/",
          "height": 445
        },
        "id": "UhQqztBb9Az4",
        "outputId": "ccd9dab0-cc9a-48c2-a71e-0f9984dc0d64"
      },
      "source": [
        "bqml_results_scaled"
      ],
      "execution_count": 112,
      "outputs": [
        {
          "output_type": "execute_result",
          "data": {
            "text/html": [
              "<div>\n",
              "<style scoped>\n",
              "    .dataframe tbody tr th:only-of-type {\n",
              "        vertical-align: middle;\n",
              "    }\n",
              "\n",
              "    .dataframe tbody tr th {\n",
              "        vertical-align: top;\n",
              "    }\n",
              "\n",
              "    .dataframe thead th {\n",
              "        text-align: right;\n",
              "    }\n",
              "</style>\n",
              "<table border=\"1\" class=\"dataframe\">\n",
              "  <thead>\n",
              "    <tr style=\"text-align: right;\">\n",
              "      <th></th>\n",
              "      <th>processed_input</th>\n",
              "      <th>weight</th>\n",
              "      <th>category_weights</th>\n",
              "    </tr>\n",
              "  </thead>\n",
              "  <tbody>\n",
              "    <tr>\n",
              "      <th>0</th>\n",
              "      <td>Brand_x_Core_x_NC_clicks</td>\n",
              "      <td>351.248455</td>\n",
              "      <td>[]</td>\n",
              "    </tr>\n",
              "    <tr>\n",
              "      <th>1</th>\n",
              "      <td>The_Trade_Desk_x_Audio_x_AWA_imps</td>\n",
              "      <td>-127.106733</td>\n",
              "      <td>[]</td>\n",
              "    </tr>\n",
              "    <tr>\n",
              "      <th>2</th>\n",
              "      <td>DBM_x_Display_x_RTG_imps</td>\n",
              "      <td>37.679770</td>\n",
              "      <td>[]</td>\n",
              "    </tr>\n",
              "    <tr>\n",
              "      <th>3</th>\n",
              "      <td>Amazon_x_Display_x_AWA_imps</td>\n",
              "      <td>57.273691</td>\n",
              "      <td>[]</td>\n",
              "    </tr>\n",
              "    <tr>\n",
              "      <th>4</th>\n",
              "      <td>DBM_x_Video_x_AWA_imps</td>\n",
              "      <td>55.506460</td>\n",
              "      <td>[]</td>\n",
              "    </tr>\n",
              "    <tr>\n",
              "      <th>5</th>\n",
              "      <td>The_Trade_Desk_x_Display_x_AWA_imps</td>\n",
              "      <td>140.096276</td>\n",
              "      <td>[]</td>\n",
              "    </tr>\n",
              "    <tr>\n",
              "      <th>6</th>\n",
              "      <td>Brand_x_RMKT_x_EC_clicks</td>\n",
              "      <td>-151.937216</td>\n",
              "      <td>[]</td>\n",
              "    </tr>\n",
              "    <tr>\n",
              "      <th>7</th>\n",
              "      <td>OTHER_x_Display_x_AWA_imps</td>\n",
              "      <td>-66.640444</td>\n",
              "      <td>[]</td>\n",
              "    </tr>\n",
              "    <tr>\n",
              "      <th>8</th>\n",
              "      <td>Amazon_x_Display_x_RTG_imps</td>\n",
              "      <td>-65.948474</td>\n",
              "      <td>[]</td>\n",
              "    </tr>\n",
              "    <tr>\n",
              "      <th>9</th>\n",
              "      <td>DBM_x_Display_x_ACQ_imps</td>\n",
              "      <td>168.553334</td>\n",
              "      <td>[]</td>\n",
              "    </tr>\n",
              "    <tr>\n",
              "      <th>10</th>\n",
              "      <td>Oath_x_Display_x_AWA_imps</td>\n",
              "      <td>65.729515</td>\n",
              "      <td>[]</td>\n",
              "    </tr>\n",
              "    <tr>\n",
              "      <th>11</th>\n",
              "      <td>DBM_x_Display_x_AWA_imps</td>\n",
              "      <td>-195.895682</td>\n",
              "      <td>[]</td>\n",
              "    </tr>\n",
              "    <tr>\n",
              "      <th>12</th>\n",
              "      <td>__INTERCEPT__</td>\n",
              "      <td>1501.610879</td>\n",
              "      <td>[]</td>\n",
              "    </tr>\n",
              "  </tbody>\n",
              "</table>\n",
              "</div>"
            ],
            "text/plain": [
              "                        processed_input       weight category_weights\n",
              "0              Brand_x_Core_x_NC_clicks   351.248455               []\n",
              "1     The_Trade_Desk_x_Audio_x_AWA_imps  -127.106733               []\n",
              "2              DBM_x_Display_x_RTG_imps    37.679770               []\n",
              "3           Amazon_x_Display_x_AWA_imps    57.273691               []\n",
              "4                DBM_x_Video_x_AWA_imps    55.506460               []\n",
              "5   The_Trade_Desk_x_Display_x_AWA_imps   140.096276               []\n",
              "6              Brand_x_RMKT_x_EC_clicks  -151.937216               []\n",
              "7            OTHER_x_Display_x_AWA_imps   -66.640444               []\n",
              "8           Amazon_x_Display_x_RTG_imps   -65.948474               []\n",
              "9              DBM_x_Display_x_ACQ_imps   168.553334               []\n",
              "10            Oath_x_Display_x_AWA_imps    65.729515               []\n",
              "11             DBM_x_Display_x_AWA_imps  -195.895682               []\n",
              "12                        __INTERCEPT__  1501.610879               []"
            ]
          },
          "metadata": {},
          "execution_count": 112
        }
      ]
    },
    {
      "cell_type": "markdown",
      "metadata": {
        "id": "s9GYKrS87EGQ"
      },
      "source": [
        "####1. Linearity"
      ]
    },
    {
      "cell_type": "markdown",
      "metadata": {
        "id": "nXpj9Bok7WCQ"
      },
      "source": [
        "Visually inspect linearity between target variable and predictions"
      ]
    },
    {
      "cell_type": "code",
      "metadata": {
        "id": "8Gx6KzBKlTFZ",
        "colab": {
          "base_uri": "https://localhost:8080/",
          "height": 265
        },
        "outputId": "01ec822a-bf61-4bad-d066-a82f1450868b"
      },
      "source": [
        "plt.plot(model_predictions.predicted_new_accounts,model_predictions.new_accounts,'o',alpha=0.5)\n",
        "plt.show()"
      ],
      "execution_count": 113,
      "outputs": [
        {
          "output_type": "display_data",
          "data": {
            "image/png": "[encoded data removed]",
            "text/plain": [
              "<Figure size 432x288 with 1 Axes>"
            ]
          },
          "metadata": {
            "needs_background": "light"
          }
        }
      ]
    },
    {
      "cell_type": "markdown",
      "metadata": {
        "id": "4w71z33T8IRB"
      },
      "source": [
        "#### 2. Normality of Errors"
      ]
    },
    {
      "cell_type": "markdown",
      "metadata": {
        "id": "K4CYxjPc8iWu"
      },
      "source": [
        "Visually inspect the residuals to confirm normality"
      ]
    },
    {
      "cell_type": "code",
      "metadata": {
        "id": "PB5NIR6Blu6e",
        "colab": {
          "base_uri": "https://localhost:8080/",
          "height": 279
        },
        "outputId": "40402a3f-e954-465e-d5b3-d4207ee7a3ad"
      },
      "source": [
        "fig = sm.qqplot(model_predictions.residuals)"
      ],
      "execution_count": 114,
      "outputs": [
        {
          "output_type": "display_data",
          "data": {
            "image/png": "[encoded data removed]",
            "text/plain": [
              "<Figure size 432x288 with 1 Axes>"
            ]
          },
          "metadata": {
            "needs_background": "light"
          }
        }
      ]
    },
    {
      "cell_type": "code",
      "metadata": {
        "id": "RHXLZsIjmBG-",
        "colab": {
          "base_uri": "https://localhost:8080/",
          "height": 295
        },
        "outputId": "861a1752-00c7-414e-abe0-7bc0e5576012"
      },
      "source": [
        "sns.kdeplot(model_predictions.residuals, label = '', shade = True)\n",
        "plt.xlabel('Model Residuals'); plt.ylabel('Density'); plt.title('Distribution of Residuals');"
      ],
      "execution_count": 115,
      "outputs": [
        {
          "output_type": "display_data",
          "data": {
            "image/png": "[encoded data removed]",
            "text/plain": [
              "<Figure size 432x288 with 1 Axes>"
            ]
          },
          "metadata": {
            "needs_background": "light"
          }
        }
      ]
    },
    {
      "cell_type": "markdown",
      "metadata": {
        "id": "JGme7tz79G2I"
      },
      "source": [
        "####3. Absence of Multicollinearity"
      ]
    },
    {
      "cell_type": "markdown",
      "metadata": {
        "id": "NKZ1INYUAsGQ"
      },
      "source": [
        "Tested and checked during data processing stage"
      ]
    },
    {
      "cell_type": "markdown",
      "metadata": {
        "id": "1_U7qdH78-it"
      },
      "source": [
        "####4. Homoscedasticity\n"
      ]
    },
    {
      "cell_type": "markdown",
      "metadata": {
        "id": "S4C7Kr8o9Bhi"
      },
      "source": [
        "Visually inspect residuals to confirm constant variance"
      ]
    },
    {
      "cell_type": "code",
      "metadata": {
        "id": "FFB28_F3muwb",
        "colab": {
          "base_uri": "https://localhost:8080/",
          "height": 265
        },
        "outputId": "1ddd89f7-7380-405e-f8ec-1efa6db0d6de"
      },
      "source": [
        "plt.plot(model_predictions.residuals,'o',alpha=0.5)\n",
        "plt.show()"
      ],
      "execution_count": 116,
      "outputs": [
        {
          "output_type": "display_data",
          "data": {
            "image/png": "[encoded data removed]",
            "text/plain": [
              "<Figure size 432x288 with 1 Axes>"
            ]
          },
          "metadata": {
            "needs_background": "light"
          }
        }
      ]
    },
    {
      "cell_type": "markdown",
      "metadata": {
        "id": "2Jxt2_94-QZG"
      },
      "source": [
        "####5. Absence of Autocorrelation of the residuals"
      ]
    },
    {
      "cell_type": "code",
      "metadata": {
        "id": "ZC4Jxy_tnS0o",
        "colab": {
          "base_uri": "https://localhost:8080/"
        },
        "outputId": "7653fc48-df37-4421-b8d9-2805aca447db"
      },
      "source": [
        "dw = durbin_watson(model_predictions.residuals)\n",
        "print('Durbin-Watson',dw)"
      ],
      "execution_count": 117,
      "outputs": [
        {
          "output_type": "stream",
          "name": "stdout",
          "text": [
            "Durbin-Watson 1.884469309227099\n"
          ]
        }
      ]
    },
    {
      "cell_type": "code",
      "metadata": {
        "id": "DfZKsNaUnkgh",
        "colab": {
          "base_uri": "https://localhost:8080/"
        },
        "outputId": "001ce4ea-fda1-46eb-bad3-efde2611e1d7"
      },
      "source": [
        "if dw < 1.5:\n",
        "        print('Positive autocorrelation', '\\n')\n",
        "elif dw > 2.5:\n",
        "        print('Negative autocorrelation', '\\n')\n",
        "else:\n",
        "        print('Little to no autocorrelation', '\\n')\n"
      ],
      "execution_count": 118,
      "outputs": [
        {
          "output_type": "stream",
          "name": "stdout",
          "text": [
            "Little to no autocorrelation \n",
            "\n"
          ]
        }
      ]
    },
    {
      "cell_type": "markdown",
      "metadata": {
        "id": "Xm760sGWlKCG"
      },
      "source": [
        "### Export Results"
      ]
    },
    {
      "cell_type": "code",
      "metadata": {
        "id": "lfHkOdbklMO-"
      },
      "source": [
        "planning_data = bqml_results_scaled\n",
        "planning_data.drop(columns = ['category_weights'], inplace = True)"
      ],
      "execution_count": 119,
      "outputs": []
    },
    {
      "cell_type": "code",
      "metadata": {
        "id": "Tq226Co-l676",
        "colab": {
          "base_uri": "https://localhost:8080/",
          "height": 445
        },
        "outputId": "84305986-66ac-4e31-8669-357a7ac4ef22"
      },
      "source": [
        "sum_impressions = list()\n",
        "for i in planning_data.processed_input:\n",
        "  if i == '__INTERCEPT__':\n",
        "    sum_impressions.append(0)\n",
        "  else:\n",
        "    sum_impressions.append(df[i].sum())\n",
        "\n",
        "planning_data['impressions/clicks'] = sum_impressions\n",
        "planning_data"
      ],
      "execution_count": 120,
      "outputs": [
        {
          "output_type": "execute_result",
          "data": {
            "text/html": [
              "<div>\n",
              "<style scoped>\n",
              "    .dataframe tbody tr th:only-of-type {\n",
              "        vertical-align: middle;\n",
              "    }\n",
              "\n",
              "    .dataframe tbody tr th {\n",
              "        vertical-align: top;\n",
              "    }\n",
              "\n",
              "    .dataframe thead th {\n",
              "        text-align: right;\n",
              "    }\n",
              "</style>\n",
              "<table border=\"1\" class=\"dataframe\">\n",
              "  <thead>\n",
              "    <tr style=\"text-align: right;\">\n",
              "      <th></th>\n",
              "      <th>processed_input</th>\n",
              "      <th>weight</th>\n",
              "      <th>impressions/clicks</th>\n",
              "    </tr>\n",
              "  </thead>\n",
              "  <tbody>\n",
              "    <tr>\n",
              "      <th>0</th>\n",
              "      <td>Brand_x_Core_x_NC_clicks</td>\n",
              "      <td>351.248455</td>\n",
              "      <td>8.697968e+06</td>\n",
              "    </tr>\n",
              "    <tr>\n",
              "      <th>1</th>\n",
              "      <td>The_Trade_Desk_x_Audio_x_AWA_imps</td>\n",
              "      <td>-127.106733</td>\n",
              "      <td>5.463163e+07</td>\n",
              "    </tr>\n",
              "    <tr>\n",
              "      <th>2</th>\n",
              "      <td>DBM_x_Display_x_RTG_imps</td>\n",
              "      <td>37.679770</td>\n",
              "      <td>8.908170e+08</td>\n",
              "    </tr>\n",
              "    <tr>\n",
              "      <th>3</th>\n",
              "      <td>Amazon_x_Display_x_AWA_imps</td>\n",
              "      <td>57.273691</td>\n",
              "      <td>2.545975e+08</td>\n",
              "    </tr>\n",
              "    <tr>\n",
              "      <th>4</th>\n",
              "      <td>DBM_x_Video_x_AWA_imps</td>\n",
              "      <td>55.506460</td>\n",
              "      <td>2.277106e+08</td>\n",
              "    </tr>\n",
              "    <tr>\n",
              "      <th>5</th>\n",
              "      <td>The_Trade_Desk_x_Display_x_AWA_imps</td>\n",
              "      <td>140.096276</td>\n",
              "      <td>1.360765e+07</td>\n",
              "    </tr>\n",
              "    <tr>\n",
              "      <th>6</th>\n",
              "      <td>Brand_x_RMKT_x_EC_clicks</td>\n",
              "      <td>-151.937216</td>\n",
              "      <td>3.841021e+06</td>\n",
              "    </tr>\n",
              "    <tr>\n",
              "      <th>7</th>\n",
              "      <td>OTHER_x_Display_x_AWA_imps</td>\n",
              "      <td>-66.640444</td>\n",
              "      <td>1.783343e+09</td>\n",
              "    </tr>\n",
              "    <tr>\n",
              "      <th>8</th>\n",
              "      <td>Amazon_x_Display_x_RTG_imps</td>\n",
              "      <td>-65.948474</td>\n",
              "      <td>5.178372e+08</td>\n",
              "    </tr>\n",
              "    <tr>\n",
              "      <th>9</th>\n",
              "      <td>DBM_x_Display_x_ACQ_imps</td>\n",
              "      <td>168.553334</td>\n",
              "      <td>2.343088e+09</td>\n",
              "    </tr>\n",
              "    <tr>\n",
              "      <th>10</th>\n",
              "      <td>Oath_x_Display_x_AWA_imps</td>\n",
              "      <td>65.729515</td>\n",
              "      <td>3.978150e+07</td>\n",
              "    </tr>\n",
              "    <tr>\n",
              "      <th>11</th>\n",
              "      <td>DBM_x_Display_x_AWA_imps</td>\n",
              "      <td>-195.895682</td>\n",
              "      <td>1.176666e+09</td>\n",
              "    </tr>\n",
              "    <tr>\n",
              "      <th>12</th>\n",
              "      <td>__INTERCEPT__</td>\n",
              "      <td>1501.610879</td>\n",
              "      <td>0.000000e+00</td>\n",
              "    </tr>\n",
              "  </tbody>\n",
              "</table>\n",
              "</div>"
            ],
            "text/plain": [
              "                        processed_input       weight  impressions/clicks\n",
              "0              Brand_x_Core_x_NC_clicks   351.248455        8.697968e+06\n",
              "1     The_Trade_Desk_x_Audio_x_AWA_imps  -127.106733        5.463163e+07\n",
              "2              DBM_x_Display_x_RTG_imps    37.679770        8.908170e+08\n",
              "3           Amazon_x_Display_x_AWA_imps    57.273691        2.545975e+08\n",
              "4                DBM_x_Video_x_AWA_imps    55.506460        2.277106e+08\n",
              "5   The_Trade_Desk_x_Display_x_AWA_imps   140.096276        1.360765e+07\n",
              "6              Brand_x_RMKT_x_EC_clicks  -151.937216        3.841021e+06\n",
              "7            OTHER_x_Display_x_AWA_imps   -66.640444        1.783343e+09\n",
              "8           Amazon_x_Display_x_RTG_imps   -65.948474        5.178372e+08\n",
              "9              DBM_x_Display_x_ACQ_imps   168.553334        2.343088e+09\n",
              "10            Oath_x_Display_x_AWA_imps    65.729515        3.978150e+07\n",
              "11             DBM_x_Display_x_AWA_imps  -195.895682        1.176666e+09\n",
              "12                        __INTERCEPT__  1501.610879        0.000000e+00"
            ]
          },
          "metadata": {},
          "execution_count": 120
        }
      ]
    }
  ]
}
