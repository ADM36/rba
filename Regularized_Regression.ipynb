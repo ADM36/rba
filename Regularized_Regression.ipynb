{
  "nbformat": 4,
  "nbformat_minor": 0,
  "metadata": {
    "colab": {
      "name": "Regularized Regression",
      "provenance": [],
      "collapsed_sections": [],
      "toc_visible": true
    },
    "kernelspec": {
      "display_name": "Python 3",
      "name": "python3"
    },
    "language_info": {
      "name": "python"
    }
  },
  "cells": [
    {
      "cell_type": "markdown",
      "metadata": {
        "id": "qR3ca-feDOrw"
      },
      "source": [
        "Copyright 2021 Google Inc.\n",
        "\n",
        "Licensed under the Apache License, Version 2.0 (the \"License\");\n",
        "you may not use this file except in compliance with the License.\n",
        "You may obtain a copy of the License at\n",
        "\n",
        "[https://www.apache.org/licenses/LICENSE-2.0](https://www.apache.org/licenses/LICENSE-2.0)\n",
        "\n",
        "Unless required by applicable law or agreed to in writing, software\n",
        "distributed under the License is distributed on an \"AS IS\" BASIS,\n",
        "WITHOUT WARRANTIES OR CONDITIONS OF ANY KIND, either express or implied.\n",
        "See the License for the specific language governing permissions and\n",
        "limitations under the License.\n",
        "\n",
        "This solution, including any related sample code or data, is made available \n",
        "on an “as is,” “as available,” and “with all faults” basis, solely for \n",
        "illustrative purposes, and without warranty or representation of any kind. \n",
        "This solution is experimental, unsupported and provided solely for your \n",
        "convenience. Your use of it is subject to your agreements with Google, as \n",
        "applicable, and may constitute a beta feature as defined under those \n",
        "agreements.  To the extent that you make any data available to Google in \n",
        "connection with your use of the solution, you represent and warrant that you \n",
        "have all necessary and appropriate rights, consents and permissions to permit \n",
        "Google to use and process that data.  By using any portion of this solution, \n",
        "you acknowledge, assume and accept all risks, known and unknown, associated \n",
        "with its usage, including with respect to your deployment of any portion of \n",
        "this solution in your systems, or usage in connection with your business, \n",
        "if at all.\n"
      ]
    },
    {
      "cell_type": "markdown",
      "metadata": {
        "id": "l19lClJob3IR"
      },
      "source": [
        "# Setup"
      ]
    },
    {
      "cell_type": "markdown",
      "metadata": {
        "id": "uh6JyZGLcEgE"
      },
      "source": [
        "### Load modules"
      ]
    },
    {
      "cell_type": "code",
      "metadata": {
        "colab": {
          "base_uri": "https://localhost:8080/"
        },
        "id": "4aupXJjFcHkq",
        "outputId": "7a08c73d-a037-494d-b035-db227ae0fa18"
      },
      "source": [
        "# authenication libraries for colab & bigquery tools\n",
        "from google.colab import auth\n",
        "from google.cloud import bigquery\n",
        "!pip install --upgrade -q gspread # you may see a version error on the first run - the code will still run\n",
        "import gspread\n",
        "from gspread_dataframe import set_with_dataframe\n",
        "from oauth2client.client import GoogleCredentials\n",
        "auth.authenticate_user()\n",
        "gc = gspread.authorize(GoogleCredentials.get_application_default())\n",
        "bigquery.USE_LEGACY_SQL = False\n",
        "\n",
        "# BQ Magics\n",
        "from google.cloud import bigquery\n",
        "from google.cloud.bigquery import magics\n",
        "magics.context.project = 'db' #list BQ project name\n",
        "client = bigquery.Client(project=magics.context.project)\n",
        "%load_ext google.cloud.bigquery\n",
        "\n",
        "# data processing libraries\n",
        "import numpy as np\n",
        "import pandas as pd\n",
        "pd.set_option('display.max_rows', None)\n",
        "pd.set_option('display.max_columns', None)\n",
        "pd.set_option('display.width', None)\n",
        "pd.set_option('display.max_colwidth', -1)\n",
        "pd.options.display.float_format = '{:.5f}'.format\n",
        "from sklearn.preprocessing import MinMaxScaler, StandardScaler, Normalizer\n",
        "from sklearn.model_selection import train_test_split, cross_val_score, LeaveOneOut, KFold, LeavePOut\n",
        "from sklearn.feature_selection import SelectKBest, f_regression, RFE\n",
        "from sklearn.linear_model import LinearRegression\n",
        "from sklearn.metrics import mean_squared_error, r2_score, mean_absolute_error\n",
        "\n",
        "import datetime\n",
        "\n",
        "# modeling and metrics\n",
        "from scipy.optimize import least_squares\n",
        "from statsmodels.stats.outliers_influence import variance_inflation_factor\n",
        "from statsmodels.tools.tools import add_constant\n",
        "import statsmodels.api as sm\n",
        "\n",
        "# Bayesian Package\n",
        "import pymc3 as pm\n",
        "from pymc3 import *\n",
        "print(f\"Running on PyMC3 v{pm.__version__}\")\n",
        "\n",
        "\n",
        "# Visualization\n",
        "import matplotlib.pyplot as plt\n",
        "%matplotlib inline\n",
        "import seaborn as sns\n",
        "import arviz as az\n",
        "\n",
        "# Calculating Relative Importance\n",
        "!pip install relativeImp\n",
        "from relativeImp import relativeImp"
      ],
      "execution_count": 26,
      "outputs": [
        {
          "output_type": "stream",
          "name": "stdout",
          "text": [
            "The google.cloud.bigquery extension is already loaded. To reload it, use:\n",
            "  %reload_ext google.cloud.bigquery\n",
            "Running on PyMC3 v3.11.4\n"
          ]
        },
        {
          "output_type": "stream",
          "name": "stderr",
          "text": [
            "/usr/local/lib/python3.7/dist-packages/ipykernel_launcher.py:25: FutureWarning: Passing a negative integer is deprecated in version 1.0 and will not be supported in future version. Instead, use None to not limit the column width.\n"
          ]
        },
        {
          "output_type": "stream",
          "name": "stdout",
          "text": [
            "Requirement already satisfied: relativeImp in /usr/local/lib/python3.7/dist-packages (0.0.2)\n",
            "Requirement already satisfied: numpy in /usr/local/lib/python3.7/dist-packages (from relativeImp) (1.19.5)\n",
            "Requirement already satisfied: pandas in /usr/local/lib/python3.7/dist-packages (from relativeImp) (1.1.5)\n",
            "Requirement already satisfied: python-dateutil>=2.7.3 in /usr/local/lib/python3.7/dist-packages (from pandas->relativeImp) (2.8.2)\n",
            "Requirement already satisfied: pytz>=2017.2 in /usr/local/lib/python3.7/dist-packages (from pandas->relativeImp) (2018.9)\n",
            "Requirement already satisfied: six>=1.5 in /usr/local/lib/python3.7/dist-packages (from python-dateutil>=2.7.3->pandas->relativeImp) (1.15.0)\n"
          ]
        }
      ]
    },
    {
      "cell_type": "markdown",
      "metadata": {
        "id": "ZEieYk1j9w3h"
      },
      "source": [
        "# Define Parameters"
      ]
    },
    {
      "cell_type": "code",
      "metadata": {
        "id": "w8CWn0tC91mB"
      },
      "source": [
        "#@title Parameters\n",
        "\n",
        "INPUT_SHEET_NAME = 'model input data 11.02.21' #@param {type:\"string\"}"
      ],
      "execution_count": 27,
      "outputs": []
    },
    {
      "cell_type": "markdown",
      "metadata": {
        "id": "8N8-scWPc7fP"
      },
      "source": [
        "### Load model input data"
      ]
    },
    {
      "cell_type": "code",
      "metadata": {
        "id": "PtdFBo79xURE"
      },
      "source": [
        "google_sheets_name = INPUT_SHEET_NAME #@param"
      ],
      "execution_count": 28,
      "outputs": []
    },
    {
      "cell_type": "code",
      "metadata": {
        "id": "Z754pIbvxI63"
      },
      "source": [
        "worksheet = gc.open(INPUT_SHEET_NAME).sheet1\n",
        "\n",
        "# get_all_values gives a list of rows.\n",
        "rows = worksheet.get_all_values()\n",
        "\n",
        "df=pd.DataFrame.from_records(rows)\n",
        "\n",
        "\n",
        "#get column names from first row\n",
        "df.columns = df.iloc[0]\n",
        "\n",
        "#drop row with column names\n",
        "df = df.drop(df.index[0])\n",
        "\n",
        "#reset indexes\n",
        "df = df.reset_index(drop=True)\n",
        "\n",
        "#convert numeric data to numeric types\n",
        "df = df.apply(pd.to_numeric, errors='ignore')"
      ],
      "execution_count": 29,
      "outputs": []
    },
    {
      "cell_type": "code",
      "metadata": {
        "colab": {
          "base_uri": "https://localhost:8080/",
          "height": 201
        },
        "id": "H7FyZwevoQer",
        "outputId": "9e918243-0173-466e-f43e-ba2d393a79bf"
      },
      "source": [
        "df.head()"
      ],
      "execution_count": 30,
      "outputs": [
        {
          "output_type": "execute_result",
          "data": {
            "text/html": [
              "<div>\n",
              "<style scoped>\n",
              "    .dataframe tbody tr th:only-of-type {\n",
              "        vertical-align: middle;\n",
              "    }\n",
              "\n",
              "    .dataframe tbody tr th {\n",
              "        vertical-align: top;\n",
              "    }\n",
              "\n",
              "    .dataframe thead th {\n",
              "        text-align: right;\n",
              "    }\n",
              "</style>\n",
              "<table border=\"1\" class=\"dataframe\">\n",
              "  <thead>\n",
              "    <tr style=\"text-align: right;\">\n",
              "      <th></th>\n",
              "      <th>x2</th>\n",
              "      <th>x16</th>\n",
              "      <th>x17</th>\n",
              "      <th>x26</th>\n",
              "      <th>x27</th>\n",
              "      <th>x32</th>\n",
              "      <th>x34</th>\n",
              "      <th>x35</th>\n",
              "      <th>x38</th>\n",
              "      <th>x39</th>\n",
              "      <th>x45</th>\n",
              "      <th>y1</th>\n",
              "      <th>date</th>\n",
              "    </tr>\n",
              "  </thead>\n",
              "  <tbody>\n",
              "    <tr>\n",
              "      <th>0</th>\n",
              "      <td>0.27060</td>\n",
              "      <td>0.72711</td>\n",
              "      <td>0.37304</td>\n",
              "      <td>0.87324</td>\n",
              "      <td>0.33834</td>\n",
              "      <td>0.87389</td>\n",
              "      <td>0.37422</td>\n",
              "      <td>0.35818</td>\n",
              "      <td>0.77426</td>\n",
              "      <td>0.71201</td>\n",
              "      <td>0.91278</td>\n",
              "      <td>2258</td>\n",
              "      <td>2017-09-04 00:00:00+00:00</td>\n",
              "    </tr>\n",
              "    <tr>\n",
              "      <th>1</th>\n",
              "      <td>0.36515</td>\n",
              "      <td>0.75835</td>\n",
              "      <td>0.36868</td>\n",
              "      <td>0.89422</td>\n",
              "      <td>0.54359</td>\n",
              "      <td>0.96884</td>\n",
              "      <td>0.34698</td>\n",
              "      <td>0.33894</td>\n",
              "      <td>0.75708</td>\n",
              "      <td>0.72979</td>\n",
              "      <td>0.98093</td>\n",
              "      <td>3140</td>\n",
              "      <td>2017-09-05 00:00:00+00:00</td>\n",
              "    </tr>\n",
              "    <tr>\n",
              "      <th>2</th>\n",
              "      <td>0.30568</td>\n",
              "      <td>0.71697</td>\n",
              "      <td>0.52139</td>\n",
              "      <td>0.87164</td>\n",
              "      <td>0.52402</td>\n",
              "      <td>0.76018</td>\n",
              "      <td>0.41015</td>\n",
              "      <td>0.34844</td>\n",
              "      <td>0.68175</td>\n",
              "      <td>0.68754</td>\n",
              "      <td>0.87586</td>\n",
              "      <td>2253</td>\n",
              "      <td>2017-09-08 00:00:00+00:00</td>\n",
              "    </tr>\n",
              "    <tr>\n",
              "      <th>3</th>\n",
              "      <td>0.27530</td>\n",
              "      <td>0.71782</td>\n",
              "      <td>0.50242</td>\n",
              "      <td>0.81122</td>\n",
              "      <td>0.50405</td>\n",
              "      <td>0.74356</td>\n",
              "      <td>0.43076</td>\n",
              "      <td>0.39147</td>\n",
              "      <td>0.76627</td>\n",
              "      <td>0.19630</td>\n",
              "      <td>0.89146</td>\n",
              "      <td>1888</td>\n",
              "      <td>2017-09-09 00:00:00+00:00</td>\n",
              "    </tr>\n",
              "    <tr>\n",
              "      <th>4</th>\n",
              "      <td>0.37438</td>\n",
              "      <td>0.72711</td>\n",
              "      <td>0.53366</td>\n",
              "      <td>0.92894</td>\n",
              "      <td>0.48125</td>\n",
              "      <td>0.71401</td>\n",
              "      <td>0.36319</td>\n",
              "      <td>0.39172</td>\n",
              "      <td>0.79924</td>\n",
              "      <td>0.76372</td>\n",
              "      <td>0.91105</td>\n",
              "      <td>1623</td>\n",
              "      <td>2017-09-10 00:00:00+00:00</td>\n",
              "    </tr>\n",
              "  </tbody>\n",
              "</table>\n",
              "</div>"
            ],
            "text/plain": [
              "0      x2     x16     x17     x26     x27     x32     x34     x35     x38  \\\n",
              "0 0.27060 0.72711 0.37304 0.87324 0.33834 0.87389 0.37422 0.35818 0.77426   \n",
              "1 0.36515 0.75835 0.36868 0.89422 0.54359 0.96884 0.34698 0.33894 0.75708   \n",
              "2 0.30568 0.71697 0.52139 0.87164 0.52402 0.76018 0.41015 0.34844 0.68175   \n",
              "3 0.27530 0.71782 0.50242 0.81122 0.50405 0.74356 0.43076 0.39147 0.76627   \n",
              "4 0.37438 0.72711 0.53366 0.92894 0.48125 0.71401 0.36319 0.39172 0.79924   \n",
              "\n",
              "0     x39     x45    y1                       date  \n",
              "0 0.71201 0.91278  2258  2017-09-04 00:00:00+00:00  \n",
              "1 0.72979 0.98093  3140  2017-09-05 00:00:00+00:00  \n",
              "2 0.68754 0.87586  2253  2017-09-08 00:00:00+00:00  \n",
              "3 0.19630 0.89146  1888  2017-09-09 00:00:00+00:00  \n",
              "4 0.76372 0.91105  1623  2017-09-10 00:00:00+00:00  "
            ]
          },
          "metadata": {},
          "execution_count": 30
        }
      ]
    },
    {
      "cell_type": "code",
      "metadata": {
        "id": "4tVMgae8KVQV",
        "colab": {
          "base_uri": "https://localhost:8080/"
        },
        "outputId": "758e78a8-79c8-4f09-a4e2-e52ec20e24bd"
      },
      "source": [
        "df.info()"
      ],
      "execution_count": 31,
      "outputs": [
        {
          "output_type": "stream",
          "name": "stdout",
          "text": [
            "<class 'pandas.core.frame.DataFrame'>\n",
            "RangeIndex: 607 entries, 0 to 606\n",
            "Data columns (total 13 columns):\n",
            " #   Column  Non-Null Count  Dtype  \n",
            "---  ------  --------------  -----  \n",
            " 0   x2      607 non-null    float64\n",
            " 1   x16     607 non-null    float64\n",
            " 2   x17     607 non-null    float64\n",
            " 3   x26     607 non-null    float64\n",
            " 4   x27     607 non-null    float64\n",
            " 5   x32     607 non-null    float64\n",
            " 6   x34     607 non-null    float64\n",
            " 7   x35     607 non-null    float64\n",
            " 8   x38     607 non-null    float64\n",
            " 9   x39     607 non-null    float64\n",
            " 10  x45     607 non-null    float64\n",
            " 11  y1      607 non-null    int64  \n",
            " 12  date    607 non-null    object \n",
            "dtypes: float64(11), int64(1), object(1)\n",
            "memory usage: 61.8+ KB\n"
          ]
        }
      ]
    },
    {
      "cell_type": "code",
      "metadata": {
        "id": "sIe3lASAoCzC",
        "colab": {
          "base_uri": "https://localhost:8080/",
          "height": 293
        },
        "outputId": "232efd12-d74a-4132-c0d0-3d0cca85b349"
      },
      "source": [
        "df.describe()"
      ],
      "execution_count": 32,
      "outputs": [
        {
          "output_type": "execute_result",
          "data": {
            "text/html": [
              "<div>\n",
              "<style scoped>\n",
              "    .dataframe tbody tr th:only-of-type {\n",
              "        vertical-align: middle;\n",
              "    }\n",
              "\n",
              "    .dataframe tbody tr th {\n",
              "        vertical-align: top;\n",
              "    }\n",
              "\n",
              "    .dataframe thead th {\n",
              "        text-align: right;\n",
              "    }\n",
              "</style>\n",
              "<table border=\"1\" class=\"dataframe\">\n",
              "  <thead>\n",
              "    <tr style=\"text-align: right;\">\n",
              "      <th></th>\n",
              "      <th>x2</th>\n",
              "      <th>x16</th>\n",
              "      <th>x17</th>\n",
              "      <th>x26</th>\n",
              "      <th>x27</th>\n",
              "      <th>x32</th>\n",
              "      <th>x34</th>\n",
              "      <th>x35</th>\n",
              "      <th>x38</th>\n",
              "      <th>x39</th>\n",
              "      <th>x45</th>\n",
              "      <th>y1</th>\n",
              "    </tr>\n",
              "  </thead>\n",
              "  <tbody>\n",
              "    <tr>\n",
              "      <th>count</th>\n",
              "      <td>607.00000</td>\n",
              "      <td>607.00000</td>\n",
              "      <td>607.00000</td>\n",
              "      <td>607.00000</td>\n",
              "      <td>607.00000</td>\n",
              "      <td>607.00000</td>\n",
              "      <td>607.00000</td>\n",
              "      <td>607.00000</td>\n",
              "      <td>607.00000</td>\n",
              "      <td>607.00000</td>\n",
              "      <td>607.00000</td>\n",
              "      <td>607.00000</td>\n",
              "    </tr>\n",
              "    <tr>\n",
              "      <th>mean</th>\n",
              "      <td>0.34713</td>\n",
              "      <td>0.56354</td>\n",
              "      <td>0.17608</td>\n",
              "      <td>0.31767</td>\n",
              "      <td>0.35939</td>\n",
              "      <td>0.54266</td>\n",
              "      <td>0.38967</td>\n",
              "      <td>0.50187</td>\n",
              "      <td>0.38457</td>\n",
              "      <td>0.63920</td>\n",
              "      <td>0.41517</td>\n",
              "      <td>2250.15321</td>\n",
              "    </tr>\n",
              "    <tr>\n",
              "      <th>std</th>\n",
              "      <td>0.12147</td>\n",
              "      <td>0.25012</td>\n",
              "      <td>0.12785</td>\n",
              "      <td>0.33074</td>\n",
              "      <td>0.22558</td>\n",
              "      <td>0.15335</td>\n",
              "      <td>0.22149</td>\n",
              "      <td>0.21281</td>\n",
              "      <td>0.22837</td>\n",
              "      <td>0.20831</td>\n",
              "      <td>0.14784</td>\n",
              "      <td>461.35767</td>\n",
              "    </tr>\n",
              "    <tr>\n",
              "      <th>min</th>\n",
              "      <td>0.00000</td>\n",
              "      <td>0.00000</td>\n",
              "      <td>0.00000</td>\n",
              "      <td>0.00000</td>\n",
              "      <td>0.00000</td>\n",
              "      <td>0.00000</td>\n",
              "      <td>0.00000</td>\n",
              "      <td>0.00000</td>\n",
              "      <td>0.00000</td>\n",
              "      <td>0.00000</td>\n",
              "      <td>0.00000</td>\n",
              "      <td>1159.00000</td>\n",
              "    </tr>\n",
              "    <tr>\n",
              "      <th>25%</th>\n",
              "      <td>0.26975</td>\n",
              "      <td>0.56072</td>\n",
              "      <td>0.12721</td>\n",
              "      <td>0.00000</td>\n",
              "      <td>0.27415</td>\n",
              "      <td>0.42338</td>\n",
              "      <td>0.21227</td>\n",
              "      <td>0.37394</td>\n",
              "      <td>0.26545</td>\n",
              "      <td>0.60099</td>\n",
              "      <td>0.31717</td>\n",
              "      <td>1924.00000</td>\n",
              "    </tr>\n",
              "    <tr>\n",
              "      <th>50%</th>\n",
              "      <td>0.34081</td>\n",
              "      <td>0.65091</td>\n",
              "      <td>0.16090</td>\n",
              "      <td>0.33236</td>\n",
              "      <td>0.38662</td>\n",
              "      <td>0.53185</td>\n",
              "      <td>0.35418</td>\n",
              "      <td>0.47939</td>\n",
              "      <td>0.33352</td>\n",
              "      <td>0.68522</td>\n",
              "      <td>0.39730</td>\n",
              "      <td>2227.00000</td>\n",
              "    </tr>\n",
              "    <tr>\n",
              "      <th>75%</th>\n",
              "      <td>0.42057</td>\n",
              "      <td>0.72121</td>\n",
              "      <td>0.21286</td>\n",
              "      <td>0.62123</td>\n",
              "      <td>0.52963</td>\n",
              "      <td>0.65710</td>\n",
              "      <td>0.56198</td>\n",
              "      <td>0.60581</td>\n",
              "      <td>0.53288</td>\n",
              "      <td>0.76347</td>\n",
              "      <td>0.46658</td>\n",
              "      <td>2459.00000</td>\n",
              "    </tr>\n",
              "    <tr>\n",
              "      <th>max</th>\n",
              "      <td>1.00000</td>\n",
              "      <td>1.00000</td>\n",
              "      <td>1.00000</td>\n",
              "      <td>1.00000</td>\n",
              "      <td>1.00000</td>\n",
              "      <td>1.00000</td>\n",
              "      <td>1.00000</td>\n",
              "      <td>1.00000</td>\n",
              "      <td>1.00000</td>\n",
              "      <td>1.00000</td>\n",
              "      <td>1.00000</td>\n",
              "      <td>3783.00000</td>\n",
              "    </tr>\n",
              "  </tbody>\n",
              "</table>\n",
              "</div>"
            ],
            "text/plain": [
              "0            x2       x16       x17       x26       x27       x32       x34  \\\n",
              "count 607.00000 607.00000 607.00000 607.00000 607.00000 607.00000 607.00000   \n",
              "mean  0.34713   0.56354   0.17608   0.31767   0.35939   0.54266   0.38967     \n",
              "std   0.12147   0.25012   0.12785   0.33074   0.22558   0.15335   0.22149     \n",
              "min   0.00000   0.00000   0.00000   0.00000   0.00000   0.00000   0.00000     \n",
              "25%   0.26975   0.56072   0.12721   0.00000   0.27415   0.42338   0.21227     \n",
              "50%   0.34081   0.65091   0.16090   0.33236   0.38662   0.53185   0.35418     \n",
              "75%   0.42057   0.72121   0.21286   0.62123   0.52963   0.65710   0.56198     \n",
              "max   1.00000   1.00000   1.00000   1.00000   1.00000   1.00000   1.00000     \n",
              "\n",
              "0           x35       x38       x39       x45         y1  \n",
              "count 607.00000 607.00000 607.00000 607.00000 607.00000   \n",
              "mean  0.50187   0.38457   0.63920   0.41517   2250.15321  \n",
              "std   0.21281   0.22837   0.20831   0.14784   461.35767   \n",
              "min   0.00000   0.00000   0.00000   0.00000   1159.00000  \n",
              "25%   0.37394   0.26545   0.60099   0.31717   1924.00000  \n",
              "50%   0.47939   0.33352   0.68522   0.39730   2227.00000  \n",
              "75%   0.60581   0.53288   0.76347   0.46658   2459.00000  \n",
              "max   1.00000   1.00000   1.00000   1.00000   3783.00000  "
            ]
          },
          "metadata": {},
          "execution_count": 32
        }
      ]
    },
    {
      "cell_type": "code",
      "metadata": {
        "id": "fD-NZnVYIpiP"
      },
      "source": [
        "KPI_COL = \"y1\" #@param {type: \"string\"}"
      ],
      "execution_count": 33,
      "outputs": []
    },
    {
      "cell_type": "code",
      "metadata": {
        "id": "mq8AbH7HsUGN"
      },
      "source": [
        "df.drop(columns = 'date', inplace = True)"
      ],
      "execution_count": 34,
      "outputs": []
    },
    {
      "cell_type": "code",
      "metadata": {
        "id": "qxSRpjLrxIvo"
      },
      "source": [
        "y = df[KPI_COL]\n",
        "X = df[df.columns[df.columns != KPI_COL]].values"
      ],
      "execution_count": 35,
      "outputs": []
    },
    {
      "cell_type": "markdown",
      "metadata": {
        "id": "lVBNE964LY2H"
      },
      "source": [
        "## OLS Model with Sklearn"
      ]
    },
    {
      "cell_type": "code",
      "metadata": {
        "id": "1JudSSm0MJY9"
      },
      "source": [
        "reg = LinearRegression().fit(X,y)"
      ],
      "execution_count": 36,
      "outputs": []
    },
    {
      "cell_type": "code",
      "metadata": {
        "id": "TaK9iU5DPChz",
        "colab": {
          "base_uri": "https://localhost:8080/"
        },
        "outputId": "5613ac84-4661-4d69-f1b3-d817ca581e47"
      },
      "source": [
        "df.columns.to_list()"
      ],
      "execution_count": 37,
      "outputs": [
        {
          "output_type": "execute_result",
          "data": {
            "text/plain": [
              "['x2',\n",
              " 'x16',\n",
              " 'x17',\n",
              " 'x26',\n",
              " 'x27',\n",
              " 'x32',\n",
              " 'x34',\n",
              " 'x35',\n",
              " 'x38',\n",
              " 'x39',\n",
              " 'x45',\n",
              " 'y1']"
            ]
          },
          "metadata": {},
          "execution_count": 37
        }
      ]
    },
    {
      "cell_type": "code",
      "metadata": {
        "id": "x62ce4Pc9giv",
        "colab": {
          "base_uri": "https://localhost:8080/"
        },
        "outputId": "5ce7056c-5397-4ffc-e7d7-269e9b662bd7"
      },
      "source": [
        "reg.score(X,y)"
      ],
      "execution_count": 38,
      "outputs": [
        {
          "output_type": "execute_result",
          "data": {
            "text/plain": [
              "0.2874105838421075"
            ]
          },
          "metadata": {},
          "execution_count": 38
        }
      ]
    },
    {
      "cell_type": "code",
      "metadata": {
        "id": "dtR3L7u-MgE-",
        "colab": {
          "base_uri": "https://localhost:8080/"
        },
        "outputId": "6566ff8d-31e5-4b67-970f-0ef49ffa0089"
      },
      "source": [
        "reg.intercept_"
      ],
      "execution_count": 39,
      "outputs": [
        {
          "output_type": "execute_result",
          "data": {
            "text/plain": [
              "1792.0665884126474"
            ]
          },
          "metadata": {},
          "execution_count": 39
        }
      ]
    },
    {
      "cell_type": "code",
      "metadata": {
        "id": "s6rZOII_9i7N"
      },
      "source": [
        "coefficients = reg.coef_.tolist()"
      ],
      "execution_count": 40,
      "outputs": []
    },
    {
      "cell_type": "code",
      "metadata": {
        "id": "O_hXLQvO99AF",
        "colab": {
          "base_uri": "https://localhost:8080/"
        },
        "outputId": "6173948e-772e-48ec-d080-2dd1cb26e7d6"
      },
      "source": [
        "coefficients"
      ],
      "execution_count": 41,
      "outputs": [
        {
          "output_type": "execute_result",
          "data": {
            "text/plain": [
              "[682.6820362208814,\n",
              " 330.83144774541347,\n",
              " -592.1951611924347,\n",
              " 137.83260479742228,\n",
              " 670.9072993854961,\n",
              " -468.30208324052717,\n",
              " -229.19011337408298,\n",
              " -902.2713881208138,\n",
              " 419.42393421644266,\n",
              " 490.446756435509,\n",
              " 422.75047244668013]"
            ]
          },
          "metadata": {},
          "execution_count": 41
        }
      ]
    },
    {
      "cell_type": "code",
      "metadata": {
        "id": "eUcdhTgnwHhy",
        "colab": {
          "base_uri": "https://localhost:8080/"
        },
        "outputId": "1bed949f-f720-4950-f032-bacb5fffa3c0"
      },
      "source": [
        "len(df.columns[df.columns != KPI_COL])"
      ],
      "execution_count": 42,
      "outputs": [
        {
          "output_type": "execute_result",
          "data": {
            "text/plain": [
              "11"
            ]
          },
          "metadata": {},
          "execution_count": 42
        }
      ]
    },
    {
      "cell_type": "code",
      "metadata": {
        "id": "golvq9M_P9DO"
      },
      "source": [
        "coef_df = pd.DataFrame({'feature': df.columns[df.columns != KPI_COL],'coef': coefficients})"
      ],
      "execution_count": 43,
      "outputs": []
    },
    {
      "cell_type": "code",
      "metadata": {
        "id": "XMzBNrCnQLY_",
        "colab": {
          "base_uri": "https://localhost:8080/",
          "height": 384
        },
        "outputId": "dbe581bc-02bd-46b7-e6a1-6e1b7183ad0d"
      },
      "source": [
        "coef_df"
      ],
      "execution_count": 44,
      "outputs": [
        {
          "output_type": "execute_result",
          "data": {
            "text/html": [
              "<div>\n",
              "<style scoped>\n",
              "    .dataframe tbody tr th:only-of-type {\n",
              "        vertical-align: middle;\n",
              "    }\n",
              "\n",
              "    .dataframe tbody tr th {\n",
              "        vertical-align: top;\n",
              "    }\n",
              "\n",
              "    .dataframe thead th {\n",
              "        text-align: right;\n",
              "    }\n",
              "</style>\n",
              "<table border=\"1\" class=\"dataframe\">\n",
              "  <thead>\n",
              "    <tr style=\"text-align: right;\">\n",
              "      <th></th>\n",
              "      <th>feature</th>\n",
              "      <th>coef</th>\n",
              "    </tr>\n",
              "  </thead>\n",
              "  <tbody>\n",
              "    <tr>\n",
              "      <th>0</th>\n",
              "      <td>x2</td>\n",
              "      <td>682.68204</td>\n",
              "    </tr>\n",
              "    <tr>\n",
              "      <th>1</th>\n",
              "      <td>x16</td>\n",
              "      <td>330.83145</td>\n",
              "    </tr>\n",
              "    <tr>\n",
              "      <th>2</th>\n",
              "      <td>x17</td>\n",
              "      <td>-592.19516</td>\n",
              "    </tr>\n",
              "    <tr>\n",
              "      <th>3</th>\n",
              "      <td>x26</td>\n",
              "      <td>137.83260</td>\n",
              "    </tr>\n",
              "    <tr>\n",
              "      <th>4</th>\n",
              "      <td>x27</td>\n",
              "      <td>670.90730</td>\n",
              "    </tr>\n",
              "    <tr>\n",
              "      <th>5</th>\n",
              "      <td>x32</td>\n",
              "      <td>-468.30208</td>\n",
              "    </tr>\n",
              "    <tr>\n",
              "      <th>6</th>\n",
              "      <td>x34</td>\n",
              "      <td>-229.19011</td>\n",
              "    </tr>\n",
              "    <tr>\n",
              "      <th>7</th>\n",
              "      <td>x35</td>\n",
              "      <td>-902.27139</td>\n",
              "    </tr>\n",
              "    <tr>\n",
              "      <th>8</th>\n",
              "      <td>x38</td>\n",
              "      <td>419.42393</td>\n",
              "    </tr>\n",
              "    <tr>\n",
              "      <th>9</th>\n",
              "      <td>x39</td>\n",
              "      <td>490.44676</td>\n",
              "    </tr>\n",
              "    <tr>\n",
              "      <th>10</th>\n",
              "      <td>x45</td>\n",
              "      <td>422.75047</td>\n",
              "    </tr>\n",
              "  </tbody>\n",
              "</table>\n",
              "</div>"
            ],
            "text/plain": [
              "   feature       coef\n",
              "0   x2     682.68204 \n",
              "1   x16    330.83145 \n",
              "2   x17    -592.19516\n",
              "3   x26    137.83260 \n",
              "4   x27    670.90730 \n",
              "5   x32    -468.30208\n",
              "6   x34    -229.19011\n",
              "7   x35    -902.27139\n",
              "8   x38    419.42393 \n",
              "9   x39    490.44676 \n",
              "10  x45    422.75047 "
            ]
          },
          "metadata": {},
          "execution_count": 44
        }
      ]
    },
    {
      "cell_type": "code",
      "metadata": {
        "id": "VMxgSdDxMqHm"
      },
      "source": [
        "Y_prediction = reg.predict(X) # predicted values to be used for residual calculations"
      ],
      "execution_count": 45,
      "outputs": []
    },
    {
      "cell_type": "code",
      "metadata": {
        "id": "LysCAUZo9ktT",
        "colab": {
          "base_uri": "https://localhost:8080/"
        },
        "outputId": "9416bf66-581c-43b7-ec8a-cdaded33f20a"
      },
      "source": [
        "mean_absolute_error(y,Y_prediction)"
      ],
      "execution_count": 46,
      "outputs": [
        {
          "output_type": "execute_result",
          "data": {
            "text/plain": [
              "305.37018674737755"
            ]
          },
          "metadata": {},
          "execution_count": 46
        }
      ]
    },
    {
      "cell_type": "code",
      "metadata": {
        "id": "bl3DaTiv9miZ",
        "colab": {
          "base_uri": "https://localhost:8080/"
        },
        "outputId": "8afda32b-c87c-450f-e7f8-c2bcb73826fa"
      },
      "source": [
        "mean_squared_error(y,Y_prediction)"
      ],
      "execution_count": 47,
      "outputs": [
        {
          "output_type": "execute_result",
          "data": {
            "text/plain": [
              "151425.42086468634"
            ]
          },
          "metadata": {},
          "execution_count": 47
        }
      ]
    },
    {
      "cell_type": "code",
      "metadata": {
        "id": "4ku0_krs9o6K",
        "colab": {
          "base_uri": "https://localhost:8080/"
        },
        "outputId": "6e54a1d5-4fd0-49ea-d0ac-57caad1b3fc1"
      },
      "source": [
        "rmse = np.sqrt(mean_squared_error(y,Y_prediction))\n",
        "rmse"
      ],
      "execution_count": 48,
      "outputs": [
        {
          "output_type": "execute_result",
          "data": {
            "text/plain": [
              "389.1341939031911"
            ]
          },
          "metadata": {},
          "execution_count": 48
        }
      ]
    },
    {
      "cell_type": "code",
      "metadata": {
        "id": "RLNwk2wycndG"
      },
      "source": [
        "residuals = Y_prediction - y"
      ],
      "execution_count": 49,
      "outputs": []
    },
    {
      "cell_type": "markdown",
      "metadata": {
        "id": "lFS3Fk1BObgM"
      },
      "source": [
        "### Calculate % contribution by tactic"
      ]
    },
    {
      "cell_type": "code",
      "metadata": {
        "id": "o1_xhBqVOmh4"
      },
      "source": [
        "yName = 'y1'\n",
        "xNames = ['x2','x16','x17','x26','x27','x32','x34','x35','x38','x39','x45']\n",
        "df_results = relativeImp(df, outcomeName = yName, driverNames = xNames)"
      ],
      "execution_count": 50,
      "outputs": []
    },
    {
      "cell_type": "code",
      "metadata": {
        "id": "ke2dXe2ERMGL",
        "colab": {
          "base_uri": "https://localhost:8080/"
        },
        "outputId": "aea8a5c6-03d0-4315-860d-a9ff21d27a37"
      },
      "source": [
        "df_results.rawRelaImpt.sum()"
      ],
      "execution_count": 51,
      "outputs": [
        {
          "output_type": "execute_result",
          "data": {
            "text/plain": [
              "0.2874105838421073"
            ]
          },
          "metadata": {},
          "execution_count": 51
        }
      ]
    },
    {
      "cell_type": "code",
      "metadata": {
        "id": "J-VKwy-F-Rt9"
      },
      "source": [
        "unattributed_conversions = 1 - df_results.rawRelaImpt.sum()"
      ],
      "execution_count": 52,
      "outputs": []
    },
    {
      "cell_type": "code",
      "metadata": {
        "colab": {
          "base_uri": "https://localhost:8080/"
        },
        "id": "7ORptzxXswSp",
        "outputId": "cf713599-824f-44da-dc4c-52349bc6000c"
      },
      "source": [
        "unattributed_conversions"
      ],
      "execution_count": 53,
      "outputs": [
        {
          "output_type": "execute_result",
          "data": {
            "text/plain": [
              "0.7125894161578927"
            ]
          },
          "metadata": {},
          "execution_count": 53
        }
      ]
    },
    {
      "cell_type": "code",
      "metadata": {
        "colab": {
          "base_uri": "https://localhost:8080/",
          "height": 384
        },
        "id": "ld9djoSAssTs",
        "outputId": "a6c48f3e-c74d-43fd-a895-da81f34a58e1"
      },
      "source": [
        "df_results"
      ],
      "execution_count": 54,
      "outputs": [
        {
          "output_type": "execute_result",
          "data": {
            "text/html": [
              "<div>\n",
              "<style scoped>\n",
              "    .dataframe tbody tr th:only-of-type {\n",
              "        vertical-align: middle;\n",
              "    }\n",
              "\n",
              "    .dataframe tbody tr th {\n",
              "        vertical-align: top;\n",
              "    }\n",
              "\n",
              "    .dataframe thead th {\n",
              "        text-align: right;\n",
              "    }\n",
              "</style>\n",
              "<table border=\"1\" class=\"dataframe\">\n",
              "  <thead>\n",
              "    <tr style=\"text-align: right;\">\n",
              "      <th></th>\n",
              "      <th>driver</th>\n",
              "      <th>rawRelaImpt</th>\n",
              "      <th>normRelaImpt</th>\n",
              "    </tr>\n",
              "  </thead>\n",
              "  <tbody>\n",
              "    <tr>\n",
              "      <th>0</th>\n",
              "      <td>x2</td>\n",
              "      <td>0.04164</td>\n",
              "      <td>14.48841</td>\n",
              "    </tr>\n",
              "    <tr>\n",
              "      <th>1</th>\n",
              "      <td>x16</td>\n",
              "      <td>0.01303</td>\n",
              "      <td>4.53269</td>\n",
              "    </tr>\n",
              "    <tr>\n",
              "      <th>2</th>\n",
              "      <td>x17</td>\n",
              "      <td>0.00424</td>\n",
              "      <td>1.47498</td>\n",
              "    </tr>\n",
              "    <tr>\n",
              "      <th>3</th>\n",
              "      <td>x26</td>\n",
              "      <td>0.01904</td>\n",
              "      <td>6.62555</td>\n",
              "    </tr>\n",
              "    <tr>\n",
              "      <th>4</th>\n",
              "      <td>x27</td>\n",
              "      <td>0.03965</td>\n",
              "      <td>13.79583</td>\n",
              "    </tr>\n",
              "    <tr>\n",
              "      <th>5</th>\n",
              "      <td>x32</td>\n",
              "      <td>0.00481</td>\n",
              "      <td>1.67291</td>\n",
              "    </tr>\n",
              "    <tr>\n",
              "      <th>6</th>\n",
              "      <td>x34</td>\n",
              "      <td>0.01530</td>\n",
              "      <td>5.32267</td>\n",
              "    </tr>\n",
              "    <tr>\n",
              "      <th>7</th>\n",
              "      <td>x35</td>\n",
              "      <td>0.02909</td>\n",
              "      <td>10.12094</td>\n",
              "    </tr>\n",
              "    <tr>\n",
              "      <th>8</th>\n",
              "      <td>x38</td>\n",
              "      <td>0.05352</td>\n",
              "      <td>18.62033</td>\n",
              "    </tr>\n",
              "    <tr>\n",
              "      <th>9</th>\n",
              "      <td>x39</td>\n",
              "      <td>0.04307</td>\n",
              "      <td>14.98622</td>\n",
              "    </tr>\n",
              "    <tr>\n",
              "      <th>10</th>\n",
              "      <td>x45</td>\n",
              "      <td>0.02403</td>\n",
              "      <td>8.35947</td>\n",
              "    </tr>\n",
              "  </tbody>\n",
              "</table>\n",
              "</div>"
            ],
            "text/plain": [
              "   driver  rawRelaImpt  normRelaImpt\n",
              "0   x2    0.04164      14.48841     \n",
              "1   x16   0.01303      4.53269      \n",
              "2   x17   0.00424      1.47498      \n",
              "3   x26   0.01904      6.62555      \n",
              "4   x27   0.03965      13.79583     \n",
              "5   x32   0.00481      1.67291      \n",
              "6   x34   0.01530      5.32267      \n",
              "7   x35   0.02909      10.12094     \n",
              "8   x38   0.05352      18.62033     \n",
              "9   x39   0.04307      14.98622     \n",
              "10  x45   0.02403      8.35947      "
            ]
          },
          "metadata": {},
          "execution_count": 54
        }
      ]
    },
    {
      "cell_type": "markdown",
      "metadata": {
        "id": "HuZp1ueCLdn9"
      },
      "source": [
        "### Cross-Validation"
      ]
    },
    {
      "cell_type": "markdown",
      "metadata": {
        "id": "tcY8t5pYN3B0"
      },
      "source": [
        "#### Leave One Out"
      ]
    },
    {
      "cell_type": "code",
      "metadata": {
        "id": "w1R2VY8AN49g"
      },
      "source": [
        "loo = LeaveOneOut()\n",
        "scores_mse_loo = cross_val_score(reg, X, y, scoring=\"neg_mean_squared_error\", cv=loo)\n",
        "mse_loo = np.mean(np.abs(scores_mse_loo))\n",
        "rmse_loo = np.sqrt(mse_loo)"
      ],
      "execution_count": 55,
      "outputs": []
    },
    {
      "cell_type": "code",
      "metadata": {
        "id": "SkrE5Pn_OEvF"
      },
      "source": [
        "# initiate list for loop to aggregate metric results\n",
        "\n",
        "X_array = np.array(X) \n",
        "Y_array = np.array(y)\n",
        "\n",
        "Y_true = []\n",
        "Y_hat = []\n",
        "for train_idx, test_idx in loo.split(X):\n",
        "    X_train, X_test = X_array[train_idx], X_array[test_idx] #requires arrays\n",
        "    Y_train, Y_test = Y_array[train_idx], Y_array[test_idx]\n",
        "    \n",
        "   \n",
        "    reg.fit(X = X_train, y = Y_train) \n",
        "    Y_pred = reg.predict(X_test)\n",
        "        \n",
        "    Y_true += list(Y_test)\n",
        "    Y_hat += list(Y_pred)\n",
        "       \n",
        "r2_loo = r2_score(np.array(Y_true), np.array(Y_hat))\n",
        "mae_loo = mean_absolute_error(np.array(Y_true), np.array(Y_hat))"
      ],
      "execution_count": 56,
      "outputs": []
    },
    {
      "cell_type": "markdown",
      "metadata": {
        "id": "xP8wAU6rN92e"
      },
      "source": [
        "#### Leave P Out"
      ]
    },
    {
      "cell_type": "code",
      "metadata": {
        "id": "JJWksebwPdil"
      },
      "source": [
        "#@title Input P for hold-out size (for model cross validation using leave-P-out)\n",
        "P_HOLD_OUT = 2 #@param {type: \"integer\"}"
      ],
      "execution_count": 57,
      "outputs": []
    },
    {
      "cell_type": "code",
      "metadata": {
        "id": "6tEnvOahPf5_"
      },
      "source": [
        "# model cross validation using leave-P-out (specify P as hold-out size)\n",
        "lpo = LeavePOut(p=P_HOLD_OUT)\n",
        "scores_mse_lpo = cross_val_score(reg, X, y, scoring=\"neg_mean_squared_error\", cv=lpo) \n",
        "mse_lpo = np.mean(np.abs(scores_mse_lpo))\n",
        "rmse_lpo = np.sqrt(mse_lpo)\n",
        "\n",
        "# initiate list for loop to aggregate metric results (overrides arrays created above)\n",
        "Y_true = []\n",
        "Y_hat = []\n",
        "for train_idx, test_idx in lpo.split(X):\n",
        "    X_train, X_test = X_array[train_idx], X_array[test_idx] #requires arrays\n",
        "    Y_train, Y_test = Y_array[train_idx], Y_array[test_idx]\n",
        "    \n",
        "    reg.fit(X = X_train, y = Y_train) \n",
        "    Y_pred = reg.predict(X_test)\n",
        "        \n",
        "    Y_true += list(Y_test)\n",
        "    Y_hat += list(Y_pred)\n",
        "        \n",
        "r2_lpo = r2_score(np.array(Y_true), np.array(Y_hat))\n",
        "mae_lpo = mean_absolute_error(np.array(Y_true), np.array(Y_hat))"
      ],
      "execution_count": 58,
      "outputs": []
    },
    {
      "cell_type": "markdown",
      "metadata": {
        "id": "52I7SsXrQc71"
      },
      "source": [
        "#### Evaluation"
      ]
    },
    {
      "cell_type": "markdown",
      "metadata": {
        "id": "fAa7Wivd-Rrp"
      },
      "source": [
        "Compare scoring"
      ]
    },
    {
      "cell_type": "code",
      "metadata": {
        "id": "9Hn7uMn0QeLr",
        "colab": {
          "base_uri": "https://localhost:8080/",
          "height": 110
        },
        "outputId": "49f1c725-dbdb-485b-9f9e-322fcfb9e1dc"
      },
      "source": [
        "cv_df = pd.DataFrame(columns=('CV Method','MAE','R2', 'MSE', 'RMSE')) \n",
        "cv_df.loc[len(cv_df)] = ['LOO',mae_loo, r2_loo[0], mse_loo, rmse_loo]\n",
        "cv_df.loc[len(cv_df)] = ['LPO',mae_lpo, r2_lpo[0], mse_lpo, rmse_lpo]\n",
        "cv_df"
      ],
      "execution_count": 59,
      "outputs": [
        {
          "output_type": "execute_result",
          "data": {
            "text/html": [
              "<div>\n",
              "<style scoped>\n",
              "    .dataframe tbody tr th:only-of-type {\n",
              "        vertical-align: middle;\n",
              "    }\n",
              "\n",
              "    .dataframe tbody tr th {\n",
              "        vertical-align: top;\n",
              "    }\n",
              "\n",
              "    .dataframe thead th {\n",
              "        text-align: right;\n",
              "    }\n",
              "</style>\n",
              "<table border=\"1\" class=\"dataframe\">\n",
              "  <thead>\n",
              "    <tr style=\"text-align: right;\">\n",
              "      <th></th>\n",
              "      <th>CV Method</th>\n",
              "      <th>MAE</th>\n",
              "      <th>R2</th>\n",
              "      <th>MSE</th>\n",
              "      <th>RMSE</th>\n",
              "    </tr>\n",
              "  </thead>\n",
              "  <tbody>\n",
              "    <tr>\n",
              "      <th>0</th>\n",
              "      <td>LOO</td>\n",
              "      <td>311.67342</td>\n",
              "      <td>0.28022</td>\n",
              "      <td>157909.05727</td>\n",
              "      <td>397.37773</td>\n",
              "    </tr>\n",
              "    <tr>\n",
              "      <th>1</th>\n",
              "      <td>LPO</td>\n",
              "      <td>311.67824</td>\n",
              "      <td>0.28023</td>\n",
              "      <td>157914.67307</td>\n",
              "      <td>397.38479</td>\n",
              "    </tr>\n",
              "  </tbody>\n",
              "</table>\n",
              "</div>"
            ],
            "text/plain": [
              "  CV Method       MAE      R2          MSE      RMSE\n",
              "0  LOO      311.67342 0.28022 157909.05727 397.37773\n",
              "1  LPO      311.67824 0.28023 157914.67307 397.38479"
            ]
          },
          "metadata": {},
          "execution_count": 59
        }
      ]
    },
    {
      "cell_type": "markdown",
      "metadata": {
        "id": "ONUcKmxtCB6u"
      },
      "source": [
        "# Validate Linear Regression Model Assumptions"
      ]
    },
    {
      "cell_type": "markdown",
      "metadata": {
        "id": "33adShh4CwUP"
      },
      "source": [
        "####1. Linearity"
      ]
    },
    {
      "cell_type": "markdown",
      "metadata": {
        "id": "mNk8VP2TCw7v"
      },
      "source": [
        "Visually inspect linearity between target variable and predictions"
      ]
    },
    {
      "cell_type": "code",
      "metadata": {
        "id": "p8PmoZ2bC14r",
        "colab": {
          "base_uri": "https://localhost:8080/",
          "height": 265
        },
        "outputId": "25eeb26a-d2e8-4952-a144-68b53215d03e"
      },
      "source": [
        "plt.plot(Y_prediction,y,'o',alpha=0.5)\n",
        "plt.show()"
      ],
      "execution_count": 60,
      "outputs": [
        {
          "output_type": "display_data",
          "data": {
            "image/png": "[encoded data removed]",
            "text/plain": [
              "<Figure size 432x288 with 1 Axes>"
            ]
          },
          "metadata": {
            "needs_background": "light"
          }
        }
      ]
    },
    {
      "cell_type": "markdown",
      "metadata": {
        "id": "cLBcLEXTC3yV"
      },
      "source": [
        "#### 2. Normality of Errors"
      ]
    },
    {
      "cell_type": "markdown",
      "metadata": {
        "id": "NRotzz8xC6QH"
      },
      "source": [
        "Visually inspect the residuals to confirm normality"
      ]
    },
    {
      "cell_type": "code",
      "metadata": {
        "id": "_NjzxktOC_H_",
        "colab": {
          "base_uri": "https://localhost:8080/",
          "height": 279
        },
        "outputId": "23559e59-d57d-4fde-bc0c-f5a582227ec6"
      },
      "source": [
        "fig = sm.qqplot(residuals)"
      ],
      "execution_count": 61,
      "outputs": [
        {
          "output_type": "display_data",
          "data": {
            "image/png": "[encoded data removed]",
            "text/plain": [
              "<Figure size 432x288 with 1 Axes>"
            ]
          },
          "metadata": {
            "needs_background": "light"
          }
        }
      ]
    },
    {
      "cell_type": "code",
      "metadata": {
        "id": "6PSlC66HDFbf",
        "colab": {
          "base_uri": "https://localhost:8080/",
          "height": 295
        },
        "outputId": "471c98a1-17cb-4c2c-d012-dbef8a4ab5f3"
      },
      "source": [
        "sns.kdeplot(residuals, label = '', shade = True)\n",
        "plt.xlabel('Model Residuals'); plt.ylabel('Density'); plt.title('Distribution of Residuals');"
      ],
      "execution_count": 62,
      "outputs": [
        {
          "output_type": "display_data",
          "data": {
            "image/png": "[encoded data removed]",
            "text/plain": [
              "<Figure size 432x288 with 1 Axes>"
            ]
          },
          "metadata": {
            "needs_background": "light"
          }
        }
      ]
    },
    {
      "cell_type": "markdown",
      "metadata": {
        "id": "c1oUNtOiC9KI"
      },
      "source": [
        "####3. Absence of Multicollinearity"
      ]
    },
    {
      "cell_type": "markdown",
      "metadata": {
        "id": "0K3GTpY2Dtdi"
      },
      "source": [
        "Tested and checked during data processing stage"
      ]
    },
    {
      "cell_type": "markdown",
      "metadata": {
        "id": "ko6ZzCPpDw3Y"
      },
      "source": [
        "####4. Homoscedasticity\n"
      ]
    },
    {
      "cell_type": "markdown",
      "metadata": {
        "id": "i87wy-MkEKRq"
      },
      "source": [
        "Visually inspect residuals to confirm constant variance"
      ]
    },
    {
      "cell_type": "code",
      "metadata": {
        "id": "NDCWmRTuEPcf",
        "colab": {
          "base_uri": "https://localhost:8080/",
          "height": 265
        },
        "outputId": "17b73f4c-723e-43c5-d0e9-6413daf51bb5"
      },
      "source": [
        "plt.plot(residuals,'o',alpha=0.5)\n",
        "plt.show()"
      ],
      "execution_count": 63,
      "outputs": [
        {
          "output_type": "display_data",
          "data": {
            "image/png": "[encoded data removed]",
            "text/plain": [
              "<Figure size 432x288 with 1 Axes>"
            ]
          },
          "metadata": {
            "needs_background": "light"
          }
        }
      ]
    }
  ]
}