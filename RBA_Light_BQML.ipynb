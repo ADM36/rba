{
  "nbformat": 4,
  "nbformat_minor": 0,
  "metadata": {
    "colab": {
      "name": "(3a) Modeling: RBA Light - BQML [MAKE A COPY]",
      "provenance": [],
      "collapsed_sections": []
    },
    "kernelspec": {
      "display_name": "Python 3",
      "name": "python3"
    },
    "language_info": {
      "name": "python"
    }
  },
  "cells": [
    {
      "cell_type": "markdown",
      "metadata": {
        "id": "gqL1c-Xy_3yq"
      },
      "source": [
        "Copyright 2021 Google LLC\n",
        "\n",
        "Licensed under the Apache License, Version 2.0 (the \"License\");\n",
        "you may not use this file except in compliance with the License.\n",
        "You may obtain a copy of the License at\n",
        "\n",
        "[https://www.apache.org/licenses/LICENSE-2.0](https://www.apache.org/licenses/LICENSE-2.0)\n",
        "\n",
        "Unless required by applicable law or agreed to in writing, software\n",
        "distributed under the License is distributed on an \"AS IS\" BASIS,\n",
        "WITHOUT WARRANTIES OR CONDITIONS OF ANY KIND, either express or implied.\n",
        "See the License for the specific language governing permissions and\n",
        "limitations under the License.\n",
        "\n",
        "This solution, including any related sample code or data, is made available \n",
        "on an “as is,” “as available,” and “with all faults” basis, solely for \n",
        "illustrative purposes, and without warranty or representation of any kind. \n",
        "This solution is experimental, unsupported and provided solely for your \n",
        "convenience. Your use of it is subject to your agreements with Google, as \n",
        "applicable, and may constitute a beta feature as defined under those \n",
        "agreements.  To the extent that you make any data available to Google in \n",
        "connection with your use of the solution, you represent and warrant that you \n",
        "have all necessary and appropriate rights, consents and permissions to permit \n",
        "Google to use and process that data.  By using any portion of this solution, \n",
        "you acknowledge, assume and accept all risks, known and unknown, associated \n",
        "with its usage, including with respect to your deployment of any portion of \n",
        "this solution in your systems, or usage in connection with your business, \n",
        "if at all."
      ]
    },
    {
      "cell_type": "markdown",
      "metadata": {
        "id": "l19lClJob3IR"
      },
      "source": [
        "# Setup"
      ]
    },
    {
      "cell_type": "markdown",
      "metadata": {
        "id": "uh6JyZGLcEgE"
      },
      "source": [
        "### Load modules"
      ]
    },
    {
      "cell_type": "code",
      "metadata": {
        "id": "4aupXJjFcHkq",
        "colab": {
          "base_uri": "https://localhost:8080/"
        },
        "outputId": "5e234ffa-95ea-4b88-f973-28cbab05bd61"
      },
      "source": [
        "# authenication libraries for colab & bigquery tools\n",
        "from google.colab import auth\n",
        "from google.cloud import bigquery\n",
        "!pip install --upgrade -q gspread \n",
        "import gspread\n",
        "from gspread_dataframe import set_with_dataframe\n",
        "from oauth2client.client import GoogleCredentials\n",
        "auth.authenticate_user()\n",
        "gc = gspread.authorize(GoogleCredentials.get_application_default())\n",
        "bigquery.USE_LEGACY_SQL = False\n",
        "\n",
        "# BQ Magics\n",
        "from google.cloud import bigquery\n",
        "from google.cloud.bigquery import magics\n",
        "magics.context.project = 'db-platform-sol' \n",
        "client = bigquery.Client(project=magics.context.project)\n",
        "%load_ext google.cloud.bigquery\n",
        "\n",
        "# data processing libraries\n",
        "import numpy as np\n",
        "import pandas as pd\n",
        "import matplotlib.pyplot as plt\n",
        "from statsmodels.stats.stattools import durbin_watson\n",
        "import statsmodels.api as sm\n",
        "import seaborn as sns"
      ],
      "execution_count": 1,
      "outputs": [
        {
          "output_type": "stream",
          "text": [
            "/usr/local/lib/python3.7/dist-packages/statsmodels/tools/_testing.py:19: FutureWarning: pandas.util.testing is deprecated. Use the functions in the public API at pandas.testing instead.\n",
            "  import pandas.util.testing as tm\n"
          ],
          "name": "stderr"
        }
      ]
    },
    {
      "cell_type": "markdown",
      "metadata": {
        "id": "8N8-scWPc7fP"
      },
      "source": [
        "### Load model input data"
      ]
    },
    {
      "cell_type": "code",
      "metadata": {
        "id": "72-DM56LFrGg"
      },
      "source": [
        "%%bigquery df\n",
        "SELECT *\n",
        "FROM `db-platform-sol.ComcastGBA_test.ne_mains_clean`\n",
        "WHERE Division IS NOT NULL;"
      ],
      "execution_count": 2,
      "outputs": []
    },
    {
      "cell_type": "code",
      "metadata": {
        "colab": {
          "base_uri": "https://localhost:8080/"
        },
        "id": "psVo1ZxHCyZ-",
        "outputId": "8e3c2bf3-59a1-471a-a2e4-34e5ca671b8c"
      },
      "source": [
        "df.columns"
      ],
      "execution_count": 3,
      "outputs": [
        {
          "output_type": "execute_result",
          "data": {
            "text/plain": [
              "Index(['Division', 'day', 'total_clicks', 'NonBrand_clicks', 'Brand_clicks',\n",
              "       'Brand_x_RMKT_x_EC_clicks', 'Brand_x_Core_x_NC_clicks',\n",
              "       'NonBrand_x_Core_x_NC_clicks', 'Brand_x_RMKT_x_NCFM_clicks',\n",
              "       'NonBrand_x_RMKT_x_NCFM_clicks',\n",
              "       ...\n",
              "       'DBM_x_Display_x_ACQ_imps', 'Pandora_x_Display_x_AWA_imps',\n",
              "       'OTHER_x_Social_x_AWA_imps', 'The_Trade_Desk_x_Display_x_ACQ_imps',\n",
              "       'Oath_x_Video_x_ACQ_imps', 'Division_y', 'new_accounts',\n",
              "       'national_imps', 'national_clicks', '__index_level_0__'],\n",
              "      dtype='object', length=158)"
            ]
          },
          "metadata": {},
          "execution_count": 3
        }
      ]
    },
    {
      "cell_type": "markdown",
      "metadata": {
        "id": "j2kOEcAxArc7"
      },
      "source": [
        "## BQML Model"
      ]
    },
    {
      "cell_type": "markdown",
      "metadata": {
        "id": "4tnNNcg28cbE"
      },
      "source": [
        "Run the model"
      ]
    },
    {
      "cell_type": "code",
      "metadata": {
        "id": "ghfnCfo6zkFJ",
        "colab": {
          "base_uri": "https://localhost:8080/",
          "height": 32
        },
        "outputId": "2bfdbebe-e683-48f4-d678-bcf125476add"
      },
      "source": [
        "%%bigquery\n",
        "CREATE OR REPLACE MODEL `db-platform-sol.ComcastGBA_test.rba_model` \n",
        "OPTIONS (model_type='linear_reg',\n",
        "         input_label_cols = ['new_accounts'])\n",
        "AS SELECT Brand_x_Core_x_NC_clicks, The_Trade_Desk_x_Audio_x_AWA_imps,DBM_x_Display_x_RTG_imps, \n",
        "Amazon_x_Display_x_AWA_imps,DBM_x_Video_x_AWA_imps,OTHER_x_Display_x_AWA_imps,Oath_x_Display_x_AWA_imps, \n",
        "DBM_x_Display_x_AWA_imps,Brand_x_RMKT_x_EC_clicks,DBM_x_Display_x_ACQ_imps, new_accounts\n",
        "    FROM `db-platform-sol.ComcastGBA_test.ne_mains_clean`;"
      ],
      "execution_count": 4,
      "outputs": [
        {
          "output_type": "execute_result",
          "data": {
            "text/html": [
              "<div>\n",
              "<style scoped>\n",
              "    .dataframe tbody tr th:only-of-type {\n",
              "        vertical-align: middle;\n",
              "    }\n",
              "\n",
              "    .dataframe tbody tr th {\n",
              "        vertical-align: top;\n",
              "    }\n",
              "\n",
              "    .dataframe thead th {\n",
              "        text-align: right;\n",
              "    }\n",
              "</style>\n",
              "<table border=\"1\" class=\"dataframe\">\n",
              "  <thead>\n",
              "    <tr style=\"text-align: right;\">\n",
              "      <th></th>\n",
              "    </tr>\n",
              "  </thead>\n",
              "  <tbody>\n",
              "  </tbody>\n",
              "</table>\n",
              "</div>"
            ],
            "text/plain": [
              "Empty DataFrame\n",
              "Columns: []\n",
              "Index: []"
            ]
          },
          "metadata": {},
          "execution_count": 4
        }
      ]
    },
    {
      "cell_type": "code",
      "metadata": {
        "id": "33oYdDIhGuS9",
        "colab": {
          "base_uri": "https://localhost:8080/",
          "height": 70
        },
        "outputId": "9dd92ba0-17b1-48a7-b52e-101c09cd8af6"
      },
      "source": [
        "'''Additional Parameter Options'''\n",
        "'''\n",
        "    OPTIMIZE_STRATEGY = { 'AUTO_STRATEGY' | 'BATCH_GRADIENT_DESCENT' | 'NORMAL_EQUATION' },\n",
        "    L1_REG = float64_value,\n",
        "    L2_REG = float64_value,\n",
        "    MAX_ITERATIONS = int64_value,\n",
        "    LEARN_RATE_STRATEGY = { 'LINE_SEARCH' | 'CONSTANT' },\n",
        "    LEARN_RATE = float64_value,\n",
        "    EARLY_STOP = { TRUE | FALSE },\n",
        "    MIN_REL_PROGRESS = float64_value,\n",
        "    DATA_SPLIT_METHOD = { 'AUTO_SPLIT' | 'RANDOM' | 'CUSTOM' | 'SEQ' | 'NO_SPLIT' },\n",
        "    DATA_SPLIT_EVAL_FRACTION = float64_value,\n",
        "    DATA_SPLIT_COL = string_value,\n",
        "    LS_INIT_LEARN_RATE = float64_value,\n",
        "    WARM_START = { TRUE | FALSE },\n",
        "    AUTO_CLASS_WEIGHTS = { TRUE | FALSE },\n",
        "    CLASS_WEIGHTS = struct_array\n",
        "'''"
      ],
      "execution_count": 5,
      "outputs": [
        {
          "output_type": "execute_result",
          "data": {
            "application/vnd.google.colaboratory.intrinsic+json": {
              "type": "string"
            },
            "text/plain": [
              "\"\\n    OPTIMIZE_STRATEGY = { 'AUTO_STRATEGY' | 'BATCH_GRADIENT_DESCENT' | 'NORMAL_EQUATION' },\\n    L1_REG = float64_value,\\n    L2_REG = float64_value,\\n    MAX_ITERATIONS = int64_value,\\n    LEARN_RATE_STRATEGY = { 'LINE_SEARCH' | 'CONSTANT' },\\n    LEARN_RATE = float64_value,\\n    EARLY_STOP = { TRUE | FALSE },\\n    MIN_REL_PROGRESS = float64_value,\\n    DATA_SPLIT_METHOD = { 'AUTO_SPLIT' | 'RANDOM' | 'CUSTOM' | 'SEQ' | 'NO_SPLIT' },\\n    DATA_SPLIT_EVAL_FRACTION = float64_value,\\n    DATA_SPLIT_COL = string_value,\\n    LS_INIT_LEARN_RATE = float64_value,\\n    WARM_START = { TRUE | FALSE },\\n    AUTO_CLASS_WEIGHTS = { TRUE | FALSE },\\n    CLASS_WEIGHTS = struct_array\\n\""
            ]
          },
          "metadata": {},
          "execution_count": 5
        }
      ]
    },
    {
      "cell_type": "markdown",
      "metadata": {
        "id": "taBcsWgY8dnI"
      },
      "source": [
        "Output results (un-standardized)"
      ]
    },
    {
      "cell_type": "code",
      "metadata": {
        "id": "fCPvQV-ozkop"
      },
      "source": [
        "%%bigquery bqml_results_unscaled\n",
        "SELECT *\n",
        "FROM ML.WEIGHTS(MODEL `db-platform-sol.ComcastGBA_test.rba_model`)"
      ],
      "execution_count": 6,
      "outputs": []
    },
    {
      "cell_type": "code",
      "metadata": {
        "id": "sPYunF95A14c",
        "colab": {
          "base_uri": "https://localhost:8080/",
          "height": 393
        },
        "outputId": "0a85e541-8790-486d-d90d-c07d5120102d"
      },
      "source": [
        "bqml_results_unscaled"
      ],
      "execution_count": 7,
      "outputs": [
        {
          "output_type": "execute_result",
          "data": {
            "text/html": [
              "<div>\n",
              "<style scoped>\n",
              "    .dataframe tbody tr th:only-of-type {\n",
              "        vertical-align: middle;\n",
              "    }\n",
              "\n",
              "    .dataframe tbody tr th {\n",
              "        vertical-align: top;\n",
              "    }\n",
              "\n",
              "    .dataframe thead th {\n",
              "        text-align: right;\n",
              "    }\n",
              "</style>\n",
              "<table border=\"1\" class=\"dataframe\">\n",
              "  <thead>\n",
              "    <tr style=\"text-align: right;\">\n",
              "      <th></th>\n",
              "      <th>processed_input</th>\n",
              "      <th>weight</th>\n",
              "      <th>category_weights</th>\n",
              "    </tr>\n",
              "  </thead>\n",
              "  <tbody>\n",
              "    <tr>\n",
              "      <th>0</th>\n",
              "      <td>Brand_x_Core_x_NC_clicks</td>\n",
              "      <td>0.161540</td>\n",
              "      <td>[]</td>\n",
              "    </tr>\n",
              "    <tr>\n",
              "      <th>1</th>\n",
              "      <td>The_Trade_Desk_x_Audio_x_AWA_imps</td>\n",
              "      <td>-0.000881</td>\n",
              "      <td>[]</td>\n",
              "    </tr>\n",
              "    <tr>\n",
              "      <th>2</th>\n",
              "      <td>DBM_x_Display_x_RTG_imps</td>\n",
              "      <td>0.000079</td>\n",
              "      <td>[]</td>\n",
              "    </tr>\n",
              "    <tr>\n",
              "      <th>3</th>\n",
              "      <td>Amazon_x_Display_x_AWA_imps</td>\n",
              "      <td>0.000071</td>\n",
              "      <td>[]</td>\n",
              "    </tr>\n",
              "    <tr>\n",
              "      <th>4</th>\n",
              "      <td>DBM_x_Video_x_AWA_imps</td>\n",
              "      <td>0.000207</td>\n",
              "      <td>[]</td>\n",
              "    </tr>\n",
              "    <tr>\n",
              "      <th>5</th>\n",
              "      <td>OTHER_x_Display_x_AWA_imps</td>\n",
              "      <td>-0.000031</td>\n",
              "      <td>[]</td>\n",
              "    </tr>\n",
              "    <tr>\n",
              "      <th>6</th>\n",
              "      <td>Oath_x_Display_x_AWA_imps</td>\n",
              "      <td>0.000811</td>\n",
              "      <td>[]</td>\n",
              "    </tr>\n",
              "    <tr>\n",
              "      <th>7</th>\n",
              "      <td>DBM_x_Display_x_AWA_imps</td>\n",
              "      <td>-0.000091</td>\n",
              "      <td>[]</td>\n",
              "    </tr>\n",
              "    <tr>\n",
              "      <th>8</th>\n",
              "      <td>Brand_x_RMKT_x_EC_clicks</td>\n",
              "      <td>-0.062122</td>\n",
              "      <td>[]</td>\n",
              "    </tr>\n",
              "    <tr>\n",
              "      <th>9</th>\n",
              "      <td>DBM_x_Display_x_ACQ_imps</td>\n",
              "      <td>0.000029</td>\n",
              "      <td>[]</td>\n",
              "    </tr>\n",
              "    <tr>\n",
              "      <th>10</th>\n",
              "      <td>__INTERCEPT__</td>\n",
              "      <td>-494.381388</td>\n",
              "      <td>[]</td>\n",
              "    </tr>\n",
              "  </tbody>\n",
              "</table>\n",
              "</div>"
            ],
            "text/plain": [
              "                      processed_input      weight category_weights\n",
              "0            Brand_x_Core_x_NC_clicks    0.161540               []\n",
              "1   The_Trade_Desk_x_Audio_x_AWA_imps   -0.000881               []\n",
              "2            DBM_x_Display_x_RTG_imps    0.000079               []\n",
              "3         Amazon_x_Display_x_AWA_imps    0.000071               []\n",
              "4              DBM_x_Video_x_AWA_imps    0.000207               []\n",
              "5          OTHER_x_Display_x_AWA_imps   -0.000031               []\n",
              "6           Oath_x_Display_x_AWA_imps    0.000811               []\n",
              "7            DBM_x_Display_x_AWA_imps   -0.000091               []\n",
              "8            Brand_x_RMKT_x_EC_clicks   -0.062122               []\n",
              "9            DBM_x_Display_x_ACQ_imps    0.000029               []\n",
              "10                      __INTERCEPT__ -494.381388               []"
            ]
          },
          "metadata": {},
          "execution_count": 7
        }
      ]
    },
    {
      "cell_type": "markdown",
      "metadata": {
        "id": "-iYwsTK48gVc"
      },
      "source": [
        "Output results (standardized)"
      ]
    },
    {
      "cell_type": "code",
      "metadata": {
        "id": "0Me9Piby8hzF"
      },
      "source": [
        "%%bigquery bqml_results_scaled\n",
        "SELECT\n",
        "  *\n",
        "FROM\n",
        "  ML.WEIGHTS(MODEL `db-platform-sol.ComcastGBA_test.rba_model`,\n",
        "    STRUCT(true AS standardize))"
      ],
      "execution_count": 8,
      "outputs": []
    },
    {
      "cell_type": "code",
      "metadata": {
        "colab": {
          "base_uri": "https://localhost:8080/",
          "height": 393
        },
        "id": "CiSyIHoP8pLc",
        "outputId": "efd95519-ac16-45d1-9c86-cbfd9e2c8f78"
      },
      "source": [
        "bqml_results_scaled"
      ],
      "execution_count": 9,
      "outputs": [
        {
          "output_type": "execute_result",
          "data": {
            "text/html": [
              "<div>\n",
              "<style scoped>\n",
              "    .dataframe tbody tr th:only-of-type {\n",
              "        vertical-align: middle;\n",
              "    }\n",
              "\n",
              "    .dataframe tbody tr th {\n",
              "        vertical-align: top;\n",
              "    }\n",
              "\n",
              "    .dataframe thead th {\n",
              "        text-align: right;\n",
              "    }\n",
              "</style>\n",
              "<table border=\"1\" class=\"dataframe\">\n",
              "  <thead>\n",
              "    <tr style=\"text-align: right;\">\n",
              "      <th></th>\n",
              "      <th>processed_input</th>\n",
              "      <th>weight</th>\n",
              "      <th>category_weights</th>\n",
              "    </tr>\n",
              "  </thead>\n",
              "  <tbody>\n",
              "    <tr>\n",
              "      <th>0</th>\n",
              "      <td>Brand_x_Core_x_NC_clicks</td>\n",
              "      <td>371.493131</td>\n",
              "      <td>[]</td>\n",
              "    </tr>\n",
              "    <tr>\n",
              "      <th>1</th>\n",
              "      <td>The_Trade_Desk_x_Audio_x_AWA_imps</td>\n",
              "      <td>-110.837805</td>\n",
              "      <td>[]</td>\n",
              "    </tr>\n",
              "    <tr>\n",
              "      <th>2</th>\n",
              "      <td>DBM_x_Display_x_RTG_imps</td>\n",
              "      <td>38.330669</td>\n",
              "      <td>[]</td>\n",
              "    </tr>\n",
              "    <tr>\n",
              "      <th>3</th>\n",
              "      <td>Amazon_x_Display_x_AWA_imps</td>\n",
              "      <td>45.727010</td>\n",
              "      <td>[]</td>\n",
              "    </tr>\n",
              "    <tr>\n",
              "      <th>4</th>\n",
              "      <td>DBM_x_Video_x_AWA_imps</td>\n",
              "      <td>92.796030</td>\n",
              "      <td>[]</td>\n",
              "    </tr>\n",
              "    <tr>\n",
              "      <th>5</th>\n",
              "      <td>OTHER_x_Display_x_AWA_imps</td>\n",
              "      <td>-86.637119</td>\n",
              "      <td>[]</td>\n",
              "    </tr>\n",
              "    <tr>\n",
              "      <th>6</th>\n",
              "      <td>Oath_x_Display_x_AWA_imps</td>\n",
              "      <td>67.946090</td>\n",
              "      <td>[]</td>\n",
              "    </tr>\n",
              "    <tr>\n",
              "      <th>7</th>\n",
              "      <td>DBM_x_Display_x_AWA_imps</td>\n",
              "      <td>-197.151020</td>\n",
              "      <td>[]</td>\n",
              "    </tr>\n",
              "    <tr>\n",
              "      <th>8</th>\n",
              "      <td>Brand_x_RMKT_x_EC_clicks</td>\n",
              "      <td>-178.092492</td>\n",
              "      <td>[]</td>\n",
              "    </tr>\n",
              "    <tr>\n",
              "      <th>9</th>\n",
              "      <td>DBM_x_Display_x_ACQ_imps</td>\n",
              "      <td>109.814729</td>\n",
              "      <td>[]</td>\n",
              "    </tr>\n",
              "    <tr>\n",
              "      <th>10</th>\n",
              "      <td>__INTERCEPT__</td>\n",
              "      <td>1497.559748</td>\n",
              "      <td>[]</td>\n",
              "    </tr>\n",
              "  </tbody>\n",
              "</table>\n",
              "</div>"
            ],
            "text/plain": [
              "                      processed_input       weight category_weights\n",
              "0            Brand_x_Core_x_NC_clicks   371.493131               []\n",
              "1   The_Trade_Desk_x_Audio_x_AWA_imps  -110.837805               []\n",
              "2            DBM_x_Display_x_RTG_imps    38.330669               []\n",
              "3         Amazon_x_Display_x_AWA_imps    45.727010               []\n",
              "4              DBM_x_Video_x_AWA_imps    92.796030               []\n",
              "5          OTHER_x_Display_x_AWA_imps   -86.637119               []\n",
              "6           Oath_x_Display_x_AWA_imps    67.946090               []\n",
              "7            DBM_x_Display_x_AWA_imps  -197.151020               []\n",
              "8            Brand_x_RMKT_x_EC_clicks  -178.092492               []\n",
              "9            DBM_x_Display_x_ACQ_imps   109.814729               []\n",
              "10                      __INTERCEPT__  1497.559748               []"
            ]
          },
          "metadata": {},
          "execution_count": 9
        }
      ]
    },
    {
      "cell_type": "markdown",
      "metadata": {
        "id": "KtvXzEFDDeyp"
      },
      "source": [
        "### Evaluation"
      ]
    },
    {
      "cell_type": "code",
      "metadata": {
        "id": "0KPZXxNXzkl-"
      },
      "source": [
        "%%bigquery bqml_scores\n",
        "SELECT *\n",
        "FROM ML.EVALUATE(MODEL `db-platform-sol.ComcastGBA_test.rba_model`)"
      ],
      "execution_count": 10,
      "outputs": []
    },
    {
      "cell_type": "code",
      "metadata": {
        "id": "QktcOckLzkKv"
      },
      "source": [
        "bqml_mae = bqml_scores.mean_absolute_error\n",
        "bqml_rmse = np.sqrt(bqml_scores['mean_squared_error'])\n",
        "bqml_scores['rmse'] = bqml_rmse"
      ],
      "execution_count": 11,
      "outputs": []
    },
    {
      "cell_type": "code",
      "metadata": {
        "id": "5anQGJQF268d",
        "colab": {
          "base_uri": "https://localhost:8080/",
          "height": 81
        },
        "outputId": "b68dffaf-f3fb-46bf-bf41-49c6ea69ff24"
      },
      "source": [
        "bqml_scores"
      ],
      "execution_count": 12,
      "outputs": [
        {
          "output_type": "execute_result",
          "data": {
            "text/html": [
              "<div>\n",
              "<style scoped>\n",
              "    .dataframe tbody tr th:only-of-type {\n",
              "        vertical-align: middle;\n",
              "    }\n",
              "\n",
              "    .dataframe tbody tr th {\n",
              "        vertical-align: top;\n",
              "    }\n",
              "\n",
              "    .dataframe thead th {\n",
              "        text-align: right;\n",
              "    }\n",
              "</style>\n",
              "<table border=\"1\" class=\"dataframe\">\n",
              "  <thead>\n",
              "    <tr style=\"text-align: right;\">\n",
              "      <th></th>\n",
              "      <th>mean_absolute_error</th>\n",
              "      <th>mean_squared_error</th>\n",
              "      <th>mean_squared_log_error</th>\n",
              "      <th>median_absolute_error</th>\n",
              "      <th>r2_score</th>\n",
              "      <th>explained_variance</th>\n",
              "      <th>rmse</th>\n",
              "    </tr>\n",
              "  </thead>\n",
              "  <tbody>\n",
              "    <tr>\n",
              "      <th>0</th>\n",
              "      <td>161.847912</td>\n",
              "      <td>44018.531216</td>\n",
              "      <td>0.022007</td>\n",
              "      <td>126.322726</td>\n",
              "      <td>0.75846</td>\n",
              "      <td>0.758481</td>\n",
              "      <td>209.805937</td>\n",
              "    </tr>\n",
              "  </tbody>\n",
              "</table>\n",
              "</div>"
            ],
            "text/plain": [
              "   mean_absolute_error  mean_squared_error  ...  explained_variance        rmse\n",
              "0           161.847912        44018.531216  ...            0.758481  209.805937\n",
              "\n",
              "[1 rows x 7 columns]"
            ]
          },
          "metadata": {},
          "execution_count": 12
        }
      ]
    },
    {
      "cell_type": "markdown",
      "metadata": {
        "id": "mCKeutMiqOc2"
      },
      "source": [
        "# Validate Linear Regression Model Assumptions"
      ]
    },
    {
      "cell_type": "markdown",
      "metadata": {
        "id": "xIiQh9x17Kmc"
      },
      "source": [
        "Generate model predictions and residuals"
      ]
    },
    {
      "cell_type": "code",
      "metadata": {
        "id": "cOuAWoAT7JDU"
      },
      "source": [
        "%%bigquery model_predictions\n",
        "SELECT\n",
        "  predicted_new_accounts, new_accounts\n",
        "FROM\n",
        "  ML.PREDICT(MODEL `db-platform-sol.ComcastGBA_test.rba_model`,\n",
        "    (\n",
        "    SELECT\n",
        "        *\n",
        "    FROM\n",
        "      `db-platform-sol.ComcastGBA_test.ne_mains_clean`));"
      ],
      "execution_count": 13,
      "outputs": []
    },
    {
      "cell_type": "code",
      "metadata": {
        "id": "87fbrpbM7cE3"
      },
      "source": [
        "model_predictions['residuals'] = model_predictions.predicted_new_accounts - model_predictions.new_accounts"
      ],
      "execution_count": 14,
      "outputs": []
    },
    {
      "cell_type": "markdown",
      "metadata": {
        "id": "s9GYKrS87EGQ"
      },
      "source": [
        "####1. Linearity"
      ]
    },
    {
      "cell_type": "markdown",
      "metadata": {
        "id": "nXpj9Bok7WCQ"
      },
      "source": [
        "Visually inspect linearity between target variable and predictions"
      ]
    },
    {
      "cell_type": "code",
      "metadata": {
        "colab": {
          "base_uri": "https://localhost:8080/",
          "height": 265
        },
        "id": "8Gx6KzBKlTFZ",
        "outputId": "b4e4169c-7f7b-4b46-d9ae-06e9f5e82ce1"
      },
      "source": [
        "plt.plot(model_predictions.predicted_new_accounts,model_predictions.new_accounts,'o',alpha=0.5)\n",
        "plt.show()"
      ],
      "execution_count": 15,
      "outputs": [
        {
          "output_type": "display_data",
          "data": {
            "image/png": "[encoded data removed]",
            "text/plain": [
              "<Figure size 432x288 with 1 Axes>"
            ]
          },
          "metadata": {
            "needs_background": "light"
          }
        }
      ]
    },
    {
      "cell_type": "markdown",
      "metadata": {
        "id": "4w71z33T8IRB"
      },
      "source": [
        "#### 2. Normality of Errors"
      ]
    },
    {
      "cell_type": "markdown",
      "metadata": {
        "id": "K4CYxjPc8iWu"
      },
      "source": [
        "Visually inspect the residuals to confirm normality"
      ]
    },
    {
      "cell_type": "code",
      "metadata": {
        "colab": {
          "base_uri": "https://localhost:8080/",
          "height": 279
        },
        "id": "PB5NIR6Blu6e",
        "outputId": "5a559658-d142-4a8f-802b-c83236d51697"
      },
      "source": [
        "fig = sm.qqplot(model_predictions.residuals)"
      ],
      "execution_count": 16,
      "outputs": [
        {
          "output_type": "display_data",
          "data": {
            "image/png": "[encoded data removed]",
            "text/plain": [
              "<Figure size 432x288 with 1 Axes>"
            ]
          },
          "metadata": {
            "needs_background": "light"
          }
        }
      ]
    },
    {
      "cell_type": "code",
      "metadata": {
        "colab": {
          "base_uri": "https://localhost:8080/",
          "height": 295
        },
        "id": "RHXLZsIjmBG-",
        "outputId": "9133e103-8920-4993-b1b1-cd0332bdae2d"
      },
      "source": [
        "sns.kdeplot(model_predictions.residuals, label = '', shade = True)\n",
        "plt.xlabel('Model Residuals'); plt.ylabel('Density'); plt.title('Distribution of Residuals');"
      ],
      "execution_count": 17,
      "outputs": [
        {
          "output_type": "display_data",
          "data": {
            "image/png": "[encoded data removed]",
            "text/plain": [
              "<Figure size 432x288 with 1 Axes>"
            ]
          },
          "metadata": {
            "needs_background": "light"
          }
        }
      ]
    },
    {
      "cell_type": "markdown",
      "metadata": {
        "id": "JGme7tz79G2I"
      },
      "source": [
        "####3. Absence of Multicollinearity"
      ]
    },
    {
      "cell_type": "markdown",
      "metadata": {
        "id": "NKZ1INYUAsGQ"
      },
      "source": [
        "Tested and checked during data processing stage"
      ]
    },
    {
      "cell_type": "markdown",
      "metadata": {
        "id": "1_U7qdH78-it"
      },
      "source": [
        "####4. Homoscedasticity\n"
      ]
    },
    {
      "cell_type": "markdown",
      "metadata": {
        "id": "S4C7Kr8o9Bhi"
      },
      "source": [
        "Visually inspect residuals to confirm constant variance"
      ]
    },
    {
      "cell_type": "code",
      "metadata": {
        "colab": {
          "base_uri": "https://localhost:8080/",
          "height": 265
        },
        "id": "FFB28_F3muwb",
        "outputId": "7f5201e2-b004-484c-91bb-47faeeb0d514"
      },
      "source": [
        "plt.plot(model_predictions.residuals,'o',alpha=0.5)\n",
        "plt.show()"
      ],
      "execution_count": 18,
      "outputs": [
        {
          "output_type": "display_data",
          "data": {
            "image/png": "[encoded data removed]",
            "text/plain": [
              "<Figure size 432x288 with 1 Axes>"
            ]
          },
          "metadata": {
            "needs_background": "light"
          }
        }
      ]
    },
    {
      "cell_type": "markdown",
      "metadata": {
        "id": "2Jxt2_94-QZG"
      },
      "source": [
        "####5. Absence of Autocorrelation of the residuals"
      ]
    },
    {
      "cell_type": "code",
      "metadata": {
        "colab": {
          "base_uri": "https://localhost:8080/"
        },
        "id": "ZC4Jxy_tnS0o",
        "outputId": "05f0547d-d876-45f7-f676-ace4e7ed3d21"
      },
      "source": [
        "dw = durbin_watson(model_predictions.residuals)\n",
        "print('Durbin-Watson',dw)"
      ],
      "execution_count": 19,
      "outputs": [
        {
          "output_type": "stream",
          "text": [
            "Durbin-Watson 1.8258464437080935\n"
          ],
          "name": "stdout"
        }
      ]
    },
    {
      "cell_type": "code",
      "metadata": {
        "colab": {
          "base_uri": "https://localhost:8080/"
        },
        "id": "DfZKsNaUnkgh",
        "outputId": "535b79cd-7f52-4248-dae8-71089cbc6d60"
      },
      "source": [
        "if dw < 1.5:\n",
        "        print('Positive autocorrelation', '\\n')\n",
        "elif dw > 2.5:\n",
        "        print('Negative autocorrelation', '\\n')\n",
        "else:\n",
        "        print('Little to no autocorrelation', '\\n')\n"
      ],
      "execution_count": 20,
      "outputs": [
        {
          "output_type": "stream",
          "text": [
            "Little to no autocorrelation \n",
            "\n"
          ],
          "name": "stdout"
        }
      ]
    }
  ]
}