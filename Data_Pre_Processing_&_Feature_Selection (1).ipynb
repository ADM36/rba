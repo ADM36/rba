{
  "nbformat": 4,
  "nbformat_minor": 0,
  "metadata": {
    "colab": {
      "name": "Data Pre-Processing & Feature Selection",
      "provenance": [],
      "collapsed_sections": [],
      "toc_visible": true
    },
    "kernelspec": {
      "display_name": "Python 3",
      "name": "python3"
    },
    "language_info": {
      "name": "python"
    }
  },
  "cells": [
    {
      "cell_type": "code",
      "metadata": {
        "id": "GZM9-fB7nMvK"
      },
      "source": [
        "###########################################################################\n",
        "#\n",
        "#  Copyright 2021 Google Inc.\n",
        "#\n",
        "#  Licensed under the Apache License, Version 2.0 (the \"License\");\n",
        "#  you may not use this file except in compliance with the License.\n",
        "#  You may obtain a copy of the License at\n",
        "#\n",
        "#      https://www.apache.org/licenses/LICENSE-2.0\n",
        "#\n",
        "#  Unless required by applicable law or agreed to in writing, software\n",
        "#  distributed under the License is distributed on an \"AS IS\" BASIS,\n",
        "#  WITHOUT WARRANTIES OR CONDITIONS OF ANY KIND, either express or implied.\n",
        "#  See the License for the specific language governing permissions and\n",
        "#  limitations under the License.\n",
        "#\n",
        "# This solution, including any related sample code or data, is made available \n",
        "# on an “as is,” “as available,” and “with all faults” basis, solely for \n",
        "# illustrative purposes, and without warranty or representation of any kind. \n",
        "# This solution is experimental, unsupported and provided solely for your \n",
        "# convenience. Your use of it is subject to your agreements with Google, as \n",
        "# applicable, and may constitute a beta feature as defined under those \n",
        "# agreements.  To the extent that you make any data available to Google in \n",
        "# connection with your use of the solution, you represent and warrant that you \n",
        "# have all necessary and appropriate rights, consents and permissions to permit \n",
        "# Google to use and process that data.  By using any portion of this solution, \n",
        "# you acknowledge, assume and accept all risks, known and unknown, associated \n",
        "# with its usage, including with respect to your deployment of any portion of \n",
        "# this solution in your systems, or usage in connection with your business, \n",
        "# if at all.\n",
        "###########################################################################"
      ],
      "execution_count": 1,
      "outputs": []
    },
    {
      "cell_type": "markdown",
      "metadata": {
        "id": "uh6JyZGLcEgE"
      },
      "source": [
        "### Load modules"
      ]
    },
    {
      "cell_type": "code",
      "metadata": {
        "colab": {
          "base_uri": "https://localhost:8080/"
        },
        "id": "4aupXJjFcHkq",
        "outputId": "9f23f217-1d33-4b2e-9016-558c9d1169f2"
      },
      "source": [
        "# authenication libraries for colab & bigquery tools\n",
        "from google.colab import auth\n",
        "from google.cloud import bigquery\n",
        "!pip install --upgrade -q gspread # you may see a version error on the first run - the code will still run\n",
        "import gspread\n",
        "from gspread_dataframe import set_with_dataframe\n",
        "from oauth2client.client import GoogleCredentials\n",
        "auth.authenticate_user()\n",
        "gc = gspread.authorize(GoogleCredentials.get_application_default())\n",
        "bigquery.USE_LEGACY_SQL = False\n",
        "\n",
        "# BQ Magics\n",
        "from google.cloud import bigquery\n",
        "from google.cloud.bigquery import magics\n",
        "magics.context.project = 'db-platform-sol' #list BQ project name\n",
        "client = bigquery.Client(project=magics.context.project)\n",
        "%load_ext google.cloud.bigquery\n",
        "\n",
        "# data processing libraries\n",
        "import numpy as np\n",
        "import pandas as pd\n",
        "pd.set_option('display.max_rows', None)\n",
        "pd.set_option('display.max_columns', None)\n",
        "pd.set_option('display.width', None)\n",
        "pd.set_option('display.max_colwidth', -1)\n",
        "pd.options.display.float_format = '{:.5f}'.format\n",
        "from sklearn.preprocessing import MinMaxScaler, StandardScaler, Normalizer\n",
        "from sklearn.model_selection import train_test_split\n",
        "from sklearn.feature_selection import SelectKBest, f_regression, RFE\n",
        "from sklearn.linear_model import LinearRegression\n",
        "import datetime\n",
        "\n",
        "# modeling and metrics\n",
        "from scipy.optimize import least_squares\n",
        "from statsmodels.stats.outliers_influence import variance_inflation_factor\n",
        "from statsmodels.tools.tools import add_constant\n",
        "import statsmodels.api as sm\n",
        "\n",
        "# Bayesian Package\n",
        "import pymc3 as pm\n",
        "from pymc3 import *\n",
        "print(f\"Running on PyMC3 v{pm.__version__}\")\n",
        "\n",
        "\n",
        "# Visualization\n",
        "import matplotlib.pyplot as plt\n",
        "%matplotlib inline\n",
        "import seaborn as sns\n",
        "import arviz as az"
      ],
      "execution_count": 2,
      "outputs": [
        {
          "output_type": "stream",
          "name": "stderr",
          "text": [
            "/usr/local/lib/python3.7/dist-packages/ipykernel_launcher.py:25: FutureWarning: Passing a negative integer is deprecated in version 1.0 and will not be supported in future version. Instead, use None to not limit the column width.\n",
            "/usr/local/lib/python3.7/dist-packages/statsmodels/tools/_testing.py:19: FutureWarning: pandas.util.testing is deprecated. Use the functions in the public API at pandas.testing instead.\n",
            "  import pandas.util.testing as tm\n"
          ]
        },
        {
          "output_type": "stream",
          "name": "stdout",
          "text": [
            "Running on PyMC3 v3.11.4\n"
          ]
        }
      ]
    },
    {
      "cell_type": "markdown",
      "metadata": {
        "id": "N4W_dqFdtODF"
      },
      "source": [
        "# Import Data from Sheets or BigQuery"
      ]
    },
    {
      "cell_type": "markdown",
      "metadata": {
        "id": "6lyMGFy20kuz"
      },
      "source": [
        "## From Sheets"
      ]
    },
    {
      "cell_type": "code",
      "metadata": {
        "id": "ZpRiGYaB0p75"
      },
      "source": [
        "#@title Parameters\n",
        "\n",
        "#INPUT_SHEET_NAME = 'uncleaned data' #@param {type:\"string\"}"
      ],
      "execution_count": 3,
      "outputs": []
    },
    {
      "cell_type": "code",
      "metadata": {
        "colab": {
          "base_uri": "https://localhost:8080/",
          "height": 55
        },
        "id": "lzOvOxoeFL1C",
        "outputId": "e2d2c338-9dd8-45e8-90d8-477a401d9e51"
      },
      "source": [
        "'''\n",
        "worksheet = gc.open(INPUT_SHEET_NAME).sheet1\n",
        "\n",
        "# get_all_values gives a list of rows.\n",
        "rows = worksheet.get_all_values()\n",
        "\n",
        "df=pd.DataFrame.from_records(rows)\n",
        "\n",
        "\n",
        "#get column names from first row\n",
        "df.columns = df.iloc[0]\n",
        "\n",
        "#drop row with column names\n",
        "df = df.drop(df.index[0])\n",
        "\n",
        "#reset indexes\n",
        "df = df.reset_index(drop=True)\n",
        "\n",
        "#convert numeric data to numeric types\n",
        "df = df.apply(pd.to_numeric, errors='ignore')\n",
        "'''"
      ],
      "execution_count": 4,
      "outputs": [
        {
          "output_type": "execute_result",
          "data": {
            "application/vnd.google.colaboratory.intrinsic+json": {
              "type": "string"
            },
            "text/plain": [
              "\"\\nworksheet = gc.open(INPUT_SHEET_NAME).sheet1\\n\\n# get_all_values gives a list of rows.\\nrows = worksheet.get_all_values()\\n\\ndf=pd.DataFrame.from_records(rows)\\n\\n\\n#get column names from first row\\ndf.columns = df.iloc[0]\\n\\n#drop row with column names\\ndf = df.drop(df.index[0])\\n\\n#reset indexes\\ndf = df.reset_index(drop=True)\\n\\n#convert numeric data to numeric types\\ndf = df.apply(pd.to_numeric, errors='ignore')\\n\""
            ]
          },
          "metadata": {},
          "execution_count": 4
        }
      ]
    },
    {
      "cell_type": "markdown",
      "metadata": {
        "id": "8N8-scWPc7fP"
      },
      "source": [
        "## From BigQuery"
      ]
    },
    {
      "cell_type": "code",
      "metadata": {
        "id": "j2qDV7KEsbjO"
      },
      "source": [
        "%%bigquery df\n",
        "SELECT *\n",
        "FROM `db.dataset.table`;"
      ],
      "execution_count": 5,
      "outputs": []
    },
    {
      "cell_type": "code",
      "metadata": {
        "id": "0Fj7Ja1d9HmE",
        "colab": {
          "base_uri": "https://localhost:8080/"
        },
        "outputId": "75dcb081-fafa-4b1a-ca5e-4a3e3bbafbf7"
      },
      "source": [
        "len(df.columns)"
      ],
      "execution_count": 7,
      "outputs": [
        {
          "output_type": "execute_result",
          "data": {
            "text/plain": [
              "158"
            ]
          },
          "metadata": {},
          "execution_count": 7
        }
      ]
    },
    {
      "cell_type": "markdown",
      "metadata": {
        "id": "uBmArInZ00VB"
      },
      "source": [
        "# Data Cleaning"
      ]
    },
    {
      "cell_type": "markdown",
      "metadata": {
        "id": "cdxYJiMcymod"
      },
      "source": [
        "Keep only necessary columns"
      ]
    },
    {
      "cell_type": "code",
      "metadata": {
        "id": "ADScR7s0vrd8"
      },
      "source": [
        "df = df[['day','Brand_x_Core_x_NC_clicks', 'The_Trade_Desk_x_Audio_x_AWA_imps','DBM_x_Display_x_RTG_imps', 'Amazon_x_Display_x_AWA_imps',\n",
        "         'DBM_x_Video_x_AWA_imps', 'The_Trade_Desk_x_Display_x_AWA_imps', 'Brand_x_RMKT_x_EC_clicks','OTHER_x_Display_x_AWA_imps',\n",
        "         'Amazon_x_Display_x_RTG_imps', 'DBM_x_Display_x_ACQ_imps','Oath_x_Display_x_AWA_imps', 'DBM_x_Display_x_AWA_imps', 'new_accounts']]\n",
        "         "
      ],
      "execution_count": 8,
      "outputs": []
    },
    {
      "cell_type": "code",
      "metadata": {
        "colab": {
          "base_uri": "https://localhost:8080/",
          "height": 303
        },
        "id": "UroBwhCniU6W",
        "outputId": "93104675-498c-4276-bd6d-1809d13adf53"
      },
      "source": [
        "df.head()"
      ],
      "execution_count": 9,
      "outputs": [
        {
          "output_type": "execute_result",
          "data": {
            "text/html": [
              "<div>\n",
              "<style scoped>\n",
              "    .dataframe tbody tr th:only-of-type {\n",
              "        vertical-align: middle;\n",
              "    }\n",
              "\n",
              "    .dataframe tbody tr th {\n",
              "        vertical-align: top;\n",
              "    }\n",
              "\n",
              "    .dataframe thead th {\n",
              "        text-align: right;\n",
              "    }\n",
              "</style>\n",
              "<table border=\"1\" class=\"dataframe\">\n",
              "  <thead>\n",
              "    <tr style=\"text-align: right;\">\n",
              "      <th></th>\n",
              "      <th>day</th>\n",
              "      <th>Brand_x_Core_x_NC_clicks</th>\n",
              "      <th>The_Trade_Desk_x_Audio_x_AWA_imps</th>\n",
              "      <th>DBM_x_Display_x_RTG_imps</th>\n",
              "      <th>Amazon_x_Display_x_AWA_imps</th>\n",
              "      <th>DBM_x_Video_x_AWA_imps</th>\n",
              "      <th>The_Trade_Desk_x_Display_x_AWA_imps</th>\n",
              "      <th>Brand_x_RMKT_x_EC_clicks</th>\n",
              "      <th>OTHER_x_Display_x_AWA_imps</th>\n",
              "      <th>Amazon_x_Display_x_RTG_imps</th>\n",
              "      <th>DBM_x_Display_x_ACQ_imps</th>\n",
              "      <th>Oath_x_Display_x_AWA_imps</th>\n",
              "      <th>DBM_x_Display_x_AWA_imps</th>\n",
              "      <th>new_accounts</th>\n",
              "    </tr>\n",
              "  </thead>\n",
              "  <tbody>\n",
              "    <tr>\n",
              "      <th>0</th>\n",
              "      <td>2019-03-25 00:00:00+00:00</td>\n",
              "      <td>17067</td>\n",
              "      <td>209733.00000</td>\n",
              "      <td>1735596.00000</td>\n",
              "      <td>334023.00000</td>\n",
              "      <td>1826161.00000</td>\n",
              "      <td>nan</td>\n",
              "      <td>5585</td>\n",
              "      <td>2653645.00000</td>\n",
              "      <td>3198766.00000</td>\n",
              "      <td>18284479.00000</td>\n",
              "      <td>nan</td>\n",
              "      <td>8400476.00000</td>\n",
              "      <td>1653</td>\n",
              "    </tr>\n",
              "    <tr>\n",
              "      <th>1</th>\n",
              "      <td>2018-11-29 00:00:00+00:00</td>\n",
              "      <td>13398</td>\n",
              "      <td>158747.00000</td>\n",
              "      <td>1270805.00000</td>\n",
              "      <td>801902.00000</td>\n",
              "      <td>272857.00000</td>\n",
              "      <td>nan</td>\n",
              "      <td>3807</td>\n",
              "      <td>7165284.00000</td>\n",
              "      <td>2144522.00000</td>\n",
              "      <td>4041579.00000</td>\n",
              "      <td>nan</td>\n",
              "      <td>2464305.00000</td>\n",
              "      <td>1466</td>\n",
              "    </tr>\n",
              "    <tr>\n",
              "      <th>2</th>\n",
              "      <td>2018-11-22 00:00:00+00:00</td>\n",
              "      <td>9109</td>\n",
              "      <td>103955.00000</td>\n",
              "      <td>1373478.00000</td>\n",
              "      <td>631746.00000</td>\n",
              "      <td>126028.00000</td>\n",
              "      <td>nan</td>\n",
              "      <td>2744</td>\n",
              "      <td>6705270.00000</td>\n",
              "      <td>2357421.00000</td>\n",
              "      <td>4331451.00000</td>\n",
              "      <td>nan</td>\n",
              "      <td>1292850.00000</td>\n",
              "      <td>604</td>\n",
              "    </tr>\n",
              "    <tr>\n",
              "      <th>3</th>\n",
              "      <td>2018-12-09 00:00:00+00:00</td>\n",
              "      <td>10787</td>\n",
              "      <td>166883.00000</td>\n",
              "      <td>1639503.00000</td>\n",
              "      <td>1522130.00000</td>\n",
              "      <td>287042.00000</td>\n",
              "      <td>nan</td>\n",
              "      <td>3111</td>\n",
              "      <td>9191794.00000</td>\n",
              "      <td>2792468.00000</td>\n",
              "      <td>3944924.00000</td>\n",
              "      <td>nan</td>\n",
              "      <td>2702506.00000</td>\n",
              "      <td>891</td>\n",
              "    </tr>\n",
              "    <tr>\n",
              "      <th>4</th>\n",
              "      <td>2019-03-30 00:00:00+00:00</td>\n",
              "      <td>12781</td>\n",
              "      <td>197307.00000</td>\n",
              "      <td>1369087.00000</td>\n",
              "      <td>341272.00000</td>\n",
              "      <td>1552542.00000</td>\n",
              "      <td>nan</td>\n",
              "      <td>4211</td>\n",
              "      <td>477541.00000</td>\n",
              "      <td>663885.00000</td>\n",
              "      <td>13782058.00000</td>\n",
              "      <td>nan</td>\n",
              "      <td>5689437.00000</td>\n",
              "      <td>1023</td>\n",
              "    </tr>\n",
              "  </tbody>\n",
              "</table>\n",
              "</div>"
            ],
            "text/plain": [
              "                        day  Brand_x_Core_x_NC_clicks  \\\n",
              "0 2019-03-25 00:00:00+00:00  17067                      \n",
              "1 2018-11-29 00:00:00+00:00  13398                      \n",
              "2 2018-11-22 00:00:00+00:00  9109                       \n",
              "3 2018-12-09 00:00:00+00:00  10787                      \n",
              "4 2019-03-30 00:00:00+00:00  12781                      \n",
              "\n",
              "   The_Trade_Desk_x_Audio_x_AWA_imps  DBM_x_Display_x_RTG_imps  \\\n",
              "0 209733.00000                       1735596.00000               \n",
              "1 158747.00000                       1270805.00000               \n",
              "2 103955.00000                       1373478.00000               \n",
              "3 166883.00000                       1639503.00000               \n",
              "4 197307.00000                       1369087.00000               \n",
              "\n",
              "   Amazon_x_Display_x_AWA_imps  DBM_x_Video_x_AWA_imps  \\\n",
              "0 334023.00000                 1826161.00000             \n",
              "1 801902.00000                 272857.00000              \n",
              "2 631746.00000                 126028.00000              \n",
              "3 1522130.00000                287042.00000              \n",
              "4 341272.00000                 1552542.00000             \n",
              "\n",
              "   The_Trade_Desk_x_Display_x_AWA_imps  Brand_x_RMKT_x_EC_clicks  \\\n",
              "0 nan                                   5585                       \n",
              "1 nan                                   3807                       \n",
              "2 nan                                   2744                       \n",
              "3 nan                                   3111                       \n",
              "4 nan                                   4211                       \n",
              "\n",
              "   OTHER_x_Display_x_AWA_imps  Amazon_x_Display_x_RTG_imps  \\\n",
              "0 2653645.00000               3198766.00000                  \n",
              "1 7165284.00000               2144522.00000                  \n",
              "2 6705270.00000               2357421.00000                  \n",
              "3 9191794.00000               2792468.00000                  \n",
              "4 477541.00000                663885.00000                   \n",
              "\n",
              "   DBM_x_Display_x_ACQ_imps  Oath_x_Display_x_AWA_imps  \\\n",
              "0 18284479.00000            nan                          \n",
              "1 4041579.00000             nan                          \n",
              "2 4331451.00000             nan                          \n",
              "3 3944924.00000             nan                          \n",
              "4 13782058.00000            nan                          \n",
              "\n",
              "   DBM_x_Display_x_AWA_imps  new_accounts  \n",
              "0 8400476.00000              1653          \n",
              "1 2464305.00000              1466          \n",
              "2 1292850.00000              604           \n",
              "3 2702506.00000              891           \n",
              "4 5689437.00000              1023          "
            ]
          },
          "metadata": {},
          "execution_count": 9
        }
      ]
    },
    {
      "cell_type": "code",
      "metadata": {
        "colab": {
          "base_uri": "https://localhost:8080/",
          "height": 313
        },
        "id": "-DSBHyh1lpFU",
        "outputId": "370072e4-c055-431f-836f-add778e8f4d9"
      },
      "source": [
        "df.describe()"
      ],
      "execution_count": 10,
      "outputs": [
        {
          "output_type": "execute_result",
          "data": {
            "text/html": [
              "<div>\n",
              "<style scoped>\n",
              "    .dataframe tbody tr th:only-of-type {\n",
              "        vertical-align: middle;\n",
              "    }\n",
              "\n",
              "    .dataframe tbody tr th {\n",
              "        vertical-align: top;\n",
              "    }\n",
              "\n",
              "    .dataframe thead th {\n",
              "        text-align: right;\n",
              "    }\n",
              "</style>\n",
              "<table border=\"1\" class=\"dataframe\">\n",
              "  <thead>\n",
              "    <tr style=\"text-align: right;\">\n",
              "      <th></th>\n",
              "      <th>Brand_x_Core_x_NC_clicks</th>\n",
              "      <th>The_Trade_Desk_x_Audio_x_AWA_imps</th>\n",
              "      <th>DBM_x_Display_x_RTG_imps</th>\n",
              "      <th>Amazon_x_Display_x_AWA_imps</th>\n",
              "      <th>DBM_x_Video_x_AWA_imps</th>\n",
              "      <th>The_Trade_Desk_x_Display_x_AWA_imps</th>\n",
              "      <th>Brand_x_RMKT_x_EC_clicks</th>\n",
              "      <th>OTHER_x_Display_x_AWA_imps</th>\n",
              "      <th>Amazon_x_Display_x_RTG_imps</th>\n",
              "      <th>DBM_x_Display_x_ACQ_imps</th>\n",
              "      <th>Oath_x_Display_x_AWA_imps</th>\n",
              "      <th>DBM_x_Display_x_AWA_imps</th>\n",
              "      <th>new_accounts</th>\n",
              "    </tr>\n",
              "  </thead>\n",
              "  <tbody>\n",
              "    <tr>\n",
              "      <th>count</th>\n",
              "      <td>607.00000</td>\n",
              "      <td>395.00000</td>\n",
              "      <td>607.00000</td>\n",
              "      <td>537.00000</td>\n",
              "      <td>476.00000</td>\n",
              "      <td>150.00000</td>\n",
              "      <td>607.00000</td>\n",
              "      <td>607.00000</td>\n",
              "      <td>293.00000</td>\n",
              "      <td>567.00000</td>\n",
              "      <td>306.00000</td>\n",
              "      <td>572.00000</td>\n",
              "      <td>607.00000</td>\n",
              "    </tr>\n",
              "    <tr>\n",
              "      <th>mean</th>\n",
              "      <td>14329.43657</td>\n",
              "      <td>138307.91392</td>\n",
              "      <td>1467573.37562</td>\n",
              "      <td>474110.74674</td>\n",
              "      <td>478383.54832</td>\n",
              "      <td>90717.64667</td>\n",
              "      <td>6327.87644</td>\n",
              "      <td>2937961.65898</td>\n",
              "      <td>1767362.44710</td>\n",
              "      <td>4132429.98765</td>\n",
              "      <td>130004.89869</td>\n",
              "      <td>2057108.87413</td>\n",
              "      <td>1500.76277</td>\n",
              "    </tr>\n",
              "    <tr>\n",
              "      <th>std</th>\n",
              "      <td>2300.49043</td>\n",
              "      <td>123622.33399</td>\n",
              "      <td>481990.16535</td>\n",
              "      <td>654060.49468</td>\n",
              "      <td>439662.93621</td>\n",
              "      <td>77732.09721</td>\n",
              "      <td>2882.91855</td>\n",
              "      <td>2793634.29831</td>\n",
              "      <td>754953.49592</td>\n",
              "      <td>3812731.33632</td>\n",
              "      <td>84298.19283</td>\n",
              "      <td>2146889.03455</td>\n",
              "      <td>459.59147</td>\n",
              "    </tr>\n",
              "    <tr>\n",
              "      <th>min</th>\n",
              "      <td>7894.00000</td>\n",
              "      <td>6.00000</td>\n",
              "      <td>135172.00000</td>\n",
              "      <td>0.00000</td>\n",
              "      <td>0.00000</td>\n",
              "      <td>1.00000</td>\n",
              "      <td>2327.00000</td>\n",
              "      <td>139.00000</td>\n",
              "      <td>96.00000</td>\n",
              "      <td>0.00000</td>\n",
              "      <td>1.00000</td>\n",
              "      <td>8.00000</td>\n",
              "      <td>365.00000</td>\n",
              "    </tr>\n",
              "    <tr>\n",
              "      <th>25%</th>\n",
              "      <td>12746.00000</td>\n",
              "      <td>42645.50000</td>\n",
              "      <td>1323660.50000</td>\n",
              "      <td>27.00000</td>\n",
              "      <td>86555.75000</td>\n",
              "      <td>21510.00000</td>\n",
              "      <td>4073.00000</td>\n",
              "      <td>647711.50000</td>\n",
              "      <td>1329150.00000</td>\n",
              "      <td>2172631.00000</td>\n",
              "      <td>68846.00000</td>\n",
              "      <td>345110.25000</td>\n",
              "      <td>1174.00000</td>\n",
              "    </tr>\n",
              "    <tr>\n",
              "      <th>50%</th>\n",
              "      <td>14275.00000</td>\n",
              "      <td>106497.00000</td>\n",
              "      <td>1557938.00000</td>\n",
              "      <td>176869.00000</td>\n",
              "      <td>351108.50000</td>\n",
              "      <td>79376.00000</td>\n",
              "      <td>5298.00000</td>\n",
              "      <td>1611886.00000</td>\n",
              "      <td>1694250.00000</td>\n",
              "      <td>2895521.00000</td>\n",
              "      <td>117287.50000</td>\n",
              "      <td>1318603.00000</td>\n",
              "      <td>1478.00000</td>\n",
              "    </tr>\n",
              "    <tr>\n",
              "      <th>75%</th>\n",
              "      <td>15913.00000</td>\n",
              "      <td>194462.50000</td>\n",
              "      <td>1750653.50000</td>\n",
              "      <td>727563.00000</td>\n",
              "      <td>758465.75000</td>\n",
              "      <td>157358.50000</td>\n",
              "      <td>8145.00000</td>\n",
              "      <td>5092391.50000</td>\n",
              "      <td>2162229.00000</td>\n",
              "      <td>4644683.50000</td>\n",
              "      <td>196004.00000</td>\n",
              "      <td>2638520.00000</td>\n",
              "      <td>1697.00000</td>\n",
              "    </tr>\n",
              "    <tr>\n",
              "      <th>max</th>\n",
              "      <td>21552.00000</td>\n",
              "      <td>786651.00000</td>\n",
              "      <td>2433525.00000</td>\n",
              "      <td>2859646.00000</td>\n",
              "      <td>2889383.00000</td>\n",
              "      <td>319197.00000</td>\n",
              "      <td>16450.00000</td>\n",
              "      <td>10345069.00000</td>\n",
              "      <td>4003753.00000</td>\n",
              "      <td>20506222.00000</td>\n",
              "      <td>395993.00000</td>\n",
              "      <td>8800172.00000</td>\n",
              "      <td>3011.00000</td>\n",
              "    </tr>\n",
              "  </tbody>\n",
              "</table>\n",
              "</div>"
            ],
            "text/plain": [
              "       Brand_x_Core_x_NC_clicks  The_Trade_Desk_x_Audio_x_AWA_imps  \\\n",
              "count 607.00000                 395.00000                            \n",
              "mean  14329.43657               138307.91392                         \n",
              "std   2300.49043                123622.33399                         \n",
              "min   7894.00000                6.00000                              \n",
              "25%   12746.00000               42645.50000                          \n",
              "50%   14275.00000               106497.00000                         \n",
              "75%   15913.00000               194462.50000                         \n",
              "max   21552.00000               786651.00000                         \n",
              "\n",
              "       DBM_x_Display_x_RTG_imps  Amazon_x_Display_x_AWA_imps  \\\n",
              "count 607.00000                 537.00000                      \n",
              "mean  1467573.37562             474110.74674                   \n",
              "std   481990.16535              654060.49468                   \n",
              "min   135172.00000              0.00000                        \n",
              "25%   1323660.50000             27.00000                       \n",
              "50%   1557938.00000             176869.00000                   \n",
              "75%   1750653.50000             727563.00000                   \n",
              "max   2433525.00000             2859646.00000                  \n",
              "\n",
              "       DBM_x_Video_x_AWA_imps  The_Trade_Desk_x_Display_x_AWA_imps  \\\n",
              "count 476.00000               150.00000                              \n",
              "mean  478383.54832            90717.64667                            \n",
              "std   439662.93621            77732.09721                            \n",
              "min   0.00000                 1.00000                                \n",
              "25%   86555.75000             21510.00000                            \n",
              "50%   351108.50000            79376.00000                            \n",
              "75%   758465.75000            157358.50000                           \n",
              "max   2889383.00000           319197.00000                           \n",
              "\n",
              "       Brand_x_RMKT_x_EC_clicks  OTHER_x_Display_x_AWA_imps  \\\n",
              "count 607.00000                 607.00000                     \n",
              "mean  6327.87644                2937961.65898                 \n",
              "std   2882.91855                2793634.29831                 \n",
              "min   2327.00000                139.00000                     \n",
              "25%   4073.00000                647711.50000                  \n",
              "50%   5298.00000                1611886.00000                 \n",
              "75%   8145.00000                5092391.50000                 \n",
              "max   16450.00000               10345069.00000                \n",
              "\n",
              "       Amazon_x_Display_x_RTG_imps  DBM_x_Display_x_ACQ_imps  \\\n",
              "count 293.00000                    567.00000                   \n",
              "mean  1767362.44710                4132429.98765               \n",
              "std   754953.49592                 3812731.33632               \n",
              "min   96.00000                     0.00000                     \n",
              "25%   1329150.00000                2172631.00000               \n",
              "50%   1694250.00000                2895521.00000               \n",
              "75%   2162229.00000                4644683.50000               \n",
              "max   4003753.00000                20506222.00000              \n",
              "\n",
              "       Oath_x_Display_x_AWA_imps  DBM_x_Display_x_AWA_imps  new_accounts  \n",
              "count 306.00000                  572.00000                 607.00000      \n",
              "mean  130004.89869               2057108.87413             1500.76277     \n",
              "std   84298.19283                2146889.03455             459.59147      \n",
              "min   1.00000                    8.00000                   365.00000      \n",
              "25%   68846.00000                345110.25000              1174.00000     \n",
              "50%   117287.50000               1318603.00000             1478.00000     \n",
              "75%   196004.00000               2638520.00000             1697.00000     \n",
              "max   395993.00000               8800172.00000             3011.00000     "
            ]
          },
          "metadata": {},
          "execution_count": 10
        }
      ]
    },
    {
      "cell_type": "code",
      "metadata": {
        "colab": {
          "base_uri": "https://localhost:8080/"
        },
        "id": "vLlR_gz1NYB8",
        "outputId": "1e4eb98a-a532-4272-9654-f22e808eea59"
      },
      "source": [
        "df.sum()"
      ],
      "execution_count": 11,
      "outputs": [
        {
          "output_type": "execute_result",
          "data": {
            "text/plain": [
              "Brand_x_Core_x_NC_clicks              8697968.00000   \n",
              "The_Trade_Desk_x_Audio_x_AWA_imps     54631626.00000  \n",
              "DBM_x_Display_x_RTG_imps              890817039.00000 \n",
              "Amazon_x_Display_x_AWA_imps           254597471.00000 \n",
              "DBM_x_Video_x_AWA_imps                227710569.00000 \n",
              "The_Trade_Desk_x_Display_x_AWA_imps   13607647.00000  \n",
              "Brand_x_RMKT_x_EC_clicks              3841021.00000   \n",
              "OTHER_x_Display_x_AWA_imps            1783342727.00000\n",
              "Amazon_x_Display_x_RTG_imps           517837197.00000 \n",
              "DBM_x_Display_x_ACQ_imps              2343087803.00000\n",
              "Oath_x_Display_x_AWA_imps             39781499.00000  \n",
              "DBM_x_Display_x_AWA_imps              1176666276.00000\n",
              "new_accounts                          910963.00000    \n",
              "dtype: float64"
            ]
          },
          "metadata": {},
          "execution_count": 11
        }
      ]
    },
    {
      "cell_type": "markdown",
      "metadata": {
        "id": "1Bfetmm51Kcv"
      },
      "source": [
        "## Step 1: Handling Missing Data"
      ]
    },
    {
      "cell_type": "code",
      "metadata": {
        "id": "DuVFwXoa1AHY",
        "colab": {
          "base_uri": "https://localhost:8080/"
        },
        "outputId": "05bcbf98-f25d-419a-9cd2-285d3d5448bd"
      },
      "source": [
        "# Determine number of missing values\n",
        "missing_values = 100*df.isnull().sum()/len(df)\n",
        "missing_values.sort_values(ascending = False)"
      ],
      "execution_count": 12,
      "outputs": [
        {
          "output_type": "execute_result",
          "data": {
            "text/plain": [
              "The_Trade_Desk_x_Display_x_AWA_imps   75.28830\n",
              "Amazon_x_Display_x_RTG_imps           51.72982\n",
              "Oath_x_Display_x_AWA_imps             49.58814\n",
              "The_Trade_Desk_x_Audio_x_AWA_imps     34.92586\n",
              "DBM_x_Video_x_AWA_imps                21.58155\n",
              "Amazon_x_Display_x_AWA_imps           11.53213\n",
              "DBM_x_Display_x_ACQ_imps              6.58979 \n",
              "DBM_x_Display_x_AWA_imps              5.76606 \n",
              "new_accounts                          0.00000 \n",
              "OTHER_x_Display_x_AWA_imps            0.00000 \n",
              "Brand_x_RMKT_x_EC_clicks              0.00000 \n",
              "DBM_x_Display_x_RTG_imps              0.00000 \n",
              "Brand_x_Core_x_NC_clicks              0.00000 \n",
              "day                                   0.00000 \n",
              "dtype: float64"
            ]
          },
          "metadata": {},
          "execution_count": 12
        }
      ]
    },
    {
      "cell_type": "code",
      "metadata": {
        "id": "EJ9lADds1L9R",
        "colab": {
          "base_uri": "https://localhost:8080/"
        },
        "outputId": "b50596a4-4250-4797-c7e1-755f36d92236"
      },
      "source": [
        "# Determine percent of zeros by column\n",
        "num_zeros = (100*df[df == 0].count(axis=0)/len(df.index))\n",
        "num_zeros.sort_values(ascending = False)"
      ],
      "execution_count": 13,
      "outputs": [
        {
          "output_type": "execute_result",
          "data": {
            "text/plain": [
              "DBM_x_Video_x_AWA_imps                1.31796\n",
              "DBM_x_Display_x_ACQ_imps              0.16474\n",
              "Amazon_x_Display_x_AWA_imps           0.16474\n",
              "new_accounts                          0.00000\n",
              "DBM_x_Display_x_AWA_imps              0.00000\n",
              "Oath_x_Display_x_AWA_imps             0.00000\n",
              "Amazon_x_Display_x_RTG_imps           0.00000\n",
              "OTHER_x_Display_x_AWA_imps            0.00000\n",
              "Brand_x_RMKT_x_EC_clicks              0.00000\n",
              "The_Trade_Desk_x_Display_x_AWA_imps   0.00000\n",
              "DBM_x_Display_x_RTG_imps              0.00000\n",
              "The_Trade_Desk_x_Audio_x_AWA_imps     0.00000\n",
              "Brand_x_Core_x_NC_clicks              0.00000\n",
              "day                                   0.00000\n",
              "dtype: float64"
            ]
          },
          "metadata": {},
          "execution_count": 13
        }
      ]
    },
    {
      "cell_type": "markdown",
      "metadata": {
        "id": "1pLE74Qo1ffJ"
      },
      "source": [
        "### Option to drop columns with high percentage of missing data"
      ]
    },
    {
      "cell_type": "code",
      "metadata": {
        "id": "3OAUSX392UDb"
      },
      "source": [
        "#@title Set threshold for missing data\n",
        "\n",
        "remove_missing_vals = \"No\" #@param {type: \"string\"}\n",
        "missing_value_threshold = 100 #@param {type:\"integer\"}\n"
      ],
      "execution_count": 14,
      "outputs": []
    },
    {
      "cell_type": "code",
      "metadata": {
        "id": "-yAPjtKy1dG9",
        "colab": {
          "base_uri": "https://localhost:8080/"
        },
        "outputId": "94851869-6f5c-43bd-ff1e-4b4f3ef4c334"
      },
      "source": [
        "missing_value_threshold_cols = []\n",
        "\n",
        "if remove_missing_vals == \"Yes\":\n",
        "  for i in missing_values[missing_values >= missing_value_threshold].index:\n",
        "    missing_value_threshold_cols += i\n",
        "    df.drop(columns = i, inplace = True)\n",
        "else:\n",
        "  print('No columns dropped')\n",
        "\n",
        "print('Remaining columns:',df.columns)"
      ],
      "execution_count": 15,
      "outputs": [
        {
          "output_type": "stream",
          "name": "stdout",
          "text": [
            "No columns dropped\n",
            "Remaining columns: Index(['day', 'Brand_x_Core_x_NC_clicks', 'The_Trade_Desk_x_Audio_x_AWA_imps',\n",
            "       'DBM_x_Display_x_RTG_imps', 'Amazon_x_Display_x_AWA_imps',\n",
            "       'DBM_x_Video_x_AWA_imps', 'The_Trade_Desk_x_Display_x_AWA_imps',\n",
            "       'Brand_x_RMKT_x_EC_clicks', 'OTHER_x_Display_x_AWA_imps',\n",
            "       'Amazon_x_Display_x_RTG_imps', 'DBM_x_Display_x_ACQ_imps',\n",
            "       'Oath_x_Display_x_AWA_imps', 'DBM_x_Display_x_AWA_imps',\n",
            "       'new_accounts'],\n",
            "      dtype='object')\n"
          ]
        }
      ]
    },
    {
      "cell_type": "markdown",
      "metadata": {
        "id": "smR6v9y_yrga"
      },
      "source": [
        "### Imputing Missing Data"
      ]
    },
    {
      "cell_type": "code",
      "metadata": {
        "id": "N4XxKiMJ1lzv"
      },
      "source": [
        "#@title Define Imputation Method\n",
        "\n",
        "# Imputation Method: Mean value, Median Value, Zero\n",
        "imputation_method = 'Zero' #@param {type:\"string\"}\n"
      ],
      "execution_count": 16,
      "outputs": []
    },
    {
      "cell_type": "code",
      "metadata": {
        "id": "P9zrZIVz1oyC"
      },
      "source": [
        "if imputation_method == 'mean value':\n",
        "  df.fillna(df.mean(), inplace = True)\n",
        "elif imputation_method == 'median value':\n",
        "  df.fillna(df.median(), inplace = True)\n",
        "else:\n",
        "  df.fillna(0, inplace = True)\n"
      ],
      "execution_count": 17,
      "outputs": []
    },
    {
      "cell_type": "markdown",
      "metadata": {
        "id": "9er7BC0FlfIz"
      },
      "source": [
        "### Identify & drop columns with all 0's \n"
      ]
    },
    {
      "cell_type": "markdown",
      "metadata": {
        "id": "CQId5QQu3pwN"
      },
      "source": [
        "Constant variance violates model assumptions\n",
        "\n",
        "The goal of printing the null_list below is to check alignment with the media buy."
      ]
    },
    {
      "cell_type": "code",
      "metadata": {
        "id": "sXnDK0U8lXcL",
        "colab": {
          "base_uri": "https://localhost:8080/"
        },
        "outputId": "f39b81ef-70ea-4cf5-c74c-616b13a0878b"
      },
      "source": [
        "# Identify columns with all 0's\n",
        "col_nulls = df.loc[:, (df == 0).all()]\n",
        "null_list = list(col_nulls.columns) \n",
        "null_list # check alignment with media buy \n",
        "\n",
        "# Drop columns with all 0's\n",
        "df.drop(null_list, axis=1, inplace=True)\n",
        "print(\"Columns dropped\")"
      ],
      "execution_count": 18,
      "outputs": [
        {
          "output_type": "stream",
          "name": "stdout",
          "text": [
            "Columns dropped\n"
          ]
        }
      ]
    },
    {
      "cell_type": "markdown",
      "metadata": {
        "id": "qtcr2IYbmG4E"
      },
      "source": [
        "## Step 2: Define date and Y (KPI column), create initial feature set"
      ]
    },
    {
      "cell_type": "code",
      "metadata": {
        "id": "OjJzWX6ulXYt"
      },
      "source": [
        "#@title Input column names for date (ex: \"day\") and Y (ex: \"new_accounts\" or \"sales\") \n",
        "\n",
        "DATE_COL = \"day\" #@param {type: \"string\"}\n",
        "KPI_COL = \"new_accounts\" #@param {type: \"string\"}\n"
      ],
      "execution_count": 19,
      "outputs": []
    },
    {
      "cell_type": "code",
      "metadata": {
        "id": "dSSreYzPlXVz"
      },
      "source": [
        "cols = [col for col in df.columns]\n",
        "featureset_df = df[cols]\n",
        "featureset_df = featureset_df.loc[:, (featureset_df != 0).any(axis=0)]"
      ],
      "execution_count": 20,
      "outputs": []
    },
    {
      "cell_type": "markdown",
      "metadata": {
        "id": "LE0Prw-gmXBs"
      },
      "source": [
        "#Feature Selection"
      ]
    },
    {
      "cell_type": "markdown",
      "metadata": {
        "id": "qT5U3g8AmpLl"
      },
      "source": [
        "Note: A **max of 50 features** is recommended for 24 months of data due to risk of overfitting. \n",
        "\n",
        "1. **Step 1**: run correlation analysis & output pos/neg coefficients above specified threshold\n",
        "\n",
        "2. **Step 2**: run variance inflation factor analysis & output results to flag multicollinearity above specified threshold \n",
        "\n",
        "3. checkpoint to update the INITIAL design of features if multicollinearity is an issue\n",
        "\n",
        "4. **Step 3**: perform multivariate testing to FINALIZE feature selection / data reduction (see optional section below for advanced feature selection if you have more than 50 inputs)\n",
        " \n"
      ]
    },
    {
      "cell_type": "markdown",
      "metadata": {
        "id": "sG3dGCOLm4F9"
      },
      "source": [
        "## Step 1: Run correlation analysis & filter to positive coefficients > the specified threshold"
      ]
    },
    {
      "cell_type": "code",
      "metadata": {
        "id": "DxOaH_6IlXS8"
      },
      "source": [
        "#@title Input correlation threshold for output (must be between 0 and 1)\n",
        "\n",
        "THRESHOLD_1 =  .6 #@param {type: \"number\"}"
      ],
      "execution_count": 21,
      "outputs": []
    },
    {
      "cell_type": "code",
      "metadata": {
        "id": "hDSFVTDAlXLi",
        "colab": {
          "base_uri": "https://localhost:8080/",
          "height": 465
        },
        "outputId": "41f5538e-2126-4919-d814-93914aa23398"
      },
      "source": [
        "correl = df.corr()\n",
        "correl"
      ],
      "execution_count": 22,
      "outputs": [
        {
          "output_type": "execute_result",
          "data": {
            "text/html": [
              "<div>\n",
              "<style scoped>\n",
              "    .dataframe tbody tr th:only-of-type {\n",
              "        vertical-align: middle;\n",
              "    }\n",
              "\n",
              "    .dataframe tbody tr th {\n",
              "        vertical-align: top;\n",
              "    }\n",
              "\n",
              "    .dataframe thead th {\n",
              "        text-align: right;\n",
              "    }\n",
              "</style>\n",
              "<table border=\"1\" class=\"dataframe\">\n",
              "  <thead>\n",
              "    <tr style=\"text-align: right;\">\n",
              "      <th></th>\n",
              "      <th>Brand_x_Core_x_NC_clicks</th>\n",
              "      <th>The_Trade_Desk_x_Audio_x_AWA_imps</th>\n",
              "      <th>DBM_x_Display_x_RTG_imps</th>\n",
              "      <th>Amazon_x_Display_x_AWA_imps</th>\n",
              "      <th>DBM_x_Video_x_AWA_imps</th>\n",
              "      <th>The_Trade_Desk_x_Display_x_AWA_imps</th>\n",
              "      <th>Brand_x_RMKT_x_EC_clicks</th>\n",
              "      <th>OTHER_x_Display_x_AWA_imps</th>\n",
              "      <th>Amazon_x_Display_x_RTG_imps</th>\n",
              "      <th>DBM_x_Display_x_ACQ_imps</th>\n",
              "      <th>Oath_x_Display_x_AWA_imps</th>\n",
              "      <th>DBM_x_Display_x_AWA_imps</th>\n",
              "      <th>new_accounts</th>\n",
              "    </tr>\n",
              "  </thead>\n",
              "  <tbody>\n",
              "    <tr>\n",
              "      <th>Brand_x_Core_x_NC_clicks</th>\n",
              "      <td>1.00000</td>\n",
              "      <td>-0.10349</td>\n",
              "      <td>0.07583</td>\n",
              "      <td>0.12557</td>\n",
              "      <td>0.09429</td>\n",
              "      <td>0.06766</td>\n",
              "      <td>0.44381</td>\n",
              "      <td>-0.10055</td>\n",
              "      <td>-0.07087</td>\n",
              "      <td>0.01486</td>\n",
              "      <td>0.15251</td>\n",
              "      <td>0.04467</td>\n",
              "      <td>0.68340</td>\n",
              "    </tr>\n",
              "    <tr>\n",
              "      <th>The_Trade_Desk_x_Audio_x_AWA_imps</th>\n",
              "      <td>-0.10349</td>\n",
              "      <td>1.00000</td>\n",
              "      <td>0.19381</td>\n",
              "      <td>-0.18746</td>\n",
              "      <td>0.36619</td>\n",
              "      <td>-0.19394</td>\n",
              "      <td>-0.50229</td>\n",
              "      <td>0.41651</td>\n",
              "      <td>0.65421</td>\n",
              "      <td>0.76126</td>\n",
              "      <td>-0.43545</td>\n",
              "      <td>0.78423</td>\n",
              "      <td>-0.18796</td>\n",
              "    </tr>\n",
              "    <tr>\n",
              "      <th>DBM_x_Display_x_RTG_imps</th>\n",
              "      <td>0.07583</td>\n",
              "      <td>0.19381</td>\n",
              "      <td>1.00000</td>\n",
              "      <td>0.12903</td>\n",
              "      <td>0.24075</td>\n",
              "      <td>-0.01182</td>\n",
              "      <td>-0.30652</td>\n",
              "      <td>0.16185</td>\n",
              "      <td>0.19630</td>\n",
              "      <td>0.15366</td>\n",
              "      <td>-0.00670</td>\n",
              "      <td>0.22074</td>\n",
              "      <td>0.25310</td>\n",
              "    </tr>\n",
              "    <tr>\n",
              "      <th>Amazon_x_Display_x_AWA_imps</th>\n",
              "      <td>0.12557</td>\n",
              "      <td>-0.18746</td>\n",
              "      <td>0.12903</td>\n",
              "      <td>1.00000</td>\n",
              "      <td>0.31030</td>\n",
              "      <td>-0.15333</td>\n",
              "      <td>0.00877</td>\n",
              "      <td>0.07212</td>\n",
              "      <td>0.11044</td>\n",
              "      <td>-0.11008</td>\n",
              "      <td>-0.10501</td>\n",
              "      <td>-0.04924</td>\n",
              "      <td>0.28682</td>\n",
              "    </tr>\n",
              "    <tr>\n",
              "      <th>DBM_x_Video_x_AWA_imps</th>\n",
              "      <td>0.09429</td>\n",
              "      <td>0.36619</td>\n",
              "      <td>0.24075</td>\n",
              "      <td>0.31030</td>\n",
              "      <td>1.00000</td>\n",
              "      <td>0.08002</td>\n",
              "      <td>-0.39212</td>\n",
              "      <td>0.28841</td>\n",
              "      <td>0.47235</td>\n",
              "      <td>0.57301</td>\n",
              "      <td>-0.30748</td>\n",
              "      <td>0.64754</td>\n",
              "      <td>0.24206</td>\n",
              "    </tr>\n",
              "    <tr>\n",
              "      <th>The_Trade_Desk_x_Display_x_AWA_imps</th>\n",
              "      <td>0.06766</td>\n",
              "      <td>-0.19394</td>\n",
              "      <td>-0.01182</td>\n",
              "      <td>-0.15333</td>\n",
              "      <td>0.08002</td>\n",
              "      <td>1.00000</td>\n",
              "      <td>0.04726</td>\n",
              "      <td>-0.23013</td>\n",
              "      <td>-0.33928</td>\n",
              "      <td>-0.13461</td>\n",
              "      <td>0.16247</td>\n",
              "      <td>-0.18353</td>\n",
              "      <td>0.31561</td>\n",
              "    </tr>\n",
              "    <tr>\n",
              "      <th>Brand_x_RMKT_x_EC_clicks</th>\n",
              "      <td>0.44381</td>\n",
              "      <td>-0.50229</td>\n",
              "      <td>-0.30652</td>\n",
              "      <td>0.00877</td>\n",
              "      <td>-0.39212</td>\n",
              "      <td>0.04726</td>\n",
              "      <td>1.00000</td>\n",
              "      <td>-0.51515</td>\n",
              "      <td>-0.60301</td>\n",
              "      <td>-0.36747</td>\n",
              "      <td>0.54729</td>\n",
              "      <td>-0.47622</td>\n",
              "      <td>0.12050</td>\n",
              "    </tr>\n",
              "    <tr>\n",
              "      <th>OTHER_x_Display_x_AWA_imps</th>\n",
              "      <td>-0.10055</td>\n",
              "      <td>0.41651</td>\n",
              "      <td>0.16185</td>\n",
              "      <td>0.07212</td>\n",
              "      <td>0.28841</td>\n",
              "      <td>-0.23013</td>\n",
              "      <td>-0.51515</td>\n",
              "      <td>1.00000</td>\n",
              "      <td>0.74263</td>\n",
              "      <td>0.43128</td>\n",
              "      <td>-0.49276</td>\n",
              "      <td>0.51041</td>\n",
              "      <td>-0.17060</td>\n",
              "    </tr>\n",
              "    <tr>\n",
              "      <th>Amazon_x_Display_x_RTG_imps</th>\n",
              "      <td>-0.07087</td>\n",
              "      <td>0.65421</td>\n",
              "      <td>0.19630</td>\n",
              "      <td>0.11044</td>\n",
              "      <td>0.47235</td>\n",
              "      <td>-0.33928</td>\n",
              "      <td>-0.60301</td>\n",
              "      <td>0.74263</td>\n",
              "      <td>1.00000</td>\n",
              "      <td>0.67899</td>\n",
              "      <td>-0.61677</td>\n",
              "      <td>0.71899</td>\n",
              "      <td>-0.13047</td>\n",
              "    </tr>\n",
              "    <tr>\n",
              "      <th>DBM_x_Display_x_ACQ_imps</th>\n",
              "      <td>0.01486</td>\n",
              "      <td>0.76126</td>\n",
              "      <td>0.15366</td>\n",
              "      <td>-0.11008</td>\n",
              "      <td>0.57301</td>\n",
              "      <td>-0.13461</td>\n",
              "      <td>-0.36747</td>\n",
              "      <td>0.43128</td>\n",
              "      <td>0.67899</td>\n",
              "      <td>1.00000</td>\n",
              "      <td>-0.38780</td>\n",
              "      <td>0.86056</td>\n",
              "      <td>-0.07472</td>\n",
              "    </tr>\n",
              "    <tr>\n",
              "      <th>Oath_x_Display_x_AWA_imps</th>\n",
              "      <td>0.15251</td>\n",
              "      <td>-0.43545</td>\n",
              "      <td>-0.00670</td>\n",
              "      <td>-0.10501</td>\n",
              "      <td>-0.30748</td>\n",
              "      <td>0.16247</td>\n",
              "      <td>0.54729</td>\n",
              "      <td>-0.49276</td>\n",
              "      <td>-0.61677</td>\n",
              "      <td>-0.38780</td>\n",
              "      <td>1.00000</td>\n",
              "      <td>-0.48670</td>\n",
              "      <td>0.16972</td>\n",
              "    </tr>\n",
              "    <tr>\n",
              "      <th>DBM_x_Display_x_AWA_imps</th>\n",
              "      <td>0.04467</td>\n",
              "      <td>0.78423</td>\n",
              "      <td>0.22074</td>\n",
              "      <td>-0.04924</td>\n",
              "      <td>0.64754</td>\n",
              "      <td>-0.18353</td>\n",
              "      <td>-0.47622</td>\n",
              "      <td>0.51041</td>\n",
              "      <td>0.71899</td>\n",
              "      <td>0.86056</td>\n",
              "      <td>-0.48670</td>\n",
              "      <td>1.00000</td>\n",
              "      <td>-0.11155</td>\n",
              "    </tr>\n",
              "    <tr>\n",
              "      <th>new_accounts</th>\n",
              "      <td>0.68340</td>\n",
              "      <td>-0.18796</td>\n",
              "      <td>0.25310</td>\n",
              "      <td>0.28682</td>\n",
              "      <td>0.24206</td>\n",
              "      <td>0.31561</td>\n",
              "      <td>0.12050</td>\n",
              "      <td>-0.17060</td>\n",
              "      <td>-0.13047</td>\n",
              "      <td>-0.07472</td>\n",
              "      <td>0.16972</td>\n",
              "      <td>-0.11155</td>\n",
              "      <td>1.00000</td>\n",
              "    </tr>\n",
              "  </tbody>\n",
              "</table>\n",
              "</div>"
            ],
            "text/plain": [
              "                                     Brand_x_Core_x_NC_clicks  \\\n",
              "Brand_x_Core_x_NC_clicks            1.00000                     \n",
              "The_Trade_Desk_x_Audio_x_AWA_imps   -0.10349                    \n",
              "DBM_x_Display_x_RTG_imps            0.07583                     \n",
              "Amazon_x_Display_x_AWA_imps         0.12557                     \n",
              "DBM_x_Video_x_AWA_imps              0.09429                     \n",
              "The_Trade_Desk_x_Display_x_AWA_imps 0.06766                     \n",
              "Brand_x_RMKT_x_EC_clicks            0.44381                     \n",
              "OTHER_x_Display_x_AWA_imps          -0.10055                    \n",
              "Amazon_x_Display_x_RTG_imps         -0.07087                    \n",
              "DBM_x_Display_x_ACQ_imps            0.01486                     \n",
              "Oath_x_Display_x_AWA_imps           0.15251                     \n",
              "DBM_x_Display_x_AWA_imps            0.04467                     \n",
              "new_accounts                        0.68340                     \n",
              "\n",
              "                                     The_Trade_Desk_x_Audio_x_AWA_imps  \\\n",
              "Brand_x_Core_x_NC_clicks            -0.10349                             \n",
              "The_Trade_Desk_x_Audio_x_AWA_imps   1.00000                              \n",
              "DBM_x_Display_x_RTG_imps            0.19381                              \n",
              "Amazon_x_Display_x_AWA_imps         -0.18746                             \n",
              "DBM_x_Video_x_AWA_imps              0.36619                              \n",
              "The_Trade_Desk_x_Display_x_AWA_imps -0.19394                             \n",
              "Brand_x_RMKT_x_EC_clicks            -0.50229                             \n",
              "OTHER_x_Display_x_AWA_imps          0.41651                              \n",
              "Amazon_x_Display_x_RTG_imps         0.65421                              \n",
              "DBM_x_Display_x_ACQ_imps            0.76126                              \n",
              "Oath_x_Display_x_AWA_imps           -0.43545                             \n",
              "DBM_x_Display_x_AWA_imps            0.78423                              \n",
              "new_accounts                        -0.18796                             \n",
              "\n",
              "                                     DBM_x_Display_x_RTG_imps  \\\n",
              "Brand_x_Core_x_NC_clicks            0.07583                     \n",
              "The_Trade_Desk_x_Audio_x_AWA_imps   0.19381                     \n",
              "DBM_x_Display_x_RTG_imps            1.00000                     \n",
              "Amazon_x_Display_x_AWA_imps         0.12903                     \n",
              "DBM_x_Video_x_AWA_imps              0.24075                     \n",
              "The_Trade_Desk_x_Display_x_AWA_imps -0.01182                    \n",
              "Brand_x_RMKT_x_EC_clicks            -0.30652                    \n",
              "OTHER_x_Display_x_AWA_imps          0.16185                     \n",
              "Amazon_x_Display_x_RTG_imps         0.19630                     \n",
              "DBM_x_Display_x_ACQ_imps            0.15366                     \n",
              "Oath_x_Display_x_AWA_imps           -0.00670                    \n",
              "DBM_x_Display_x_AWA_imps            0.22074                     \n",
              "new_accounts                        0.25310                     \n",
              "\n",
              "                                     Amazon_x_Display_x_AWA_imps  \\\n",
              "Brand_x_Core_x_NC_clicks            0.12557                        \n",
              "The_Trade_Desk_x_Audio_x_AWA_imps   -0.18746                       \n",
              "DBM_x_Display_x_RTG_imps            0.12903                        \n",
              "Amazon_x_Display_x_AWA_imps         1.00000                        \n",
              "DBM_x_Video_x_AWA_imps              0.31030                        \n",
              "The_Trade_Desk_x_Display_x_AWA_imps -0.15333                       \n",
              "Brand_x_RMKT_x_EC_clicks            0.00877                        \n",
              "OTHER_x_Display_x_AWA_imps          0.07212                        \n",
              "Amazon_x_Display_x_RTG_imps         0.11044                        \n",
              "DBM_x_Display_x_ACQ_imps            -0.11008                       \n",
              "Oath_x_Display_x_AWA_imps           -0.10501                       \n",
              "DBM_x_Display_x_AWA_imps            -0.04924                       \n",
              "new_accounts                        0.28682                        \n",
              "\n",
              "                                     DBM_x_Video_x_AWA_imps  \\\n",
              "Brand_x_Core_x_NC_clicks            0.09429                   \n",
              "The_Trade_Desk_x_Audio_x_AWA_imps   0.36619                   \n",
              "DBM_x_Display_x_RTG_imps            0.24075                   \n",
              "Amazon_x_Display_x_AWA_imps         0.31030                   \n",
              "DBM_x_Video_x_AWA_imps              1.00000                   \n",
              "The_Trade_Desk_x_Display_x_AWA_imps 0.08002                   \n",
              "Brand_x_RMKT_x_EC_clicks            -0.39212                  \n",
              "OTHER_x_Display_x_AWA_imps          0.28841                   \n",
              "Amazon_x_Display_x_RTG_imps         0.47235                   \n",
              "DBM_x_Display_x_ACQ_imps            0.57301                   \n",
              "Oath_x_Display_x_AWA_imps           -0.30748                  \n",
              "DBM_x_Display_x_AWA_imps            0.64754                   \n",
              "new_accounts                        0.24206                   \n",
              "\n",
              "                                     The_Trade_Desk_x_Display_x_AWA_imps  \\\n",
              "Brand_x_Core_x_NC_clicks            0.06766                                \n",
              "The_Trade_Desk_x_Audio_x_AWA_imps   -0.19394                               \n",
              "DBM_x_Display_x_RTG_imps            -0.01182                               \n",
              "Amazon_x_Display_x_AWA_imps         -0.15333                               \n",
              "DBM_x_Video_x_AWA_imps              0.08002                                \n",
              "The_Trade_Desk_x_Display_x_AWA_imps 1.00000                                \n",
              "Brand_x_RMKT_x_EC_clicks            0.04726                                \n",
              "OTHER_x_Display_x_AWA_imps          -0.23013                               \n",
              "Amazon_x_Display_x_RTG_imps         -0.33928                               \n",
              "DBM_x_Display_x_ACQ_imps            -0.13461                               \n",
              "Oath_x_Display_x_AWA_imps           0.16247                                \n",
              "DBM_x_Display_x_AWA_imps            -0.18353                               \n",
              "new_accounts                        0.31561                                \n",
              "\n",
              "                                     Brand_x_RMKT_x_EC_clicks  \\\n",
              "Brand_x_Core_x_NC_clicks            0.44381                     \n",
              "The_Trade_Desk_x_Audio_x_AWA_imps   -0.50229                    \n",
              "DBM_x_Display_x_RTG_imps            -0.30652                    \n",
              "Amazon_x_Display_x_AWA_imps         0.00877                     \n",
              "DBM_x_Video_x_AWA_imps              -0.39212                    \n",
              "The_Trade_Desk_x_Display_x_AWA_imps 0.04726                     \n",
              "Brand_x_RMKT_x_EC_clicks            1.00000                     \n",
              "OTHER_x_Display_x_AWA_imps          -0.51515                    \n",
              "Amazon_x_Display_x_RTG_imps         -0.60301                    \n",
              "DBM_x_Display_x_ACQ_imps            -0.36747                    \n",
              "Oath_x_Display_x_AWA_imps           0.54729                     \n",
              "DBM_x_Display_x_AWA_imps            -0.47622                    \n",
              "new_accounts                        0.12050                     \n",
              "\n",
              "                                     OTHER_x_Display_x_AWA_imps  \\\n",
              "Brand_x_Core_x_NC_clicks            -0.10055                      \n",
              "The_Trade_Desk_x_Audio_x_AWA_imps   0.41651                       \n",
              "DBM_x_Display_x_RTG_imps            0.16185                       \n",
              "Amazon_x_Display_x_AWA_imps         0.07212                       \n",
              "DBM_x_Video_x_AWA_imps              0.28841                       \n",
              "The_Trade_Desk_x_Display_x_AWA_imps -0.23013                      \n",
              "Brand_x_RMKT_x_EC_clicks            -0.51515                      \n",
              "OTHER_x_Display_x_AWA_imps          1.00000                       \n",
              "Amazon_x_Display_x_RTG_imps         0.74263                       \n",
              "DBM_x_Display_x_ACQ_imps            0.43128                       \n",
              "Oath_x_Display_x_AWA_imps           -0.49276                      \n",
              "DBM_x_Display_x_AWA_imps            0.51041                       \n",
              "new_accounts                        -0.17060                      \n",
              "\n",
              "                                     Amazon_x_Display_x_RTG_imps  \\\n",
              "Brand_x_Core_x_NC_clicks            -0.07087                       \n",
              "The_Trade_Desk_x_Audio_x_AWA_imps   0.65421                        \n",
              "DBM_x_Display_x_RTG_imps            0.19630                        \n",
              "Amazon_x_Display_x_AWA_imps         0.11044                        \n",
              "DBM_x_Video_x_AWA_imps              0.47235                        \n",
              "The_Trade_Desk_x_Display_x_AWA_imps -0.33928                       \n",
              "Brand_x_RMKT_x_EC_clicks            -0.60301                       \n",
              "OTHER_x_Display_x_AWA_imps          0.74263                        \n",
              "Amazon_x_Display_x_RTG_imps         1.00000                        \n",
              "DBM_x_Display_x_ACQ_imps            0.67899                        \n",
              "Oath_x_Display_x_AWA_imps           -0.61677                       \n",
              "DBM_x_Display_x_AWA_imps            0.71899                        \n",
              "new_accounts                        -0.13047                       \n",
              "\n",
              "                                     DBM_x_Display_x_ACQ_imps  \\\n",
              "Brand_x_Core_x_NC_clicks            0.01486                     \n",
              "The_Trade_Desk_x_Audio_x_AWA_imps   0.76126                     \n",
              "DBM_x_Display_x_RTG_imps            0.15366                     \n",
              "Amazon_x_Display_x_AWA_imps         -0.11008                    \n",
              "DBM_x_Video_x_AWA_imps              0.57301                     \n",
              "The_Trade_Desk_x_Display_x_AWA_imps -0.13461                    \n",
              "Brand_x_RMKT_x_EC_clicks            -0.36747                    \n",
              "OTHER_x_Display_x_AWA_imps          0.43128                     \n",
              "Amazon_x_Display_x_RTG_imps         0.67899                     \n",
              "DBM_x_Display_x_ACQ_imps            1.00000                     \n",
              "Oath_x_Display_x_AWA_imps           -0.38780                    \n",
              "DBM_x_Display_x_AWA_imps            0.86056                     \n",
              "new_accounts                        -0.07472                    \n",
              "\n",
              "                                     Oath_x_Display_x_AWA_imps  \\\n",
              "Brand_x_Core_x_NC_clicks            0.15251                      \n",
              "The_Trade_Desk_x_Audio_x_AWA_imps   -0.43545                     \n",
              "DBM_x_Display_x_RTG_imps            -0.00670                     \n",
              "Amazon_x_Display_x_AWA_imps         -0.10501                     \n",
              "DBM_x_Video_x_AWA_imps              -0.30748                     \n",
              "The_Trade_Desk_x_Display_x_AWA_imps 0.16247                      \n",
              "Brand_x_RMKT_x_EC_clicks            0.54729                      \n",
              "OTHER_x_Display_x_AWA_imps          -0.49276                     \n",
              "Amazon_x_Display_x_RTG_imps         -0.61677                     \n",
              "DBM_x_Display_x_ACQ_imps            -0.38780                     \n",
              "Oath_x_Display_x_AWA_imps           1.00000                      \n",
              "DBM_x_Display_x_AWA_imps            -0.48670                     \n",
              "new_accounts                        0.16972                      \n",
              "\n",
              "                                     DBM_x_Display_x_AWA_imps  new_accounts  \n",
              "Brand_x_Core_x_NC_clicks            0.04467                   0.68340        \n",
              "The_Trade_Desk_x_Audio_x_AWA_imps   0.78423                   -0.18796       \n",
              "DBM_x_Display_x_RTG_imps            0.22074                   0.25310        \n",
              "Amazon_x_Display_x_AWA_imps         -0.04924                  0.28682        \n",
              "DBM_x_Video_x_AWA_imps              0.64754                   0.24206        \n",
              "The_Trade_Desk_x_Display_x_AWA_imps -0.18353                  0.31561        \n",
              "Brand_x_RMKT_x_EC_clicks            -0.47622                  0.12050        \n",
              "OTHER_x_Display_x_AWA_imps          0.51041                   -0.17060       \n",
              "Amazon_x_Display_x_RTG_imps         0.71899                   -0.13047       \n",
              "DBM_x_Display_x_ACQ_imps            0.86056                   -0.07472       \n",
              "Oath_x_Display_x_AWA_imps           -0.48670                  0.16972        \n",
              "DBM_x_Display_x_AWA_imps            1.00000                   -0.11155       \n",
              "new_accounts                        -0.11155                  1.00000        "
            ]
          },
          "metadata": {},
          "execution_count": 22
        }
      ]
    },
    {
      "cell_type": "code",
      "metadata": {
        "id": "w4yAA8Vk4PrY",
        "colab": {
          "base_uri": "https://localhost:8080/",
          "height": 323
        },
        "outputId": "4b23ee3b-c99e-455e-c2e9-a9853de625f7"
      },
      "source": [
        "# output correlations > threshold_1 to review for data reduction\n",
        "\n",
        "corrs_pos = correl.where(np.triu(np.ones(correl.shape)).astype(np.bool)) # zeros out lower triangle of matrix\n",
        "corrs_pos = corrs_pos[corrs_pos > THRESHOLD_1].stack().reset_index() # user defines threshold and can increase to be more conservative\n",
        "corrs_pos = corrs_pos.loc[corrs_pos[0]<1.0]\n",
        "corrs_pos"
      ],
      "execution_count": 23,
      "outputs": [
        {
          "output_type": "execute_result",
          "data": {
            "text/html": [
              "<div>\n",
              "<style scoped>\n",
              "    .dataframe tbody tr th:only-of-type {\n",
              "        vertical-align: middle;\n",
              "    }\n",
              "\n",
              "    .dataframe tbody tr th {\n",
              "        vertical-align: top;\n",
              "    }\n",
              "\n",
              "    .dataframe thead th {\n",
              "        text-align: right;\n",
              "    }\n",
              "</style>\n",
              "<table border=\"1\" class=\"dataframe\">\n",
              "  <thead>\n",
              "    <tr style=\"text-align: right;\">\n",
              "      <th></th>\n",
              "      <th>level_0</th>\n",
              "      <th>level_1</th>\n",
              "      <th>0</th>\n",
              "    </tr>\n",
              "  </thead>\n",
              "  <tbody>\n",
              "    <tr>\n",
              "      <th>1</th>\n",
              "      <td>Brand_x_Core_x_NC_clicks</td>\n",
              "      <td>new_accounts</td>\n",
              "      <td>0.68340</td>\n",
              "    </tr>\n",
              "    <tr>\n",
              "      <th>3</th>\n",
              "      <td>The_Trade_Desk_x_Audio_x_AWA_imps</td>\n",
              "      <td>Amazon_x_Display_x_RTG_imps</td>\n",
              "      <td>0.65421</td>\n",
              "    </tr>\n",
              "    <tr>\n",
              "      <th>4</th>\n",
              "      <td>The_Trade_Desk_x_Audio_x_AWA_imps</td>\n",
              "      <td>DBM_x_Display_x_ACQ_imps</td>\n",
              "      <td>0.76126</td>\n",
              "    </tr>\n",
              "    <tr>\n",
              "      <th>5</th>\n",
              "      <td>The_Trade_Desk_x_Audio_x_AWA_imps</td>\n",
              "      <td>DBM_x_Display_x_AWA_imps</td>\n",
              "      <td>0.78423</td>\n",
              "    </tr>\n",
              "    <tr>\n",
              "      <th>9</th>\n",
              "      <td>DBM_x_Video_x_AWA_imps</td>\n",
              "      <td>DBM_x_Display_x_AWA_imps</td>\n",
              "      <td>0.64754</td>\n",
              "    </tr>\n",
              "    <tr>\n",
              "      <th>13</th>\n",
              "      <td>OTHER_x_Display_x_AWA_imps</td>\n",
              "      <td>Amazon_x_Display_x_RTG_imps</td>\n",
              "      <td>0.74263</td>\n",
              "    </tr>\n",
              "    <tr>\n",
              "      <th>15</th>\n",
              "      <td>Amazon_x_Display_x_RTG_imps</td>\n",
              "      <td>DBM_x_Display_x_ACQ_imps</td>\n",
              "      <td>0.67899</td>\n",
              "    </tr>\n",
              "    <tr>\n",
              "      <th>16</th>\n",
              "      <td>Amazon_x_Display_x_RTG_imps</td>\n",
              "      <td>DBM_x_Display_x_AWA_imps</td>\n",
              "      <td>0.71899</td>\n",
              "    </tr>\n",
              "    <tr>\n",
              "      <th>18</th>\n",
              "      <td>DBM_x_Display_x_ACQ_imps</td>\n",
              "      <td>DBM_x_Display_x_AWA_imps</td>\n",
              "      <td>0.86056</td>\n",
              "    </tr>\n",
              "  </tbody>\n",
              "</table>\n",
              "</div>"
            ],
            "text/plain": [
              "                              level_0                      level_1       0\n",
              "1   Brand_x_Core_x_NC_clicks           new_accounts                0.68340\n",
              "3   The_Trade_Desk_x_Audio_x_AWA_imps  Amazon_x_Display_x_RTG_imps 0.65421\n",
              "4   The_Trade_Desk_x_Audio_x_AWA_imps  DBM_x_Display_x_ACQ_imps    0.76126\n",
              "5   The_Trade_Desk_x_Audio_x_AWA_imps  DBM_x_Display_x_AWA_imps    0.78423\n",
              "9   DBM_x_Video_x_AWA_imps             DBM_x_Display_x_AWA_imps    0.64754\n",
              "13  OTHER_x_Display_x_AWA_imps         Amazon_x_Display_x_RTG_imps 0.74263\n",
              "15  Amazon_x_Display_x_RTG_imps        DBM_x_Display_x_ACQ_imps    0.67899\n",
              "16  Amazon_x_Display_x_RTG_imps        DBM_x_Display_x_AWA_imps    0.71899\n",
              "18  DBM_x_Display_x_ACQ_imps           DBM_x_Display_x_AWA_imps    0.86056"
            ]
          },
          "metadata": {},
          "execution_count": 23
        }
      ]
    },
    {
      "cell_type": "code",
      "metadata": {
        "id": "glz6FUQZlXJI",
        "colab": {
          "base_uri": "https://localhost:8080/",
          "height": 746
        },
        "outputId": "ad42272b-9015-49cd-d0f6-dd7e10b89f69"
      },
      "source": [
        "mask = np.triu(np.ones_like(correl, dtype=bool))\n",
        "\n",
        "# Set up the matplotlib figure\n",
        "f, ax = plt.subplots(figsize=(11, 9))\n",
        "\n",
        "# Generate a custom diverging colormap\n",
        "cmap = sns.diverging_palette(230, 20, as_cmap=True)\n",
        "\n",
        "# Draw the heatmap with the mask and correct aspect ratio\n",
        "sns.heatmap(correl, mask=mask, cmap=cmap, vmax=.3, center=0,\n",
        "            square=True, linewidths=.5, cbar_kws={\"shrink\": .5})"
      ],
      "execution_count": 24,
      "outputs": [
        {
          "output_type": "execute_result",
          "data": {
            "text/plain": [
              "<matplotlib.axes._subplots.AxesSubplot at 0x7f0b9188a110>"
            ]
          },
          "metadata": {},
          "execution_count": 24
        },
        {
          "output_type": "display_data",
          "data": {
            "image/png": "[encoded data removed]",
            "text/plain": [
              "<Figure size 792x648 with 2 Axes>"
            ]
          },
          "metadata": {
            "needs_background": "light"
          }
        }
      ]
    },
    {
      "cell_type": "code",
      "metadata": {
        "id": "2irSgmoN5R4p"
      },
      "source": [
        "#@title Input 2nd correlation threshold (must be between -1 and 0)\n",
        "THRESHOLD_2 =  -.6 #@param {type: \"number\"}"
      ],
      "execution_count": 25,
      "outputs": []
    },
    {
      "cell_type": "code",
      "metadata": {
        "id": "wBTrf8mM38U8",
        "colab": {
          "base_uri": "https://localhost:8080/",
          "height": 110
        },
        "outputId": "a820c095-ee86-41b6-81b4-cad548e30da6"
      },
      "source": [
        "# feature reduction 1B: output correlations < threshold_2 to review for data reduction \n",
        "corrs_neg = correl.where(np.triu(np.ones(correl.shape)).astype(np.bool)) # zeros out lower triangle of matrix\n",
        "corrs_neg = corrs_neg[corrs_neg < THRESHOLD_2].stack().reset_index() # user defines threshold and can decrease to be more conservative\n",
        "corrs_neg = corrs_neg.loc[corrs_neg[0]<1.0]\n",
        "corrs_neg"
      ],
      "execution_count": 26,
      "outputs": [
        {
          "output_type": "execute_result",
          "data": {
            "text/html": [
              "<div>\n",
              "<style scoped>\n",
              "    .dataframe tbody tr th:only-of-type {\n",
              "        vertical-align: middle;\n",
              "    }\n",
              "\n",
              "    .dataframe tbody tr th {\n",
              "        vertical-align: top;\n",
              "    }\n",
              "\n",
              "    .dataframe thead th {\n",
              "        text-align: right;\n",
              "    }\n",
              "</style>\n",
              "<table border=\"1\" class=\"dataframe\">\n",
              "  <thead>\n",
              "    <tr style=\"text-align: right;\">\n",
              "      <th></th>\n",
              "      <th>level_0</th>\n",
              "      <th>level_1</th>\n",
              "      <th>0</th>\n",
              "    </tr>\n",
              "  </thead>\n",
              "  <tbody>\n",
              "    <tr>\n",
              "      <th>0</th>\n",
              "      <td>Brand_x_RMKT_x_EC_clicks</td>\n",
              "      <td>Amazon_x_Display_x_RTG_imps</td>\n",
              "      <td>-0.60301</td>\n",
              "    </tr>\n",
              "    <tr>\n",
              "      <th>1</th>\n",
              "      <td>Amazon_x_Display_x_RTG_imps</td>\n",
              "      <td>Oath_x_Display_x_AWA_imps</td>\n",
              "      <td>-0.61677</td>\n",
              "    </tr>\n",
              "  </tbody>\n",
              "</table>\n",
              "</div>"
            ],
            "text/plain": [
              "                       level_0                      level_1        0\n",
              "0  Brand_x_RMKT_x_EC_clicks     Amazon_x_Display_x_RTG_imps -0.60301\n",
              "1  Amazon_x_Display_x_RTG_imps  Oath_x_Display_x_AWA_imps   -0.61677"
            ]
          },
          "metadata": {},
          "execution_count": 26
        }
      ]
    },
    {
      "cell_type": "markdown",
      "metadata": {
        "id": "LFi-ZeCXn-wA"
      },
      "source": [
        "## Step 2: Check for Multicollinearity\n",
        "\n",
        "\n",
        "Run variance inflation factor (VIF) analysis & review values > 7 \n",
        "\n",
        "Notes: \n",
        "*   Industry best practice flags values > 10 as a violation of regression model assumptions"
      ]
    },
    {
      "cell_type": "code",
      "metadata": {
        "id": "lXxNisPf7RYX",
        "colab": {
          "base_uri": "https://localhost:8080/",
          "height": 303
        },
        "outputId": "70f9d7a9-5f5c-4804-82c5-f181fe0f6f9a"
      },
      "source": [
        "featureset_df.head()"
      ],
      "execution_count": 27,
      "outputs": [
        {
          "output_type": "execute_result",
          "data": {
            "text/html": [
              "<div>\n",
              "<style scoped>\n",
              "    .dataframe tbody tr th:only-of-type {\n",
              "        vertical-align: middle;\n",
              "    }\n",
              "\n",
              "    .dataframe tbody tr th {\n",
              "        vertical-align: top;\n",
              "    }\n",
              "\n",
              "    .dataframe thead th {\n",
              "        text-align: right;\n",
              "    }\n",
              "</style>\n",
              "<table border=\"1\" class=\"dataframe\">\n",
              "  <thead>\n",
              "    <tr style=\"text-align: right;\">\n",
              "      <th></th>\n",
              "      <th>day</th>\n",
              "      <th>Brand_x_Core_x_NC_clicks</th>\n",
              "      <th>The_Trade_Desk_x_Audio_x_AWA_imps</th>\n",
              "      <th>DBM_x_Display_x_RTG_imps</th>\n",
              "      <th>Amazon_x_Display_x_AWA_imps</th>\n",
              "      <th>DBM_x_Video_x_AWA_imps</th>\n",
              "      <th>The_Trade_Desk_x_Display_x_AWA_imps</th>\n",
              "      <th>Brand_x_RMKT_x_EC_clicks</th>\n",
              "      <th>OTHER_x_Display_x_AWA_imps</th>\n",
              "      <th>Amazon_x_Display_x_RTG_imps</th>\n",
              "      <th>DBM_x_Display_x_ACQ_imps</th>\n",
              "      <th>Oath_x_Display_x_AWA_imps</th>\n",
              "      <th>DBM_x_Display_x_AWA_imps</th>\n",
              "      <th>new_accounts</th>\n",
              "    </tr>\n",
              "  </thead>\n",
              "  <tbody>\n",
              "    <tr>\n",
              "      <th>0</th>\n",
              "      <td>2019-03-25 00:00:00+00:00</td>\n",
              "      <td>17067</td>\n",
              "      <td>209733.00000</td>\n",
              "      <td>1735596.00000</td>\n",
              "      <td>334023.00000</td>\n",
              "      <td>1826161.00000</td>\n",
              "      <td>0.00000</td>\n",
              "      <td>5585</td>\n",
              "      <td>2653645.00000</td>\n",
              "      <td>3198766.00000</td>\n",
              "      <td>18284479.00000</td>\n",
              "      <td>0.00000</td>\n",
              "      <td>8400476.00000</td>\n",
              "      <td>1653</td>\n",
              "    </tr>\n",
              "    <tr>\n",
              "      <th>1</th>\n",
              "      <td>2018-11-29 00:00:00+00:00</td>\n",
              "      <td>13398</td>\n",
              "      <td>158747.00000</td>\n",
              "      <td>1270805.00000</td>\n",
              "      <td>801902.00000</td>\n",
              "      <td>272857.00000</td>\n",
              "      <td>0.00000</td>\n",
              "      <td>3807</td>\n",
              "      <td>7165284.00000</td>\n",
              "      <td>2144522.00000</td>\n",
              "      <td>4041579.00000</td>\n",
              "      <td>0.00000</td>\n",
              "      <td>2464305.00000</td>\n",
              "      <td>1466</td>\n",
              "    </tr>\n",
              "    <tr>\n",
              "      <th>2</th>\n",
              "      <td>2018-11-22 00:00:00+00:00</td>\n",
              "      <td>9109</td>\n",
              "      <td>103955.00000</td>\n",
              "      <td>1373478.00000</td>\n",
              "      <td>631746.00000</td>\n",
              "      <td>126028.00000</td>\n",
              "      <td>0.00000</td>\n",
              "      <td>2744</td>\n",
              "      <td>6705270.00000</td>\n",
              "      <td>2357421.00000</td>\n",
              "      <td>4331451.00000</td>\n",
              "      <td>0.00000</td>\n",
              "      <td>1292850.00000</td>\n",
              "      <td>604</td>\n",
              "    </tr>\n",
              "    <tr>\n",
              "      <th>3</th>\n",
              "      <td>2018-12-09 00:00:00+00:00</td>\n",
              "      <td>10787</td>\n",
              "      <td>166883.00000</td>\n",
              "      <td>1639503.00000</td>\n",
              "      <td>1522130.00000</td>\n",
              "      <td>287042.00000</td>\n",
              "      <td>0.00000</td>\n",
              "      <td>3111</td>\n",
              "      <td>9191794.00000</td>\n",
              "      <td>2792468.00000</td>\n",
              "      <td>3944924.00000</td>\n",
              "      <td>0.00000</td>\n",
              "      <td>2702506.00000</td>\n",
              "      <td>891</td>\n",
              "    </tr>\n",
              "    <tr>\n",
              "      <th>4</th>\n",
              "      <td>2019-03-30 00:00:00+00:00</td>\n",
              "      <td>12781</td>\n",
              "      <td>197307.00000</td>\n",
              "      <td>1369087.00000</td>\n",
              "      <td>341272.00000</td>\n",
              "      <td>1552542.00000</td>\n",
              "      <td>0.00000</td>\n",
              "      <td>4211</td>\n",
              "      <td>477541.00000</td>\n",
              "      <td>663885.00000</td>\n",
              "      <td>13782058.00000</td>\n",
              "      <td>0.00000</td>\n",
              "      <td>5689437.00000</td>\n",
              "      <td>1023</td>\n",
              "    </tr>\n",
              "  </tbody>\n",
              "</table>\n",
              "</div>"
            ],
            "text/plain": [
              "                        day  Brand_x_Core_x_NC_clicks  \\\n",
              "0 2019-03-25 00:00:00+00:00  17067                      \n",
              "1 2018-11-29 00:00:00+00:00  13398                      \n",
              "2 2018-11-22 00:00:00+00:00  9109                       \n",
              "3 2018-12-09 00:00:00+00:00  10787                      \n",
              "4 2019-03-30 00:00:00+00:00  12781                      \n",
              "\n",
              "   The_Trade_Desk_x_Audio_x_AWA_imps  DBM_x_Display_x_RTG_imps  \\\n",
              "0 209733.00000                       1735596.00000               \n",
              "1 158747.00000                       1270805.00000               \n",
              "2 103955.00000                       1373478.00000               \n",
              "3 166883.00000                       1639503.00000               \n",
              "4 197307.00000                       1369087.00000               \n",
              "\n",
              "   Amazon_x_Display_x_AWA_imps  DBM_x_Video_x_AWA_imps  \\\n",
              "0 334023.00000                 1826161.00000             \n",
              "1 801902.00000                 272857.00000              \n",
              "2 631746.00000                 126028.00000              \n",
              "3 1522130.00000                287042.00000              \n",
              "4 341272.00000                 1552542.00000             \n",
              "\n",
              "   The_Trade_Desk_x_Display_x_AWA_imps  Brand_x_RMKT_x_EC_clicks  \\\n",
              "0 0.00000                               5585                       \n",
              "1 0.00000                               3807                       \n",
              "2 0.00000                               2744                       \n",
              "3 0.00000                               3111                       \n",
              "4 0.00000                               4211                       \n",
              "\n",
              "   OTHER_x_Display_x_AWA_imps  Amazon_x_Display_x_RTG_imps  \\\n",
              "0 2653645.00000               3198766.00000                  \n",
              "1 7165284.00000               2144522.00000                  \n",
              "2 6705270.00000               2357421.00000                  \n",
              "3 9191794.00000               2792468.00000                  \n",
              "4 477541.00000                663885.00000                   \n",
              "\n",
              "   DBM_x_Display_x_ACQ_imps  Oath_x_Display_x_AWA_imps  \\\n",
              "0 18284479.00000            0.00000                      \n",
              "1 4041579.00000             0.00000                      \n",
              "2 4331451.00000             0.00000                      \n",
              "3 3944924.00000             0.00000                      \n",
              "4 13782058.00000            0.00000                      \n",
              "\n",
              "   DBM_x_Display_x_AWA_imps  new_accounts  \n",
              "0 8400476.00000              1653          \n",
              "1 2464305.00000              1466          \n",
              "2 1292850.00000              604           \n",
              "3 2702506.00000              891           \n",
              "4 5689437.00000              1023          "
            ]
          },
          "metadata": {},
          "execution_count": 27
        }
      ]
    },
    {
      "cell_type": "code",
      "metadata": {
        "id": "TD6FJ6SDn-ic",
        "colab": {
          "base_uri": "https://localhost:8080/"
        },
        "outputId": "d58caaa5-505b-4010-ec82-2ef995957ed8"
      },
      "source": [
        "vif = add_constant(featureset_df.drop(columns=[DATE_COL, KPI_COL]))\n",
        "\n",
        "# loop to calculate the VIF for each X \n",
        "vif = pd.Series([variance_inflation_factor(vif.values, i) \n",
        "      for i in range(vif.shape[1])], \n",
        "      index=vif.columns) \n",
        "print(vif.sort_values(ascending=False))"
      ],
      "execution_count": 28,
      "outputs": [
        {
          "output_type": "stream",
          "name": "stdout",
          "text": [
            "const                                 52.58583\n",
            "DBM_x_Display_x_AWA_imps              6.94339 \n",
            "Amazon_x_Display_x_RTG_imps           5.24322 \n",
            "DBM_x_Display_x_ACQ_imps              5.07682 \n",
            "The_Trade_Desk_x_Audio_x_AWA_imps     3.68820 \n",
            "Brand_x_RMKT_x_EC_clicks              3.25918 \n",
            "DBM_x_Video_x_AWA_imps                2.98071 \n",
            "OTHER_x_Display_x_AWA_imps            2.43357 \n",
            "Oath_x_Display_x_AWA_imps             1.94597 \n",
            "Brand_x_Core_x_NC_clicks              1.61694 \n",
            "Amazon_x_Display_x_AWA_imps           1.61254 \n",
            "The_Trade_Desk_x_Display_x_AWA_imps   1.42645 \n",
            "DBM_x_Display_x_RTG_imps              1.29527 \n",
            "dtype: float64\n"
          ]
        }
      ]
    },
    {
      "cell_type": "code",
      "metadata": {
        "id": "UtcSlnfyn-fs"
      },
      "source": [
        "# processing to output VIF results as a dataframe \n",
        "vif_df=vif.to_frame().reset_index()\n",
        "\n",
        "vif_df.columns = ['feature', 'vif']\n",
        "vif_df=vif_df.replace([np.inf], np.nan) # replace inf calculations as missing and zero fill \n",
        "vif_df=vif_df.fillna(0).sort_values(by=\"vif\", ascending=False)"
      ],
      "execution_count": 29,
      "outputs": []
    },
    {
      "cell_type": "code",
      "metadata": {
        "id": "rB8p62Rin-dL",
        "colab": {
          "base_uri": "https://localhost:8080/",
          "height": 445
        },
        "outputId": "3f6a75e2-5365-43bf-9de5-b5069af84850"
      },
      "source": [
        "vif_df"
      ],
      "execution_count": 30,
      "outputs": [
        {
          "output_type": "execute_result",
          "data": {
            "text/html": [
              "<div>\n",
              "<style scoped>\n",
              "    .dataframe tbody tr th:only-of-type {\n",
              "        vertical-align: middle;\n",
              "    }\n",
              "\n",
              "    .dataframe tbody tr th {\n",
              "        vertical-align: top;\n",
              "    }\n",
              "\n",
              "    .dataframe thead th {\n",
              "        text-align: right;\n",
              "    }\n",
              "</style>\n",
              "<table border=\"1\" class=\"dataframe\">\n",
              "  <thead>\n",
              "    <tr style=\"text-align: right;\">\n",
              "      <th></th>\n",
              "      <th>feature</th>\n",
              "      <th>vif</th>\n",
              "    </tr>\n",
              "  </thead>\n",
              "  <tbody>\n",
              "    <tr>\n",
              "      <th>0</th>\n",
              "      <td>const</td>\n",
              "      <td>52.58583</td>\n",
              "    </tr>\n",
              "    <tr>\n",
              "      <th>12</th>\n",
              "      <td>DBM_x_Display_x_AWA_imps</td>\n",
              "      <td>6.94339</td>\n",
              "    </tr>\n",
              "    <tr>\n",
              "      <th>9</th>\n",
              "      <td>Amazon_x_Display_x_RTG_imps</td>\n",
              "      <td>5.24322</td>\n",
              "    </tr>\n",
              "    <tr>\n",
              "      <th>10</th>\n",
              "      <td>DBM_x_Display_x_ACQ_imps</td>\n",
              "      <td>5.07682</td>\n",
              "    </tr>\n",
              "    <tr>\n",
              "      <th>2</th>\n",
              "      <td>The_Trade_Desk_x_Audio_x_AWA_imps</td>\n",
              "      <td>3.68820</td>\n",
              "    </tr>\n",
              "    <tr>\n",
              "      <th>7</th>\n",
              "      <td>Brand_x_RMKT_x_EC_clicks</td>\n",
              "      <td>3.25918</td>\n",
              "    </tr>\n",
              "    <tr>\n",
              "      <th>5</th>\n",
              "      <td>DBM_x_Video_x_AWA_imps</td>\n",
              "      <td>2.98071</td>\n",
              "    </tr>\n",
              "    <tr>\n",
              "      <th>8</th>\n",
              "      <td>OTHER_x_Display_x_AWA_imps</td>\n",
              "      <td>2.43357</td>\n",
              "    </tr>\n",
              "    <tr>\n",
              "      <th>11</th>\n",
              "      <td>Oath_x_Display_x_AWA_imps</td>\n",
              "      <td>1.94597</td>\n",
              "    </tr>\n",
              "    <tr>\n",
              "      <th>1</th>\n",
              "      <td>Brand_x_Core_x_NC_clicks</td>\n",
              "      <td>1.61694</td>\n",
              "    </tr>\n",
              "    <tr>\n",
              "      <th>4</th>\n",
              "      <td>Amazon_x_Display_x_AWA_imps</td>\n",
              "      <td>1.61254</td>\n",
              "    </tr>\n",
              "    <tr>\n",
              "      <th>6</th>\n",
              "      <td>The_Trade_Desk_x_Display_x_AWA_imps</td>\n",
              "      <td>1.42645</td>\n",
              "    </tr>\n",
              "    <tr>\n",
              "      <th>3</th>\n",
              "      <td>DBM_x_Display_x_RTG_imps</td>\n",
              "      <td>1.29527</td>\n",
              "    </tr>\n",
              "  </tbody>\n",
              "</table>\n",
              "</div>"
            ],
            "text/plain": [
              "                                feature      vif\n",
              "0   const                               52.58583\n",
              "12  DBM_x_Display_x_AWA_imps            6.94339 \n",
              "9   Amazon_x_Display_x_RTG_imps         5.24322 \n",
              "10  DBM_x_Display_x_ACQ_imps            5.07682 \n",
              "2   The_Trade_Desk_x_Audio_x_AWA_imps   3.68820 \n",
              "7   Brand_x_RMKT_x_EC_clicks            3.25918 \n",
              "5   DBM_x_Video_x_AWA_imps              2.98071 \n",
              "8   OTHER_x_Display_x_AWA_imps          2.43357 \n",
              "11  Oath_x_Display_x_AWA_imps           1.94597 \n",
              "1   Brand_x_Core_x_NC_clicks            1.61694 \n",
              "4   Amazon_x_Display_x_AWA_imps         1.61254 \n",
              "6   The_Trade_Desk_x_Display_x_AWA_imps 1.42645 \n",
              "3   DBM_x_Display_x_RTG_imps            1.29527 "
            ]
          },
          "metadata": {},
          "execution_count": 30
        }
      ]
    },
    {
      "cell_type": "code",
      "metadata": {
        "id": "Km6pZfElluhp"
      },
      "source": [
        "#vif_df = vif_df[vif_df['feature']!='const']\n",
        "#vif_df[vif_df['vif'] >= 5].feature.tolist()"
      ],
      "execution_count": 31,
      "outputs": []
    },
    {
      "cell_type": "code",
      "metadata": {
        "id": "qtZoeJPGq5S3"
      },
      "source": [
        "#featureset_df = featureset_df.drop(columns = vif_df[vif_df['vif'] >= 5].feature.tolist())\n",
        "#featureset_df.columns"
      ],
      "execution_count": 32,
      "outputs": []
    },
    {
      "cell_type": "markdown",
      "metadata": {
        "id": "_SECWnarsUWx"
      },
      "source": [
        "## Step 3: Feature Transformation"
      ]
    },
    {
      "cell_type": "markdown",
      "metadata": {
        "id": "alvToaYXs9Op"
      },
      "source": [
        "Options:\n",
        "* SQRT \n",
        "* Log\n",
        "* De-Mean\n",
        "* In previous tests, application of SQRT function outperformed log\n"
      ]
    },
    {
      "cell_type": "code",
      "metadata": {
        "id": "76Vtgei8n-a8"
      },
      "source": [
        "#@title Input transformation type (ex: log, sqrt)\n",
        "transformation = 'None' #@param [\"Square Root\", \"Mean\",\"Log\",\"Natural Log\",\"None\"]"
      ],
      "execution_count": 33,
      "outputs": []
    },
    {
      "cell_type": "code",
      "metadata": {
        "id": "-kESDQrsn-VH"
      },
      "source": [
        "X = featureset_df.drop(columns=[DATE_COL,KPI_COL])\n",
        "\n",
        "# These transformations stabilize large values in the dataset, and allow the data to be more normal\n",
        "if transformation == \"Square Root\":\n",
        "  X_transform = X.apply(np.sqrt)\n",
        "elif transformation == \"Mean\":\n",
        "  X_transform = X/X.mean()\n",
        "elif transformation == \"Natural Log\": \n",
        "  X += 1 # natural log function is not defined at 0 so need to add 1 to each value \n",
        "  X_transform = X.apply(np.log)\n",
        "else:\n",
        "  X_transform = X"
      ],
      "execution_count": 34,
      "outputs": []
    },
    {
      "cell_type": "code",
      "metadata": {
        "id": "nTP-Uuz9ygrM",
        "colab": {
          "base_uri": "https://localhost:8080/",
          "height": 221
        },
        "outputId": "fa62ff30-fdc9-4a87-b710-c22582137119"
      },
      "source": [
        "X_transform.head()"
      ],
      "execution_count": 35,
      "outputs": [
        {
          "output_type": "execute_result",
          "data": {
            "text/html": [
              "<div>\n",
              "<style scoped>\n",
              "    .dataframe tbody tr th:only-of-type {\n",
              "        vertical-align: middle;\n",
              "    }\n",
              "\n",
              "    .dataframe tbody tr th {\n",
              "        vertical-align: top;\n",
              "    }\n",
              "\n",
              "    .dataframe thead th {\n",
              "        text-align: right;\n",
              "    }\n",
              "</style>\n",
              "<table border=\"1\" class=\"dataframe\">\n",
              "  <thead>\n",
              "    <tr style=\"text-align: right;\">\n",
              "      <th></th>\n",
              "      <th>Brand_x_Core_x_NC_clicks</th>\n",
              "      <th>The_Trade_Desk_x_Audio_x_AWA_imps</th>\n",
              "      <th>DBM_x_Display_x_RTG_imps</th>\n",
              "      <th>Amazon_x_Display_x_AWA_imps</th>\n",
              "      <th>DBM_x_Video_x_AWA_imps</th>\n",
              "      <th>The_Trade_Desk_x_Display_x_AWA_imps</th>\n",
              "      <th>Brand_x_RMKT_x_EC_clicks</th>\n",
              "      <th>OTHER_x_Display_x_AWA_imps</th>\n",
              "      <th>Amazon_x_Display_x_RTG_imps</th>\n",
              "      <th>DBM_x_Display_x_ACQ_imps</th>\n",
              "      <th>Oath_x_Display_x_AWA_imps</th>\n",
              "      <th>DBM_x_Display_x_AWA_imps</th>\n",
              "    </tr>\n",
              "  </thead>\n",
              "  <tbody>\n",
              "    <tr>\n",
              "      <th>0</th>\n",
              "      <td>17067</td>\n",
              "      <td>209733.00000</td>\n",
              "      <td>1735596.00000</td>\n",
              "      <td>334023.00000</td>\n",
              "      <td>1826161.00000</td>\n",
              "      <td>0.00000</td>\n",
              "      <td>5585</td>\n",
              "      <td>2653645.00000</td>\n",
              "      <td>3198766.00000</td>\n",
              "      <td>18284479.00000</td>\n",
              "      <td>0.00000</td>\n",
              "      <td>8400476.00000</td>\n",
              "    </tr>\n",
              "    <tr>\n",
              "      <th>1</th>\n",
              "      <td>13398</td>\n",
              "      <td>158747.00000</td>\n",
              "      <td>1270805.00000</td>\n",
              "      <td>801902.00000</td>\n",
              "      <td>272857.00000</td>\n",
              "      <td>0.00000</td>\n",
              "      <td>3807</td>\n",
              "      <td>7165284.00000</td>\n",
              "      <td>2144522.00000</td>\n",
              "      <td>4041579.00000</td>\n",
              "      <td>0.00000</td>\n",
              "      <td>2464305.00000</td>\n",
              "    </tr>\n",
              "    <tr>\n",
              "      <th>2</th>\n",
              "      <td>9109</td>\n",
              "      <td>103955.00000</td>\n",
              "      <td>1373478.00000</td>\n",
              "      <td>631746.00000</td>\n",
              "      <td>126028.00000</td>\n",
              "      <td>0.00000</td>\n",
              "      <td>2744</td>\n",
              "      <td>6705270.00000</td>\n",
              "      <td>2357421.00000</td>\n",
              "      <td>4331451.00000</td>\n",
              "      <td>0.00000</td>\n",
              "      <td>1292850.00000</td>\n",
              "    </tr>\n",
              "    <tr>\n",
              "      <th>3</th>\n",
              "      <td>10787</td>\n",
              "      <td>166883.00000</td>\n",
              "      <td>1639503.00000</td>\n",
              "      <td>1522130.00000</td>\n",
              "      <td>287042.00000</td>\n",
              "      <td>0.00000</td>\n",
              "      <td>3111</td>\n",
              "      <td>9191794.00000</td>\n",
              "      <td>2792468.00000</td>\n",
              "      <td>3944924.00000</td>\n",
              "      <td>0.00000</td>\n",
              "      <td>2702506.00000</td>\n",
              "    </tr>\n",
              "    <tr>\n",
              "      <th>4</th>\n",
              "      <td>12781</td>\n",
              "      <td>197307.00000</td>\n",
              "      <td>1369087.00000</td>\n",
              "      <td>341272.00000</td>\n",
              "      <td>1552542.00000</td>\n",
              "      <td>0.00000</td>\n",
              "      <td>4211</td>\n",
              "      <td>477541.00000</td>\n",
              "      <td>663885.00000</td>\n",
              "      <td>13782058.00000</td>\n",
              "      <td>0.00000</td>\n",
              "      <td>5689437.00000</td>\n",
              "    </tr>\n",
              "  </tbody>\n",
              "</table>\n",
              "</div>"
            ],
            "text/plain": [
              "   Brand_x_Core_x_NC_clicks  The_Trade_Desk_x_Audio_x_AWA_imps  \\\n",
              "0  17067                    209733.00000                         \n",
              "1  13398                    158747.00000                         \n",
              "2  9109                     103955.00000                         \n",
              "3  10787                    166883.00000                         \n",
              "4  12781                    197307.00000                         \n",
              "\n",
              "   DBM_x_Display_x_RTG_imps  Amazon_x_Display_x_AWA_imps  \\\n",
              "0 1735596.00000             334023.00000                   \n",
              "1 1270805.00000             801902.00000                   \n",
              "2 1373478.00000             631746.00000                   \n",
              "3 1639503.00000             1522130.00000                  \n",
              "4 1369087.00000             341272.00000                   \n",
              "\n",
              "   DBM_x_Video_x_AWA_imps  The_Trade_Desk_x_Display_x_AWA_imps  \\\n",
              "0 1826161.00000           0.00000                                \n",
              "1 272857.00000            0.00000                                \n",
              "2 126028.00000            0.00000                                \n",
              "3 287042.00000            0.00000                                \n",
              "4 1552542.00000           0.00000                                \n",
              "\n",
              "   Brand_x_RMKT_x_EC_clicks  OTHER_x_Display_x_AWA_imps  \\\n",
              "0  5585                     2653645.00000                 \n",
              "1  3807                     7165284.00000                 \n",
              "2  2744                     6705270.00000                 \n",
              "3  3111                     9191794.00000                 \n",
              "4  4211                     477541.00000                  \n",
              "\n",
              "   Amazon_x_Display_x_RTG_imps  DBM_x_Display_x_ACQ_imps  \\\n",
              "0 3198766.00000                18284479.00000              \n",
              "1 2144522.00000                4041579.00000               \n",
              "2 2357421.00000                4331451.00000               \n",
              "3 2792468.00000                3944924.00000               \n",
              "4 663885.00000                 13782058.00000              \n",
              "\n",
              "   Oath_x_Display_x_AWA_imps  DBM_x_Display_x_AWA_imps  \n",
              "0 0.00000                    8400476.00000              \n",
              "1 0.00000                    2464305.00000              \n",
              "2 0.00000                    1292850.00000              \n",
              "3 0.00000                    2702506.00000              \n",
              "4 0.00000                    5689437.00000              "
            ]
          },
          "metadata": {},
          "execution_count": 35
        }
      ]
    },
    {
      "cell_type": "code",
      "metadata": {
        "id": "Y5Kf-2l_xpw7",
        "colab": {
          "base_uri": "https://localhost:8080/",
          "height": 313
        },
        "outputId": "daebc935-aeca-491b-a93a-5add7bd8db86"
      },
      "source": [
        "X_transform.describe()"
      ],
      "execution_count": 36,
      "outputs": [
        {
          "output_type": "execute_result",
          "data": {
            "text/html": [
              "<div>\n",
              "<style scoped>\n",
              "    .dataframe tbody tr th:only-of-type {\n",
              "        vertical-align: middle;\n",
              "    }\n",
              "\n",
              "    .dataframe tbody tr th {\n",
              "        vertical-align: top;\n",
              "    }\n",
              "\n",
              "    .dataframe thead th {\n",
              "        text-align: right;\n",
              "    }\n",
              "</style>\n",
              "<table border=\"1\" class=\"dataframe\">\n",
              "  <thead>\n",
              "    <tr style=\"text-align: right;\">\n",
              "      <th></th>\n",
              "      <th>Brand_x_Core_x_NC_clicks</th>\n",
              "      <th>The_Trade_Desk_x_Audio_x_AWA_imps</th>\n",
              "      <th>DBM_x_Display_x_RTG_imps</th>\n",
              "      <th>Amazon_x_Display_x_AWA_imps</th>\n",
              "      <th>DBM_x_Video_x_AWA_imps</th>\n",
              "      <th>The_Trade_Desk_x_Display_x_AWA_imps</th>\n",
              "      <th>Brand_x_RMKT_x_EC_clicks</th>\n",
              "      <th>OTHER_x_Display_x_AWA_imps</th>\n",
              "      <th>Amazon_x_Display_x_RTG_imps</th>\n",
              "      <th>DBM_x_Display_x_ACQ_imps</th>\n",
              "      <th>Oath_x_Display_x_AWA_imps</th>\n",
              "      <th>DBM_x_Display_x_AWA_imps</th>\n",
              "    </tr>\n",
              "  </thead>\n",
              "  <tbody>\n",
              "    <tr>\n",
              "      <th>count</th>\n",
              "      <td>607.00000</td>\n",
              "      <td>607.00000</td>\n",
              "      <td>607.00000</td>\n",
              "      <td>607.00000</td>\n",
              "      <td>607.00000</td>\n",
              "      <td>607.00000</td>\n",
              "      <td>607.00000</td>\n",
              "      <td>607.00000</td>\n",
              "      <td>607.00000</td>\n",
              "      <td>607.00000</td>\n",
              "      <td>607.00000</td>\n",
              "      <td>607.00000</td>\n",
              "    </tr>\n",
              "    <tr>\n",
              "      <th>mean</th>\n",
              "      <td>14329.43657</td>\n",
              "      <td>90002.67875</td>\n",
              "      <td>1467573.37562</td>\n",
              "      <td>419435.70181</td>\n",
              "      <td>375140.97035</td>\n",
              "      <td>22417.86985</td>\n",
              "      <td>6327.87644</td>\n",
              "      <td>2937961.65898</td>\n",
              "      <td>853109.05601</td>\n",
              "      <td>3860111.70181</td>\n",
              "      <td>65537.88962</td>\n",
              "      <td>1938494.68863</td>\n",
              "    </tr>\n",
              "    <tr>\n",
              "      <th>std</th>\n",
              "      <td>2300.49043</td>\n",
              "      <td>119544.59266</td>\n",
              "      <td>481990.16535</td>\n",
              "      <td>633522.18596</td>\n",
              "      <td>436246.71971</td>\n",
              "      <td>54948.20265</td>\n",
              "      <td>2882.91855</td>\n",
              "      <td>2793634.29831</td>\n",
              "      <td>1027558.55465</td>\n",
              "      <td>3824957.66960</td>\n",
              "      <td>88365.99537</td>\n",
              "      <td>2138513.71255</td>\n",
              "    </tr>\n",
              "    <tr>\n",
              "      <th>min</th>\n",
              "      <td>7894.00000</td>\n",
              "      <td>0.00000</td>\n",
              "      <td>135172.00000</td>\n",
              "      <td>0.00000</td>\n",
              "      <td>0.00000</td>\n",
              "      <td>0.00000</td>\n",
              "      <td>2327.00000</td>\n",
              "      <td>139.00000</td>\n",
              "      <td>0.00000</td>\n",
              "      <td>0.00000</td>\n",
              "      <td>0.00000</td>\n",
              "      <td>0.00000</td>\n",
              "    </tr>\n",
              "    <tr>\n",
              "      <th>25%</th>\n",
              "      <td>12746.00000</td>\n",
              "      <td>0.00000</td>\n",
              "      <td>1323660.50000</td>\n",
              "      <td>6.00000</td>\n",
              "      <td>3.00000</td>\n",
              "      <td>0.00000</td>\n",
              "      <td>4073.00000</td>\n",
              "      <td>647711.50000</td>\n",
              "      <td>0.00000</td>\n",
              "      <td>2027536.50000</td>\n",
              "      <td>0.00000</td>\n",
              "      <td>313889.00000</td>\n",
              "    </tr>\n",
              "    <tr>\n",
              "      <th>50%</th>\n",
              "      <td>14275.00000</td>\n",
              "      <td>42017.00000</td>\n",
              "      <td>1557938.00000</td>\n",
              "      <td>98193.00000</td>\n",
              "      <td>240777.00000</td>\n",
              "      <td>0.00000</td>\n",
              "      <td>5298.00000</td>\n",
              "      <td>1611886.00000</td>\n",
              "      <td>0.00000</td>\n",
              "      <td>2783977.00000</td>\n",
              "      <td>1.00000</td>\n",
              "      <td>1202255.00000</td>\n",
              "    </tr>\n",
              "    <tr>\n",
              "      <th>75%</th>\n",
              "      <td>15913.00000</td>\n",
              "      <td>154324.00000</td>\n",
              "      <td>1750653.50000</td>\n",
              "      <td>682694.50000</td>\n",
              "      <td>646051.00000</td>\n",
              "      <td>0.00000</td>\n",
              "      <td>8145.00000</td>\n",
              "      <td>5092391.50000</td>\n",
              "      <td>1666294.50000</td>\n",
              "      <td>4409461.50000</td>\n",
              "      <td>117787.00000</td>\n",
              "      <td>2465588.50000</td>\n",
              "    </tr>\n",
              "    <tr>\n",
              "      <th>max</th>\n",
              "      <td>21552.00000</td>\n",
              "      <td>786651.00000</td>\n",
              "      <td>2433525.00000</td>\n",
              "      <td>2859646.00000</td>\n",
              "      <td>2889383.00000</td>\n",
              "      <td>319197.00000</td>\n",
              "      <td>16450.00000</td>\n",
              "      <td>10345069.00000</td>\n",
              "      <td>4003753.00000</td>\n",
              "      <td>20506222.00000</td>\n",
              "      <td>395993.00000</td>\n",
              "      <td>8800172.00000</td>\n",
              "    </tr>\n",
              "  </tbody>\n",
              "</table>\n",
              "</div>"
            ],
            "text/plain": [
              "       Brand_x_Core_x_NC_clicks  The_Trade_Desk_x_Audio_x_AWA_imps  \\\n",
              "count 607.00000                 607.00000                            \n",
              "mean  14329.43657               90002.67875                          \n",
              "std   2300.49043                119544.59266                         \n",
              "min   7894.00000                0.00000                              \n",
              "25%   12746.00000               0.00000                              \n",
              "50%   14275.00000               42017.00000                          \n",
              "75%   15913.00000               154324.00000                         \n",
              "max   21552.00000               786651.00000                         \n",
              "\n",
              "       DBM_x_Display_x_RTG_imps  Amazon_x_Display_x_AWA_imps  \\\n",
              "count 607.00000                 607.00000                      \n",
              "mean  1467573.37562             419435.70181                   \n",
              "std   481990.16535              633522.18596                   \n",
              "min   135172.00000              0.00000                        \n",
              "25%   1323660.50000             6.00000                        \n",
              "50%   1557938.00000             98193.00000                    \n",
              "75%   1750653.50000             682694.50000                   \n",
              "max   2433525.00000             2859646.00000                  \n",
              "\n",
              "       DBM_x_Video_x_AWA_imps  The_Trade_Desk_x_Display_x_AWA_imps  \\\n",
              "count 607.00000               607.00000                              \n",
              "mean  375140.97035            22417.86985                            \n",
              "std   436246.71971            54948.20265                            \n",
              "min   0.00000                 0.00000                                \n",
              "25%   3.00000                 0.00000                                \n",
              "50%   240777.00000            0.00000                                \n",
              "75%   646051.00000            0.00000                                \n",
              "max   2889383.00000           319197.00000                           \n",
              "\n",
              "       Brand_x_RMKT_x_EC_clicks  OTHER_x_Display_x_AWA_imps  \\\n",
              "count 607.00000                 607.00000                     \n",
              "mean  6327.87644                2937961.65898                 \n",
              "std   2882.91855                2793634.29831                 \n",
              "min   2327.00000                139.00000                     \n",
              "25%   4073.00000                647711.50000                  \n",
              "50%   5298.00000                1611886.00000                 \n",
              "75%   8145.00000                5092391.50000                 \n",
              "max   16450.00000               10345069.00000                \n",
              "\n",
              "       Amazon_x_Display_x_RTG_imps  DBM_x_Display_x_ACQ_imps  \\\n",
              "count 607.00000                    607.00000                   \n",
              "mean  853109.05601                 3860111.70181               \n",
              "std   1027558.55465                3824957.66960               \n",
              "min   0.00000                      0.00000                     \n",
              "25%   0.00000                      2027536.50000               \n",
              "50%   0.00000                      2783977.00000               \n",
              "75%   1666294.50000                4409461.50000               \n",
              "max   4003753.00000                20506222.00000              \n",
              "\n",
              "       Oath_x_Display_x_AWA_imps  DBM_x_Display_x_AWA_imps  \n",
              "count 607.00000                  607.00000                  \n",
              "mean  65537.88962                1938494.68863              \n",
              "std   88365.99537                2138513.71255              \n",
              "min   0.00000                    0.00000                    \n",
              "25%   0.00000                    313889.00000               \n",
              "50%   1.00000                    1202255.00000              \n",
              "75%   117787.00000               2465588.50000              \n",
              "max   395993.00000               8800172.00000              "
            ]
          },
          "metadata": {},
          "execution_count": 36
        }
      ]
    },
    {
      "cell_type": "markdown",
      "metadata": {
        "id": "6RpeO1oVtTcy"
      },
      "source": [
        "### Standardize Features"
      ]
    },
    {
      "cell_type": "markdown",
      "metadata": {
        "id": "ZGpLm4gr-AP_"
      },
      "source": [
        "Puts data on the same scale and optimizes performance and interpretability"
      ]
    },
    {
      "cell_type": "code",
      "metadata": {
        "id": "gQXBSs-pJW9X"
      },
      "source": [
        "standardize_features = \"Yes\" #@param {type: \"string\"}\n"
      ],
      "execution_count": 37,
      "outputs": []
    },
    {
      "cell_type": "code",
      "metadata": {
        "id": "G54jBXDaJZrZ"
      },
      "source": [
        "if standardize_features == \"No\":\n",
        "  X_transform_stand = X_transform\n",
        "elif standardize_features == \"Yes\":\n",
        "  #scaler = StandardScaler()\n",
        "  scaler = MinMaxScaler()\n",
        "  #standardized_transform = scaler.fit_transform(X_transform)\n",
        "  standardized_transform = MinMaxScaler().fit_transform(X_transform)\n",
        "  X_transform_stand = pd.DataFrame(standardized_transform, columns = X.columns)\n",
        "else:\n",
        "  X_transform_stand = X_transform"
      ],
      "execution_count": 38,
      "outputs": []
    },
    {
      "cell_type": "code",
      "metadata": {
        "id": "l4NBSo5JYQoW",
        "colab": {
          "base_uri": "https://localhost:8080/"
        },
        "outputId": "d30c5ac9-f723-481c-a768-4b3581e446b7"
      },
      "source": [
        "X_transform_stand.columns"
      ],
      "execution_count": 39,
      "outputs": [
        {
          "output_type": "execute_result",
          "data": {
            "text/plain": [
              "Index(['Brand_x_Core_x_NC_clicks', 'The_Trade_Desk_x_Audio_x_AWA_imps',\n",
              "       'DBM_x_Display_x_RTG_imps', 'Amazon_x_Display_x_AWA_imps',\n",
              "       'DBM_x_Video_x_AWA_imps', 'The_Trade_Desk_x_Display_x_AWA_imps',\n",
              "       'Brand_x_RMKT_x_EC_clicks', 'OTHER_x_Display_x_AWA_imps',\n",
              "       'Amazon_x_Display_x_RTG_imps', 'DBM_x_Display_x_ACQ_imps',\n",
              "       'Oath_x_Display_x_AWA_imps', 'DBM_x_Display_x_AWA_imps'],\n",
              "      dtype='object')"
            ]
          },
          "metadata": {},
          "execution_count": 39
        }
      ]
    },
    {
      "cell_type": "markdown",
      "metadata": {
        "id": "rG_GLgoutTUu"
      },
      "source": [
        "###Run regression results to review p-values for data reduction only"
      ]
    },
    {
      "cell_type": "code",
      "metadata": {
        "id": "hg1p1w02n-RX",
        "colab": {
          "base_uri": "https://localhost:8080/",
          "height": 651
        },
        "outputId": "827b8035-e518-46cf-9682-e95e0c285a8d"
      },
      "source": [
        "# add column of 1's to estimate intercept parameter\n",
        "X_transform_stand = sm.add_constant(X_transform_stand) \n",
        "\n",
        "# define Y\n",
        "Y = featureset_df[[KPI_COL]]\n",
        "\n",
        "# run OLS model using statsmodels package for p-values\n",
        "model = sm.OLS(Y, X_transform_stand)\n",
        "results = model.fit()\n",
        "predictions = model.predict(results.params) \n",
        "\n",
        "print_model = results.summary()\n",
        "print_model"
      ],
      "execution_count": 40,
      "outputs": [
        {
          "output_type": "execute_result",
          "data": {
            "text/html": [
              "<table class=\"simpletable\">\n",
              "<caption>OLS Regression Results</caption>\n",
              "<tr>\n",
              "  <th>Dep. Variable:</th>      <td>new_accounts</td>   <th>  R-squared:         </th> <td>   0.762</td> \n",
              "</tr>\n",
              "<tr>\n",
              "  <th>Model:</th>                   <td>OLS</td>       <th>  Adj. R-squared:    </th> <td>   0.757</td> \n",
              "</tr>\n",
              "<tr>\n",
              "  <th>Method:</th>             <td>Least Squares</td>  <th>  F-statistic:       </th> <td>   158.3</td> \n",
              "</tr>\n",
              "<tr>\n",
              "  <th>Date:</th>             <td>Wed, 22 Sep 2021</td> <th>  Prob (F-statistic):</th> <td>4.86e-176</td>\n",
              "</tr>\n",
              "<tr>\n",
              "  <th>Time:</th>                 <td>19:59:15</td>     <th>  Log-Likelihood:    </th> <td> -4146.5</td> \n",
              "</tr>\n",
              "<tr>\n",
              "  <th>No. Observations:</th>      <td>   607</td>      <th>  AIC:               </th> <td>   8319.</td> \n",
              "</tr>\n",
              "<tr>\n",
              "  <th>Df Residuals:</th>          <td>   594</td>      <th>  BIC:               </th> <td>   8376.</td> \n",
              "</tr>\n",
              "<tr>\n",
              "  <th>Df Model:</th>              <td>    12</td>      <th>                     </th>     <td> </td>    \n",
              "</tr>\n",
              "<tr>\n",
              "  <th>Covariance Type:</th>      <td>nonrobust</td>    <th>                     </th>     <td> </td>    \n",
              "</tr>\n",
              "</table>\n",
              "<table class=\"simpletable\">\n",
              "<tr>\n",
              "                   <td></td>                      <th>coef</th>     <th>std err</th>      <th>t</th>      <th>P>|t|</th>  <th>[0.025</th>    <th>0.975]</th>  \n",
              "</tr>\n",
              "<tr>\n",
              "  <th>const</th>                               <td>  611.8056</td> <td>   43.665</td> <td>   14.011</td> <td> 0.000</td> <td>  526.049</td> <td>  697.562</td>\n",
              "</tr>\n",
              "<tr>\n",
              "  <th>Brand_x_Core_x_NC_clicks</th>            <td> 2242.3324</td> <td>   69.485</td> <td>   32.271</td> <td> 0.000</td> <td> 2105.866</td> <td> 2378.799</td>\n",
              "</tr>\n",
              "<tr>\n",
              "  <th>The_Trade_Desk_x_Audio_x_AWA_imps</th>   <td>   30.8676</td> <td>  116.315</td> <td>    0.265</td> <td> 0.791</td> <td> -197.572</td> <td>  259.307</td>\n",
              "</tr>\n",
              "<tr>\n",
              "  <th>DBM_x_Display_x_RTG_imps</th>            <td>  215.9317</td> <td>   49.950</td> <td>    4.323</td> <td> 0.000</td> <td>  117.831</td> <td>  314.032</td>\n",
              "</tr>\n",
              "<tr>\n",
              "  <th>Amazon_x_Display_x_AWA_imps</th>         <td>  340.3548</td> <td>   52.757</td> <td>    6.451</td> <td> 0.000</td> <td>  236.741</td> <td>  443.969</td>\n",
              "</tr>\n",
              "<tr>\n",
              "  <th>DBM_x_Video_x_AWA_imps</th>              <td>  614.2961</td> <td>  105.247</td> <td>    5.837</td> <td> 0.000</td> <td>  407.594</td> <td>  820.998</td>\n",
              "</tr>\n",
              "<tr>\n",
              "  <th>The_Trade_Desk_x_Display_x_AWA_imps</th> <td>  434.4785</td> <td>   63.857</td> <td>    6.804</td> <td> 0.000</td> <td>  309.065</td> <td>  559.892</td>\n",
              "</tr>\n",
              "<tr>\n",
              "  <th>Brand_x_RMKT_x_EC_clicks</th>            <td>-1023.9144</td> <td>   81.400</td> <td>  -12.579</td> <td> 0.000</td> <td>-1183.782</td> <td> -864.047</td>\n",
              "</tr>\n",
              "<tr>\n",
              "  <th>OTHER_x_Display_x_AWA_imps</th>          <td> -177.1225</td> <td>   53.169</td> <td>   -3.331</td> <td> 0.001</td> <td> -281.545</td> <td>  -72.700</td>\n",
              "</tr>\n",
              "<tr>\n",
              "  <th>Amazon_x_Display_x_RTG_imps</th>         <td> -132.5752</td> <td>   82.118</td> <td>   -1.614</td> <td> 0.107</td> <td> -293.852</td> <td>   28.702</td>\n",
              "</tr>\n",
              "<tr>\n",
              "  <th>DBM_x_Display_x_ACQ_imps</th>            <td>  644.9301</td> <td>  111.182</td> <td>    5.801</td> <td> 0.000</td> <td>  426.573</td> <td>  863.287</td>\n",
              "</tr>\n",
              "<tr>\n",
              "  <th>Oath_x_Display_x_AWA_imps</th>           <td>  163.9196</td> <td>   57.537</td> <td>    2.849</td> <td> 0.005</td> <td>   50.919</td> <td>  276.921</td>\n",
              "</tr>\n",
              "<tr>\n",
              "  <th>DBM_x_Display_x_AWA_imps</th>            <td>-1073.2664</td> <td>   99.803</td> <td>  -10.754</td> <td> 0.000</td> <td>-1269.276</td> <td> -877.257</td>\n",
              "</tr>\n",
              "</table>\n",
              "<table class=\"simpletable\">\n",
              "<tr>\n",
              "  <th>Omnibus:</th>       <td>11.832</td> <th>  Durbin-Watson:     </th> <td>   1.866</td>\n",
              "</tr>\n",
              "<tr>\n",
              "  <th>Prob(Omnibus):</th> <td> 0.003</td> <th>  Jarque-Bera (JB):  </th> <td>  15.165</td>\n",
              "</tr>\n",
              "<tr>\n",
              "  <th>Skew:</th>          <td>-0.212</td> <th>  Prob(JB):          </th> <td>0.000509</td>\n",
              "</tr>\n",
              "<tr>\n",
              "  <th>Kurtosis:</th>      <td> 3.648</td> <th>  Cond. No.          </th> <td>    22.3</td>\n",
              "</tr>\n",
              "</table><br/><br/>Warnings:<br/>[1] Standard Errors assume that the covariance matrix of the errors is correctly specified."
            ],
            "text/plain": [
              "<class 'statsmodels.iolib.summary.Summary'>\n",
              "\"\"\"\n",
              "                            OLS Regression Results                            \n",
              "==============================================================================\n",
              "Dep. Variable:           new_accounts   R-squared:                       0.762\n",
              "Model:                            OLS   Adj. R-squared:                  0.757\n",
              "Method:                 Least Squares   F-statistic:                     158.3\n",
              "Date:                Wed, 22 Sep 2021   Prob (F-statistic):          4.86e-176\n",
              "Time:                        19:59:15   Log-Likelihood:                -4146.5\n",
              "No. Observations:                 607   AIC:                             8319.\n",
              "Df Residuals:                     594   BIC:                             8376.\n",
              "Df Model:                          12                                         \n",
              "Covariance Type:            nonrobust                                         \n",
              "=======================================================================================================\n",
              "                                          coef    std err          t      P>|t|      [0.025      0.975]\n",
              "-------------------------------------------------------------------------------------------------------\n",
              "const                                 611.8056     43.665     14.011      0.000     526.049     697.562\n",
              "Brand_x_Core_x_NC_clicks             2242.3324     69.485     32.271      0.000    2105.866    2378.799\n",
              "The_Trade_Desk_x_Audio_x_AWA_imps      30.8676    116.315      0.265      0.791    -197.572     259.307\n",
              "DBM_x_Display_x_RTG_imps              215.9317     49.950      4.323      0.000     117.831     314.032\n",
              "Amazon_x_Display_x_AWA_imps           340.3548     52.757      6.451      0.000     236.741     443.969\n",
              "DBM_x_Video_x_AWA_imps                614.2961    105.247      5.837      0.000     407.594     820.998\n",
              "The_Trade_Desk_x_Display_x_AWA_imps   434.4785     63.857      6.804      0.000     309.065     559.892\n",
              "Brand_x_RMKT_x_EC_clicks            -1023.9144     81.400    -12.579      0.000   -1183.782    -864.047\n",
              "OTHER_x_Display_x_AWA_imps           -177.1225     53.169     -3.331      0.001    -281.545     -72.700\n",
              "Amazon_x_Display_x_RTG_imps          -132.5752     82.118     -1.614      0.107    -293.852      28.702\n",
              "DBM_x_Display_x_ACQ_imps              644.9301    111.182      5.801      0.000     426.573     863.287\n",
              "Oath_x_Display_x_AWA_imps             163.9196     57.537      2.849      0.005      50.919     276.921\n",
              "DBM_x_Display_x_AWA_imps            -1073.2664     99.803    -10.754      0.000   -1269.276    -877.257\n",
              "==============================================================================\n",
              "Omnibus:                       11.832   Durbin-Watson:                   1.866\n",
              "Prob(Omnibus):                  0.003   Jarque-Bera (JB):               15.165\n",
              "Skew:                          -0.212   Prob(JB):                     0.000509\n",
              "Kurtosis:                       3.648   Cond. No.                         22.3\n",
              "==============================================================================\n",
              "\n",
              "Warnings:\n",
              "[1] Standard Errors assume that the covariance matrix of the errors is correctly specified.\n",
              "\"\"\""
            ]
          },
          "metadata": {},
          "execution_count": 40
        }
      ]
    },
    {
      "cell_type": "markdown",
      "metadata": {
        "id": "QkX-fbdhvYUi"
      },
      "source": [
        "#### Implement FINAL feature selection logic based on analysis of above results\n",
        "\n",
        "Set your p-Value threshold. This removes features with P values greater than the threshold below. For example: \n",
        "*   p-Value <= .1 / 90% significance "
      ]
    },
    {
      "cell_type": "code",
      "metadata": {
        "id": "CZzBMh97n-Oy"
      },
      "source": [
        "#@title Input p-Value threshold\n",
        "P_THRESHOLD =  .1 #@param {type: \"number\"}"
      ],
      "execution_count": 41,
      "outputs": []
    },
    {
      "cell_type": "code",
      "metadata": {
        "id": "fhPHODfgvhu8",
        "colab": {
          "base_uri": "https://localhost:8080/"
        },
        "outputId": "51317c96-a48c-4397-ae60-d6d1b1ef50d4"
      },
      "source": [
        "# FINAL feature selection/data reduction\n",
        "results_df = (results.summary2().tables[1])\n",
        "sig_input = list(results_df[results_df['P>|t|']<=P_THRESHOLD].index)[1:]\n",
        "#X_inputs = X_transform_stand[sig_input] \n",
        "X_inputs = X_transform_stand\n",
        "X_inputs.columns\n"
      ],
      "execution_count": 42,
      "outputs": [
        {
          "output_type": "execute_result",
          "data": {
            "text/plain": [
              "Index(['const', 'Brand_x_Core_x_NC_clicks',\n",
              "       'The_Trade_Desk_x_Audio_x_AWA_imps', 'DBM_x_Display_x_RTG_imps',\n",
              "       'Amazon_x_Display_x_AWA_imps', 'DBM_x_Video_x_AWA_imps',\n",
              "       'The_Trade_Desk_x_Display_x_AWA_imps', 'Brand_x_RMKT_x_EC_clicks',\n",
              "       'OTHER_x_Display_x_AWA_imps', 'Amazon_x_Display_x_RTG_imps',\n",
              "       'DBM_x_Display_x_ACQ_imps', 'Oath_x_Display_x_AWA_imps',\n",
              "       'DBM_x_Display_x_AWA_imps'],\n",
              "      dtype='object')"
            ]
          },
          "metadata": {},
          "execution_count": 42
        }
      ]
    },
    {
      "cell_type": "markdown",
      "metadata": {
        "id": "zzWDuUpSwoTT"
      },
      "source": [
        "## Steps 4 & 5 Reduce Feature Set (Optional)\n",
        "\n",
        "Feature selection methods if > 50 inputs remain after 3-step data reduction process"
      ]
    },
    {
      "cell_type": "code",
      "metadata": {
        "id": "KOW60WVmZkV6",
        "colab": {
          "base_uri": "https://localhost:8080/",
          "height": 313
        },
        "outputId": "4b61b9a7-e1b1-457a-f0e4-bd5fe5c81c10"
      },
      "source": [
        "X_inputs.describe()"
      ],
      "execution_count": 43,
      "outputs": [
        {
          "output_type": "execute_result",
          "data": {
            "text/html": [
              "<div>\n",
              "<style scoped>\n",
              "    .dataframe tbody tr th:only-of-type {\n",
              "        vertical-align: middle;\n",
              "    }\n",
              "\n",
              "    .dataframe tbody tr th {\n",
              "        vertical-align: top;\n",
              "    }\n",
              "\n",
              "    .dataframe thead th {\n",
              "        text-align: right;\n",
              "    }\n",
              "</style>\n",
              "<table border=\"1\" class=\"dataframe\">\n",
              "  <thead>\n",
              "    <tr style=\"text-align: right;\">\n",
              "      <th></th>\n",
              "      <th>const</th>\n",
              "      <th>Brand_x_Core_x_NC_clicks</th>\n",
              "      <th>The_Trade_Desk_x_Audio_x_AWA_imps</th>\n",
              "      <th>DBM_x_Display_x_RTG_imps</th>\n",
              "      <th>Amazon_x_Display_x_AWA_imps</th>\n",
              "      <th>DBM_x_Video_x_AWA_imps</th>\n",
              "      <th>The_Trade_Desk_x_Display_x_AWA_imps</th>\n",
              "      <th>Brand_x_RMKT_x_EC_clicks</th>\n",
              "      <th>OTHER_x_Display_x_AWA_imps</th>\n",
              "      <th>Amazon_x_Display_x_RTG_imps</th>\n",
              "      <th>DBM_x_Display_x_ACQ_imps</th>\n",
              "      <th>Oath_x_Display_x_AWA_imps</th>\n",
              "      <th>DBM_x_Display_x_AWA_imps</th>\n",
              "    </tr>\n",
              "  </thead>\n",
              "  <tbody>\n",
              "    <tr>\n",
              "      <th>count</th>\n",
              "      <td>607.00000</td>\n",
              "      <td>607.00000</td>\n",
              "      <td>607.00000</td>\n",
              "      <td>607.00000</td>\n",
              "      <td>607.00000</td>\n",
              "      <td>607.00000</td>\n",
              "      <td>607.00000</td>\n",
              "      <td>607.00000</td>\n",
              "      <td>607.00000</td>\n",
              "      <td>607.00000</td>\n",
              "      <td>607.00000</td>\n",
              "      <td>607.00000</td>\n",
              "      <td>607.00000</td>\n",
              "    </tr>\n",
              "    <tr>\n",
              "      <th>mean</th>\n",
              "      <td>1.00000</td>\n",
              "      <td>0.47118</td>\n",
              "      <td>0.11441</td>\n",
              "      <td>0.57972</td>\n",
              "      <td>0.14667</td>\n",
              "      <td>0.12983</td>\n",
              "      <td>0.07023</td>\n",
              "      <td>0.28329</td>\n",
              "      <td>0.28399</td>\n",
              "      <td>0.21308</td>\n",
              "      <td>0.18824</td>\n",
              "      <td>0.16550</td>\n",
              "      <td>0.22028</td>\n",
              "    </tr>\n",
              "    <tr>\n",
              "      <th>std</th>\n",
              "      <td>0.00000</td>\n",
              "      <td>0.16844</td>\n",
              "      <td>0.15197</td>\n",
              "      <td>0.20971</td>\n",
              "      <td>0.22154</td>\n",
              "      <td>0.15098</td>\n",
              "      <td>0.17215</td>\n",
              "      <td>0.20413</td>\n",
              "      <td>0.27005</td>\n",
              "      <td>0.25665</td>\n",
              "      <td>0.18653</td>\n",
              "      <td>0.22315</td>\n",
              "      <td>0.24301</td>\n",
              "    </tr>\n",
              "    <tr>\n",
              "      <th>min</th>\n",
              "      <td>1.00000</td>\n",
              "      <td>0.00000</td>\n",
              "      <td>0.00000</td>\n",
              "      <td>0.00000</td>\n",
              "      <td>0.00000</td>\n",
              "      <td>0.00000</td>\n",
              "      <td>0.00000</td>\n",
              "      <td>0.00000</td>\n",
              "      <td>0.00000</td>\n",
              "      <td>0.00000</td>\n",
              "      <td>0.00000</td>\n",
              "      <td>0.00000</td>\n",
              "      <td>0.00000</td>\n",
              "    </tr>\n",
              "    <tr>\n",
              "      <th>25%</th>\n",
              "      <td>1.00000</td>\n",
              "      <td>0.35525</td>\n",
              "      <td>0.00000</td>\n",
              "      <td>0.51710</td>\n",
              "      <td>0.00000</td>\n",
              "      <td>0.00000</td>\n",
              "      <td>0.00000</td>\n",
              "      <td>0.12363</td>\n",
              "      <td>0.06260</td>\n",
              "      <td>0.00000</td>\n",
              "      <td>0.09887</td>\n",
              "      <td>0.00000</td>\n",
              "      <td>0.03567</td>\n",
              "    </tr>\n",
              "    <tr>\n",
              "      <th>50%</th>\n",
              "      <td>1.00000</td>\n",
              "      <td>0.46720</td>\n",
              "      <td>0.05341</td>\n",
              "      <td>0.61904</td>\n",
              "      <td>0.03434</td>\n",
              "      <td>0.08333</td>\n",
              "      <td>0.00000</td>\n",
              "      <td>0.21037</td>\n",
              "      <td>0.15580</td>\n",
              "      <td>0.00000</td>\n",
              "      <td>0.13576</td>\n",
              "      <td>0.00000</td>\n",
              "      <td>0.13662</td>\n",
              "    </tr>\n",
              "    <tr>\n",
              "      <th>75%</th>\n",
              "      <td>1.00000</td>\n",
              "      <td>0.58713</td>\n",
              "      <td>0.19618</td>\n",
              "      <td>0.70289</td>\n",
              "      <td>0.23873</td>\n",
              "      <td>0.22359</td>\n",
              "      <td>0.00000</td>\n",
              "      <td>0.41195</td>\n",
              "      <td>0.49225</td>\n",
              "      <td>0.41618</td>\n",
              "      <td>0.21503</td>\n",
              "      <td>0.29745</td>\n",
              "      <td>0.28018</td>\n",
              "    </tr>\n",
              "    <tr>\n",
              "      <th>max</th>\n",
              "      <td>1.00000</td>\n",
              "      <td>1.00000</td>\n",
              "      <td>1.00000</td>\n",
              "      <td>1.00000</td>\n",
              "      <td>1.00000</td>\n",
              "      <td>1.00000</td>\n",
              "      <td>1.00000</td>\n",
              "      <td>1.00000</td>\n",
              "      <td>1.00000</td>\n",
              "      <td>1.00000</td>\n",
              "      <td>1.00000</td>\n",
              "      <td>1.00000</td>\n",
              "      <td>1.00000</td>\n",
              "    </tr>\n",
              "  </tbody>\n",
              "</table>\n",
              "</div>"
            ],
            "text/plain": [
              "          const  Brand_x_Core_x_NC_clicks  The_Trade_Desk_x_Audio_x_AWA_imps  \\\n",
              "count 607.00000 607.00000                 607.00000                            \n",
              "mean  1.00000   0.47118                   0.11441                              \n",
              "std   0.00000   0.16844                   0.15197                              \n",
              "min   1.00000   0.00000                   0.00000                              \n",
              "25%   1.00000   0.35525                   0.00000                              \n",
              "50%   1.00000   0.46720                   0.05341                              \n",
              "75%   1.00000   0.58713                   0.19618                              \n",
              "max   1.00000   1.00000                   1.00000                              \n",
              "\n",
              "       DBM_x_Display_x_RTG_imps  Amazon_x_Display_x_AWA_imps  \\\n",
              "count 607.00000                 607.00000                      \n",
              "mean  0.57972                   0.14667                        \n",
              "std   0.20971                   0.22154                        \n",
              "min   0.00000                   0.00000                        \n",
              "25%   0.51710                   0.00000                        \n",
              "50%   0.61904                   0.03434                        \n",
              "75%   0.70289                   0.23873                        \n",
              "max   1.00000                   1.00000                        \n",
              "\n",
              "       DBM_x_Video_x_AWA_imps  The_Trade_Desk_x_Display_x_AWA_imps  \\\n",
              "count 607.00000               607.00000                              \n",
              "mean  0.12983                 0.07023                                \n",
              "std   0.15098                 0.17215                                \n",
              "min   0.00000                 0.00000                                \n",
              "25%   0.00000                 0.00000                                \n",
              "50%   0.08333                 0.00000                                \n",
              "75%   0.22359                 0.00000                                \n",
              "max   1.00000                 1.00000                                \n",
              "\n",
              "       Brand_x_RMKT_x_EC_clicks  OTHER_x_Display_x_AWA_imps  \\\n",
              "count 607.00000                 607.00000                     \n",
              "mean  0.28329                   0.28399                       \n",
              "std   0.20413                   0.27005                       \n",
              "min   0.00000                   0.00000                       \n",
              "25%   0.12363                   0.06260                       \n",
              "50%   0.21037                   0.15580                       \n",
              "75%   0.41195                   0.49225                       \n",
              "max   1.00000                   1.00000                       \n",
              "\n",
              "       Amazon_x_Display_x_RTG_imps  DBM_x_Display_x_ACQ_imps  \\\n",
              "count 607.00000                    607.00000                   \n",
              "mean  0.21308                      0.18824                     \n",
              "std   0.25665                      0.18653                     \n",
              "min   0.00000                      0.00000                     \n",
              "25%   0.00000                      0.09887                     \n",
              "50%   0.00000                      0.13576                     \n",
              "75%   0.41618                      0.21503                     \n",
              "max   1.00000                      1.00000                     \n",
              "\n",
              "       Oath_x_Display_x_AWA_imps  DBM_x_Display_x_AWA_imps  \n",
              "count 607.00000                  607.00000                  \n",
              "mean  0.16550                    0.22028                    \n",
              "std   0.22315                    0.24301                    \n",
              "min   0.00000                    0.00000                    \n",
              "25%   0.00000                    0.03567                    \n",
              "50%   0.00000                    0.13662                    \n",
              "75%   0.29745                    0.28018                    \n",
              "max   1.00000                    1.00000                    "
            ]
          },
          "metadata": {},
          "execution_count": 43
        }
      ]
    },
    {
      "cell_type": "code",
      "metadata": {
        "id": "d4vmZl_M-dG5",
        "colab": {
          "base_uri": "https://localhost:8080/"
        },
        "outputId": "6ff18eb9-ac1c-4448-ee0f-f67f156c68a4"
      },
      "source": [
        "len(X_inputs.columns)"
      ],
      "execution_count": 44,
      "outputs": [
        {
          "output_type": "execute_result",
          "data": {
            "text/plain": [
              "13"
            ]
          },
          "metadata": {},
          "execution_count": 44
        }
      ]
    },
    {
      "cell_type": "markdown",
      "metadata": {
        "id": "U291KlhoxAZ0"
      },
      "source": [
        "###Step 4: KBest\n",
        "\n",
        "Top features based on univariate testing\n"
      ]
    },
    {
      "cell_type": "code",
      "metadata": {
        "id": "OiFbWRHVyBD9",
        "colab": {
          "base_uri": "https://localhost:8080/"
        },
        "outputId": "f5d54324-601a-4be8-b3b5-5cb975b41789"
      },
      "source": [
        "k_best = SelectKBest(f_regression, k=len(X_inputs.columns))\n",
        "k_best.fit_transform(X_inputs, Y)"
      ],
      "execution_count": 45,
      "outputs": [
        {
          "output_type": "stream",
          "name": "stderr",
          "text": [
            "/usr/local/lib/python3.7/dist-packages/sklearn/utils/validation.py:760: DataConversionWarning: A column-vector y was passed when a 1d array was expected. Please change the shape of y to (n_samples, ), for example using ravel().\n",
            "  y = column_or_1d(y, warn=True)\n",
            "/usr/local/lib/python3.7/dist-packages/sklearn/feature_selection/_univariate_selection.py:299: RuntimeWarning: divide by zero encountered in true_divide\n",
            "  corr /= X_norms\n",
            "/usr/local/lib/python3.7/dist-packages/sklearn/feature_selection/_univariate_selection.py:304: RuntimeWarning: invalid value encountered in true_divide\n",
            "  F = corr ** 2 / (1 - corr ** 2) * degrees_of_freedom\n"
          ]
        },
        {
          "output_type": "execute_result",
          "data": {
            "text/plain": [
              "array([[1.00000000e+00, 6.71621028e-01, 2.66615055e-01, ...,\n",
              "        8.91655177e-01, 0.00000000e+00, 9.54580888e-01],\n",
              "       [1.00000000e+00, 4.02987260e-01, 2.01801053e-01, ...,\n",
              "        1.97090376e-01, 0.00000000e+00, 2.80029186e-01],\n",
              "       [1.00000000e+00, 8.89588520e-02, 1.32148818e-01, ...,\n",
              "        2.11226183e-01, 0.00000000e+00, 1.46911901e-01],\n",
              "       ...,\n",
              "       [1.00000000e+00, 5.07687802e-01, 0.00000000e+00, ...,\n",
              "        1.74856051e-01, 3.01232598e-01, 0.00000000e+00],\n",
              "       [1.00000000e+00, 6.12241910e-01, 0.00000000e+00, ...,\n",
              "        1.30444262e-01, 3.25553735e-01, 2.55990451e-02],\n",
              "       [1.00000000e+00, 5.83467565e-01, 0.00000000e+00, ...,\n",
              "        1.54929562e-01, 4.00906077e-01, 9.09073141e-07]])"
            ]
          },
          "metadata": {},
          "execution_count": 45
        }
      ]
    },
    {
      "cell_type": "markdown",
      "metadata": {
        "id": "SkY5Ob3exo9R"
      },
      "source": [
        "###Step 5: Recursive Feature Elimination (RFE)\n",
        "\n",
        "Rank features based on recursive model testing"
      ]
    },
    {
      "cell_type": "code",
      "metadata": {
        "id": "edKuZ2bCvu-C",
        "colab": {
          "base_uri": "https://localhost:8080/"
        },
        "outputId": "e9db836d-8525-4c97-c57e-60fe4cdbc054"
      },
      "source": [
        "lm = LinearRegression()\n",
        "rfe = RFE(lm, 1)\n",
        "X_rfe = rfe.fit_transform(X_inputs,Y)\n",
        "lm.fit(X_rfe,Y)"
      ],
      "execution_count": 46,
      "outputs": [
        {
          "output_type": "stream",
          "name": "stderr",
          "text": [
            "/usr/local/lib/python3.7/dist-packages/sklearn/utils/validation.py:760: DataConversionWarning: A column-vector y was passed when a 1d array was expected. Please change the shape of y to (n_samples, ), for example using ravel().\n",
            "  y = column_or_1d(y, warn=True)\n"
          ]
        },
        {
          "output_type": "execute_result",
          "data": {
            "text/plain": [
              "LinearRegression(copy_X=True, fit_intercept=True, n_jobs=None, normalize=False)"
            ]
          },
          "metadata": {},
          "execution_count": 46
        }
      ]
    },
    {
      "cell_type": "markdown",
      "metadata": {
        "id": "GLSvHVjgzuvi"
      },
      "source": [
        "Output results of optional feature selection process"
      ]
    },
    {
      "cell_type": "code",
      "metadata": {
        "id": "qkMlJ2NIvu6P",
        "colab": {
          "base_uri": "https://localhost:8080/",
          "height": 445
        },
        "outputId": "6b57271b-a6cd-4ef8-dd0b-ce885ca8cd62"
      },
      "source": [
        "# create dataframe with KBest and RFE results\n",
        "opt_datared_df = pd.DataFrame({'feature': X_inputs.columns, 'p_value': k_best.pvalues_, 'rfe_rank': rfe.ranking_}).sort_values('p_value')\n",
        "opt_datared_df"
      ],
      "execution_count": 47,
      "outputs": [
        {
          "output_type": "execute_result",
          "data": {
            "text/html": [
              "<div>\n",
              "<style scoped>\n",
              "    .dataframe tbody tr th:only-of-type {\n",
              "        vertical-align: middle;\n",
              "    }\n",
              "\n",
              "    .dataframe tbody tr th {\n",
              "        vertical-align: top;\n",
              "    }\n",
              "\n",
              "    .dataframe thead th {\n",
              "        text-align: right;\n",
              "    }\n",
              "</style>\n",
              "<table border=\"1\" class=\"dataframe\">\n",
              "  <thead>\n",
              "    <tr style=\"text-align: right;\">\n",
              "      <th></th>\n",
              "      <th>feature</th>\n",
              "      <th>p_value</th>\n",
              "      <th>rfe_rank</th>\n",
              "    </tr>\n",
              "  </thead>\n",
              "  <tbody>\n",
              "    <tr>\n",
              "      <th>1</th>\n",
              "      <td>Brand_x_Core_x_NC_clicks</td>\n",
              "      <td>0.00000</td>\n",
              "      <td>1</td>\n",
              "    </tr>\n",
              "    <tr>\n",
              "      <th>6</th>\n",
              "      <td>The_Trade_Desk_x_Display_x_AWA_imps</td>\n",
              "      <td>0.00000</td>\n",
              "      <td>6</td>\n",
              "    </tr>\n",
              "    <tr>\n",
              "      <th>4</th>\n",
              "      <td>Amazon_x_Display_x_AWA_imps</td>\n",
              "      <td>0.00000</td>\n",
              "      <td>8</td>\n",
              "    </tr>\n",
              "    <tr>\n",
              "      <th>3</th>\n",
              "      <td>DBM_x_Display_x_RTG_imps</td>\n",
              "      <td>0.00000</td>\n",
              "      <td>7</td>\n",
              "    </tr>\n",
              "    <tr>\n",
              "      <th>5</th>\n",
              "      <td>DBM_x_Video_x_AWA_imps</td>\n",
              "      <td>0.00000</td>\n",
              "      <td>2</td>\n",
              "    </tr>\n",
              "    <tr>\n",
              "      <th>2</th>\n",
              "      <td>The_Trade_Desk_x_Audio_x_AWA_imps</td>\n",
              "      <td>0.00000</td>\n",
              "      <td>12</td>\n",
              "    </tr>\n",
              "    <tr>\n",
              "      <th>8</th>\n",
              "      <td>OTHER_x_Display_x_AWA_imps</td>\n",
              "      <td>0.00002</td>\n",
              "      <td>9</td>\n",
              "    </tr>\n",
              "    <tr>\n",
              "      <th>11</th>\n",
              "      <td>Oath_x_Display_x_AWA_imps</td>\n",
              "      <td>0.00003</td>\n",
              "      <td>10</td>\n",
              "    </tr>\n",
              "    <tr>\n",
              "      <th>9</th>\n",
              "      <td>Amazon_x_Display_x_RTG_imps</td>\n",
              "      <td>0.00127</td>\n",
              "      <td>11</td>\n",
              "    </tr>\n",
              "    <tr>\n",
              "      <th>7</th>\n",
              "      <td>Brand_x_RMKT_x_EC_clicks</td>\n",
              "      <td>0.00294</td>\n",
              "      <td>4</td>\n",
              "    </tr>\n",
              "    <tr>\n",
              "      <th>12</th>\n",
              "      <td>DBM_x_Display_x_AWA_imps</td>\n",
              "      <td>0.00594</td>\n",
              "      <td>3</td>\n",
              "    </tr>\n",
              "    <tr>\n",
              "      <th>10</th>\n",
              "      <td>DBM_x_Display_x_ACQ_imps</td>\n",
              "      <td>0.06582</td>\n",
              "      <td>5</td>\n",
              "    </tr>\n",
              "    <tr>\n",
              "      <th>0</th>\n",
              "      <td>const</td>\n",
              "      <td>nan</td>\n",
              "      <td>13</td>\n",
              "    </tr>\n",
              "  </tbody>\n",
              "</table>\n",
              "</div>"
            ],
            "text/plain": [
              "                                feature  p_value  rfe_rank\n",
              "1   Brand_x_Core_x_NC_clicks            0.00000   1       \n",
              "6   The_Trade_Desk_x_Display_x_AWA_imps 0.00000   6       \n",
              "4   Amazon_x_Display_x_AWA_imps         0.00000   8       \n",
              "3   DBM_x_Display_x_RTG_imps            0.00000   7       \n",
              "5   DBM_x_Video_x_AWA_imps              0.00000   2       \n",
              "2   The_Trade_Desk_x_Audio_x_AWA_imps   0.00000   12      \n",
              "8   OTHER_x_Display_x_AWA_imps          0.00002   9       \n",
              "11  Oath_x_Display_x_AWA_imps           0.00003   10      \n",
              "9   Amazon_x_Display_x_RTG_imps         0.00127   11      \n",
              "7   Brand_x_RMKT_x_EC_clicks            0.00294   4       \n",
              "12  DBM_x_Display_x_AWA_imps            0.00594   3       \n",
              "10  DBM_x_Display_x_ACQ_imps            0.06582   5       \n",
              "0   const                               nan       13      "
            ]
          },
          "metadata": {},
          "execution_count": 47
        }
      ]
    },
    {
      "cell_type": "markdown",
      "metadata": {
        "id": "ZOeTyAtZDbua"
      },
      "source": [
        ""
      ]
    },
    {
      "cell_type": "markdown",
      "metadata": {
        "id": "8_RNuamx0nru"
      },
      "source": [
        "#### Implement OPTIONAL feature selection logic based on analysis of above results\n",
        "Set your p-Value threshold. For example: \n",
        "*   p-Value <= .1 / 90% significance OR\n",
        "*   top 75%+ of ranking (e.g. top 15 of total 20)\n"
      ]
    },
    {
      "cell_type": "code",
      "metadata": {
        "id": "40yPQEvQvu1x"
      },
      "source": [
        "#@title Input p-Value and rank thresholds\n",
        "P_THRESHOLD_OPT =  .1 #@param {type: \"number\"}\n",
        "RANK_THRESHOLD =  1 #@param {type: \"number\"}"
      ],
      "execution_count": 48,
      "outputs": []
    },
    {
      "cell_type": "code",
      "metadata": {
        "id": "TNHnJ7ROvuy8"
      },
      "source": [
        "# OPTIONAL feature selection/data reduction\n",
        "\n",
        "opt_reduction = opt_datared_df[((opt_datared_df['p_value']<=P_THRESHOLD_OPT) | \n",
        "                             (opt_datared_df['rfe_rank'] <= RANK_THRESHOLD))] "
      ],
      "execution_count": 49,
      "outputs": []
    },
    {
      "cell_type": "code",
      "metadata": {
        "id": "zJ_XOk3VCXIi"
      },
      "source": [
        "# create list of FINAL model inputs, overwriting previous input feature list.\n",
        "opt_inputs =[]   \n",
        "\n",
        "for index, rows in opt_reduction.iterrows(): # iterate over each row \n",
        "    opt_inputs.append(rows.feature) \n",
        "\n",
        "X_inputs = X_inputs[opt_inputs]"
      ],
      "execution_count": 50,
      "outputs": []
    },
    {
      "cell_type": "markdown",
      "metadata": {
        "id": "yc7SmJGmDjPr"
      },
      "source": [
        "# Compile Final Dataset"
      ]
    },
    {
      "cell_type": "code",
      "metadata": {
        "id": "Xo2qUuIlDlQW",
        "colab": {
          "base_uri": "https://localhost:8080/",
          "height": 221
        },
        "outputId": "fd87b6ca-d766-4438-81c4-17b59cc78a41"
      },
      "source": [
        "data = X_inputs\n",
        "data[KPI_COL] = Y\n",
        "data.head()"
      ],
      "execution_count": 51,
      "outputs": [
        {
          "output_type": "execute_result",
          "data": {
            "text/html": [
              "<div>\n",
              "<style scoped>\n",
              "    .dataframe tbody tr th:only-of-type {\n",
              "        vertical-align: middle;\n",
              "    }\n",
              "\n",
              "    .dataframe tbody tr th {\n",
              "        vertical-align: top;\n",
              "    }\n",
              "\n",
              "    .dataframe thead th {\n",
              "        text-align: right;\n",
              "    }\n",
              "</style>\n",
              "<table border=\"1\" class=\"dataframe\">\n",
              "  <thead>\n",
              "    <tr style=\"text-align: right;\">\n",
              "      <th></th>\n",
              "      <th>Brand_x_Core_x_NC_clicks</th>\n",
              "      <th>The_Trade_Desk_x_Display_x_AWA_imps</th>\n",
              "      <th>Amazon_x_Display_x_AWA_imps</th>\n",
              "      <th>DBM_x_Display_x_RTG_imps</th>\n",
              "      <th>DBM_x_Video_x_AWA_imps</th>\n",
              "      <th>The_Trade_Desk_x_Audio_x_AWA_imps</th>\n",
              "      <th>OTHER_x_Display_x_AWA_imps</th>\n",
              "      <th>Oath_x_Display_x_AWA_imps</th>\n",
              "      <th>Amazon_x_Display_x_RTG_imps</th>\n",
              "      <th>Brand_x_RMKT_x_EC_clicks</th>\n",
              "      <th>DBM_x_Display_x_AWA_imps</th>\n",
              "      <th>DBM_x_Display_x_ACQ_imps</th>\n",
              "      <th>new_accounts</th>\n",
              "    </tr>\n",
              "  </thead>\n",
              "  <tbody>\n",
              "    <tr>\n",
              "      <th>0</th>\n",
              "      <td>0.67162</td>\n",
              "      <td>0.00000</td>\n",
              "      <td>0.11681</td>\n",
              "      <td>0.69634</td>\n",
              "      <td>0.63202</td>\n",
              "      <td>0.26662</td>\n",
              "      <td>0.25650</td>\n",
              "      <td>0.00000</td>\n",
              "      <td>0.79894</td>\n",
              "      <td>0.23069</td>\n",
              "      <td>0.95458</td>\n",
              "      <td>0.89166</td>\n",
              "      <td>1653</td>\n",
              "    </tr>\n",
              "    <tr>\n",
              "      <th>1</th>\n",
              "      <td>0.40299</td>\n",
              "      <td>0.00000</td>\n",
              "      <td>0.28042</td>\n",
              "      <td>0.49411</td>\n",
              "      <td>0.09443</td>\n",
              "      <td>0.20180</td>\n",
              "      <td>0.69262</td>\n",
              "      <td>0.00000</td>\n",
              "      <td>0.53563</td>\n",
              "      <td>0.10479</td>\n",
              "      <td>0.28003</td>\n",
              "      <td>0.19709</td>\n",
              "      <td>1466</td>\n",
              "    </tr>\n",
              "    <tr>\n",
              "      <th>2</th>\n",
              "      <td>0.08896</td>\n",
              "      <td>0.00000</td>\n",
              "      <td>0.22092</td>\n",
              "      <td>0.53878</td>\n",
              "      <td>0.04362</td>\n",
              "      <td>0.13215</td>\n",
              "      <td>0.64816</td>\n",
              "      <td>0.00000</td>\n",
              "      <td>0.58880</td>\n",
              "      <td>0.02953</td>\n",
              "      <td>0.14691</td>\n",
              "      <td>0.21123</td>\n",
              "      <td>604</td>\n",
              "    </tr>\n",
              "    <tr>\n",
              "      <th>3</th>\n",
              "      <td>0.21182</td>\n",
              "      <td>0.00000</td>\n",
              "      <td>0.53228</td>\n",
              "      <td>0.65453</td>\n",
              "      <td>0.09934</td>\n",
              "      <td>0.21214</td>\n",
              "      <td>0.88852</td>\n",
              "      <td>0.00000</td>\n",
              "      <td>0.69746</td>\n",
              "      <td>0.05551</td>\n",
              "      <td>0.30710</td>\n",
              "      <td>0.19238</td>\n",
              "      <td>891</td>\n",
              "    </tr>\n",
              "    <tr>\n",
              "      <th>4</th>\n",
              "      <td>0.35781</td>\n",
              "      <td>0.00000</td>\n",
              "      <td>0.11934</td>\n",
              "      <td>0.53687</td>\n",
              "      <td>0.53733</td>\n",
              "      <td>0.25082</td>\n",
              "      <td>0.04615</td>\n",
              "      <td>0.00000</td>\n",
              "      <td>0.16582</td>\n",
              "      <td>0.13340</td>\n",
              "      <td>0.64651</td>\n",
              "      <td>0.67209</td>\n",
              "      <td>1023</td>\n",
              "    </tr>\n",
              "  </tbody>\n",
              "</table>\n",
              "</div>"
            ],
            "text/plain": [
              "   Brand_x_Core_x_NC_clicks  The_Trade_Desk_x_Display_x_AWA_imps  \\\n",
              "0 0.67162                   0.00000                                \n",
              "1 0.40299                   0.00000                                \n",
              "2 0.08896                   0.00000                                \n",
              "3 0.21182                   0.00000                                \n",
              "4 0.35781                   0.00000                                \n",
              "\n",
              "   Amazon_x_Display_x_AWA_imps  DBM_x_Display_x_RTG_imps  \\\n",
              "0 0.11681                      0.69634                     \n",
              "1 0.28042                      0.49411                     \n",
              "2 0.22092                      0.53878                     \n",
              "3 0.53228                      0.65453                     \n",
              "4 0.11934                      0.53687                     \n",
              "\n",
              "   DBM_x_Video_x_AWA_imps  The_Trade_Desk_x_Audio_x_AWA_imps  \\\n",
              "0 0.63202                 0.26662                              \n",
              "1 0.09443                 0.20180                              \n",
              "2 0.04362                 0.13215                              \n",
              "3 0.09934                 0.21214                              \n",
              "4 0.53733                 0.25082                              \n",
              "\n",
              "   OTHER_x_Display_x_AWA_imps  Oath_x_Display_x_AWA_imps  \\\n",
              "0 0.25650                     0.00000                      \n",
              "1 0.69262                     0.00000                      \n",
              "2 0.64816                     0.00000                      \n",
              "3 0.88852                     0.00000                      \n",
              "4 0.04615                     0.00000                      \n",
              "\n",
              "   Amazon_x_Display_x_RTG_imps  Brand_x_RMKT_x_EC_clicks  \\\n",
              "0 0.79894                      0.23069                     \n",
              "1 0.53563                      0.10479                     \n",
              "2 0.58880                      0.02953                     \n",
              "3 0.69746                      0.05551                     \n",
              "4 0.16582                      0.13340                     \n",
              "\n",
              "   DBM_x_Display_x_AWA_imps  DBM_x_Display_x_ACQ_imps  new_accounts  \n",
              "0 0.95458                   0.89166                    1653          \n",
              "1 0.28003                   0.19709                    1466          \n",
              "2 0.14691                   0.21123                    604           \n",
              "3 0.30710                   0.19238                    891           \n",
              "4 0.64651                   0.67209                    1023          "
            ]
          },
          "metadata": {},
          "execution_count": 51
        }
      ]
    },
    {
      "cell_type": "markdown",
      "metadata": {
        "id": "y4y8Rwv117uj"
      },
      "source": [
        "# Visualize Target Variable and Features"
      ]
    },
    {
      "cell_type": "code",
      "metadata": {
        "id": "Wzx-IbdAx_MA",
        "colab": {
          "base_uri": "https://localhost:8080/"
        },
        "outputId": "24655b23-4fe5-486b-bf92-da5d35c25dc8"
      },
      "source": [
        "len(data.columns)"
      ],
      "execution_count": 52,
      "outputs": [
        {
          "output_type": "execute_result",
          "data": {
            "text/plain": [
              "13"
            ]
          },
          "metadata": {},
          "execution_count": 52
        }
      ]
    },
    {
      "cell_type": "code",
      "metadata": {
        "id": "ByIU7RjpDrdB",
        "colab": {
          "base_uri": "https://localhost:8080/"
        },
        "outputId": "68a57b4d-073b-4014-bb49-d450fd20d8e9"
      },
      "source": [
        "data.columns"
      ],
      "execution_count": 53,
      "outputs": [
        {
          "output_type": "execute_result",
          "data": {
            "text/plain": [
              "Index(['Brand_x_Core_x_NC_clicks', 'The_Trade_Desk_x_Display_x_AWA_imps',\n",
              "       'Amazon_x_Display_x_AWA_imps', 'DBM_x_Display_x_RTG_imps',\n",
              "       'DBM_x_Video_x_AWA_imps', 'The_Trade_Desk_x_Audio_x_AWA_imps',\n",
              "       'OTHER_x_Display_x_AWA_imps', 'Oath_x_Display_x_AWA_imps',\n",
              "       'Amazon_x_Display_x_RTG_imps', 'Brand_x_RMKT_x_EC_clicks',\n",
              "       'DBM_x_Display_x_AWA_imps', 'DBM_x_Display_x_ACQ_imps', 'new_accounts'],\n",
              "      dtype='object')"
            ]
          },
          "metadata": {},
          "execution_count": 53
        }
      ]
    },
    {
      "cell_type": "code",
      "metadata": {
        "id": "N6ZzVs5r19BL",
        "colab": {
          "base_uri": "https://localhost:8080/",
          "height": 296
        },
        "outputId": "8be5cf0a-c85e-44b5-9512-281a5d41ef1c"
      },
      "source": [
        "sns.kdeplot(data[KPI_COL], label = KPI_COL, shade = True)\n",
        "plt.xlabel(KPI_COL); plt.ylabel('Density'); plt.title('Density Plot');"
      ],
      "execution_count": 54,
      "outputs": [
        {
          "output_type": "display_data",
          "data": {
            "image/png": "[encoded data removed]",
            "text/plain": [
              "<Figure size 432x288 with 1 Axes>"
            ]
          },
          "metadata": {
            "needs_background": "light"
          }
        }
      ]
    },
    {
      "cell_type": "markdown",
      "metadata": {
        "id": "gLqgFp9tEKOm"
      },
      "source": [
        "Plot some features"
      ]
    },
    {
      "cell_type": "code",
      "metadata": {
        "id": "tGy_mHw1EJ83",
        "colab": {
          "base_uri": "https://localhost:8080/",
          "height": 296
        },
        "outputId": "1bf83ea2-4cc1-417d-fbe9-2013b23339b4"
      },
      "source": [
        "sns.kdeplot(data[data.columns[1]], label = '', shade = True)\n",
        "plt.xlabel(data.columns[1]); plt.ylabel('Density'); plt.title('Density Plot');"
      ],
      "execution_count": 55,
      "outputs": [
        {
          "output_type": "display_data",
          "data": {
            "image/png": "[encoded data removed]",
            "text/plain": [
              "<Figure size 432x288 with 1 Axes>"
            ]
          },
          "metadata": {
            "needs_background": "light"
          }
        }
      ]
    },
    {
      "cell_type": "code",
      "metadata": {
        "id": "fY7RFxrREh7w",
        "colab": {
          "base_uri": "https://localhost:8080/",
          "height": 296
        },
        "outputId": "b31f231c-225c-4702-b277-a10a001314e1"
      },
      "source": [
        "sns.kdeplot(data[data.columns[2]], label = '', shade = True)\n",
        "plt.xlabel(data.columns[2]); plt.ylabel('Density'); plt.title('Density Plot');"
      ],
      "execution_count": 56,
      "outputs": [
        {
          "output_type": "display_data",
          "data": {
            "image/png": "[encoded data removed]",
            "text/plain": [
              "<Figure size 432x288 with 1 Axes>"
            ]
          },
          "metadata": {
            "needs_background": "light"
          }
        }
      ]
    },
    {
      "cell_type": "markdown",
      "metadata": {
        "id": "EdzZ8S_HDA5j"
      },
      "source": [
        "Look at relationship of individual features with target data"
      ]
    },
    {
      "cell_type": "code",
      "metadata": {
        "id": "cDAiqPmkDAYG",
        "colab": {
          "base_uri": "https://localhost:8080/",
          "height": 265
        },
        "outputId": "ad73d34f-e637-4b0a-e0f7-b2b2e374ae1c"
      },
      "source": [
        "plt.plot(data[data.columns[8]], data['new_accounts'],'o',alpha=0.5)\n",
        "plt.show()"
      ],
      "execution_count": 57,
      "outputs": [
        {
          "output_type": "display_data",
          "data": {
            "image/png": "[encoded data removed]",
            "text/plain": [
              "<Figure size 432x288 with 1 Axes>"
            ]
          },
          "metadata": {
            "needs_background": "light"
          }
        }
      ]
    },
    {
      "cell_type": "code",
      "metadata": {
        "id": "tN65gLQCzinc"
      },
      "source": [
        "#@title Name data export sheet\n",
        "\n",
        "# Naming for final data export\n",
        "SHEET_NAME = 'model input data' #@param {type:\"string\"}\n",
        "TAB_NAME = 'results' #@param {type:\"string\"}"
      ],
      "execution_count": 58,
      "outputs": []
    },
    {
      "cell_type": "code",
      "metadata": {
        "id": "e8d4aIgDzr16",
        "colab": {
          "base_uri": "https://localhost:8080/"
        },
        "outputId": "8f493baf-e533-4765-bff2-2ba107f60513"
      },
      "source": [
        "# create new spreadsheet\n",
        "gc = gspread.authorize(GoogleCredentials.get_application_default())\n",
        "sh = gc.create(SHEET_NAME)\n",
        "\n",
        "# generate link for file \n",
        "SHEET_URL = \"https://docs.google.com/spreadsheets/d/\"+sh.id\n",
        "print(\"Sheet URL is \" + SHEET_URL)"
      ],
      "execution_count": 59,
      "outputs": [
        {
          "output_type": "stream",
          "name": "stdout",
          "text": [
            "Sheet URL is https://docs.google.com/spreadsheets/d/1c-mzh4UjYJXBzZSnUS4BKE2MncIO1dH4OGlH7CTGAo4\n"
          ]
        }
      ]
    },
    {
      "cell_type": "code",
      "metadata": {
        "id": "avwuBzefzuBk"
      },
      "source": [
        "worksheet = sh.add_worksheet(title= TAB_NAME, rows=len(data), cols=len(data.columns))\n",
        "set_with_dataframe(worksheet, data)"
      ],
      "execution_count": 60,
      "outputs": []
    }
  ]
}