{
  "nbformat": 4,
  "nbformat_minor": 0,
  "metadata": {
    "colab": {
      "name": "Bayesian Regression",
      "provenance": [],
      "collapsed_sections": [],
      "toc_visible": true
    },
    "kernelspec": {
      "display_name": "Python 3",
      "name": "python3"
    },
    "language_info": {
      "name": "python"
    }
  },
  "cells": [
    {
      "cell_type": "markdown",
      "metadata": {
        "id": "FqmB3zTNGuYT"
      },
      "source": [
        "Copyright 2021 Google Inc.\n",
        "\n",
        "Licensed under the Apache License, Version 2.0 (the \"License\");\n",
        "you may not use this file except in compliance with the License.\n",
        "You may obtain a copy of the License at\n",
        "\n",
        "      [https://www.apache.org/licenses/LICENSE-2.0](https://www.apache.org/licenses/LICENSE-2.0)\n",
        "\n",
        "Unless required by applicable law or agreed to in writing, software\n",
        "distributed under the License is distributed on an \"AS IS\" BASIS,\n",
        "WITHOUT WARRANTIES OR CONDITIONS OF ANY KIND, either express or implied.\n",
        "See the License for the specific language governing permissions and\n",
        "limitations under the License.\n",
        "\n",
        "This solution, including any related sample code or data, is made available \n",
        "on an “as is,” “as available,” and “with all faults” basis, solely for \n",
        "illustrative purposes, and without warranty or representation of any kind. \n",
        "This solution is experimental, unsupported and provided solely for your \n",
        "convenience. Your use of it is subject to your agreements with Google, as \n",
        "applicable, and may constitute a beta feature as defined under those \n",
        "agreements.  To the extent that you make any data available to Google in \n",
        "connection with your use of the solution, you represent and warrant that you \n",
        "have all necessary and appropriate rights, consents and permissions to permit \n",
        "Google to use and process that data.  By using any portion of this solution, \n",
        "you acknowledge, assume and accept all risks, known and unknown, associated \n",
        "with its usage, including with respect to your deployment of any portion of \n",
        "this solution in your systems, or usage in connection with your business, \n",
        "if at all.\n"
      ]
    },
    {
      "cell_type": "markdown",
      "metadata": {
        "id": "l19lClJob3IR"
      },
      "source": [
        "# Setup"
      ]
    },
    {
      "cell_type": "markdown",
      "metadata": {
        "id": "uh6JyZGLcEgE"
      },
      "source": [
        "### Load modules"
      ]
    },
    {
      "cell_type": "code",
      "metadata": {
        "id": "4aupXJjFcHkq"
      },
      "source": [
        "# authenication libraries for colab & bigquery tools\n",
        "from google.colab import auth\n",
        "from google.cloud import bigquery\n",
        "!pip install --upgrade -q gspread # you may see a version error on the first run - the code will still run\n",
        "import gspread\n",
        "from gspread_dataframe import set_with_dataframe\n",
        "from oauth2client.client import GoogleCredentials\n",
        "auth.authenticate_user()\n",
        "gc = gspread.authorize(GoogleCredentials.get_application_default())\n",
        "bigquery.USE_LEGACY_SQL = False\n",
        "\n",
        "# BQ Magics\n",
        "from google.cloud import bigquery\n",
        "from google.cloud.bigquery import magics\n",
        "magics.context.project = 'db' #list BQ project name\n",
        "client = bigquery.Client(project=magics.context.project)\n",
        "%load_ext google.cloud.bigquery\n",
        "\n",
        "# data processing libraries\n",
        "import numpy as np\n",
        "import pandas as pd\n",
        "pd.set_option('display.max_rows', None)\n",
        "pd.set_option('display.max_columns', None)\n",
        "pd.set_option('display.width', None)\n",
        "pd.set_option('display.max_colwidth', -1)\n",
        "pd.options.display.float_format = '{:.5f}'.format\n",
        "from sklearn.preprocessing import MinMaxScaler, StandardScaler, Normalizer\n",
        "from sklearn.model_selection import train_test_split, cross_val_score, LeaveOneOut, KFold, LeavePOut\n",
        "from sklearn.feature_selection import SelectKBest, f_regression, RFE\n",
        "from sklearn.linear_model import LinearRegression\n",
        "from sklearn.metrics import mean_squared_error, r2_score, mean_absolute_error\n",
        "\n",
        "import datetime\n",
        "\n",
        "# modeling and metrics\n",
        "from scipy.optimize import least_squares\n",
        "from statsmodels.stats.outliers_influence import variance_inflation_factor\n",
        "from statsmodels.tools.tools import add_constant\n",
        "import statsmodels.api as sm\n",
        "\n",
        "# Bayesian Package\n",
        "import pymc3 as pm\n",
        "from pymc3 import *\n",
        "print(f\"Running on PyMC3 v{pm.__version__}\")\n",
        "\n",
        "\n",
        "# Visualization\n",
        "import matplotlib.pyplot as plt\n",
        "%matplotlib inline\n",
        "import seaborn as sns\n",
        "import arviz as az\n",
        "\n",
        "!pip install fitter\n",
        "import fitter\n",
        "from fitter import Fitter, get_common_distributions"
      ],
      "execution_count": null,
      "outputs": []
    },
    {
      "cell_type": "markdown",
      "metadata": {
        "id": "e2pjTYNaVZAR"
      },
      "source": [
        "# Define Parameters"
      ]
    },
    {
      "cell_type": "code",
      "metadata": {
        "id": "KEUy3KmXVGfW"
      },
      "source": [
        "#@title Parameters\n",
        "\n",
        "INPUT_SHEET_NAME = 'model input data 11.02.21' #@param {type:\"string\"}\n"
      ],
      "execution_count": null,
      "outputs": []
    },
    {
      "cell_type": "markdown",
      "metadata": {
        "id": "8N8-scWPc7fP"
      },
      "source": [
        "### Load model input data"
      ]
    },
    {
      "cell_type": "code",
      "metadata": {
        "id": "3A9JB48aVwgj"
      },
      "source": [
        "google_sheets_name = INPUT_SHEET_NAME #@param"
      ],
      "execution_count": null,
      "outputs": []
    },
    {
      "cell_type": "code",
      "metadata": {
        "id": "UYl2BEsGV0-X"
      },
      "source": [
        "worksheet = gc.open(INPUT_SHEET_NAME).sheet1\n",
        "\n",
        "# get_all_values gives a list of rows.\n",
        "rows = worksheet.get_all_values()\n",
        "\n",
        "df=pd.DataFrame.from_records(rows)\n",
        "\n",
        "\n",
        "#get column names from first row\n",
        "df.columns = df.iloc[0]\n",
        "\n",
        "#drop row with column names\n",
        "df = df.drop(df.index[0])\n",
        "\n",
        "#reset indexes\n",
        "df = df.reset_index(drop=True)\n",
        "\n",
        "#convert numeric data to numeric types\n",
        "df = df.apply(pd.to_numeric, errors='ignore')"
      ],
      "execution_count": null,
      "outputs": []
    },
    {
      "cell_type": "code",
      "metadata": {
        "id": "ZnAXDs8PtG3U"
      },
      "source": [
        "df.head()"
      ],
      "execution_count": null,
      "outputs": []
    },
    {
      "cell_type": "code",
      "metadata": {
        "id": "4tVMgae8KVQV"
      },
      "source": [
        "df.info()"
      ],
      "execution_count": null,
      "outputs": []
    },
    {
      "cell_type": "code",
      "metadata": {
        "id": "fD-NZnVYIpiP"
      },
      "source": [
        "KPI_COL = \"y1\" #@param {type: \"string\"}"
      ],
      "execution_count": null,
      "outputs": []
    },
    {
      "cell_type": "code",
      "metadata": {
        "id": "baZ4EF03j6Rt"
      },
      "source": [
        "df.sum()"
      ],
      "execution_count": null,
      "outputs": []
    },
    {
      "cell_type": "code",
      "metadata": {
        "id": "M8rn8-q-9n_3"
      },
      "source": [
        "df.describe()"
      ],
      "execution_count": null,
      "outputs": []
    },
    {
      "cell_type": "code",
      "metadata": {
        "id": "0IUGsOYYtIzE"
      },
      "source": [
        "df.drop(columns = 'date', inplace = True)"
      ],
      "execution_count": null,
      "outputs": []
    },
    {
      "cell_type": "code",
      "metadata": {
        "id": "qxSRpjLrxIvo"
      },
      "source": [
        "y = df[KPI_COL]\n",
        "x = df[df.columns[df.columns != KPI_COL]]"
      ],
      "execution_count": null,
      "outputs": []
    },
    {
      "cell_type": "code",
      "metadata": {
        "id": "kP2b-dPgM-P4"
      },
      "source": [
        "df['Intercept'] = 1\n",
        "df.columns"
      ],
      "execution_count": null,
      "outputs": []
    },
    {
      "cell_type": "code",
      "metadata": {
        "id": "fU03KCW95kov"
      },
      "source": [
        "x.columns"
      ],
      "execution_count": null,
      "outputs": []
    },
    {
      "cell_type": "markdown",
      "metadata": {
        "id": "UFPScrgAEnlB"
      },
      "source": [
        "## Bayesian Model"
      ]
    },
    {
      "cell_type": "code",
      "metadata": {
        "id": "IF5tr47WOlQ9"
      },
      "source": [
        "with pm.Model() as linear_model:\n",
        "\n",
        "\n",
        "    ## OPTION: Set prior distributions individually\n",
        "\n",
        "    \n",
        "    #This code sets flat priors by default, but it is recommended to create more informative priors depending on use case\n",
        "\n",
        "    # Intercept\n",
        "    intercept = pm.HalfFlat('Intercept')\n",
        "    \n",
        "    # Beta parameters\n",
        "      # Use this loop if you want to set all coefficients to the same prior distribution\n",
        "    for z in range(1, len(x.columns)+1):\n",
        "      locals()['beta%s' % z] = pm.HalfFlat('beta%s' % z)\n",
        "    \n",
        "    # Or set individual priors\n",
        "    #beta1 = pm.Uniform('beta1')\n",
        "\n",
        "\n",
        "    # Standard deviation\n",
        "      #Can only be positive, thus has to take on a halfnormal dist.\n",
        "    sigma = pm.HalfNormal('sigma', sd = y.std()) \n",
        "\n",
        "    ## SET UP FORMULA TO ESTIMATE \n",
        "    # Estimate of mean\n",
        "    mean = intercept + (beta1 *x['x2']) + (beta2 *x['x16']) + (beta3 *x['x17']) + (beta4 *x['x26']) + (beta5 *x['x27']) + (beta6 *x['x32']) + (beta7 *x['x34']) + (beta8 *x['x35']) + (beta9 *x['x38']) + (beta10 *x['x39']) + (beta11 *x['x45'])\n",
        "\n",
        "\n",
        "    ## SPECIFY LIKELIHOOD\n",
        "    likelihood = pm.Normal('Y_obs', mu = mean, sd = sigma, observed = y)\n",
        "    ## observed data can be drawn from a distribution with mean \"mu\" and variance \"sigma\"\n",
        "    \n",
        "\n",
        "    # SAMPLE FROM THE POSTERIOR DISTRIBUTION\n",
        "    normal_trace = pm.sample(return_inferencedata=True, init = 'adapt_diag', tune = 1000, target_accept = 0.9)\n",
        "    model_trace = pm.sample(init = 'adapt_diag',tune = 1000, target_accept = 0.9)\n"
      ],
      "execution_count": null,
      "outputs": []
    },
    {
      "cell_type": "code",
      "metadata": {
        "id": "0T7Nv9aGR8vY"
      },
      "source": [
        "normal_trace.posterior"
      ],
      "execution_count": null,
      "outputs": []
    },
    {
      "cell_type": "markdown",
      "metadata": {
        "id": "qXzLFgLSJqmm"
      },
      "source": [
        "### Results and Evaluation"
      ]
    },
    {
      "cell_type": "markdown",
      "metadata": {
        "id": "z1LQmBEoJsq6"
      },
      "source": [
        "#### Posterior Predictive Checks"
      ]
    },
    {
      "cell_type": "code",
      "metadata": {
        "id": "iFxkQlz63IM8"
      },
      "source": [
        "map_estimate = pm.find_MAP(model=linear_model)\n",
        "map_estimate"
      ],
      "execution_count": null,
      "outputs": []
    },
    {
      "cell_type": "code",
      "metadata": {
        "id": "ebDIU7hRJ9mr"
      },
      "source": [
        "with linear_model:\n",
        "  post_pred = pm.sample_posterior_predictive(normal_trace.posterior)\n",
        "az.concat(normal_trace, az.from_pymc3(posterior_predictive=post_pred), inplace=True)"
      ],
      "execution_count": null,
      "outputs": []
    },
    {
      "cell_type": "code",
      "metadata": {
        "id": "RTeSWTWMKKwR"
      },
      "source": [
        "# draws *  #  chains = 2000\n",
        "# plots simulated datasets against the observed data\n",
        "fig, ax = plt.subplots()\n",
        "az.plot_ppc(normal_trace, ax=ax)\n",
        "ax.axvline(y.mean(), ls=\"--\", color=\"r\", label=\"True mean\")\n",
        "ax.legend(fontsize=10);"
      ],
      "execution_count": null,
      "outputs": []
    },
    {
      "cell_type": "markdown",
      "metadata": {
        "id": "WpCpkTC0Jzu1"
      },
      "source": [
        "#### Trace Plot"
      ]
    },
    {
      "cell_type": "code",
      "metadata": {
        "id": "cNaWE5KhJqVK"
      },
      "source": [
        "az.plot_trace(normal_trace)"
      ],
      "execution_count": null,
      "outputs": []
    },
    {
      "cell_type": "markdown",
      "metadata": {
        "id": "T41uQn3tKd8U"
      },
      "source": [
        "#### Posterior Plots"
      ]
    },
    {
      "cell_type": "code",
      "metadata": {
        "id": "RuCgzLeJKNTg"
      },
      "source": [
        "az.plot_posterior(normal_trace)"
      ],
      "execution_count": null,
      "outputs": []
    },
    {
      "cell_type": "markdown",
      "metadata": {
        "id": "nuoVz3MqKo2p"
      },
      "source": [
        "#### Forest Plot"
      ]
    },
    {
      "cell_type": "code",
      "metadata": {
        "id": "lc1nBrg2KNPc"
      },
      "source": [
        "az.plot_forest(normal_trace, r_hat = True)"
      ],
      "execution_count": null,
      "outputs": []
    },
    {
      "cell_type": "markdown",
      "metadata": {
        "id": "-7VzrxoSK0lr"
      },
      "source": [
        "#### Summary Statistics"
      ]
    },
    {
      "cell_type": "code",
      "metadata": {
        "id": "HIZbV-rYKNMg"
      },
      "source": [
        "pm.summary(normal_trace).round(3)"
      ],
      "execution_count": null,
      "outputs": []
    },
    {
      "cell_type": "markdown",
      "metadata": {
        "id": "IC59boRILCZT"
      },
      "source": [
        "### Bayesian Evaluation Metrics and CV"
      ]
    },
    {
      "cell_type": "markdown",
      "metadata": {
        "id": "N_tJWHN1LJq9"
      },
      "source": [
        "#### BFMI"
      ]
    },
    {
      "cell_type": "code",
      "metadata": {
        "id": "-WdkgiHLLH-Y"
      },
      "source": [
        "pm.bfmi(normal_trace)"
      ],
      "execution_count": null,
      "outputs": []
    },
    {
      "cell_type": "code",
      "metadata": {
        "id": "lPNJ51zVMG15"
      },
      "source": [
        "az.plot_energy(normal_trace)"
      ],
      "execution_count": null,
      "outputs": []
    },
    {
      "cell_type": "markdown",
      "metadata": {
        "id": "q8sQyP61LOv-"
      },
      "source": [
        "#### WAIC/LOO/ELPD"
      ]
    },
    {
      "cell_type": "code",
      "metadata": {
        "id": "xghwCMNpgU6i"
      },
      "source": [
        "pm.waic(normal_trace)"
      ],
      "execution_count": null,
      "outputs": []
    },
    {
      "cell_type": "code",
      "metadata": {
        "id": "jmqKrKi4hjo0"
      },
      "source": [
        "pm.loo(normal_trace, pointwise = True)"
      ],
      "execution_count": null,
      "outputs": []
    },
    {
      "cell_type": "markdown",
      "metadata": {
        "id": "sOwvE4CFLq5h"
      },
      "source": [
        "### Error Metrics"
      ]
    },
    {
      "cell_type": "markdown",
      "metadata": {
        "id": "FPZWf5ZaHSgi"
      },
      "source": [
        "Obtain the average parameter estimates"
      ]
    },
    {
      "cell_type": "code",
      "metadata": {
        "id": "9FseDwDzOKq9"
      },
      "source": [
        "var_dict = {}\n",
        "for variable in model_trace.varnames:\n",
        "  var_dict[variable] = model_trace[variable]\n",
        "  \n",
        "# Results into a dataframe\n",
        "var_weights = pd.DataFrame(var_dict)\n",
        "var_weights.drop(columns = ['Intercept_log__','beta1_log__','beta2_log__','beta3_log__','beta4_log__','beta5_log__','beta6_log__','sigma_log__', 'sigma'], inplace = True)\n",
        "# Means for all the weights\n",
        "var_means = var_weights.mean(axis=0)"
      ],
      "execution_count": null,
      "outputs": []
    },
    {
      "cell_type": "code",
      "metadata": {
        "id": "TwTnumAzRYRy"
      },
      "source": [
        "var_means"
      ],
      "execution_count": null,
      "outputs": []
    },
    {
      "cell_type": "code",
      "metadata": {
        "id": "AMrXts62OM7_"
      },
      "source": [
        "x['Intercept'] = 1"
      ],
      "execution_count": null,
      "outputs": []
    },
    {
      "cell_type": "markdown",
      "metadata": {
        "id": "DzfmAXo5HVUY"
      },
      "source": [
        "Create predictions using the average parameter estimates"
      ]
    },
    {
      "cell_type": "code",
      "metadata": {
        "id": "99tqjfa0OQ2v"
      },
      "source": [
        "Y_pred = (var_means['Intercept']*x.Intercept) + (var_means['beta1'] *x['x2']) + (var_means['beta2'] *x['x16']) + (var_means['beta3'] *x['x17']) + (var_means['beta4'] *x['x26']) + (var_means['beta5'] *x['x27']) + (var_means['beta6'] *x['x32']) + (var_means['beta7'] *x['x34']) + (var_means['beta8'] *x['x35']) + (var_means['beta9'] *x['x38']) + (var_means['beta10'] *x['x39']) + (var_means['beta11'] *x['x45'])\n"
      ],
      "execution_count": null,
      "outputs": []
    },
    {
      "cell_type": "code",
      "metadata": {
        "id": "YARoHGXmeqJI"
      },
      "source": [
        "residuals = Y_pred - y"
      ],
      "execution_count": null,
      "outputs": []
    },
    {
      "cell_type": "markdown",
      "metadata": {
        "id": "2wDBQ9YAOd-Q"
      },
      "source": [
        "#### MAE"
      ]
    },
    {
      "cell_type": "code",
      "metadata": {
        "id": "7A77VmAS-yxs"
      },
      "source": [
        "mean_absolute_error(y,Y_pred)"
      ],
      "execution_count": null,
      "outputs": []
    },
    {
      "cell_type": "markdown",
      "metadata": {
        "id": "hHagO58gMMGu"
      },
      "source": [
        "#### MSE"
      ]
    },
    {
      "cell_type": "code",
      "metadata": {
        "id": "H2LLOzfM-1US"
      },
      "source": [
        "mean_squared_error(y,Y_pred)"
      ],
      "execution_count": null,
      "outputs": []
    },
    {
      "cell_type": "markdown",
      "metadata": {
        "id": "IbO-2fwaMQRf"
      },
      "source": [
        "#### RMSE"
      ]
    },
    {
      "cell_type": "code",
      "metadata": {
        "id": "AVzWSerr-44O"
      },
      "source": [
        "rmse = np.sqrt(mean_squared_error(y,Y_pred))\n",
        "rmse"
      ],
      "execution_count": null,
      "outputs": []
    },
    {
      "cell_type": "markdown",
      "metadata": {
        "id": "Va5Jr1SCMRZz"
      },
      "source": [
        "#### R-Squared"
      ]
    },
    {
      "cell_type": "code",
      "metadata": {
        "id": "FbfOg-VUHcQ0"
      },
      "source": [
        "az.r2_score(y, Y_pred)[0]"
      ],
      "execution_count": null,
      "outputs": []
    },
    {
      "cell_type": "markdown",
      "metadata": {
        "id": "ecxN8HEd8y3m"
      },
      "source": [
        "### Calculate % Effect"
      ]
    },
    {
      "cell_type": "code",
      "metadata": {
        "id": "02CXFkKX8ydO"
      },
      "source": [
        "print(round(100*(var_means['Intercept']*(x['Intercept']/Y_pred)).mean()))\n",
        "print(round(100*(var_means['beta1']*(x['x2']/Y_pred)).mean()))\n",
        "print(round(100*(var_means['beta2']*(x['x16']/Y_pred)).mean()))\n",
        "print(round(100*(var_means['beta3']*(x['x17']/Y_pred)).mean()))\n",
        "print(round(100*(var_means['beta4']*(x['x27']/Y_pred)).mean()))\n",
        "print(round(100*(var_means['beta5']*(x['x27']/Y_pred)).mean()))\n",
        "print(round(100*(var_means['beta6']*(x['x32']/Y_pred)).mean()))\n",
        "print(round(100*(var_means['beta7']*(x['x34']/Y_pred)).mean()))\n",
        "print(round(100*(var_means['beta8']*(x['x35']/Y_pred)).mean()))\n",
        "print(round(100*(var_means['beta9']*(x['x38']/Y_pred)).mean()))\n",
        "print(round(100*(var_means['beta10']*(x['x39']/Y_pred)).mean()))\n",
        "print(round(100*(var_means['beta11']*(x['x45']/Y_pred)).mean()))\n"
      ],
      "execution_count": null,
      "outputs": []
    },
    {
      "cell_type": "markdown",
      "metadata": {
        "id": "pDn4PxqPdqt0"
      },
      "source": [
        "# Validate Linear Regression Model Assumptions"
      ]
    },
    {
      "cell_type": "markdown",
      "metadata": {
        "id": "W1NYtr6jd6VX"
      },
      "source": [
        "####1. Linearity"
      ]
    },
    {
      "cell_type": "markdown",
      "metadata": {
        "id": "Hk0-z_5Ed8a_"
      },
      "source": [
        "Visually inspect linearity between target variable and predictions"
      ]
    },
    {
      "cell_type": "code",
      "metadata": {
        "id": "ZUxJklK7eAQj"
      },
      "source": [
        "plt.plot(Y_pred,y,'o',alpha=0.5)\n",
        "plt.show()"
      ],
      "execution_count": null,
      "outputs": []
    },
    {
      "cell_type": "markdown",
      "metadata": {
        "id": "MUl5BHSYeJZw"
      },
      "source": [
        "#### 2. Normality of Errors"
      ]
    },
    {
      "cell_type": "markdown",
      "metadata": {
        "id": "YgCWIZvqeNO4"
      },
      "source": [
        "Visually inspect the residuals to confirm normality"
      ]
    },
    {
      "cell_type": "code",
      "metadata": {
        "id": "1ORgif4KeL6t"
      },
      "source": [
        "fig = sm.qqplot(residuals)"
      ],
      "execution_count": null,
      "outputs": []
    },
    {
      "cell_type": "code",
      "metadata": {
        "id": "vim7FUFLeQai"
      },
      "source": [
        "sns.kdeplot(residuals, label = '', shade = True)\n",
        "plt.xlabel('Model Residuals'); plt.ylabel('Density'); plt.title('Distribution of Residuals');"
      ],
      "execution_count": null,
      "outputs": []
    },
    {
      "cell_type": "markdown",
      "metadata": {
        "id": "l56guITFeTX5"
      },
      "source": [
        "####3. Absence of Multicollinearity"
      ]
    },
    {
      "cell_type": "markdown",
      "metadata": {
        "id": "jJCDpSoBeg1b"
      },
      "source": [
        "Tested and checked during data processing stage"
      ]
    },
    {
      "cell_type": "markdown",
      "metadata": {
        "id": "2LXieU9Eeh-h"
      },
      "source": [
        "####4. Homoscedasticity\n"
      ]
    },
    {
      "cell_type": "markdown",
      "metadata": {
        "id": "TLg5N9R6ekEZ"
      },
      "source": [
        "Visually inspect residuals to confirm constant variance"
      ]
    },
    {
      "cell_type": "code",
      "metadata": {
        "id": "ME5c4xsqof5-"
      },
      "source": [
        "residuals.mean()"
      ],
      "execution_count": null,
      "outputs": []
    },
    {
      "cell_type": "code",
      "metadata": {
        "id": "deHzyCsdexN7"
      },
      "source": [
        "plt.plot(residuals,'o',alpha=0.5)\n",
        "plt.show()"
      ],
      "execution_count": null,
      "outputs": []
    },
    {
      "cell_type": "markdown",
      "metadata": {
        "id": "MPh2uyJwgB-5"
      },
      "source": [
        "# Appendix"
      ]
    },
    {
      "cell_type": "markdown",
      "metadata": {
        "id": "fd7ji02cgDUB"
      },
      "source": [
        "## Parameterization Help"
      ]
    },
    {
      "cell_type": "markdown",
      "metadata": {
        "id": "hsvDuu40HfME"
      },
      "source": [
        "Use the `fitter` package to auto-detect the probability distribution of your data"
      ]
    },
    {
      "cell_type": "code",
      "metadata": {
        "id": "VbUxs4j6gEtD"
      },
      "source": [
        "'''\n",
        "sns.kdeplot(x[x.columns[3]], label = '', shade = True)\n",
        "plt.xlabel(''); plt.ylabel('Density'); plt.title('Density Plot');\n",
        "\n",
        "f = Fitter(x[x.columns[2]],\n",
        "           distributions= get_common_distributions())\n",
        "f.fit()\n",
        "f.summary()\n",
        "\n",
        "f.get_best(method = 'aic')\n",
        "f.fitted_param['uniform']\n",
        "'''"
      ],
      "execution_count": null,
      "outputs": []
    }
  ]
}
