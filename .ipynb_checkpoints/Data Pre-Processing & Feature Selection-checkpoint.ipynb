{
 "cells": [
  {
   "cell_type": "markdown",
   "metadata": {
    "id": "5qqlVIlqywJT"
   },
   "source": [
    "# Data Pre-processing & Feature Selection"
   ]
  },
  {
   "cell_type": "code",
   "execution_count": 1,
   "metadata": {
    "id": "GZM9-fB7nMvK"
   },
   "outputs": [],
   "source": [
    "###########################################################################\n",
    "#\n",
    "#  Copyright 2021 Google Inc.\n",
    "#\n",
    "#  Licensed under the Apache License, Version 2.0 (the \"License\");\n",
    "#  you may not use this file except in compliance with the License.\n",
    "#  You may obtain a copy of the License at\n",
    "#\n",
    "#      https://www.apache.org/licenses/LICENSE-2.0\n",
    "#\n",
    "#  Unless required by applicable law or agreed to in writing, software\n",
    "#  distributed under the License is distributed on an \"AS IS\" BASIS,\n",
    "#  WITHOUT WARRANTIES OR CONDITIONS OF ANY KIND, either express or implied.\n",
    "#  See the License for the specific language governing permissions and\n",
    "#  limitations under the License.\n",
    "#\n",
    "# This solution, including any related sample code or data, is made available \n",
    "# on an “as is,” “as available,” and “with all faults” basis, solely for \n",
    "# illustrative purposes, and without warranty or representation of any kind. \n",
    "# This solution is experimental, unsupported and provided solely for your \n",
    "# convenience. Your use of it is subject to your agreements with Google, as \n",
    "# applicable, and may constitute a beta feature as defined under those \n",
    "# agreements.  To the extent that you make any data available to Google in \n",
    "# connection with your use of the solution, you represent and warrant that you \n",
    "# have all necessary and appropriate rights, consents and permissions to permit \n",
    "# Google to use and process that data.  By using any portion of this solution, \n",
    "# you acknowledge, assume and accept all risks, known and unknown, associated \n",
    "# with its usage, including with respect to your deployment of any portion of \n",
    "# this solution in your systems, or usage in connection with your business, \n",
    "# if at all.\n",
    "###########################################################################"
   ]
  },
  {
   "cell_type": "markdown",
   "metadata": {
    "id": "uh6JyZGLcEgE"
   },
   "source": [
    "## 0) Dependencies"
   ]
  },
  {
   "cell_type": "code",
   "execution_count": null,
   "metadata": {
    "colab": {
     "base_uri": "https://localhost:8080/"
    },
    "executionInfo": {
     "elapsed": 2267,
     "status": "ok",
     "timestamp": 1643145724928,
     "user": {
      "displayName": "Megan Godfrey",
      "photoUrl": "https://lh3.googleusercontent.com/a-/AOh14Ghvy7hIpvBwOwgqOiId0PYMt8uG8Uit8vFe9CN5=s64",
      "userId": "12374755435894620672"
     },
     "user_tz": 300
    },
    "id": "4aupXJjFcHkq",
    "outputId": "c01d211b-d985-4222-b13a-f2318448c01b"
   },
   "outputs": [],
   "source": [
    "import requests\n",
    "import io\n",
    "import os\n",
    "import datetime\n",
    "import logging\n",
    "\n",
    "# Google credentials authentication libraries\n",
    "! pip install google.colab\n",
    "from google.colab import auth\n",
    "\n",
    "!pip install --upgrade -q gspread \n",
    "import gspread\n",
    "\n",
    "from oauth2client.client import GoogleCredentials\n",
    "auth.authenticate_user()\n",
    "gc = gspread.authorize(GoogleCredentials.get_application_default())\n",
    "\n",
    "# data processing libraries\n",
    "import numpy as np\n",
    "from numpy.core.numeric import NaN\n",
    "import pandas as pd\n",
    "\n",
    "\n",
    "from sklearn.preprocessing import MinMaxScaler, StandardScaler, Normalizer\n",
    "from sklearn.model_selection import train_test_split\n",
    "from sklearn.feature_selection import SelectKBest, RFE, RFECV\n",
    "from sklearn.feature_selection import f_classif, f_regression, chi2\n",
    "from sklearn.feature_selection import mutual_info_regression, mutual_info_classif\n",
    "from sklearn.linear_model import LinearRegression\n",
    "from sklearn.tree import DecisionTreeClassifier\n",
    "\n",
    "# modeling and metrics\n",
    "from scipy.optimize import least_squares\n",
    "from statsmodels.stats.outliers_influence import variance_inflation_factor\n",
    "from statsmodels.tools.tools import add_constant\n",
    "import statsmodels.api as sm\n",
    "\n",
    "\n",
    "import itertools\n",
    "from scipy.stats.stats import pearsonr\n",
    "\n",
    "# Visualization\n",
    "import matplotlib.pyplot as plt\n",
    "%matplotlib inline\n",
    "import seaborn as sns\n",
    "\n",
    "# BigQuery Magics\n",
    "'''\n",
    "BigQuery magics are used to run BigQuery SQL queries in a python environment.\n",
    "These queries can also be run in the BigQuery UI\n",
    "'''\n",
    "\n",
    "from google.cloud import bigquery\n",
    "from google.cloud.bigquery import magics\n",
    "magics.context.project = '' #update your project name \n",
    "client = bigquery.Client(project=magics.context.project)\n",
    "%load_ext google.cloud.bigquery\n",
    "bigquery.USE_LEGACY_SQL = False\n"
   ]
  },
  {
   "cell_type": "markdown",
   "metadata": {
    "id": "N4W_dqFdtODF"
   },
   "source": [
    "## 1) Import dataset"
   ]
  },
  {
   "cell_type": "code",
   "execution_count": null,
   "metadata": {
    "id": "MiR2vmeoyeLw"
   },
   "outputs": [],
   "source": [
    "%%bigquery df\n",
    "SELECT *\n",
    "FROM `.RBA_demo.SAMPLE_DATA`; #update with project name"
   ]
  },
  {
   "cell_type": "code",
   "execution_count": null,
   "metadata": {
    "colab": {
     "base_uri": "https://localhost:8080/",
     "height": 356
    },
    "executionInfo": {
     "elapsed": 32,
     "status": "ok",
     "timestamp": 1643145725766,
     "user": {
      "displayName": "Megan Godfrey",
      "photoUrl": "https://lh3.googleusercontent.com/a-/AOh14Ghvy7hIpvBwOwgqOiId0PYMt8uG8Uit8vFe9CN5=s64",
      "userId": "12374755435894620672"
     },
     "user_tz": 300
    },
    "id": "kawnZxuyw0L3",
    "outputId": "72b2e726-faa7-4802-84cd-0274247c46e8"
   },
   "outputs": [],
   "source": [
    "df.head()"
   ]
  },
  {
   "cell_type": "code",
   "execution_count": null,
   "metadata": {
    "id": "lKXZi_hlDrj8"
   },
   "outputs": [],
   "source": [
    "'''\n",
    "Immediately remove variables that won't be used in the model. Here, includes things\n",
    "like geo which is consistent across the dataset, and aggregated media such as \n",
    "total clicks across DSPs\n",
    "'''\n",
    "df.drop(columns = ['geo','date','x1','x2','x18','x19','x20','x21','x22','x23','x24','x25'], inplace = True)"
   ]
  },
  {
   "cell_type": "code",
   "execution_count": null,
   "metadata": {
    "colab": {
     "base_uri": "https://localhost:8080/"
    },
    "executionInfo": {
     "elapsed": 28,
     "status": "ok",
     "timestamp": 1643145725769,
     "user": {
      "displayName": "Megan Godfrey",
      "photoUrl": "https://lh3.googleusercontent.com/a-/AOh14Ghvy7hIpvBwOwgqOiId0PYMt8uG8Uit8vFe9CN5=s64",
      "userId": "12374755435894620672"
     },
     "user_tz": 300
    },
    "id": "0Fj7Ja1d9HmE",
    "outputId": "255bdabc-d84e-4c20-8e1f-81545741fea5"
   },
   "outputs": [],
   "source": [
    "len(df.columns)"
   ]
  },
  {
   "cell_type": "code",
   "execution_count": null,
   "metadata": {
    "colab": {
     "base_uri": "https://localhost:8080/",
     "height": 364
    },
    "executionInfo": {
     "elapsed": 249,
     "status": "ok",
     "timestamp": 1643145726001,
     "user": {
      "displayName": "Megan Godfrey",
      "photoUrl": "https://lh3.googleusercontent.com/a-/AOh14Ghvy7hIpvBwOwgqOiId0PYMt8uG8Uit8vFe9CN5=s64",
      "userId": "12374755435894620672"
     },
     "user_tz": 300
    },
    "id": "XhiairgY8-XL",
    "outputId": "388dafac-7057-4b27-d086-c0a5eb976bd5"
   },
   "outputs": [],
   "source": [
    "df.describe()"
   ]
  },
  {
   "cell_type": "code",
   "execution_count": null,
   "metadata": {},
   "outputs": [],
   "source": [
    "stop"
   ]
  },
  {
   "cell_type": "markdown",
   "metadata": {
    "id": "uBmArInZ00VB"
   },
   "source": [
    "## 2) Data Cleaning"
   ]
  },
  {
   "cell_type": "markdown",
   "metadata": {
    "id": "1Bfetmm51Kcv"
   },
   "source": [
    "### 2.1) Drop or impute missing data"
   ]
  },
  {
   "cell_type": "code",
   "execution_count": null,
   "metadata": {
    "colab": {
     "base_uri": "https://localhost:8080/"
    },
    "executionInfo": {
     "elapsed": 40,
     "status": "ok",
     "timestamp": 1643145726002,
     "user": {
      "displayName": "Megan Godfrey",
      "photoUrl": "https://lh3.googleusercontent.com/a-/AOh14Ghvy7hIpvBwOwgqOiId0PYMt8uG8Uit8vFe9CN5=s64",
      "userId": "12374755435894620672"
     },
     "user_tz": 300
    },
    "id": "DuVFwXoa1AHY",
    "outputId": "15382e6d-4226-4a22-9ce1-570b6fdea8bf"
   },
   "outputs": [],
   "source": [
    "'''\n",
    "Determine number of missing values (% of total column) and sort by highest to lowest\n",
    "'''\n",
    "missing_values = 100*df.isnull().sum()/len(df)\n",
    "missing_values.sort_values(ascending = False)"
   ]
  },
  {
   "cell_type": "code",
   "execution_count": null,
   "metadata": {
    "colab": {
     "base_uri": "https://localhost:8080/"
    },
    "executionInfo": {
     "elapsed": 30,
     "status": "ok",
     "timestamp": 1643145726002,
     "user": {
      "displayName": "Megan Godfrey",
      "photoUrl": "https://lh3.googleusercontent.com/a-/AOh14Ghvy7hIpvBwOwgqOiId0PYMt8uG8Uit8vFe9CN5=s64",
      "userId": "12374755435894620672"
     },
     "user_tz": 300
    },
    "id": "-yAPjtKy1dG9",
    "outputId": "6a215798-ddf7-442b-b407-b63c759551ca"
   },
   "outputs": [],
   "source": [
    "'''\n",
    "Set a threshold for % of missing values. If the % of missing data exceeds this\n",
    "threshold, the column will be dropped.\n",
    "\n",
    "Removing variables with a high % of missing data is important so as not to include\n",
    "uninformative features in the model.\n",
    "'''\n",
    "\n",
    "remove_missing_vals = \"Yes\"\n",
    "missing_value_threshold = 50\n",
    "\n",
    "missing_value_threshold_cols = []\n",
    "\n",
    "if remove_missing_vals == \"Yes\":\n",
    "  for i in missing_values[missing_values >= missing_value_threshold].index:\n",
    "    missing_value_threshold_cols += i\n",
    "    df.drop(columns = i, inplace = True)\n",
    "else:\n",
    "  print('No columns dropped')\n",
    "\n",
    "print('Remaining columns:',df.columns)"
   ]
  },
  {
   "cell_type": "code",
   "execution_count": null,
   "metadata": {
    "id": "N4XxKiMJ1lzv"
   },
   "outputs": [],
   "source": [
    "# Imputation Method: Mean value, Median Value, Zero\n",
    "imputation_method = 'Zero'"
   ]
  },
  {
   "cell_type": "code",
   "execution_count": null,
   "metadata": {
    "id": "P9zrZIVz1oyC"
   },
   "outputs": [],
   "source": [
    "if imputation_method == 'mean value':\n",
    "  df.fillna(df.mean(), inplace = True)\n",
    "elif imputation_method == 'median value':\n",
    "  df.fillna(df.median(), inplace = True)\n",
    "elif imputation_method == 'Zero':\n",
    "  df.fillna(0, inplace = True)\n",
    "else:\n",
    "  df.fillna(0, inplace = True)\n"
   ]
  },
  {
   "cell_type": "markdown",
   "metadata": {
    "id": "qtcr2IYbmG4E"
   },
   "source": [
    "## 3) Define Y (KPI column) and create initial feature set"
   ]
  },
  {
   "cell_type": "code",
   "execution_count": null,
   "metadata": {
    "colab": {
     "base_uri": "https://localhost:8080/",
     "height": 270
    },
    "executionInfo": {
     "elapsed": 23,
     "status": "ok",
     "timestamp": 1643145726004,
     "user": {
      "displayName": "Megan Godfrey",
      "photoUrl": "https://lh3.googleusercontent.com/a-/AOh14Ghvy7hIpvBwOwgqOiId0PYMt8uG8Uit8vFe9CN5=s64",
      "userId": "12374755435894620672"
     },
     "user_tz": 300
    },
    "id": "8TAs8FBhWWjm",
    "outputId": "9b26b420-76cf-4369-c59f-13727e78b4c7"
   },
   "outputs": [],
   "source": [
    "df.head()"
   ]
  },
  {
   "cell_type": "code",
   "execution_count": null,
   "metadata": {
    "id": "OjJzWX6ulXYt"
   },
   "outputs": [],
   "source": [
    "#Input column names for date (ex: \"day\") and Y (ex: \"new_accounts\" or \"sales\") \n",
    "\n",
    "date_col = \"date\" #{type: \"string\"}\n",
    "kpi_col = \"y1\" #{type: \"string\"}\n"
   ]
  },
  {
   "cell_type": "code",
   "execution_count": null,
   "metadata": {
    "id": "ektWbmu5HPVk"
   },
   "outputs": [],
   "source": [
    "featureset_df = df[df.columns[df.columns != kpi_col]]\n",
    "featureset_df = featureset_df[featureset_df.columns[featureset_df.columns != date_col]]"
   ]
  },
  {
   "cell_type": "code",
   "execution_count": null,
   "metadata": {
    "colab": {
     "base_uri": "https://localhost:8080/",
     "height": 270
    },
    "executionInfo": {
     "elapsed": 22,
     "status": "ok",
     "timestamp": 1643145726006,
     "user": {
      "displayName": "Megan Godfrey",
      "photoUrl": "https://lh3.googleusercontent.com/a-/AOh14Ghvy7hIpvBwOwgqOiId0PYMt8uG8Uit8vFe9CN5=s64",
      "userId": "12374755435894620672"
     },
     "user_tz": 300
    },
    "id": "EXqRQTVSHGS-",
    "outputId": "9d1ae552-3fb7-427f-9594-2222b8ae7ea7"
   },
   "outputs": [],
   "source": [
    "featureset_df.head()"
   ]
  },
  {
   "cell_type": "markdown",
   "metadata": {
    "id": "YgwVdkgCYa59"
   },
   "source": [
    "## 4) Visualize Series"
   ]
  },
  {
   "cell_type": "code",
   "execution_count": null,
   "metadata": {
    "colab": {
     "base_uri": "https://localhost:8080/",
     "height": 1000
    },
    "executionInfo": {
     "elapsed": 11023,
     "status": "ok",
     "timestamp": 1643145757814,
     "user": {
      "displayName": "Megan Godfrey",
      "photoUrl": "https://lh3.googleusercontent.com/a-/AOh14Ghvy7hIpvBwOwgqOiId0PYMt8uG8Uit8vFe9CN5=s64",
      "userId": "12374755435894620672"
     },
     "user_tz": 300
    },
    "id": "vNg6FK5vYeU_",
    "outputId": "8b084c4c-fff5-4c55-8e74-48ba6d195728"
   },
   "outputs": [],
   "source": [
    "for i in range(2,len(featureset_df.columns)):\n",
    "  plt.figure()\n",
    "  sns.kdeplot(featureset_df[featureset_df.columns[i]], label = featureset_df.columns[i], shade = True)"
   ]
  },
  {
   "cell_type": "markdown",
   "metadata": {
    "id": "4rEpk2EWYuRW"
   },
   "source": [
    "## 5) Feature Transformation"
   ]
  },
  {
   "cell_type": "code",
   "execution_count": null,
   "metadata": {
    "id": "OsLC80eYY1NZ"
   },
   "outputs": [],
   "source": [
    "#@title Input transformation type (ex: log, sqrt)\n",
    "transformation = 'Square Root' #@param [\"Square Root\", \"Mean\",\"Log\",\"Natural Log\",\"None\"]"
   ]
  },
  {
   "cell_type": "code",
   "execution_count": null,
   "metadata": {
    "id": "tLRdlkQIY10m"
   },
   "outputs": [],
   "source": [
    "# These transformations stabilize large values in the dataset, and allow the data to be more normal\n",
    "if transformation == \"Square Root\":\n",
    "  X_transform = featureset_df.apply(np.sqrt)\n",
    "elif transformation == \"Mean\":\n",
    "  X_transform = featureset_df/featureset_df.mean()\n",
    "elif transformation == \"Natural Log\": \n",
    "  featureset_df += 1 # natural log function is not defined at 0 so need to add 1 to each value \n",
    "  X_transform = featureset_df.apply(np.log)\n",
    "else:\n",
    "  X_transform = featureset_df"
   ]
  },
  {
   "cell_type": "markdown",
   "metadata": {
    "id": "6ojhRBywZJCY"
   },
   "source": [
    "### 5.1) Feature Scaling"
   ]
  },
  {
   "cell_type": "code",
   "execution_count": null,
   "metadata": {
    "id": "9BSAlDb4ZXpY"
   },
   "outputs": [],
   "source": [
    "'''\n",
    "If you'd like to standardize your features, set the following parameter to \"yes\".\n",
    "We have options for different scaling options: Min-Max Scaler or Standard Scaler.\n",
    "\n",
    "If parameter is set to \"No\" or other value, no standardization will be performed.\n",
    "'''\n",
    "\n",
    "\n",
    "standardize_features = \"Yes\""
   ]
  },
  {
   "cell_type": "code",
   "execution_count": null,
   "metadata": {
    "id": "lsh3UTusZZeR"
   },
   "outputs": [],
   "source": [
    "if standardize_features == \"No\":\n",
    "  featureset_df = X_transform\n",
    "elif standardize_features == \"Yes\":\n",
    "  #scaler = StandardScaler()\n",
    "  scaler = MinMaxScaler()\n",
    "  #standardized_transform = scaler.fit_transform(X_transform)\n",
    "  standardized_transform = MinMaxScaler().fit_transform(X_transform)\n",
    "  featureset_df = pd.DataFrame(standardized_transform, columns = X_transform.columns)\n",
    "else:\n",
    "  featureset_df = X_transform"
   ]
  },
  {
   "cell_type": "code",
   "execution_count": null,
   "metadata": {
    "id": "IapNWY0XZc9r"
   },
   "outputs": [],
   "source": [
    "'''\n",
    "Option to review visuals of the data. After the data is standardized the distributions\n",
    "may take on a more normal shape.\n",
    "\n",
    "\n",
    "for i in range(0,len(X_transform_stand.columns)):\n",
    "  plt.figure()\n",
    "  sns.kdeplot(X_transform_stand[X_transform_stand.columns[i]], label = X_transform_stand.columns[i], shade = True)\n",
    "'''"
   ]
  },
  {
   "cell_type": "code",
   "execution_count": null,
   "metadata": {
    "colab": {
     "base_uri": "https://localhost:8080/",
     "height": 270
    },
    "executionInfo": {
     "elapsed": 202,
     "status": "ok",
     "timestamp": 1643145790442,
     "user": {
      "displayName": "Megan Godfrey",
      "photoUrl": "https://lh3.googleusercontent.com/a-/AOh14Ghvy7hIpvBwOwgqOiId0PYMt8uG8Uit8vFe9CN5=s64",
      "userId": "12374755435894620672"
     },
     "user_tz": 300
    },
    "id": "w6N4UP5sjd0p",
    "outputId": "acc0630c-497c-4d5b-8616-726f4e001760"
   },
   "outputs": [],
   "source": [
    "featureset_df.head()"
   ]
  },
  {
   "cell_type": "markdown",
   "metadata": {
    "id": "LE0Prw-gmXBs"
   },
   "source": [
    "## 6) Handle Multicollinearity (reduce feature set)"
   ]
  },
  {
   "cell_type": "code",
   "execution_count": null,
   "metadata": {
    "id": "Ba9sXqdPBoNm"
   },
   "outputs": [],
   "source": [
    "'''\n",
    "Note: A max of 50 features is recommended for 24 months of data due to risk of overfitting. \n",
    "\n",
    "Run correlation analysis and output positive/negative coefficients above specified\n",
    "threshold. Look at highly correlated variables and drop\n",
    "\n",
    "Run variance inflation factor analysis and output results to flag multicollinearity\n",
    "above specified threshold\n",
    "'''"
   ]
  },
  {
   "cell_type": "code",
   "execution_count": null,
   "metadata": {
    "colab": {
     "base_uri": "https://localhost:8080/",
     "height": 295
    },
    "executionInfo": {
     "elapsed": 396,
     "status": "ok",
     "timestamp": 1643145796800,
     "user": {
      "displayName": "Megan Godfrey",
      "photoUrl": "https://lh3.googleusercontent.com/a-/AOh14Ghvy7hIpvBwOwgqOiId0PYMt8uG8Uit8vFe9CN5=s64",
      "userId": "12374755435894620672"
     },
     "user_tz": 300
    },
    "id": "8onrNK_JZsZ4",
    "outputId": "614b9de2-85ae-4388-ca7f-ac6ee37640a6"
   },
   "outputs": [],
   "source": [
    "'''\n",
    "Print a correlation heatmap to visualize correlation across feature set\n",
    "'''\n",
    "\n",
    "correl = featureset_df.corr()\n",
    "\n",
    "# Getting the Upper Triangle of the co-relation matrix\n",
    "matrix = np.triu(correl)\n",
    "\n",
    "# using the upper triangle matrix as mask \n",
    "sns.heatmap(correl, mask=matrix)"
   ]
  },
  {
   "cell_type": "code",
   "execution_count": null,
   "metadata": {
    "id": "DxOaH_6IlXS8"
   },
   "outputs": [],
   "source": [
    "#Input correlation threshold for output (must be between 0 and 1)\n",
    "\n",
    "THRESHOLD_1 =  .6"
   ]
  },
  {
   "cell_type": "code",
   "execution_count": null,
   "metadata": {
    "colab": {
     "base_uri": "https://localhost:8080/",
     "height": 1000
    },
    "executionInfo": {
     "elapsed": 290,
     "status": "ok",
     "timestamp": 1643145801918,
     "user": {
      "displayName": "Megan Godfrey",
      "photoUrl": "https://lh3.googleusercontent.com/a-/AOh14Ghvy7hIpvBwOwgqOiId0PYMt8uG8Uit8vFe9CN5=s64",
      "userId": "12374755435894620672"
     },
     "user_tz": 300
    },
    "id": "w4yAA8Vk4PrY",
    "outputId": "b16a00ad-d07e-4264-d5c1-49e6ec3f6c65"
   },
   "outputs": [],
   "source": [
    "# output correlations > threshold_1 to review for data reduction\n",
    "\n",
    "corrs_pos = correl.where(np.triu(np.ones(correl.shape)).astype(np.bool)) # zeros out lower triangle of matrix\n",
    "corrs_pos = corrs_pos[corrs_pos > THRESHOLD_1].stack().reset_index() # user defines threshold and can increase to be more conservative\n",
    "corrs_pos = corrs_pos.loc[corrs_pos[0]<1.0]\n",
    "corrs_pos"
   ]
  },
  {
   "cell_type": "code",
   "execution_count": null,
   "metadata": {
    "colab": {
     "base_uri": "https://localhost:8080/"
    },
    "executionInfo": {
     "elapsed": 294,
     "status": "ok",
     "timestamp": 1643145804610,
     "user": {
      "displayName": "Megan Godfrey",
      "photoUrl": "https://lh3.googleusercontent.com/a-/AOh14Ghvy7hIpvBwOwgqOiId0PYMt8uG8Uit8vFe9CN5=s64",
      "userId": "12374755435894620672"
     },
     "user_tz": 300
    },
    "id": "-PcfKzuRe-h2",
    "outputId": "9da45735-244c-4f39-e6fb-805784c2fae3"
   },
   "outputs": [],
   "source": [
    "corrs_pos.level_0.value_counts()"
   ]
  },
  {
   "cell_type": "code",
   "execution_count": null,
   "metadata": {
    "colab": {
     "base_uri": "https://localhost:8080/"
    },
    "executionInfo": {
     "elapsed": 260,
     "status": "ok",
     "timestamp": 1643145807063,
     "user": {
      "displayName": "Megan Godfrey",
      "photoUrl": "https://lh3.googleusercontent.com/a-/AOh14Ghvy7hIpvBwOwgqOiId0PYMt8uG8Uit8vFe9CN5=s64",
      "userId": "12374755435894620672"
     },
     "user_tz": 300
    },
    "id": "dGFvLc05fKZ9",
    "outputId": "030509f3-b610-4ade-d483-46f10b3980b6"
   },
   "outputs": [],
   "source": [
    "corrs_pos.level_1.value_counts()"
   ]
  },
  {
   "cell_type": "code",
   "execution_count": null,
   "metadata": {
    "id": "2irSgmoN5R4p"
   },
   "outputs": [],
   "source": [
    "#Input 2nd correlation threshold (must be between -1 and 0)\n",
    "THRESHOLD_2 =  -.6 #@param {type: \"number\"}"
   ]
  },
  {
   "cell_type": "code",
   "execution_count": null,
   "metadata": {
    "colab": {
     "base_uri": "https://localhost:8080/",
     "height": 394
    },
    "executionInfo": {
     "elapsed": 242,
     "status": "ok",
     "timestamp": 1643145810800,
     "user": {
      "displayName": "Megan Godfrey",
      "photoUrl": "https://lh3.googleusercontent.com/a-/AOh14Ghvy7hIpvBwOwgqOiId0PYMt8uG8Uit8vFe9CN5=s64",
      "userId": "12374755435894620672"
     },
     "user_tz": 300
    },
    "id": "wBTrf8mM38U8",
    "outputId": "87f703cd-0e55-4dbf-f189-94c19d98aa05"
   },
   "outputs": [],
   "source": [
    "# feature reduction 1B: output correlations < threshold_2 to review for data reduction \n",
    "corrs_neg = correl.where(np.triu(np.ones(correl.shape)).astype(np.bool)) # zeros out lower triangle of matrix\n",
    "corrs_neg = corrs_neg[corrs_neg < THRESHOLD_2].stack().reset_index() # user defines threshold and can decrease to be more conservative\n",
    "corrs_neg = corrs_neg.loc[corrs_neg[0]<1.0]\n",
    "corrs_neg"
   ]
  },
  {
   "cell_type": "code",
   "execution_count": null,
   "metadata": {
    "colab": {
     "base_uri": "https://localhost:8080/"
    },
    "executionInfo": {
     "elapsed": 254,
     "status": "ok",
     "timestamp": 1643145813179,
     "user": {
      "displayName": "Megan Godfrey",
      "photoUrl": "https://lh3.googleusercontent.com/a-/AOh14Ghvy7hIpvBwOwgqOiId0PYMt8uG8Uit8vFe9CN5=s64",
      "userId": "12374755435894620672"
     },
     "user_tz": 300
    },
    "id": "n4mssjYcfICo",
    "outputId": "5708f845-0900-46a2-e2ec-2fb0d01e53e1"
   },
   "outputs": [],
   "source": [
    "corrs_neg.level_0.value_counts()"
   ]
  },
  {
   "cell_type": "code",
   "execution_count": null,
   "metadata": {
    "colab": {
     "base_uri": "https://localhost:8080/"
    },
    "executionInfo": {
     "elapsed": 209,
     "status": "ok",
     "timestamp": 1643145815035,
     "user": {
      "displayName": "Megan Godfrey",
      "photoUrl": "https://lh3.googleusercontent.com/a-/AOh14Ghvy7hIpvBwOwgqOiId0PYMt8uG8Uit8vFe9CN5=s64",
      "userId": "12374755435894620672"
     },
     "user_tz": 300
    },
    "id": "2HzVNtcDfCCU",
    "outputId": "c56c211c-8860-48e1-f023-99d5c7e58cee"
   },
   "outputs": [],
   "source": [
    "corrs_neg.level_1.value_counts()"
   ]
  },
  {
   "cell_type": "code",
   "execution_count": null,
   "metadata": {
    "id": "ts4850SkfMT2"
   },
   "outputs": [],
   "source": [
    "'''\n",
    "drop highly correlated columns after manual review of above output\n",
    "'''\n",
    "featureset_df.drop(columns = ['x3','x4','x5','x6','x7','x31'], inplace = True)"
   ]
  },
  {
   "cell_type": "code",
   "execution_count": null,
   "metadata": {
    "colab": {
     "base_uri": "https://localhost:8080/"
    },
    "executionInfo": {
     "elapsed": 9,
     "status": "ok",
     "timestamp": 1643145826661,
     "user": {
      "displayName": "Megan Godfrey",
      "photoUrl": "https://lh3.googleusercontent.com/a-/AOh14Ghvy7hIpvBwOwgqOiId0PYMt8uG8Uit8vFe9CN5=s64",
      "userId": "12374755435894620672"
     },
     "user_tz": 300
    },
    "id": "97LhpAs5H4GM",
    "outputId": "a47c21b0-6d4a-4965-b559-ddbf652d6c10"
   },
   "outputs": [],
   "source": [
    "featureset_df.columns"
   ]
  },
  {
   "cell_type": "code",
   "execution_count": null,
   "metadata": {
    "id": "onlNP4y2GU81"
   },
   "outputs": [],
   "source": [
    "featureset_df.drop(columns = ['x13','x15','x17','x36'], inplace = True)"
   ]
  },
  {
   "cell_type": "code",
   "execution_count": null,
   "metadata": {
    "colab": {
     "base_uri": "https://localhost:8080/"
    },
    "executionInfo": {
     "elapsed": 244,
     "status": "ok",
     "timestamp": 1643145975902,
     "user": {
      "displayName": "Megan Godfrey",
      "photoUrl": "https://lh3.googleusercontent.com/a-/AOh14Ghvy7hIpvBwOwgqOiId0PYMt8uG8Uit8vFe9CN5=s64",
      "userId": "12374755435894620672"
     },
     "user_tz": 300
    },
    "id": "TD6FJ6SDn-ic",
    "outputId": "7045071d-039d-4db5-cf23-0562cfe52b58"
   },
   "outputs": [],
   "source": [
    "'''\n",
    "Run VIF analysis and flag values greater than 7\n",
    "Industry best practice flags values above 10 as a violation of regression model \n",
    "assumptions\n",
    "'''\n",
    "\n",
    "vif = add_constant(featureset_df)\n",
    "\n",
    "# loop to calculate the VIF for each X \n",
    "vif = pd.Series([variance_inflation_factor(vif.values, i) \n",
    "      for i in range(vif.shape[1])], \n",
    "      index=vif.columns) \n",
    "print(vif.sort_values(ascending=False))"
   ]
  },
  {
   "cell_type": "markdown",
   "metadata": {
    "id": "rG_GLgoutTUu"
   },
   "source": [
    "### 6.1) Additional data reduction"
   ]
  },
  {
   "cell_type": "code",
   "execution_count": null,
   "metadata": {
    "id": "pv0-NmM4IszP"
   },
   "outputs": [],
   "source": [
    "'''\n",
    "If there are still too many features, one can run a regression, analyze\n",
    "the significant predictors using p-value analysis and remove any\n",
    "insignificant features.\n",
    "'''"
   ]
  },
  {
   "cell_type": "code",
   "execution_count": null,
   "metadata": {
    "id": "hg1p1w02n-RX"
   },
   "outputs": [],
   "source": [
    "'''\n",
    "\n",
    "# add column of 1's to estimate intercept parameter\n",
    "featureset_df = sm.add_constant(featureset_df) \n",
    "\n",
    "# define Y\n",
    "Y = df[[kpi_col]]\n",
    "X = featureset_df\n",
    "# run OLS model using statsmodels package for p-values\n",
    "model = sm.OLS(Y, X)\n",
    "results = model.fit()\n",
    "predictions = model.predict(results.params) \n",
    "\n",
    "print_model = results.summary()\n",
    "print_model\n",
    "'''"
   ]
  },
  {
   "cell_type": "code",
   "execution_count": null,
   "metadata": {
    "id": "_Om11_UbJDps"
   },
   "outputs": [],
   "source": [
    "'''\n",
    "Set a p-value threshold. This removes features with p-values greater than the threshold.\n",
    "\n",
    "# Input p-Value threshold\n",
    "p_threshold =  .1 #@param {type: \"number\"}\n",
    "\n",
    "# FINAL feature selection/data reduction\n",
    "results_df = (results.summary2().tables[1])\n",
    "sig_input = list(results_df[results_df['P>|t|']<=P_THRESHOLD].index)[1:]\n",
    "X_inputs = df[sig_input] \n",
    "X_inputs.columns\n",
    "\n",
    "'''"
   ]
  },
  {
   "cell_type": "code",
   "execution_count": null,
   "metadata": {
    "id": "du3Y7jYPJgeF"
   },
   "outputs": [],
   "source": [
    "'''\n",
    "If there are still too many features, one can run K-Best analysis.\n",
    "This selects top features based on univariate testing\n",
    "\n",
    "k_best = SelectKBest(f_regression, k=len(X_inputs.columns))\n",
    "k_best.fit_transform(X_inputs, Y)\n",
    "'''"
   ]
  },
  {
   "cell_type": "code",
   "execution_count": null,
   "metadata": {
    "id": "2-okMSgyJn9P"
   },
   "outputs": [],
   "source": [
    "'''\n",
    "If there are still too many features, one can run recursive feature elimination (RFE),\n",
    "which ranks features based on recursive model testing\n",
    "\n",
    "lm = LinearRegression()\n",
    "rfe = RFE(lm, 1)\n",
    "X_rfe = rfe.fit_transform(X_inputs,Y)\n",
    "lm.fit(X_rfe,Y)\n",
    "'''"
   ]
  },
  {
   "cell_type": "code",
   "execution_count": null,
   "metadata": {
    "id": "wqL_C3MPJzRV"
   },
   "outputs": [],
   "source": [
    "'''\n",
    "Output results of optional feature selection process\n",
    "\n",
    "# create dataframe with KBest and RFE results\n",
    "opt_datared_df = pd.DataFrame({'feature': X_inputs.columns, 'p_value': k_best.pvalues_, 'rfe_rank': rfe.ranking_}).sort_values('p_value')\n",
    "opt_datared_df\n",
    "'''"
   ]
  },
  {
   "cell_type": "code",
   "execution_count": null,
   "metadata": {
    "id": "40yPQEvQvu1x"
   },
   "outputs": [],
   "source": [
    "'''\n",
    "# Input p-Value and rank thresholds for optional data reduction\n",
    "#P_THRESHOLD_OPT =  .1 #@param {type: \"number\"}\n",
    "#RANK_THRESHOLD =  1 #@param {type: \"number\"}\n",
    "\n",
    "# OPTIONAL feature selection/data reduction\n",
    "\n",
    "#opt_reduction = opt_datared_df[((opt_datared_df['p_value']<=P_THRESHOLD_OPT) | \n",
    "                             #(opt_datared_df['rfe_rank'] <= RANK_THRESHOLD))] \n",
    "\n",
    "# create list of FINAL model inputs, overwriting previous input feature list.\n",
    "#opt_inputs =[]   \n",
    "\n",
    "#for index, rows in opt_reduction.iterrows(): # iterate over each row \n",
    "#    opt_inputs.append(rows.feature) \n",
    "\n",
    "#X_inputs = X_inputs[opt_inputs]                           \n",
    "'''\n"
   ]
  },
  {
   "cell_type": "markdown",
   "metadata": {
    "id": "yc7SmJGmDjPr"
   },
   "source": [
    "## 7) Export Final Dataset"
   ]
  },
  {
   "cell_type": "code",
   "execution_count": null,
   "metadata": {
    "id": "Xo2qUuIlDlQW"
   },
   "outputs": [],
   "source": [
    "final_df = featureset_df\n",
    "final_df['y1'] = df['y1']\n",
    "pandas_gbq.to_gbq(final_df, destination_table = 'RBA_demo.cleaned_data_', project_id='', if_exists = 'replace') #update project name"
   ]
  },
  {
   "cell_type": "markdown",
   "metadata": {
    "id": "KNA_pAJQ0WWV"
   },
   "source": [
    "## 8) Additional Considerations"
   ]
  },
  {
   "cell_type": "code",
   "execution_count": null,
   "metadata": {
    "id": "HgUmy007KzuZ"
   },
   "outputs": [],
   "source": [
    "'''\n",
    "Time lags: does media on day 1 impact conversions on day 2 (and so on)\n",
    "\n",
    "Diminishing returns: large increases in spend do not necessarily result in 1:1\n",
    "increases in conversions\n",
    "\n",
    "External factors: are there peak periods that should be accounted for? (i.e.\n",
    "flags for promotions, creatives, price changes in market, etc.)\n",
    "\n",
    "L1 regularization: a systematic way to remove insignificant inputs and prevents \n",
    "overfitting\n",
    "\n",
    "\n",
    "The following code is in progress and still requires testing, but can be used\n",
    "to add lag and decay features)\n",
    "'''"
   ]
  },
  {
   "cell_type": "code",
   "execution_count": null,
   "metadata": {
    "id": "6EGa2zHsKwYc"
   },
   "outputs": [],
   "source": [
    "'''\n",
    "After adding in lag, decay, etc. features will need to be re-examined for \n",
    "multicollinearity and potential feature reduction prior to modeling.\n",
    "'''\n",
    "\n",
    "'''\n",
    "#This function creates the different combinations of Lag, Decay, and Curve\n",
    "def Transformation(dataframe,x):\n",
    "    lag = []\n",
    "    for i in range(0, 5, 1):\n",
    "        data = dataframe[x].shift(i).to_frame()\n",
    "        data.columns = [col_name+'Lag'+str(i)for col_name in data.columns]\n",
    "        # store DataFrame in list\n",
    "        lag.append(data)\n",
    "    # see pd.concat documentation for more info\n",
    "    lag = pd.concat(lag,axis=1)\n",
    "    lag=lag.fillna(0)\n",
    "    Alpha = []\n",
    "    for i in np.linspace(0.6,1.0,num=5):\n",
    "        data = pow(lag,i)\n",
    "        data.columns = [col_name+'Alpha'+str(i)for col_name in data.columns]\n",
    "    # store DataFrame in list\n",
    "        Alpha.append(data)\n",
    "    # see pd.concat documentation for more info\n",
    "    Alpha = pd.concat(Alpha,axis=1)  \n",
    "    Decay=[]\n",
    "    #j = 0\n",
    "    for percent in np.linspace(0.6,1.0,5):\n",
    "        data = Alpha.copy()\n",
    "        data.columns = [col_name+'Decay'+str(percent)for col_name in data.columns]\n",
    "        for i in range(0,len(Alpha)):\n",
    "            for j in range(0,len(Alpha.columns)):\n",
    "            #data = data + data.shift(1)*(1-i)\n",
    "                if(i == 0):\n",
    "                    data.iloc[i, j] = data.iloc[i, j]*percent\n",
    "                else:\n",
    "                    data.iloc[i, j] = data.iloc[i - 1, j] *(1-percent) + data.iloc[i,j] * percent\n",
    "        Decay.append(data)\n",
    "        j = j + 1\n",
    "    Decay = pd.concat(Decay,axis=1)\n",
    "    \n",
    "    return Decay\n",
    "'''"
   ]
  }
 ],
 "metadata": {
  "colab": {
   "authorship_tag": "ABX9TyPcOXANu9+/c2ANjaXl+x1D",
   "collapsed_sections": [],
   "name": "[HBO MAX] Data Pre-Processing & Feature Selection",
   "provenance": [
    {
     "file_id": "1rTRXzEp5Y68lKPRF0B24D6UfUZF5BIV-",
     "timestamp": 1626453655786
    },
    {
     "file_id": "1a9EJrqES9Vxyp9yOvevTKqE_vqFO66AI",
     "timestamp": 1626368566392
    }
   ],
   "toc_visible": true
  },
  "kernelspec": {
   "display_name": "Python 3 (ipykernel)",
   "language": "python",
   "name": "python3"
  },
  "language_info": {
   "codemirror_mode": {
    "name": "ipython",
    "version": 3
   },
   "file_extension": ".py",
   "mimetype": "text/x-python",
   "name": "python",
   "nbconvert_exporter": "python",
   "pygments_lexer": "ipython3",
   "version": "3.9.5"
  }
 },
 "nbformat": 4,
 "nbformat_minor": 1
}
