{
  "nbformat": 4,
  "nbformat_minor": 0,
  "metadata": {
    "colab": {
      "name": "Standard Regression (BQML)",
      "provenance": [],
      "collapsed_sections": [],
      "toc_visible": true
    },
    "kernelspec": {
      "display_name": "Python 3",
      "name": "python3"
    },
    "language_info": {
      "name": "python"
    }
  },
  "cells": [
    {
      "cell_type": "markdown",
      "metadata": {
        "id": "gqL1c-Xy_3yq"
      },
      "source": [
        "Copyright 2021 Google LLC\n",
        "\n",
        "Licensed under the Apache License, Version 2.0 (the \"License\");\n",
        "you may not use this file except in compliance with the License.\n",
        "You may obtain a copy of the License at\n",
        "\n",
        "[https://www.apache.org/licenses/LICENSE-2.0](https://www.apache.org/licenses/LICENSE-2.0)\n",
        "\n",
        "Unless required by applicable law or agreed to in writing, software\n",
        "distributed under the License is distributed on an \"AS IS\" BASIS,\n",
        "WITHOUT WARRANTIES OR CONDITIONS OF ANY KIND, either express or implied.\n",
        "See the License for the specific language governing permissions and\n",
        "limitations under the License.\n",
        "\n",
        "This solution, including any related sample code or data, is made available \n",
        "on an “as is,” “as available,” and “with all faults” basis, solely for \n",
        "illustrative purposes, and without warranty or representation of any kind. \n",
        "This solution is experimental, unsupported and provided solely for your \n",
        "convenience. Your use of it is subject to your agreements with Google, as \n",
        "applicable, and may constitute a beta feature as defined under those \n",
        "agreements.  To the extent that you make any data available to Google in \n",
        "connection with your use of the solution, you represent and warrant that you \n",
        "have all necessary and appropriate rights, consents and permissions to permit \n",
        "Google to use and process that data.  By using any portion of this solution, \n",
        "you acknowledge, assume and accept all risks, known and unknown, associated \n",
        "with its usage, including with respect to your deployment of any portion of \n",
        "this solution in your systems, or usage in connection with your business, \n",
        "if at all."
      ]
    },
    {
      "cell_type": "markdown",
      "metadata": {
        "id": "l19lClJob3IR"
      },
      "source": [
        "# Setup"
      ]
    },
    {
      "cell_type": "markdown",
      "metadata": {
        "id": "uh6JyZGLcEgE"
      },
      "source": [
        "### Load modules"
      ]
    },
    {
      "cell_type": "code",
      "metadata": {
        "id": "4aupXJjFcHkq",
        "colab": {
          "base_uri": "https://localhost:8080/"
        },
        "outputId": "f18c83a8-dc34-4737-f7ce-45d2f70ca41c"
      },
      "source": [
        "# authenication libraries for colab & bigquery tools\n",
        "from google.colab import auth\n",
        "from google.cloud import bigquery\n",
        "!pip install --upgrade -q gspread \n",
        "import gspread\n",
        "from gspread_dataframe import set_with_dataframe\n",
        "from oauth2client.client import GoogleCredentials\n",
        "auth.authenticate_user()\n",
        "gc = gspread.authorize(GoogleCredentials.get_application_default())\n",
        "bigquery.USE_LEGACY_SQL = False\n",
        "\n",
        "# BQ Magics\n",
        "from google.cloud import bigquery\n",
        "from google.cloud.bigquery import magics\n",
        "magics.context.project = 'db' \n",
        "client = bigquery.Client(project=magics.context.project)\n",
        "%load_ext google.cloud.bigquery\n",
        "\n",
        "!pip install relativeImp\n",
        "from relativeImp import relativeImp\n",
        "\n",
        "# data processing libraries\n",
        "import numpy as np\n",
        "import pandas as pd\n",
        "import matplotlib.pyplot as plt\n",
        "from statsmodels.stats.stattools import durbin_watson\n",
        "import statsmodels.api as sm\n",
        "import seaborn as sns"
      ],
      "execution_count": 10,
      "outputs": [
        {
          "output_type": "stream",
          "name": "stdout",
          "text": [
            "The google.cloud.bigquery extension is already loaded. To reload it, use:\n",
            "  %reload_ext google.cloud.bigquery\n",
            "Requirement already satisfied: relativeImp in /usr/local/lib/python3.7/dist-packages (0.0.2)\n",
            "Requirement already satisfied: numpy in /usr/local/lib/python3.7/dist-packages (from relativeImp) (1.19.5)\n",
            "Requirement already satisfied: pandas in /usr/local/lib/python3.7/dist-packages (from relativeImp) (1.1.5)\n",
            "Requirement already satisfied: pytz>=2017.2 in /usr/local/lib/python3.7/dist-packages (from pandas->relativeImp) (2018.9)\n",
            "Requirement already satisfied: python-dateutil>=2.7.3 in /usr/local/lib/python3.7/dist-packages (from pandas->relativeImp) (2.8.2)\n",
            "Requirement already satisfied: six>=1.5 in /usr/local/lib/python3.7/dist-packages (from python-dateutil>=2.7.3->pandas->relativeImp) (1.15.0)\n"
          ]
        }
      ]
    },
    {
      "cell_type": "markdown",
      "metadata": {
        "id": "8N8-scWPc7fP"
      },
      "source": [
        "### Load model input data"
      ]
    },
    {
      "cell_type": "code",
      "metadata": {
        "id": "72-DM56LFrGg"
      },
      "source": [
        "%%bigquery df\n",
        "SELECT *\n",
        "FROM `db.dataset.table`;"
      ],
      "execution_count": 11,
      "outputs": []
    },
    {
      "cell_type": "code",
      "metadata": {
        "colab": {
          "base_uri": "https://localhost:8080/"
        },
        "id": "psVo1ZxHCyZ-",
        "outputId": "4e200d0b-8e0f-452b-e970-32f213cfae5d"
      },
      "source": [
        "df.columns"
      ],
      "execution_count": 12,
      "outputs": [
        {
          "output_type": "execute_result",
          "data": {
            "text/plain": [
              "Index(['x2', 'x16', 'x17', 'x26', 'x27', 'x32', 'x34', 'x35', 'x38', 'x39',\n",
              "       'x45', 'y1', 'date'],\n",
              "      dtype='object')"
            ]
          },
          "metadata": {},
          "execution_count": 12
        }
      ]
    },
    {
      "cell_type": "code",
      "metadata": {
        "id": "qbPuqnntZ9Tr"
      },
      "source": [
        "df = df.fillna(0)"
      ],
      "execution_count": 13,
      "outputs": []
    },
    {
      "cell_type": "code",
      "metadata": {
        "colab": {
          "base_uri": "https://localhost:8080/",
          "height": 293
        },
        "id": "yToddasyh-77",
        "outputId": "57959677-f626-43dc-be47-a9d8890e68cb"
      },
      "source": [
        "df.describe()"
      ],
      "execution_count": 14,
      "outputs": [
        {
          "output_type": "execute_result",
          "data": {
            "text/html": [
              "<div>\n",
              "<style scoped>\n",
              "    .dataframe tbody tr th:only-of-type {\n",
              "        vertical-align: middle;\n",
              "    }\n",
              "\n",
              "    .dataframe tbody tr th {\n",
              "        vertical-align: top;\n",
              "    }\n",
              "\n",
              "    .dataframe thead th {\n",
              "        text-align: right;\n",
              "    }\n",
              "</style>\n",
              "<table border=\"1\" class=\"dataframe\">\n",
              "  <thead>\n",
              "    <tr style=\"text-align: right;\">\n",
              "      <th></th>\n",
              "      <th>x2</th>\n",
              "      <th>x16</th>\n",
              "      <th>x17</th>\n",
              "      <th>x26</th>\n",
              "      <th>x27</th>\n",
              "      <th>x32</th>\n",
              "      <th>x34</th>\n",
              "      <th>x35</th>\n",
              "      <th>x38</th>\n",
              "      <th>x39</th>\n",
              "      <th>x45</th>\n",
              "      <th>y1</th>\n",
              "    </tr>\n",
              "  </thead>\n",
              "  <tbody>\n",
              "    <tr>\n",
              "      <th>count</th>\n",
              "      <td>607.000000</td>\n",
              "      <td>607.000000</td>\n",
              "      <td>607.000000</td>\n",
              "      <td>607.000000</td>\n",
              "      <td>607.000000</td>\n",
              "      <td>607.000000</td>\n",
              "      <td>607.000000</td>\n",
              "      <td>607.000000</td>\n",
              "      <td>607.000000</td>\n",
              "      <td>607.000000</td>\n",
              "      <td>607.000000</td>\n",
              "      <td>607.000000</td>\n",
              "    </tr>\n",
              "    <tr>\n",
              "      <th>mean</th>\n",
              "      <td>0.347131</td>\n",
              "      <td>0.563542</td>\n",
              "      <td>0.176077</td>\n",
              "      <td>0.317666</td>\n",
              "      <td>0.359390</td>\n",
              "      <td>0.542659</td>\n",
              "      <td>0.389675</td>\n",
              "      <td>0.501875</td>\n",
              "      <td>0.384566</td>\n",
              "      <td>0.639204</td>\n",
              "      <td>0.415167</td>\n",
              "      <td>2250.153213</td>\n",
              "    </tr>\n",
              "    <tr>\n",
              "      <th>std</th>\n",
              "      <td>0.121475</td>\n",
              "      <td>0.250125</td>\n",
              "      <td>0.127854</td>\n",
              "      <td>0.330741</td>\n",
              "      <td>0.225579</td>\n",
              "      <td>0.153352</td>\n",
              "      <td>0.221485</td>\n",
              "      <td>0.212811</td>\n",
              "      <td>0.228368</td>\n",
              "      <td>0.208313</td>\n",
              "      <td>0.147844</td>\n",
              "      <td>461.357669</td>\n",
              "    </tr>\n",
              "    <tr>\n",
              "      <th>min</th>\n",
              "      <td>0.000000</td>\n",
              "      <td>0.000000</td>\n",
              "      <td>0.000000</td>\n",
              "      <td>0.000000</td>\n",
              "      <td>0.000000</td>\n",
              "      <td>0.000000</td>\n",
              "      <td>0.000000</td>\n",
              "      <td>0.000000</td>\n",
              "      <td>0.000000</td>\n",
              "      <td>0.000000</td>\n",
              "      <td>0.000000</td>\n",
              "      <td>1159.000000</td>\n",
              "    </tr>\n",
              "    <tr>\n",
              "      <th>25%</th>\n",
              "      <td>0.269748</td>\n",
              "      <td>0.560721</td>\n",
              "      <td>0.127205</td>\n",
              "      <td>0.000000</td>\n",
              "      <td>0.274146</td>\n",
              "      <td>0.423382</td>\n",
              "      <td>0.212273</td>\n",
              "      <td>0.373939</td>\n",
              "      <td>0.265449</td>\n",
              "      <td>0.600986</td>\n",
              "      <td>0.317174</td>\n",
              "      <td>1924.000000</td>\n",
              "    </tr>\n",
              "    <tr>\n",
              "      <th>50%</th>\n",
              "      <td>0.340812</td>\n",
              "      <td>0.650913</td>\n",
              "      <td>0.160904</td>\n",
              "      <td>0.332360</td>\n",
              "      <td>0.386619</td>\n",
              "      <td>0.531852</td>\n",
              "      <td>0.354181</td>\n",
              "      <td>0.479394</td>\n",
              "      <td>0.333524</td>\n",
              "      <td>0.685216</td>\n",
              "      <td>0.397298</td>\n",
              "      <td>2227.000000</td>\n",
              "    </tr>\n",
              "    <tr>\n",
              "      <th>75%</th>\n",
              "      <td>0.420571</td>\n",
              "      <td>0.721212</td>\n",
              "      <td>0.212855</td>\n",
              "      <td>0.621227</td>\n",
              "      <td>0.529631</td>\n",
              "      <td>0.657099</td>\n",
              "      <td>0.561979</td>\n",
              "      <td>0.605810</td>\n",
              "      <td>0.532879</td>\n",
              "      <td>0.763470</td>\n",
              "      <td>0.466581</td>\n",
              "      <td>2459.000000</td>\n",
              "    </tr>\n",
              "    <tr>\n",
              "      <th>max</th>\n",
              "      <td>1.000000</td>\n",
              "      <td>1.000000</td>\n",
              "      <td>1.000000</td>\n",
              "      <td>1.000000</td>\n",
              "      <td>1.000000</td>\n",
              "      <td>1.000000</td>\n",
              "      <td>1.000000</td>\n",
              "      <td>1.000000</td>\n",
              "      <td>1.000000</td>\n",
              "      <td>1.000000</td>\n",
              "      <td>1.000000</td>\n",
              "      <td>3783.000000</td>\n",
              "    </tr>\n",
              "  </tbody>\n",
              "</table>\n",
              "</div>"
            ],
            "text/plain": [
              "               x2         x16         x17  ...         x39         x45           y1\n",
              "count  607.000000  607.000000  607.000000  ...  607.000000  607.000000   607.000000\n",
              "mean     0.347131    0.563542    0.176077  ...    0.639204    0.415167  2250.153213\n",
              "std      0.121475    0.250125    0.127854  ...    0.208313    0.147844   461.357669\n",
              "min      0.000000    0.000000    0.000000  ...    0.000000    0.000000  1159.000000\n",
              "25%      0.269748    0.560721    0.127205  ...    0.600986    0.317174  1924.000000\n",
              "50%      0.340812    0.650913    0.160904  ...    0.685216    0.397298  2227.000000\n",
              "75%      0.420571    0.721212    0.212855  ...    0.763470    0.466581  2459.000000\n",
              "max      1.000000    1.000000    1.000000  ...    1.000000    1.000000  3783.000000\n",
              "\n",
              "[8 rows x 12 columns]"
            ]
          },
          "metadata": {},
          "execution_count": 14
        }
      ]
    },
    {
      "cell_type": "markdown",
      "metadata": {
        "id": "j2kOEcAxArc7"
      },
      "source": [
        "## BQML Model"
      ]
    },
    {
      "cell_type": "markdown",
      "metadata": {
        "id": "4tnNNcg28cbE"
      },
      "source": [
        "Run the model"
      ]
    },
    {
      "cell_type": "code",
      "metadata": {
        "id": "9cp6xyg278H7",
        "colab": {
          "base_uri": "https://localhost:8080/",
          "height": 32
        },
        "outputId": "c2d31297-69ba-45b5-a4cd-4f37be2b40f8"
      },
      "source": [
        "%%bigquery\n",
        "CREATE OR REPLACE MODEL `db.dataset.rba_model` \n",
        "OPTIONS (model_type='linear_reg',\n",
        "         input_label_cols = ['y1'])\n",
        "AS SELECT x2,x16,x17,x26, x27, x32, x34, x35, x38,x39,x45, y1\n",
        "    FROM `db.dataset.rba_input_table`;"
      ],
      "execution_count": 15,
      "outputs": [
        {
          "output_type": "execute_result",
          "data": {
            "text/html": [
              "<div>\n",
              "<style scoped>\n",
              "    .dataframe tbody tr th:only-of-type {\n",
              "        vertical-align: middle;\n",
              "    }\n",
              "\n",
              "    .dataframe tbody tr th {\n",
              "        vertical-align: top;\n",
              "    }\n",
              "\n",
              "    .dataframe thead th {\n",
              "        text-align: right;\n",
              "    }\n",
              "</style>\n",
              "<table border=\"1\" class=\"dataframe\">\n",
              "  <thead>\n",
              "    <tr style=\"text-align: right;\">\n",
              "      <th></th>\n",
              "    </tr>\n",
              "  </thead>\n",
              "  <tbody>\n",
              "  </tbody>\n",
              "</table>\n",
              "</div>"
            ],
            "text/plain": [
              "Empty DataFrame\n",
              "Columns: []\n",
              "Index: []"
            ]
          },
          "metadata": {},
          "execution_count": 15
        }
      ]
    },
    {
      "cell_type": "markdown",
      "metadata": {
        "id": "taBcsWgY8dnI"
      },
      "source": [
        "Output results (un-standardized)"
      ]
    },
    {
      "cell_type": "code",
      "metadata": {
        "id": "fCPvQV-ozkop"
      },
      "source": [
        "%%bigquery bqml_results_unscaled\n",
        "SELECT *\n",
        "FROM ML.WEIGHTS(MODEL `db.dataset.rba_model`)"
      ],
      "execution_count": 16,
      "outputs": []
    },
    {
      "cell_type": "code",
      "metadata": {
        "id": "sPYunF95A14c",
        "colab": {
          "base_uri": "https://localhost:8080/",
          "height": 415
        },
        "outputId": "6d88863c-55b4-4bb1-a0ba-14c2ff695088"
      },
      "source": [
        "bqml_results_unscaled"
      ],
      "execution_count": 17,
      "outputs": [
        {
          "output_type": "execute_result",
          "data": {
            "text/html": [
              "<div>\n",
              "<style scoped>\n",
              "    .dataframe tbody tr th:only-of-type {\n",
              "        vertical-align: middle;\n",
              "    }\n",
              "\n",
              "    .dataframe tbody tr th {\n",
              "        vertical-align: top;\n",
              "    }\n",
              "\n",
              "    .dataframe thead th {\n",
              "        text-align: right;\n",
              "    }\n",
              "</style>\n",
              "<table border=\"1\" class=\"dataframe\">\n",
              "  <thead>\n",
              "    <tr style=\"text-align: right;\">\n",
              "      <th></th>\n",
              "      <th>processed_input</th>\n",
              "      <th>weight</th>\n",
              "      <th>category_weights</th>\n",
              "    </tr>\n",
              "  </thead>\n",
              "  <tbody>\n",
              "    <tr>\n",
              "      <th>0</th>\n",
              "      <td>x2</td>\n",
              "      <td>750.503126</td>\n",
              "      <td>[]</td>\n",
              "    </tr>\n",
              "    <tr>\n",
              "      <th>1</th>\n",
              "      <td>x16</td>\n",
              "      <td>269.214759</td>\n",
              "      <td>[]</td>\n",
              "    </tr>\n",
              "    <tr>\n",
              "      <th>2</th>\n",
              "      <td>x17</td>\n",
              "      <td>-453.495690</td>\n",
              "      <td>[]</td>\n",
              "    </tr>\n",
              "    <tr>\n",
              "      <th>3</th>\n",
              "      <td>x26</td>\n",
              "      <td>145.650301</td>\n",
              "      <td>[]</td>\n",
              "    </tr>\n",
              "    <tr>\n",
              "      <th>4</th>\n",
              "      <td>x27</td>\n",
              "      <td>762.638581</td>\n",
              "      <td>[]</td>\n",
              "    </tr>\n",
              "    <tr>\n",
              "      <th>5</th>\n",
              "      <td>x32</td>\n",
              "      <td>-417.919043</td>\n",
              "      <td>[]</td>\n",
              "    </tr>\n",
              "    <tr>\n",
              "      <th>6</th>\n",
              "      <td>x34</td>\n",
              "      <td>-172.455189</td>\n",
              "      <td>[]</td>\n",
              "    </tr>\n",
              "    <tr>\n",
              "      <th>7</th>\n",
              "      <td>x35</td>\n",
              "      <td>-912.426380</td>\n",
              "      <td>[]</td>\n",
              "    </tr>\n",
              "    <tr>\n",
              "      <th>8</th>\n",
              "      <td>x38</td>\n",
              "      <td>399.074537</td>\n",
              "      <td>[]</td>\n",
              "    </tr>\n",
              "    <tr>\n",
              "      <th>9</th>\n",
              "      <td>x39</td>\n",
              "      <td>461.533480</td>\n",
              "      <td>[]</td>\n",
              "    </tr>\n",
              "    <tr>\n",
              "      <th>10</th>\n",
              "      <td>x45</td>\n",
              "      <td>371.091788</td>\n",
              "      <td>[]</td>\n",
              "    </tr>\n",
              "    <tr>\n",
              "      <th>11</th>\n",
              "      <td>__INTERCEPT__</td>\n",
              "      <td>1744.214460</td>\n",
              "      <td>[]</td>\n",
              "    </tr>\n",
              "  </tbody>\n",
              "</table>\n",
              "</div>"
            ],
            "text/plain": [
              "   processed_input       weight category_weights\n",
              "0               x2   750.503126               []\n",
              "1              x16   269.214759               []\n",
              "2              x17  -453.495690               []\n",
              "3              x26   145.650301               []\n",
              "4              x27   762.638581               []\n",
              "5              x32  -417.919043               []\n",
              "6              x34  -172.455189               []\n",
              "7              x35  -912.426380               []\n",
              "8              x38   399.074537               []\n",
              "9              x39   461.533480               []\n",
              "10             x45   371.091788               []\n",
              "11   __INTERCEPT__  1744.214460               []"
            ]
          },
          "metadata": {},
          "execution_count": 17
        }
      ]
    },
    {
      "cell_type": "markdown",
      "metadata": {
        "id": "-iYwsTK48gVc"
      },
      "source": [
        "Output results (standardized)"
      ]
    },
    {
      "cell_type": "code",
      "metadata": {
        "id": "0Me9Piby8hzF"
      },
      "source": [
        "%%bigquery bqml_results_scaled\n",
        "SELECT\n",
        "  *\n",
        "FROM\n",
        "  ML.WEIGHTS(MODEL `db.dataset.rba_model`,\n",
        "    STRUCT(true AS standardize))"
      ],
      "execution_count": 18,
      "outputs": []
    },
    {
      "cell_type": "code",
      "metadata": {
        "id": "CiSyIHoP8pLc",
        "colab": {
          "base_uri": "https://localhost:8080/",
          "height": 415
        },
        "outputId": "c1a0344b-a17d-4709-fb8c-0d232e81d2c0"
      },
      "source": [
        "bqml_results_scaled"
      ],
      "execution_count": 19,
      "outputs": [
        {
          "output_type": "execute_result",
          "data": {
            "text/html": [
              "<div>\n",
              "<style scoped>\n",
              "    .dataframe tbody tr th:only-of-type {\n",
              "        vertical-align: middle;\n",
              "    }\n",
              "\n",
              "    .dataframe tbody tr th {\n",
              "        vertical-align: top;\n",
              "    }\n",
              "\n",
              "    .dataframe thead th {\n",
              "        text-align: right;\n",
              "    }\n",
              "</style>\n",
              "<table border=\"1\" class=\"dataframe\">\n",
              "  <thead>\n",
              "    <tr style=\"text-align: right;\">\n",
              "      <th></th>\n",
              "      <th>processed_input</th>\n",
              "      <th>weight</th>\n",
              "      <th>category_weights</th>\n",
              "    </tr>\n",
              "  </thead>\n",
              "  <tbody>\n",
              "    <tr>\n",
              "      <th>0</th>\n",
              "      <td>x2</td>\n",
              "      <td>89.043051</td>\n",
              "      <td>[]</td>\n",
              "    </tr>\n",
              "    <tr>\n",
              "      <th>1</th>\n",
              "      <td>x16</td>\n",
              "      <td>68.043023</td>\n",
              "      <td>[]</td>\n",
              "    </tr>\n",
              "    <tr>\n",
              "      <th>2</th>\n",
              "      <td>x17</td>\n",
              "      <td>-56.030488</td>\n",
              "      <td>[]</td>\n",
              "    </tr>\n",
              "    <tr>\n",
              "      <th>3</th>\n",
              "      <td>x26</td>\n",
              "      <td>48.064969</td>\n",
              "      <td>[]</td>\n",
              "    </tr>\n",
              "    <tr>\n",
              "      <th>4</th>\n",
              "      <td>x27</td>\n",
              "      <td>172.133277</td>\n",
              "      <td>[]</td>\n",
              "    </tr>\n",
              "    <tr>\n",
              "      <th>5</th>\n",
              "      <td>x32</td>\n",
              "      <td>-63.774296</td>\n",
              "      <td>[]</td>\n",
              "    </tr>\n",
              "    <tr>\n",
              "      <th>6</th>\n",
              "      <td>x34</td>\n",
              "      <td>-37.779487</td>\n",
              "      <td>[]</td>\n",
              "    </tr>\n",
              "    <tr>\n",
              "      <th>7</th>\n",
              "      <td>x35</td>\n",
              "      <td>-194.248836</td>\n",
              "      <td>[]</td>\n",
              "    </tr>\n",
              "    <tr>\n",
              "      <th>8</th>\n",
              "      <td>x38</td>\n",
              "      <td>91.034956</td>\n",
              "      <td>[]</td>\n",
              "    </tr>\n",
              "    <tr>\n",
              "      <th>9</th>\n",
              "      <td>x39</td>\n",
              "      <td>97.811035</td>\n",
              "      <td>[]</td>\n",
              "    </tr>\n",
              "    <tr>\n",
              "      <th>10</th>\n",
              "      <td>x45</td>\n",
              "      <td>54.419567</td>\n",
              "      <td>[]</td>\n",
              "    </tr>\n",
              "    <tr>\n",
              "      <th>11</th>\n",
              "      <td>__INTERCEPT__</td>\n",
              "      <td>2247.925620</td>\n",
              "      <td>[]</td>\n",
              "    </tr>\n",
              "  </tbody>\n",
              "</table>\n",
              "</div>"
            ],
            "text/plain": [
              "   processed_input       weight category_weights\n",
              "0               x2    89.043051               []\n",
              "1              x16    68.043023               []\n",
              "2              x17   -56.030488               []\n",
              "3              x26    48.064969               []\n",
              "4              x27   172.133277               []\n",
              "5              x32   -63.774296               []\n",
              "6              x34   -37.779487               []\n",
              "7              x35  -194.248836               []\n",
              "8              x38    91.034956               []\n",
              "9              x39    97.811035               []\n",
              "10             x45    54.419567               []\n",
              "11   __INTERCEPT__  2247.925620               []"
            ]
          },
          "metadata": {},
          "execution_count": 19
        }
      ]
    },
    {
      "cell_type": "markdown",
      "metadata": {
        "id": "KtvXzEFDDeyp"
      },
      "source": [
        "### Evaluation"
      ]
    },
    {
      "cell_type": "code",
      "metadata": {
        "id": "0KPZXxNXzkl-"
      },
      "source": [
        "%%bigquery bqml_scores\n",
        "SELECT *\n",
        "FROM ML.EVALUATE(MODEL `db.dataset.rba_model`)"
      ],
      "execution_count": 20,
      "outputs": []
    },
    {
      "cell_type": "code",
      "metadata": {
        "id": "QktcOckLzkKv"
      },
      "source": [
        "bqml_mae = bqml_scores.mean_absolute_error\n",
        "bqml_rmse = np.sqrt(bqml_scores['mean_squared_error'])\n",
        "bqml_scores['rmse'] = bqml_rmse"
      ],
      "execution_count": 21,
      "outputs": []
    },
    {
      "cell_type": "code",
      "metadata": {
        "id": "5anQGJQF268d",
        "colab": {
          "base_uri": "https://localhost:8080/",
          "height": 79
        },
        "outputId": "ce9e4d70-6e10-4eaf-bd34-ef0aa2c49d61"
      },
      "source": [
        "bqml_scores"
      ],
      "execution_count": 22,
      "outputs": [
        {
          "output_type": "execute_result",
          "data": {
            "text/html": [
              "<div>\n",
              "<style scoped>\n",
              "    .dataframe tbody tr th:only-of-type {\n",
              "        vertical-align: middle;\n",
              "    }\n",
              "\n",
              "    .dataframe tbody tr th {\n",
              "        vertical-align: top;\n",
              "    }\n",
              "\n",
              "    .dataframe thead th {\n",
              "        text-align: right;\n",
              "    }\n",
              "</style>\n",
              "<table border=\"1\" class=\"dataframe\">\n",
              "  <thead>\n",
              "    <tr style=\"text-align: right;\">\n",
              "      <th></th>\n",
              "      <th>mean_absolute_error</th>\n",
              "      <th>mean_squared_error</th>\n",
              "      <th>mean_squared_log_error</th>\n",
              "      <th>median_absolute_error</th>\n",
              "      <th>r2_score</th>\n",
              "      <th>explained_variance</th>\n",
              "      <th>rmse</th>\n",
              "    </tr>\n",
              "  </thead>\n",
              "  <tbody>\n",
              "    <tr>\n",
              "      <th>0</th>\n",
              "      <td>379.756932</td>\n",
              "      <td>210628.714876</td>\n",
              "      <td>0.044121</td>\n",
              "      <td>336.245345</td>\n",
              "      <td>0.098781</td>\n",
              "      <td>0.11692</td>\n",
              "      <td>458.943041</td>\n",
              "    </tr>\n",
              "  </tbody>\n",
              "</table>\n",
              "</div>"
            ],
            "text/plain": [
              "   mean_absolute_error  mean_squared_error  ...  explained_variance        rmse\n",
              "0           379.756932       210628.714876  ...             0.11692  458.943041\n",
              "\n",
              "[1 rows x 7 columns]"
            ]
          },
          "metadata": {},
          "execution_count": 22
        }
      ]
    },
    {
      "cell_type": "markdown",
      "metadata": {
        "id": "_5mUPHgA5a1V"
      },
      "source": [
        "### Calculate % contribution by tactic"
      ]
    },
    {
      "cell_type": "code",
      "metadata": {
        "id": "yQfsJMBO5c58"
      },
      "source": [
        "yName = 'y1'\n",
        "xNames = ['x2','x16','x17','x26','x27','x32','x34','x35','x38','x39','x45']\n",
        "df_results = relativeImp(df, outcomeName = yName, driverNames = xNames)\n",
        "df_results.drop(columns = ['normRelaImpt'], inplace = True)"
      ],
      "execution_count": 24,
      "outputs": []
    },
    {
      "cell_type": "code",
      "metadata": {
        "id": "5Orc1YT45kf7",
        "colab": {
          "base_uri": "https://localhost:8080/",
          "height": 384
        },
        "outputId": "dcf7b1d2-cbd3-4835-bb3c-f986da7cc246"
      },
      "source": [
        "df_results"
      ],
      "execution_count": 25,
      "outputs": [
        {
          "output_type": "execute_result",
          "data": {
            "text/html": [
              "<div>\n",
              "<style scoped>\n",
              "    .dataframe tbody tr th:only-of-type {\n",
              "        vertical-align: middle;\n",
              "    }\n",
              "\n",
              "    .dataframe tbody tr th {\n",
              "        vertical-align: top;\n",
              "    }\n",
              "\n",
              "    .dataframe thead th {\n",
              "        text-align: right;\n",
              "    }\n",
              "</style>\n",
              "<table border=\"1\" class=\"dataframe\">\n",
              "  <thead>\n",
              "    <tr style=\"text-align: right;\">\n",
              "      <th></th>\n",
              "      <th>driver</th>\n",
              "      <th>rawRelaImpt</th>\n",
              "    </tr>\n",
              "  </thead>\n",
              "  <tbody>\n",
              "    <tr>\n",
              "      <th>0</th>\n",
              "      <td>x2</td>\n",
              "      <td>0.041641</td>\n",
              "    </tr>\n",
              "    <tr>\n",
              "      <th>1</th>\n",
              "      <td>x16</td>\n",
              "      <td>0.013027</td>\n",
              "    </tr>\n",
              "    <tr>\n",
              "      <th>2</th>\n",
              "      <td>x17</td>\n",
              "      <td>0.004239</td>\n",
              "    </tr>\n",
              "    <tr>\n",
              "      <th>3</th>\n",
              "      <td>x26</td>\n",
              "      <td>0.019043</td>\n",
              "    </tr>\n",
              "    <tr>\n",
              "      <th>4</th>\n",
              "      <td>x27</td>\n",
              "      <td>0.039651</td>\n",
              "    </tr>\n",
              "    <tr>\n",
              "      <th>5</th>\n",
              "      <td>x32</td>\n",
              "      <td>0.004808</td>\n",
              "    </tr>\n",
              "    <tr>\n",
              "      <th>6</th>\n",
              "      <td>x34</td>\n",
              "      <td>0.015298</td>\n",
              "    </tr>\n",
              "    <tr>\n",
              "      <th>7</th>\n",
              "      <td>x35</td>\n",
              "      <td>0.029089</td>\n",
              "    </tr>\n",
              "    <tr>\n",
              "      <th>8</th>\n",
              "      <td>x38</td>\n",
              "      <td>0.053517</td>\n",
              "    </tr>\n",
              "    <tr>\n",
              "      <th>9</th>\n",
              "      <td>x39</td>\n",
              "      <td>0.043072</td>\n",
              "    </tr>\n",
              "    <tr>\n",
              "      <th>10</th>\n",
              "      <td>x45</td>\n",
              "      <td>0.024026</td>\n",
              "    </tr>\n",
              "  </tbody>\n",
              "</table>\n",
              "</div>"
            ],
            "text/plain": [
              "   driver  rawRelaImpt\n",
              "0      x2     0.041641\n",
              "1     x16     0.013027\n",
              "2     x17     0.004239\n",
              "3     x26     0.019043\n",
              "4     x27     0.039651\n",
              "5     x32     0.004808\n",
              "6     x34     0.015298\n",
              "7     x35     0.029089\n",
              "8     x38     0.053517\n",
              "9     x39     0.043072\n",
              "10    x45     0.024026"
            ]
          },
          "metadata": {},
          "execution_count": 25
        }
      ]
    },
    {
      "cell_type": "code",
      "metadata": {
        "id": "OqhM7snT6JJs",
        "colab": {
          "base_uri": "https://localhost:8080/"
        },
        "outputId": "5f06e761-3fde-4e50-8e4a-b9f9a7ef5702"
      },
      "source": [
        "df_results['rawRelaImpt'].sum()"
      ],
      "execution_count": 26,
      "outputs": [
        {
          "output_type": "execute_result",
          "data": {
            "text/plain": [
              "0.28741058384210694"
            ]
          },
          "metadata": {},
          "execution_count": 26
        }
      ]
    },
    {
      "cell_type": "code",
      "metadata": {
        "id": "VQ7A2zQQ-hAt",
        "colab": {
          "base_uri": "https://localhost:8080/"
        },
        "outputId": "ca208eec-5ae8-46a0-941c-d2f0372f391d"
      },
      "source": [
        "unattributed_conversions = 1 - df_results['rawRelaImpt'].sum()\n",
        "unattributed_conversions"
      ],
      "execution_count": 27,
      "outputs": [
        {
          "output_type": "execute_result",
          "data": {
            "text/plain": [
              "0.7125894161578931"
            ]
          },
          "metadata": {},
          "execution_count": 27
        }
      ]
    },
    {
      "cell_type": "markdown",
      "metadata": {
        "id": "mCKeutMiqOc2"
      },
      "source": [
        "# Validate Linear Regression Model Assumptions"
      ]
    },
    {
      "cell_type": "markdown",
      "metadata": {
        "id": "xIiQh9x17Kmc"
      },
      "source": [
        "Generate model predictions and residuals"
      ]
    },
    {
      "cell_type": "code",
      "metadata": {
        "id": "cOuAWoAT7JDU"
      },
      "source": [
        "%%bigquery model_predictions\n",
        "SELECT\n",
        "  predicted_y1, y1\n",
        "FROM\n",
        "  ML.PREDICT(MODEL `db.dataset.rba_model`,\n",
        "    (\n",
        "    SELECT\n",
        "        *\n",
        "    FROM\n",
        "      `db.dataset.rba_input_table`));"
      ],
      "execution_count": 28,
      "outputs": []
    },
    {
      "cell_type": "code",
      "metadata": {
        "id": "87fbrpbM7cE3"
      },
      "source": [
        "model_predictions['residuals'] = model_predictions.predicted_y1 - model_predictions.y1"
      ],
      "execution_count": 29,
      "outputs": []
    },
    {
      "cell_type": "code",
      "metadata": {
        "id": "UhQqztBb9Az4",
        "colab": {
          "base_uri": "https://localhost:8080/",
          "height": 413
        },
        "outputId": "485cdd4d-3834-46d0-ff0e-5743b65e1358"
      },
      "source": [
        "model_predictions"
      ],
      "execution_count": 30,
      "outputs": [
        {
          "output_type": "execute_result",
          "data": {
            "text/html": [
              "<div>\n",
              "<style scoped>\n",
              "    .dataframe tbody tr th:only-of-type {\n",
              "        vertical-align: middle;\n",
              "    }\n",
              "\n",
              "    .dataframe tbody tr th {\n",
              "        vertical-align: top;\n",
              "    }\n",
              "\n",
              "    .dataframe thead th {\n",
              "        text-align: right;\n",
              "    }\n",
              "</style>\n",
              "<table border=\"1\" class=\"dataframe\">\n",
              "  <thead>\n",
              "    <tr style=\"text-align: right;\">\n",
              "      <th></th>\n",
              "      <th>predicted_y1</th>\n",
              "      <th>y1</th>\n",
              "      <th>residuals</th>\n",
              "    </tr>\n",
              "  </thead>\n",
              "  <tbody>\n",
              "    <tr>\n",
              "      <th>0</th>\n",
              "      <td>2578.866546</td>\n",
              "      <td>2258</td>\n",
              "      <td>320.866546</td>\n",
              "    </tr>\n",
              "    <tr>\n",
              "      <th>1</th>\n",
              "      <td>2829.009128</td>\n",
              "      <td>3140</td>\n",
              "      <td>-310.990872</td>\n",
              "    </tr>\n",
              "    <tr>\n",
              "      <th>2</th>\n",
              "      <td>2664.856741</td>\n",
              "      <td>2253</td>\n",
              "      <td>411.856741</td>\n",
              "    </tr>\n",
              "    <tr>\n",
              "      <th>3</th>\n",
              "      <td>2403.779367</td>\n",
              "      <td>1888</td>\n",
              "      <td>515.779367</td>\n",
              "    </tr>\n",
              "    <tr>\n",
              "      <th>4</th>\n",
              "      <td>2772.325776</td>\n",
              "      <td>1623</td>\n",
              "      <td>1149.325776</td>\n",
              "    </tr>\n",
              "    <tr>\n",
              "      <th>...</th>\n",
              "      <td>...</td>\n",
              "      <td>...</td>\n",
              "      <td>...</td>\n",
              "    </tr>\n",
              "    <tr>\n",
              "      <th>602</th>\n",
              "      <td>2258.208487</td>\n",
              "      <td>1879</td>\n",
              "      <td>379.208487</td>\n",
              "    </tr>\n",
              "    <tr>\n",
              "      <th>603</th>\n",
              "      <td>1900.634953</td>\n",
              "      <td>1771</td>\n",
              "      <td>129.634953</td>\n",
              "    </tr>\n",
              "    <tr>\n",
              "      <th>604</th>\n",
              "      <td>2404.499675</td>\n",
              "      <td>2336</td>\n",
              "      <td>68.499675</td>\n",
              "    </tr>\n",
              "    <tr>\n",
              "      <th>605</th>\n",
              "      <td>2328.067294</td>\n",
              "      <td>3563</td>\n",
              "      <td>-1234.932706</td>\n",
              "    </tr>\n",
              "    <tr>\n",
              "      <th>606</th>\n",
              "      <td>2478.959159</td>\n",
              "      <td>2345</td>\n",
              "      <td>133.959159</td>\n",
              "    </tr>\n",
              "  </tbody>\n",
              "</table>\n",
              "<p>607 rows × 3 columns</p>\n",
              "</div>"
            ],
            "text/plain": [
              "     predicted_y1    y1    residuals\n",
              "0     2578.866546  2258   320.866546\n",
              "1     2829.009128  3140  -310.990872\n",
              "2     2664.856741  2253   411.856741\n",
              "3     2403.779367  1888   515.779367\n",
              "4     2772.325776  1623  1149.325776\n",
              "..            ...   ...          ...\n",
              "602   2258.208487  1879   379.208487\n",
              "603   1900.634953  1771   129.634953\n",
              "604   2404.499675  2336    68.499675\n",
              "605   2328.067294  3563 -1234.932706\n",
              "606   2478.959159  2345   133.959159\n",
              "\n",
              "[607 rows x 3 columns]"
            ]
          },
          "metadata": {},
          "execution_count": 30
        }
      ]
    },
    {
      "cell_type": "markdown",
      "metadata": {
        "id": "s9GYKrS87EGQ"
      },
      "source": [
        "####1. Linearity"
      ]
    },
    {
      "cell_type": "markdown",
      "metadata": {
        "id": "nXpj9Bok7WCQ"
      },
      "source": [
        "Visually inspect linearity between target variable and predictions"
      ]
    },
    {
      "cell_type": "code",
      "metadata": {
        "id": "8Gx6KzBKlTFZ",
        "colab": {
          "base_uri": "https://localhost:8080/",
          "height": 265
        },
        "outputId": "b41c610e-a075-41a9-9a8f-3fc9bbea0f53"
      },
      "source": [
        "plt.plot(model_predictions.predicted_y1,model_predictions.y1,'o',alpha=0.5)\n",
        "plt.show()"
      ],
      "execution_count": 31,
      "outputs": [
        {
          "output_type": "display_data",
          "data": {
            "image/png": "[encoded data removed]",
            "text/plain": [
              "<Figure size 432x288 with 1 Axes>"
            ]
          },
          "metadata": {
            "needs_background": "light"
          }
        }
      ]
    },
    {
      "cell_type": "markdown",
      "metadata": {
        "id": "4w71z33T8IRB"
      },
      "source": [
        "#### 2. Normality of Errors"
      ]
    },
    {
      "cell_type": "markdown",
      "metadata": {
        "id": "K4CYxjPc8iWu"
      },
      "source": [
        "Visually inspect the residuals to confirm normality"
      ]
    },
    {
      "cell_type": "code",
      "metadata": {
        "id": "PB5NIR6Blu6e",
        "colab": {
          "base_uri": "https://localhost:8080/",
          "height": 279
        },
        "outputId": "64ea3fee-a908-4e71-d6ae-019ff3f1919d"
      },
      "source": [
        "fig = sm.qqplot(model_predictions.residuals)"
      ],
      "execution_count": 32,
      "outputs": [
        {
          "output_type": "display_data",
          "data": {
            "image/png": "[encoded data removed]",
            "text/plain": [
              "<Figure size 432x288 with 1 Axes>"
            ]
          },
          "metadata": {
            "needs_background": "light"
          }
        }
      ]
    },
    {
      "cell_type": "code",
      "metadata": {
        "id": "RHXLZsIjmBG-",
        "colab": {
          "base_uri": "https://localhost:8080/",
          "height": 295
        },
        "outputId": "8e152e0d-7851-4dfd-8aa3-5d8b6fc9720a"
      },
      "source": [
        "sns.kdeplot(model_predictions.residuals, label = '', shade = True)\n",
        "plt.xlabel('Model Residuals'); plt.ylabel('Density'); plt.title('Distribution of Residuals');"
      ],
      "execution_count": 33,
      "outputs": [
        {
          "output_type": "display_data",
          "data": {
            "image/png": "[encoded data removed]",
            "text/plain": [
              "<Figure size 432x288 with 1 Axes>"
            ]
          },
          "metadata": {
            "needs_background": "light"
          }
        }
      ]
    },
    {
      "cell_type": "markdown",
      "metadata": {
        "id": "JGme7tz79G2I"
      },
      "source": [
        "####3. Absence of Multicollinearity"
      ]
    },
    {
      "cell_type": "markdown",
      "metadata": {
        "id": "NKZ1INYUAsGQ"
      },
      "source": [
        "Tested and checked during data processing stage"
      ]
    },
    {
      "cell_type": "markdown",
      "metadata": {
        "id": "1_U7qdH78-it"
      },
      "source": [
        "####4. Homoscedasticity\n"
      ]
    },
    {
      "cell_type": "markdown",
      "metadata": {
        "id": "S4C7Kr8o9Bhi"
      },
      "source": [
        "Visually inspect residuals to confirm constant variance"
      ]
    },
    {
      "cell_type": "code",
      "metadata": {
        "id": "FFB28_F3muwb",
        "colab": {
          "base_uri": "https://localhost:8080/",
          "height": 265
        },
        "outputId": "8fa9e53d-850b-4b66-992c-69f34df34324"
      },
      "source": [
        "plt.plot(model_predictions.residuals,'o',alpha=0.5)\n",
        "plt.show()"
      ],
      "execution_count": 34,
      "outputs": [
        {
          "output_type": "display_data",
          "data": {
            "image/png": "[encoded data removed]",
            "text/plain": [
              "<Figure size 432x288 with 1 Axes>"
            ]
          },
          "metadata": {
            "needs_background": "light"
          }
        }
      ]
    },
    {
      "cell_type": "markdown",
      "metadata": {
        "id": "2Jxt2_94-QZG"
      },
      "source": [
        "####5. Absence of Autocorrelation of the residuals"
      ]
    },
    {
      "cell_type": "code",
      "metadata": {
        "id": "ZC4Jxy_tnS0o",
        "colab": {
          "base_uri": "https://localhost:8080/"
        },
        "outputId": "29153f38-398c-4c61-ff6a-1981e0862c9f"
      },
      "source": [
        "dw = durbin_watson(model_predictions.residuals)\n",
        "print('Durbin-Watson',dw)"
      ],
      "execution_count": 35,
      "outputs": [
        {
          "output_type": "stream",
          "name": "stdout",
          "text": [
            "Durbin-Watson 1.6490922573433024\n"
          ]
        }
      ]
    },
    {
      "cell_type": "code",
      "metadata": {
        "id": "DfZKsNaUnkgh",
        "colab": {
          "base_uri": "https://localhost:8080/"
        },
        "outputId": "7432fad4-1249-4f3c-a63d-56fd8a1949a5"
      },
      "source": [
        "if dw < 1.5:\n",
        "        print('Positive autocorrelation', '\\n')\n",
        "elif dw > 2.5:\n",
        "        print('Negative autocorrelation', '\\n')\n",
        "else:\n",
        "        print('Little to no autocorrelation', '\\n')\n"
      ],
      "execution_count": 36,
      "outputs": [
        {
          "output_type": "stream",
          "name": "stdout",
          "text": [
            "Little to no autocorrelation \n",
            "\n"
          ]
        }
      ]
    }
  ]
}
