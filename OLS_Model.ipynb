{
  "nbformat": 4,
  "nbformat_minor": 0,
  "metadata": {
    "colab": {
      "name": "OLS Model",
      "provenance": [],
      "collapsed_sections": [],
      "toc_visible": true
    },
    "kernelspec": {
      "display_name": "Python 3",
      "name": "python3"
    },
    "language_info": {
      "name": "python"
    }
  },
  "cells": [
    {
      "cell_type": "markdown",
      "metadata": {
        "id": "qR3ca-feDOrw"
      },
      "source": [
        "Copyright 2021 Google Inc.\n",
        "\n",
        "Licensed under the Apache License, Version 2.0 (the \"License\");\n",
        "you may not use this file except in compliance with the License.\n",
        "You may obtain a copy of the License at\n",
        "\n",
        "[https://www.apache.org/licenses/LICENSE-2.0](https://www.apache.org/licenses/LICENSE-2.0)\n",
        "\n",
        "Unless required by applicable law or agreed to in writing, software\n",
        "distributed under the License is distributed on an \"AS IS\" BASIS,\n",
        "WITHOUT WARRANTIES OR CONDITIONS OF ANY KIND, either express or implied.\n",
        "See the License for the specific language governing permissions and\n",
        "limitations under the License.\n",
        "\n",
        "This solution, including any related sample code or data, is made available \n",
        "on an “as is,” “as available,” and “with all faults” basis, solely for \n",
        "illustrative purposes, and without warranty or representation of any kind. \n",
        "This solution is experimental, unsupported and provided solely for your \n",
        "convenience. Your use of it is subject to your agreements with Google, as \n",
        "applicable, and may constitute a beta feature as defined under those \n",
        "agreements.  To the extent that you make any data available to Google in \n",
        "connection with your use of the solution, you represent and warrant that you \n",
        "have all necessary and appropriate rights, consents and permissions to permit \n",
        "Google to use and process that data.  By using any portion of this solution, \n",
        "you acknowledge, assume and accept all risks, known and unknown, associated \n",
        "with its usage, including with respect to your deployment of any portion of \n",
        "this solution in your systems, or usage in connection with your business, \n",
        "if at all.\n"
      ]
    },
    {
      "cell_type": "markdown",
      "metadata": {
        "id": "l19lClJob3IR"
      },
      "source": [
        "# Setup"
      ]
    },
    {
      "cell_type": "markdown",
      "metadata": {
        "id": "uh6JyZGLcEgE"
      },
      "source": [
        "### Load modules"
      ]
    },
    {
      "cell_type": "code",
      "metadata": {
        "colab": {
          "base_uri": "https://localhost:8080/"
        },
        "id": "4aupXJjFcHkq",
        "outputId": "6f0686f2-4888-4720-eb15-9b8a4170cd44"
      },
      "source": [
        "# authenication libraries for colab & bigquery tools\n",
        "from google.colab import auth\n",
        "from google.cloud import bigquery\n",
        "!pip install --upgrade -q gspread # you may see a version error on the first run - the code will still run\n",
        "import gspread\n",
        "from gspread_dataframe import set_with_dataframe\n",
        "from oauth2client.client import GoogleCredentials\n",
        "auth.authenticate_user()\n",
        "gc = gspread.authorize(GoogleCredentials.get_application_default())\n",
        "bigquery.USE_LEGACY_SQL = False\n",
        "\n",
        "# BQ Magics\n",
        "from google.cloud import bigquery\n",
        "from google.cloud.bigquery import magics\n",
        "magics.context.project = 'db' #list BQ project name\n",
        "client = bigquery.Client(project=magics.context.project)\n",
        "%load_ext google.cloud.bigquery\n",
        "\n",
        "# data processing libraries\n",
        "import numpy as np\n",
        "import pandas as pd\n",
        "pd.set_option('display.max_rows', None)\n",
        "pd.set_option('display.max_columns', None)\n",
        "pd.set_option('display.width', None)\n",
        "pd.set_option('display.max_colwidth', -1)\n",
        "pd.options.display.float_format = '{:.5f}'.format\n",
        "from sklearn.preprocessing import MinMaxScaler, StandardScaler, Normalizer\n",
        "from sklearn.model_selection import train_test_split, cross_val_score, LeaveOneOut, KFold, LeavePOut\n",
        "from sklearn.feature_selection import SelectKBest, f_regression, RFE\n",
        "from sklearn.linear_model import LinearRegression\n",
        "from sklearn.metrics import mean_squared_error, r2_score, mean_absolute_error\n",
        "\n",
        "import datetime\n",
        "\n",
        "# modeling and metrics\n",
        "from scipy.optimize import least_squares\n",
        "from statsmodels.stats.outliers_influence import variance_inflation_factor\n",
        "from statsmodels.tools.tools import add_constant\n",
        "import statsmodels.api as sm\n",
        "\n",
        "# Bayesian Package\n",
        "import pymc3 as pm\n",
        "from pymc3 import *\n",
        "print(f\"Running on PyMC3 v{pm.__version__}\")\n",
        "\n",
        "\n",
        "# Visualization\n",
        "import matplotlib.pyplot as plt\n",
        "%matplotlib inline\n",
        "import seaborn as sns\n",
        "import arviz as az\n",
        "\n",
        "# Calculating Relative Importance\n",
        "!pip install relativeImp\n",
        "from relativeImp import relativeImp"
      ],
      "execution_count": 35,
      "outputs": [
        {
          "output_type": "stream",
          "name": "stdout",
          "text": [
            "The google.cloud.bigquery extension is already loaded. To reload it, use:\n",
            "  %reload_ext google.cloud.bigquery\n",
            "Running on PyMC3 v3.11.4\n"
          ]
        },
        {
          "output_type": "stream",
          "name": "stderr",
          "text": [
            "/usr/local/lib/python3.7/dist-packages/ipykernel_launcher.py:25: FutureWarning: Passing a negative integer is deprecated in version 1.0 and will not be supported in future version. Instead, use None to not limit the column width.\n"
          ]
        },
        {
          "output_type": "stream",
          "name": "stdout",
          "text": [
            "Requirement already satisfied: relativeImp in /usr/local/lib/python3.7/dist-packages (0.0.2)\n",
            "Requirement already satisfied: pandas in /usr/local/lib/python3.7/dist-packages (from relativeImp) (1.1.5)\n",
            "Requirement already satisfied: numpy in /usr/local/lib/python3.7/dist-packages (from relativeImp) (1.19.5)\n",
            "Requirement already satisfied: python-dateutil>=2.7.3 in /usr/local/lib/python3.7/dist-packages (from pandas->relativeImp) (2.8.2)\n",
            "Requirement already satisfied: pytz>=2017.2 in /usr/local/lib/python3.7/dist-packages (from pandas->relativeImp) (2018.9)\n",
            "Requirement already satisfied: six>=1.5 in /usr/local/lib/python3.7/dist-packages (from python-dateutil>=2.7.3->pandas->relativeImp) (1.15.0)\n"
          ]
        }
      ]
    },
    {
      "cell_type": "markdown",
      "metadata": {
        "id": "ZEieYk1j9w3h"
      },
      "source": [
        "# Define Parameters"
      ]
    },
    {
      "cell_type": "code",
      "metadata": {
        "id": "w8CWn0tC91mB"
      },
      "source": [
        "#@title Parameters\n",
        "\n",
        "INPUT_SHEET_NAME = 'model input data' #@param {type:\"string\"}"
      ],
      "execution_count": 36,
      "outputs": []
    },
    {
      "cell_type": "markdown",
      "metadata": {
        "id": "8N8-scWPc7fP"
      },
      "source": [
        "### Load model input data"
      ]
    },
    {
      "cell_type": "code",
      "metadata": {
        "id": "PtdFBo79xURE"
      },
      "source": [
        "google_sheets_name = INPUT_SHEET_NAME #@param"
      ],
      "execution_count": 37,
      "outputs": []
    },
    {
      "cell_type": "code",
      "metadata": {
        "id": "Z754pIbvxI63"
      },
      "source": [
        "worksheet = gc.open(INPUT_SHEET_NAME).sheet1\n",
        "\n",
        "# get_all_values gives a list of rows.\n",
        "rows = worksheet.get_all_values()\n",
        "\n",
        "df=pd.DataFrame.from_records(rows)\n",
        "\n",
        "\n",
        "#get column names from first row\n",
        "df.columns = df.iloc[0]\n",
        "\n",
        "#drop row with column names\n",
        "df = df.drop(df.index[0])\n",
        "\n",
        "#reset indexes\n",
        "df = df.reset_index(drop=True)\n",
        "\n",
        "#convert numeric data to numeric types\n",
        "df = df.apply(pd.to_numeric, errors='ignore')"
      ],
      "execution_count": 38,
      "outputs": []
    },
    {
      "cell_type": "code",
      "metadata": {
        "id": "-5lC4wyo9By5"
      },
      "source": [
        "'''\n",
        "%%bigquery df\n",
        "SELECT *\n",
        "FROM `db.dataset.table`\n",
        "'''"
      ],
      "execution_count": null,
      "outputs": []
    },
    {
      "cell_type": "code",
      "metadata": {
        "id": "Vybd_4Xz9MAz"
      },
      "source": [
        "df = df[['Brand_x_Core_x_NC_clicks', 'The_Trade_Desk_x_Audio_x_AWA_imps','DBM_x_Display_x_RTG_imps', 'Amazon_x_Display_x_AWA_imps',\n",
        "         'DBM_x_Video_x_AWA_imps', 'The_Trade_Desk_x_Display_x_AWA_imps', 'Brand_x_RMKT_x_EC_clicks','OTHER_x_Display_x_AWA_imps',\n",
        "         'Amazon_x_Display_x_RTG_imps', 'DBM_x_Display_x_ACQ_imps','Oath_x_Display_x_AWA_imps', 'DBM_x_Display_x_AWA_imps', 'new_accounts']]"
      ],
      "execution_count": 40,
      "outputs": []
    },
    {
      "cell_type": "code",
      "metadata": {
        "id": "4tVMgae8KVQV",
        "colab": {
          "base_uri": "https://localhost:8080/"
        },
        "outputId": "cf5b0724-c7c6-4470-b77e-4cae1fed7e6b"
      },
      "source": [
        "df.info()"
      ],
      "execution_count": 41,
      "outputs": [
        {
          "output_type": "stream",
          "name": "stdout",
          "text": [
            "<class 'pandas.core.frame.DataFrame'>\n",
            "RangeIndex: 607 entries, 0 to 606\n",
            "Data columns (total 13 columns):\n",
            " #   Column                               Non-Null Count  Dtype  \n",
            "---  ------                               --------------  -----  \n",
            " 0   Brand_x_Core_x_NC_clicks             607 non-null    float64\n",
            " 1   The_Trade_Desk_x_Audio_x_AWA_imps    607 non-null    float64\n",
            " 2   DBM_x_Display_x_RTG_imps             607 non-null    float64\n",
            " 3   Amazon_x_Display_x_AWA_imps          607 non-null    float64\n",
            " 4   DBM_x_Video_x_AWA_imps               607 non-null    float64\n",
            " 5   The_Trade_Desk_x_Display_x_AWA_imps  607 non-null    float64\n",
            " 6   Brand_x_RMKT_x_EC_clicks             607 non-null    float64\n",
            " 7   OTHER_x_Display_x_AWA_imps           607 non-null    float64\n",
            " 8   Amazon_x_Display_x_RTG_imps          607 non-null    float64\n",
            " 9   DBM_x_Display_x_ACQ_imps             607 non-null    float64\n",
            " 10  Oath_x_Display_x_AWA_imps            607 non-null    float64\n",
            " 11  DBM_x_Display_x_AWA_imps             607 non-null    float64\n",
            " 12  new_accounts                         607 non-null    int64  \n",
            "dtypes: float64(12), int64(1)\n",
            "memory usage: 61.8 KB\n"
          ]
        }
      ]
    },
    {
      "cell_type": "code",
      "metadata": {
        "id": "uwy66SrIhTDA",
        "colab": {
          "base_uri": "https://localhost:8080/",
          "height": 221
        },
        "outputId": "9a21b3ad-9a6d-4c3c-fb89-245d6e0a5665"
      },
      "source": [
        "df.head()"
      ],
      "execution_count": 42,
      "outputs": [
        {
          "output_type": "execute_result",
          "data": {
            "text/html": [
              "<div>\n",
              "<style scoped>\n",
              "    .dataframe tbody tr th:only-of-type {\n",
              "        vertical-align: middle;\n",
              "    }\n",
              "\n",
              "    .dataframe tbody tr th {\n",
              "        vertical-align: top;\n",
              "    }\n",
              "\n",
              "    .dataframe thead th {\n",
              "        text-align: right;\n",
              "    }\n",
              "</style>\n",
              "<table border=\"1\" class=\"dataframe\">\n",
              "  <thead>\n",
              "    <tr style=\"text-align: right;\">\n",
              "      <th></th>\n",
              "      <th>Brand_x_Core_x_NC_clicks</th>\n",
              "      <th>The_Trade_Desk_x_Audio_x_AWA_imps</th>\n",
              "      <th>DBM_x_Display_x_RTG_imps</th>\n",
              "      <th>Amazon_x_Display_x_AWA_imps</th>\n",
              "      <th>DBM_x_Video_x_AWA_imps</th>\n",
              "      <th>The_Trade_Desk_x_Display_x_AWA_imps</th>\n",
              "      <th>Brand_x_RMKT_x_EC_clicks</th>\n",
              "      <th>OTHER_x_Display_x_AWA_imps</th>\n",
              "      <th>Amazon_x_Display_x_RTG_imps</th>\n",
              "      <th>DBM_x_Display_x_ACQ_imps</th>\n",
              "      <th>Oath_x_Display_x_AWA_imps</th>\n",
              "      <th>DBM_x_Display_x_AWA_imps</th>\n",
              "      <th>new_accounts</th>\n",
              "    </tr>\n",
              "  </thead>\n",
              "  <tbody>\n",
              "    <tr>\n",
              "      <th>0</th>\n",
              "      <td>0.67162</td>\n",
              "      <td>0.26662</td>\n",
              "      <td>0.69634</td>\n",
              "      <td>0.11681</td>\n",
              "      <td>0.63202</td>\n",
              "      <td>0.00000</td>\n",
              "      <td>0.23069</td>\n",
              "      <td>0.25650</td>\n",
              "      <td>0.79894</td>\n",
              "      <td>0.89166</td>\n",
              "      <td>0.00000</td>\n",
              "      <td>0.95458</td>\n",
              "      <td>1653</td>\n",
              "    </tr>\n",
              "    <tr>\n",
              "      <th>1</th>\n",
              "      <td>0.40299</td>\n",
              "      <td>0.20180</td>\n",
              "      <td>0.49411</td>\n",
              "      <td>0.28042</td>\n",
              "      <td>0.09443</td>\n",
              "      <td>0.00000</td>\n",
              "      <td>0.10479</td>\n",
              "      <td>0.69262</td>\n",
              "      <td>0.53563</td>\n",
              "      <td>0.19709</td>\n",
              "      <td>0.00000</td>\n",
              "      <td>0.28003</td>\n",
              "      <td>1466</td>\n",
              "    </tr>\n",
              "    <tr>\n",
              "      <th>2</th>\n",
              "      <td>0.08896</td>\n",
              "      <td>0.13215</td>\n",
              "      <td>0.53878</td>\n",
              "      <td>0.22092</td>\n",
              "      <td>0.04362</td>\n",
              "      <td>0.00000</td>\n",
              "      <td>0.02953</td>\n",
              "      <td>0.64816</td>\n",
              "      <td>0.58880</td>\n",
              "      <td>0.21123</td>\n",
              "      <td>0.00000</td>\n",
              "      <td>0.14691</td>\n",
              "      <td>604</td>\n",
              "    </tr>\n",
              "    <tr>\n",
              "      <th>3</th>\n",
              "      <td>0.21182</td>\n",
              "      <td>0.21214</td>\n",
              "      <td>0.65453</td>\n",
              "      <td>0.53228</td>\n",
              "      <td>0.09934</td>\n",
              "      <td>0.00000</td>\n",
              "      <td>0.05551</td>\n",
              "      <td>0.88852</td>\n",
              "      <td>0.69746</td>\n",
              "      <td>0.19238</td>\n",
              "      <td>0.00000</td>\n",
              "      <td>0.30710</td>\n",
              "      <td>891</td>\n",
              "    </tr>\n",
              "    <tr>\n",
              "      <th>4</th>\n",
              "      <td>0.35781</td>\n",
              "      <td>0.25082</td>\n",
              "      <td>0.53687</td>\n",
              "      <td>0.11934</td>\n",
              "      <td>0.53733</td>\n",
              "      <td>0.00000</td>\n",
              "      <td>0.13340</td>\n",
              "      <td>0.04615</td>\n",
              "      <td>0.16582</td>\n",
              "      <td>0.67209</td>\n",
              "      <td>0.00000</td>\n",
              "      <td>0.64651</td>\n",
              "      <td>1023</td>\n",
              "    </tr>\n",
              "  </tbody>\n",
              "</table>\n",
              "</div>"
            ],
            "text/plain": [
              "0  Brand_x_Core_x_NC_clicks  The_Trade_Desk_x_Audio_x_AWA_imps  \\\n",
              "0 0.67162                   0.26662                              \n",
              "1 0.40299                   0.20180                              \n",
              "2 0.08896                   0.13215                              \n",
              "3 0.21182                   0.21214                              \n",
              "4 0.35781                   0.25082                              \n",
              "\n",
              "0  DBM_x_Display_x_RTG_imps  Amazon_x_Display_x_AWA_imps  \\\n",
              "0 0.69634                   0.11681                        \n",
              "1 0.49411                   0.28042                        \n",
              "2 0.53878                   0.22092                        \n",
              "3 0.65453                   0.53228                        \n",
              "4 0.53687                   0.11934                        \n",
              "\n",
              "0  DBM_x_Video_x_AWA_imps  The_Trade_Desk_x_Display_x_AWA_imps  \\\n",
              "0 0.63202                 0.00000                                \n",
              "1 0.09443                 0.00000                                \n",
              "2 0.04362                 0.00000                                \n",
              "3 0.09934                 0.00000                                \n",
              "4 0.53733                 0.00000                                \n",
              "\n",
              "0  Brand_x_RMKT_x_EC_clicks  OTHER_x_Display_x_AWA_imps  \\\n",
              "0 0.23069                   0.25650                       \n",
              "1 0.10479                   0.69262                       \n",
              "2 0.02953                   0.64816                       \n",
              "3 0.05551                   0.88852                       \n",
              "4 0.13340                   0.04615                       \n",
              "\n",
              "0  Amazon_x_Display_x_RTG_imps  DBM_x_Display_x_ACQ_imps  \\\n",
              "0 0.79894                      0.89166                     \n",
              "1 0.53563                      0.19709                     \n",
              "2 0.58880                      0.21123                     \n",
              "3 0.69746                      0.19238                     \n",
              "4 0.16582                      0.67209                     \n",
              "\n",
              "0  Oath_x_Display_x_AWA_imps  DBM_x_Display_x_AWA_imps  new_accounts  \n",
              "0 0.00000                    0.95458                    1653          \n",
              "1 0.00000                    0.28003                    1466          \n",
              "2 0.00000                    0.14691                    604           \n",
              "3 0.00000                    0.30710                    891           \n",
              "4 0.00000                    0.64651                    1023          "
            ]
          },
          "metadata": {},
          "execution_count": 42
        }
      ]
    },
    {
      "cell_type": "code",
      "metadata": {
        "id": "sIe3lASAoCzC",
        "colab": {
          "base_uri": "https://localhost:8080/",
          "height": 313
        },
        "outputId": "e942a01d-8705-44ed-b0cd-3710d3cd9162"
      },
      "source": [
        "df.describe()"
      ],
      "execution_count": 43,
      "outputs": [
        {
          "output_type": "execute_result",
          "data": {
            "text/html": [
              "<div>\n",
              "<style scoped>\n",
              "    .dataframe tbody tr th:only-of-type {\n",
              "        vertical-align: middle;\n",
              "    }\n",
              "\n",
              "    .dataframe tbody tr th {\n",
              "        vertical-align: top;\n",
              "    }\n",
              "\n",
              "    .dataframe thead th {\n",
              "        text-align: right;\n",
              "    }\n",
              "</style>\n",
              "<table border=\"1\" class=\"dataframe\">\n",
              "  <thead>\n",
              "    <tr style=\"text-align: right;\">\n",
              "      <th></th>\n",
              "      <th>Brand_x_Core_x_NC_clicks</th>\n",
              "      <th>The_Trade_Desk_x_Audio_x_AWA_imps</th>\n",
              "      <th>DBM_x_Display_x_RTG_imps</th>\n",
              "      <th>Amazon_x_Display_x_AWA_imps</th>\n",
              "      <th>DBM_x_Video_x_AWA_imps</th>\n",
              "      <th>The_Trade_Desk_x_Display_x_AWA_imps</th>\n",
              "      <th>Brand_x_RMKT_x_EC_clicks</th>\n",
              "      <th>OTHER_x_Display_x_AWA_imps</th>\n",
              "      <th>Amazon_x_Display_x_RTG_imps</th>\n",
              "      <th>DBM_x_Display_x_ACQ_imps</th>\n",
              "      <th>Oath_x_Display_x_AWA_imps</th>\n",
              "      <th>DBM_x_Display_x_AWA_imps</th>\n",
              "      <th>new_accounts</th>\n",
              "    </tr>\n",
              "  </thead>\n",
              "  <tbody>\n",
              "    <tr>\n",
              "      <th>count</th>\n",
              "      <td>607.00000</td>\n",
              "      <td>607.00000</td>\n",
              "      <td>607.00000</td>\n",
              "      <td>607.00000</td>\n",
              "      <td>607.00000</td>\n",
              "      <td>607.00000</td>\n",
              "      <td>607.00000</td>\n",
              "      <td>607.00000</td>\n",
              "      <td>607.00000</td>\n",
              "      <td>607.00000</td>\n",
              "      <td>607.00000</td>\n",
              "      <td>607.00000</td>\n",
              "      <td>607.00000</td>\n",
              "    </tr>\n",
              "    <tr>\n",
              "      <th>mean</th>\n",
              "      <td>0.47118</td>\n",
              "      <td>0.11441</td>\n",
              "      <td>0.57972</td>\n",
              "      <td>0.14667</td>\n",
              "      <td>0.12983</td>\n",
              "      <td>0.07023</td>\n",
              "      <td>0.28329</td>\n",
              "      <td>0.28399</td>\n",
              "      <td>0.21308</td>\n",
              "      <td>0.18824</td>\n",
              "      <td>0.16550</td>\n",
              "      <td>0.22028</td>\n",
              "      <td>1500.76277</td>\n",
              "    </tr>\n",
              "    <tr>\n",
              "      <th>std</th>\n",
              "      <td>0.16844</td>\n",
              "      <td>0.15197</td>\n",
              "      <td>0.20971</td>\n",
              "      <td>0.22154</td>\n",
              "      <td>0.15098</td>\n",
              "      <td>0.17215</td>\n",
              "      <td>0.20413</td>\n",
              "      <td>0.27005</td>\n",
              "      <td>0.25665</td>\n",
              "      <td>0.18653</td>\n",
              "      <td>0.22315</td>\n",
              "      <td>0.24301</td>\n",
              "      <td>459.59147</td>\n",
              "    </tr>\n",
              "    <tr>\n",
              "      <th>min</th>\n",
              "      <td>0.00000</td>\n",
              "      <td>0.00000</td>\n",
              "      <td>0.00000</td>\n",
              "      <td>0.00000</td>\n",
              "      <td>0.00000</td>\n",
              "      <td>0.00000</td>\n",
              "      <td>0.00000</td>\n",
              "      <td>0.00000</td>\n",
              "      <td>0.00000</td>\n",
              "      <td>0.00000</td>\n",
              "      <td>0.00000</td>\n",
              "      <td>0.00000</td>\n",
              "      <td>365.00000</td>\n",
              "    </tr>\n",
              "    <tr>\n",
              "      <th>25%</th>\n",
              "      <td>0.35525</td>\n",
              "      <td>0.00000</td>\n",
              "      <td>0.51710</td>\n",
              "      <td>0.00000</td>\n",
              "      <td>0.00000</td>\n",
              "      <td>0.00000</td>\n",
              "      <td>0.12363</td>\n",
              "      <td>0.06260</td>\n",
              "      <td>0.00000</td>\n",
              "      <td>0.09887</td>\n",
              "      <td>0.00000</td>\n",
              "      <td>0.03567</td>\n",
              "      <td>1174.00000</td>\n",
              "    </tr>\n",
              "    <tr>\n",
              "      <th>50%</th>\n",
              "      <td>0.46720</td>\n",
              "      <td>0.05341</td>\n",
              "      <td>0.61904</td>\n",
              "      <td>0.03434</td>\n",
              "      <td>0.08333</td>\n",
              "      <td>0.00000</td>\n",
              "      <td>0.21037</td>\n",
              "      <td>0.15580</td>\n",
              "      <td>0.00000</td>\n",
              "      <td>0.13576</td>\n",
              "      <td>0.00000</td>\n",
              "      <td>0.13662</td>\n",
              "      <td>1478.00000</td>\n",
              "    </tr>\n",
              "    <tr>\n",
              "      <th>75%</th>\n",
              "      <td>0.58713</td>\n",
              "      <td>0.19618</td>\n",
              "      <td>0.70289</td>\n",
              "      <td>0.23873</td>\n",
              "      <td>0.22359</td>\n",
              "      <td>0.00000</td>\n",
              "      <td>0.41195</td>\n",
              "      <td>0.49225</td>\n",
              "      <td>0.41618</td>\n",
              "      <td>0.21503</td>\n",
              "      <td>0.29745</td>\n",
              "      <td>0.28018</td>\n",
              "      <td>1697.00000</td>\n",
              "    </tr>\n",
              "    <tr>\n",
              "      <th>max</th>\n",
              "      <td>1.00000</td>\n",
              "      <td>1.00000</td>\n",
              "      <td>1.00000</td>\n",
              "      <td>1.00000</td>\n",
              "      <td>1.00000</td>\n",
              "      <td>1.00000</td>\n",
              "      <td>1.00000</td>\n",
              "      <td>1.00000</td>\n",
              "      <td>1.00000</td>\n",
              "      <td>1.00000</td>\n",
              "      <td>1.00000</td>\n",
              "      <td>1.00000</td>\n",
              "      <td>3011.00000</td>\n",
              "    </tr>\n",
              "  </tbody>\n",
              "</table>\n",
              "</div>"
            ],
            "text/plain": [
              "0      Brand_x_Core_x_NC_clicks  The_Trade_Desk_x_Audio_x_AWA_imps  \\\n",
              "count 607.00000                 607.00000                            \n",
              "mean  0.47118                   0.11441                              \n",
              "std   0.16844                   0.15197                              \n",
              "min   0.00000                   0.00000                              \n",
              "25%   0.35525                   0.00000                              \n",
              "50%   0.46720                   0.05341                              \n",
              "75%   0.58713                   0.19618                              \n",
              "max   1.00000                   1.00000                              \n",
              "\n",
              "0      DBM_x_Display_x_RTG_imps  Amazon_x_Display_x_AWA_imps  \\\n",
              "count 607.00000                 607.00000                      \n",
              "mean  0.57972                   0.14667                        \n",
              "std   0.20971                   0.22154                        \n",
              "min   0.00000                   0.00000                        \n",
              "25%   0.51710                   0.00000                        \n",
              "50%   0.61904                   0.03434                        \n",
              "75%   0.70289                   0.23873                        \n",
              "max   1.00000                   1.00000                        \n",
              "\n",
              "0      DBM_x_Video_x_AWA_imps  The_Trade_Desk_x_Display_x_AWA_imps  \\\n",
              "count 607.00000               607.00000                              \n",
              "mean  0.12983                 0.07023                                \n",
              "std   0.15098                 0.17215                                \n",
              "min   0.00000                 0.00000                                \n",
              "25%   0.00000                 0.00000                                \n",
              "50%   0.08333                 0.00000                                \n",
              "75%   0.22359                 0.00000                                \n",
              "max   1.00000                 1.00000                                \n",
              "\n",
              "0      Brand_x_RMKT_x_EC_clicks  OTHER_x_Display_x_AWA_imps  \\\n",
              "count 607.00000                 607.00000                     \n",
              "mean  0.28329                   0.28399                       \n",
              "std   0.20413                   0.27005                       \n",
              "min   0.00000                   0.00000                       \n",
              "25%   0.12363                   0.06260                       \n",
              "50%   0.21037                   0.15580                       \n",
              "75%   0.41195                   0.49225                       \n",
              "max   1.00000                   1.00000                       \n",
              "\n",
              "0      Amazon_x_Display_x_RTG_imps  DBM_x_Display_x_ACQ_imps  \\\n",
              "count 607.00000                    607.00000                   \n",
              "mean  0.21308                      0.18824                     \n",
              "std   0.25665                      0.18653                     \n",
              "min   0.00000                      0.00000                     \n",
              "25%   0.00000                      0.09887                     \n",
              "50%   0.00000                      0.13576                     \n",
              "75%   0.41618                      0.21503                     \n",
              "max   1.00000                      1.00000                     \n",
              "\n",
              "0      Oath_x_Display_x_AWA_imps  DBM_x_Display_x_AWA_imps  new_accounts  \n",
              "count 607.00000                  607.00000                 607.00000      \n",
              "mean  0.16550                    0.22028                   1500.76277     \n",
              "std   0.22315                    0.24301                   459.59147      \n",
              "min   0.00000                    0.00000                   365.00000      \n",
              "25%   0.00000                    0.03567                   1174.00000     \n",
              "50%   0.00000                    0.13662                   1478.00000     \n",
              "75%   0.29745                    0.28018                   1697.00000     \n",
              "max   1.00000                    1.00000                   3011.00000     "
            ]
          },
          "metadata": {},
          "execution_count": 43
        }
      ]
    },
    {
      "cell_type": "code",
      "metadata": {
        "id": "GQHF7XUi9H0_"
      },
      "source": [
        "#df.fillna(0, inplace = True)"
      ],
      "execution_count": 44,
      "outputs": []
    },
    {
      "cell_type": "code",
      "metadata": {
        "id": "fD-NZnVYIpiP"
      },
      "source": [
        "KPI_COL = \"new_accounts\" #@param {type: \"string\"}"
      ],
      "execution_count": 45,
      "outputs": []
    },
    {
      "cell_type": "code",
      "metadata": {
        "id": "qxSRpjLrxIvo"
      },
      "source": [
        "y = df[KPI_COL]\n",
        "X = df[df.columns[df.columns != KPI_COL]].values"
      ],
      "execution_count": 46,
      "outputs": []
    },
    {
      "cell_type": "markdown",
      "metadata": {
        "id": "lVBNE964LY2H"
      },
      "source": [
        "## OLS Model with Sklearn"
      ]
    },
    {
      "cell_type": "code",
      "metadata": {
        "id": "1JudSSm0MJY9"
      },
      "source": [
        "reg = LinearRegression().fit(X,y)"
      ],
      "execution_count": 48,
      "outputs": []
    },
    {
      "cell_type": "code",
      "metadata": {
        "id": "TaK9iU5DPChz",
        "colab": {
          "base_uri": "https://localhost:8080/"
        },
        "outputId": "a0e149b2-e536-4f2a-b3fe-9167d9e0457c"
      },
      "source": [
        "df.columns.to_list()"
      ],
      "execution_count": 49,
      "outputs": [
        {
          "output_type": "execute_result",
          "data": {
            "text/plain": [
              "['Brand_x_Core_x_NC_clicks',\n",
              " 'The_Trade_Desk_x_Audio_x_AWA_imps',\n",
              " 'DBM_x_Display_x_RTG_imps',\n",
              " 'Amazon_x_Display_x_AWA_imps',\n",
              " 'DBM_x_Video_x_AWA_imps',\n",
              " 'The_Trade_Desk_x_Display_x_AWA_imps',\n",
              " 'Brand_x_RMKT_x_EC_clicks',\n",
              " 'OTHER_x_Display_x_AWA_imps',\n",
              " 'Amazon_x_Display_x_RTG_imps',\n",
              " 'DBM_x_Display_x_ACQ_imps',\n",
              " 'Oath_x_Display_x_AWA_imps',\n",
              " 'DBM_x_Display_x_AWA_imps',\n",
              " 'new_accounts']"
            ]
          },
          "metadata": {},
          "execution_count": 49
        }
      ]
    },
    {
      "cell_type": "code",
      "metadata": {
        "id": "x62ce4Pc9giv",
        "colab": {
          "base_uri": "https://localhost:8080/"
        },
        "outputId": "09176501-c501-4f92-8341-fbce104cf066"
      },
      "source": [
        "reg.score(X,y)"
      ],
      "execution_count": 50,
      "outputs": [
        {
          "output_type": "execute_result",
          "data": {
            "text/plain": [
              "0.761768653992274"
            ]
          },
          "metadata": {},
          "execution_count": 50
        }
      ]
    },
    {
      "cell_type": "code",
      "metadata": {
        "id": "dtR3L7u-MgE-",
        "colab": {
          "base_uri": "https://localhost:8080/"
        },
        "outputId": "208c1a64-5b13-4e90-d053-a043bf0f00d2"
      },
      "source": [
        "reg.intercept_"
      ],
      "execution_count": 51,
      "outputs": [
        {
          "output_type": "execute_result",
          "data": {
            "text/plain": [
              "611.8055953514976"
            ]
          },
          "metadata": {},
          "execution_count": 51
        }
      ]
    },
    {
      "cell_type": "code",
      "metadata": {
        "id": "s6rZOII_9i7N"
      },
      "source": [
        "coefficients = reg.coef_.tolist()"
      ],
      "execution_count": 52,
      "outputs": []
    },
    {
      "cell_type": "code",
      "metadata": {
        "id": "O_hXLQvO99AF",
        "colab": {
          "base_uri": "https://localhost:8080/"
        },
        "outputId": "50565ad7-97ca-4a1b-836a-e2e1772e0963"
      },
      "source": [
        "coefficients"
      ],
      "execution_count": 53,
      "outputs": [
        {
          "output_type": "execute_result",
          "data": {
            "text/plain": [
              "[2242.3324273669105,\n",
              " 30.86763340137918,\n",
              " 215.93171283528923,\n",
              " 340.3547502673182,\n",
              " 614.2961219867805,\n",
              " 434.47845563935533,\n",
              " -1023.914352765046,\n",
              " -177.12248512266552,\n",
              " -132.57519477215888,\n",
              " 644.9300658535224,\n",
              " 163.91957788172297,\n",
              " -1073.2664182293524]"
            ]
          },
          "metadata": {},
          "execution_count": 53
        }
      ]
    },
    {
      "cell_type": "code",
      "metadata": {
        "id": "eUcdhTgnwHhy",
        "colab": {
          "base_uri": "https://localhost:8080/"
        },
        "outputId": "82cd857d-edf9-4fed-8d5a-7c290c6f9fe1"
      },
      "source": [
        "len(df.columns[df.columns != KPI_COL])"
      ],
      "execution_count": 54,
      "outputs": [
        {
          "output_type": "execute_result",
          "data": {
            "text/plain": [
              "12"
            ]
          },
          "metadata": {},
          "execution_count": 54
        }
      ]
    },
    {
      "cell_type": "code",
      "metadata": {
        "id": "golvq9M_P9DO"
      },
      "source": [
        "coef_df = pd.DataFrame({'feature': df.columns[df.columns != KPI_COL],'coef': coefficients})"
      ],
      "execution_count": 55,
      "outputs": []
    },
    {
      "cell_type": "code",
      "metadata": {
        "id": "XMzBNrCnQLY_",
        "colab": {
          "base_uri": "https://localhost:8080/",
          "height": 415
        },
        "outputId": "c8874be0-43ac-4f3d-fb1d-e6ff8a7effb5"
      },
      "source": [
        "coef_df"
      ],
      "execution_count": 56,
      "outputs": [
        {
          "output_type": "execute_result",
          "data": {
            "text/html": [
              "<div>\n",
              "<style scoped>\n",
              "    .dataframe tbody tr th:only-of-type {\n",
              "        vertical-align: middle;\n",
              "    }\n",
              "\n",
              "    .dataframe tbody tr th {\n",
              "        vertical-align: top;\n",
              "    }\n",
              "\n",
              "    .dataframe thead th {\n",
              "        text-align: right;\n",
              "    }\n",
              "</style>\n",
              "<table border=\"1\" class=\"dataframe\">\n",
              "  <thead>\n",
              "    <tr style=\"text-align: right;\">\n",
              "      <th></th>\n",
              "      <th>feature</th>\n",
              "      <th>coef</th>\n",
              "    </tr>\n",
              "  </thead>\n",
              "  <tbody>\n",
              "    <tr>\n",
              "      <th>0</th>\n",
              "      <td>Brand_x_Core_x_NC_clicks</td>\n",
              "      <td>2242.33243</td>\n",
              "    </tr>\n",
              "    <tr>\n",
              "      <th>1</th>\n",
              "      <td>The_Trade_Desk_x_Audio_x_AWA_imps</td>\n",
              "      <td>30.86763</td>\n",
              "    </tr>\n",
              "    <tr>\n",
              "      <th>2</th>\n",
              "      <td>DBM_x_Display_x_RTG_imps</td>\n",
              "      <td>215.93171</td>\n",
              "    </tr>\n",
              "    <tr>\n",
              "      <th>3</th>\n",
              "      <td>Amazon_x_Display_x_AWA_imps</td>\n",
              "      <td>340.35475</td>\n",
              "    </tr>\n",
              "    <tr>\n",
              "      <th>4</th>\n",
              "      <td>DBM_x_Video_x_AWA_imps</td>\n",
              "      <td>614.29612</td>\n",
              "    </tr>\n",
              "    <tr>\n",
              "      <th>5</th>\n",
              "      <td>The_Trade_Desk_x_Display_x_AWA_imps</td>\n",
              "      <td>434.47846</td>\n",
              "    </tr>\n",
              "    <tr>\n",
              "      <th>6</th>\n",
              "      <td>Brand_x_RMKT_x_EC_clicks</td>\n",
              "      <td>-1023.91435</td>\n",
              "    </tr>\n",
              "    <tr>\n",
              "      <th>7</th>\n",
              "      <td>OTHER_x_Display_x_AWA_imps</td>\n",
              "      <td>-177.12249</td>\n",
              "    </tr>\n",
              "    <tr>\n",
              "      <th>8</th>\n",
              "      <td>Amazon_x_Display_x_RTG_imps</td>\n",
              "      <td>-132.57519</td>\n",
              "    </tr>\n",
              "    <tr>\n",
              "      <th>9</th>\n",
              "      <td>DBM_x_Display_x_ACQ_imps</td>\n",
              "      <td>644.93007</td>\n",
              "    </tr>\n",
              "    <tr>\n",
              "      <th>10</th>\n",
              "      <td>Oath_x_Display_x_AWA_imps</td>\n",
              "      <td>163.91958</td>\n",
              "    </tr>\n",
              "    <tr>\n",
              "      <th>11</th>\n",
              "      <td>DBM_x_Display_x_AWA_imps</td>\n",
              "      <td>-1073.26642</td>\n",
              "    </tr>\n",
              "  </tbody>\n",
              "</table>\n",
              "</div>"
            ],
            "text/plain": [
              "                                feature        coef\n",
              "0   Brand_x_Core_x_NC_clicks            2242.33243 \n",
              "1   The_Trade_Desk_x_Audio_x_AWA_imps   30.86763   \n",
              "2   DBM_x_Display_x_RTG_imps            215.93171  \n",
              "3   Amazon_x_Display_x_AWA_imps         340.35475  \n",
              "4   DBM_x_Video_x_AWA_imps              614.29612  \n",
              "5   The_Trade_Desk_x_Display_x_AWA_imps 434.47846  \n",
              "6   Brand_x_RMKT_x_EC_clicks            -1023.91435\n",
              "7   OTHER_x_Display_x_AWA_imps          -177.12249 \n",
              "8   Amazon_x_Display_x_RTG_imps         -132.57519 \n",
              "9   DBM_x_Display_x_ACQ_imps            644.93007  \n",
              "10  Oath_x_Display_x_AWA_imps           163.91958  \n",
              "11  DBM_x_Display_x_AWA_imps            -1073.26642"
            ]
          },
          "metadata": {},
          "execution_count": 56
        }
      ]
    },
    {
      "cell_type": "code",
      "metadata": {
        "id": "VMxgSdDxMqHm"
      },
      "source": [
        "Y_prediction = reg.predict(X) # predicted values to be used for residual calculations"
      ],
      "execution_count": 57,
      "outputs": []
    },
    {
      "cell_type": "code",
      "metadata": {
        "id": "LysCAUZo9ktT",
        "colab": {
          "base_uri": "https://localhost:8080/"
        },
        "outputId": "7afb2882-2677-4784-fc67-48e0a40f8e54"
      },
      "source": [
        "mean_absolute_error(y,Y_prediction)"
      ],
      "execution_count": 58,
      "outputs": [
        {
          "output_type": "execute_result",
          "data": {
            "text/plain": [
              "175.1297644594688"
            ]
          },
          "metadata": {},
          "execution_count": 58
        }
      ]
    },
    {
      "cell_type": "code",
      "metadata": {
        "id": "bl3DaTiv9miZ",
        "colab": {
          "base_uri": "https://localhost:8080/"
        },
        "outputId": "7f9446b0-e4ec-44d7-f2bf-aaa5bdf5b7f7"
      },
      "source": [
        "mean_squared_error(y,Y_prediction)"
      ],
      "execution_count": 59,
      "outputs": [
        {
          "output_type": "execute_result",
          "data": {
            "text/plain": [
              "50237.353321931485"
            ]
          },
          "metadata": {},
          "execution_count": 59
        }
      ]
    },
    {
      "cell_type": "code",
      "metadata": {
        "id": "4ku0_krs9o6K",
        "colab": {
          "base_uri": "https://localhost:8080/"
        },
        "outputId": "84b4726a-2f89-41bc-ec11-c3a6b6a677ce"
      },
      "source": [
        "rmse = np.sqrt(mean_squared_error(y,Y_prediction))\n",
        "rmse"
      ],
      "execution_count": 60,
      "outputs": [
        {
          "output_type": "execute_result",
          "data": {
            "text/plain": [
              "224.1369075407517"
            ]
          },
          "metadata": {},
          "execution_count": 60
        }
      ]
    },
    {
      "cell_type": "code",
      "metadata": {
        "id": "RLNwk2wycndG"
      },
      "source": [
        "residuals = Y_prediction - y"
      ],
      "execution_count": 61,
      "outputs": []
    },
    {
      "cell_type": "markdown",
      "metadata": {
        "id": "lFS3Fk1BObgM"
      },
      "source": [
        "### Calculate % contribution by tactic"
      ]
    },
    {
      "cell_type": "code",
      "metadata": {
        "id": "o1_xhBqVOmh4"
      },
      "source": [
        "yName = 'new_accounts'\n",
        "xNames = ['Brand_x_Core_x_NC_clicks', 'The_Trade_Desk_x_Audio_x_AWA_imps','DBM_x_Display_x_RTG_imps', 'Amazon_x_Display_x_AWA_imps',\n",
        "         'DBM_x_Video_x_AWA_imps', 'The_Trade_Desk_x_Display_x_AWA_imps', 'Brand_x_RMKT_x_EC_clicks','OTHER_x_Display_x_AWA_imps',\n",
        "         'Amazon_x_Display_x_RTG_imps', 'DBM_x_Display_x_ACQ_imps','Oath_x_Display_x_AWA_imps', 'DBM_x_Display_x_AWA_imps']\n",
        "df_results = relativeImp(df, outcomeName = yName, driverNames = xNames)"
      ],
      "execution_count": 62,
      "outputs": []
    },
    {
      "cell_type": "code",
      "metadata": {
        "id": "ke2dXe2ERMGL",
        "colab": {
          "base_uri": "https://localhost:8080/"
        },
        "outputId": "e49bb480-06b9-4f20-d240-8fc9723e7121"
      },
      "source": [
        "df_results.rawRelaImpt.sum()"
      ],
      "execution_count": 63,
      "outputs": [
        {
          "output_type": "execute_result",
          "data": {
            "text/plain": [
              "0.7617686539922744"
            ]
          },
          "metadata": {},
          "execution_count": 63
        }
      ]
    },
    {
      "cell_type": "code",
      "metadata": {
        "id": "J-VKwy-F-Rt9"
      },
      "source": [
        "unattributed_conversions = 1 - df_results.rawRelaImpt.sum()"
      ],
      "execution_count": 64,
      "outputs": []
    },
    {
      "cell_type": "markdown",
      "metadata": {
        "id": "HuZp1ueCLdn9"
      },
      "source": [
        "### Cross-Validation"
      ]
    },
    {
      "cell_type": "markdown",
      "metadata": {
        "id": "tcY8t5pYN3B0"
      },
      "source": [
        "#### Leave One Out"
      ]
    },
    {
      "cell_type": "code",
      "metadata": {
        "id": "w1R2VY8AN49g"
      },
      "source": [
        "loo = LeaveOneOut()\n",
        "scores_mse_loo = cross_val_score(reg, X, y, scoring=\"neg_mean_squared_error\", cv=loo)\n",
        "mse_loo = np.mean(np.abs(scores_mse_loo))\n",
        "rmse_loo = np.sqrt(mse_loo)"
      ],
      "execution_count": 65,
      "outputs": []
    },
    {
      "cell_type": "code",
      "metadata": {
        "id": "SkrE5Pn_OEvF"
      },
      "source": [
        "# initiate list for loop to aggregate metric results\n",
        "\n",
        "X_array = np.array(X) \n",
        "Y_array = np.array(y)\n",
        "\n",
        "Y_true = []\n",
        "Y_hat = []\n",
        "for train_idx, test_idx in loo.split(X):\n",
        "    X_train, X_test = X_array[train_idx], X_array[test_idx] #requires arrays\n",
        "    Y_train, Y_test = Y_array[train_idx], Y_array[test_idx]\n",
        "    \n",
        "   \n",
        "    reg.fit(X = X_train, y = Y_train) \n",
        "    Y_pred = reg.predict(X_test)\n",
        "        \n",
        "    Y_true += list(Y_test)\n",
        "    Y_hat += list(Y_pred)\n",
        "       \n",
        "r2_loo = r2_score(np.array(Y_true), np.array(Y_hat))\n",
        "mae_loo = mean_absolute_error(np.array(Y_true), np.array(Y_hat))"
      ],
      "execution_count": 66,
      "outputs": []
    },
    {
      "cell_type": "markdown",
      "metadata": {
        "id": "xP8wAU6rN92e"
      },
      "source": [
        "#### Leave P Out"
      ]
    },
    {
      "cell_type": "code",
      "metadata": {
        "id": "JJWksebwPdil"
      },
      "source": [
        "#@title Input P for hold-out size (for model cross validation using leave-P-out)\n",
        "P_HOLD_OUT = 2 #@param {type: \"integer\"}"
      ],
      "execution_count": 67,
      "outputs": []
    },
    {
      "cell_type": "code",
      "metadata": {
        "id": "6tEnvOahPf5_"
      },
      "source": [
        "# model cross validation using leave-P-out (specify P as hold-out size)\n",
        "lpo = LeavePOut(p=P_HOLD_OUT)\n",
        "scores_mse_lpo = cross_val_score(reg, X, y, scoring=\"neg_mean_squared_error\", cv=lpo) \n",
        "mse_lpo = np.mean(np.abs(scores_mse_lpo))\n",
        "rmse_lpo = np.sqrt(mse_lpo)\n",
        "\n",
        "# initiate list for loop to aggregate metric results (overrides arrays created above)\n",
        "Y_true = []\n",
        "Y_hat = []\n",
        "for train_idx, test_idx in lpo.split(X):\n",
        "    X_train, X_test = X_array[train_idx], X_array[test_idx] #requires arrays\n",
        "    Y_train, Y_test = Y_array[train_idx], Y_array[test_idx]\n",
        "    \n",
        "    reg.fit(X = X_train, y = Y_train) \n",
        "    Y_pred = reg.predict(X_test)\n",
        "        \n",
        "    Y_true += list(Y_test)\n",
        "    Y_hat += list(Y_pred)\n",
        "        \n",
        "r2_lpo = r2_score(np.array(Y_true), np.array(Y_hat))\n",
        "mae_lpo = mean_absolute_error(np.array(Y_true), np.array(Y_hat))"
      ],
      "execution_count": 68,
      "outputs": []
    },
    {
      "cell_type": "markdown",
      "metadata": {
        "id": "52I7SsXrQc71"
      },
      "source": [
        "#### Evaluation"
      ]
    },
    {
      "cell_type": "markdown",
      "metadata": {
        "id": "fAa7Wivd-Rrp"
      },
      "source": [
        "Compare scoring"
      ]
    },
    {
      "cell_type": "code",
      "metadata": {
        "id": "9Hn7uMn0QeLr",
        "colab": {
          "base_uri": "https://localhost:8080/",
          "height": 110
        },
        "outputId": "aa6c09e9-56f6-44d2-fdb7-0aa4ec5d231a"
      },
      "source": [
        "cv_df = pd.DataFrame(columns=('CV Method','MAE','R2', 'MSE', 'RMSE')) \n",
        "cv_df.loc[len(cv_df)] = ['LOO',mae_loo, r2_loo[0], mse_loo, rmse_loo]\n",
        "cv_df.loc[len(cv_df)] = ['LPO',mae_lpo, r2_lpo[0], mse_lpo, rmse_lpo]\n",
        "cv_df"
      ],
      "execution_count": 69,
      "outputs": [
        {
          "output_type": "execute_result",
          "data": {
            "text/html": [
              "<div>\n",
              "<style scoped>\n",
              "    .dataframe tbody tr th:only-of-type {\n",
              "        vertical-align: middle;\n",
              "    }\n",
              "\n",
              "    .dataframe tbody tr th {\n",
              "        vertical-align: top;\n",
              "    }\n",
              "\n",
              "    .dataframe thead th {\n",
              "        text-align: right;\n",
              "    }\n",
              "</style>\n",
              "<table border=\"1\" class=\"dataframe\">\n",
              "  <thead>\n",
              "    <tr style=\"text-align: right;\">\n",
              "      <th></th>\n",
              "      <th>CV Method</th>\n",
              "      <th>MAE</th>\n",
              "      <th>R2</th>\n",
              "      <th>MSE</th>\n",
              "      <th>RMSE</th>\n",
              "    </tr>\n",
              "  </thead>\n",
              "  <tbody>\n",
              "    <tr>\n",
              "      <th>0</th>\n",
              "      <td>LOO</td>\n",
              "      <td>178.99887</td>\n",
              "      <td>0.75361</td>\n",
              "      <td>52643.20965</td>\n",
              "      <td>229.44108</td>\n",
              "    </tr>\n",
              "    <tr>\n",
              "      <th>1</th>\n",
              "      <td>LPO</td>\n",
              "      <td>179.00165</td>\n",
              "      <td>0.75360</td>\n",
              "      <td>52645.29988</td>\n",
              "      <td>229.44564</td>\n",
              "    </tr>\n",
              "  </tbody>\n",
              "</table>\n",
              "</div>"
            ],
            "text/plain": [
              "  CV Method       MAE      R2         MSE      RMSE\n",
              "0  LOO      178.99887 0.75361 52643.20965 229.44108\n",
              "1  LPO      179.00165 0.75360 52645.29988 229.44564"
            ]
          },
          "metadata": {},
          "execution_count": 69
        }
      ]
    },
    {
      "cell_type": "markdown",
      "metadata": {
        "id": "ONUcKmxtCB6u"
      },
      "source": [
        "# Validate Linear Regression Model Assumptions"
      ]
    },
    {
      "cell_type": "markdown",
      "metadata": {
        "id": "33adShh4CwUP"
      },
      "source": [
        "####1. Linearity"
      ]
    },
    {
      "cell_type": "markdown",
      "metadata": {
        "id": "mNk8VP2TCw7v"
      },
      "source": [
        "Visually inspect linearity between target variable and predictions"
      ]
    },
    {
      "cell_type": "code",
      "metadata": {
        "id": "p8PmoZ2bC14r",
        "colab": {
          "base_uri": "https://localhost:8080/",
          "height": 265
        },
        "outputId": "e7c45ecd-a4b2-43aa-c08c-5ed261714d26"
      },
      "source": [
        "plt.plot(Y_prediction,y,'o',alpha=0.5)\n",
        "plt.show()"
      ],
      "execution_count": 70,
      "outputs": [
        {
          "output_type": "display_data",
          "data": {
            "image/png": "[encoded data removed]",
            "text/plain": [
              "<Figure size 432x288 with 1 Axes>"
            ]
          },
          "metadata": {
            "needs_background": "light"
          }
        }
      ]
    },
    {
      "cell_type": "markdown",
      "metadata": {
        "id": "cLBcLEXTC3yV"
      },
      "source": [
        "#### 2. Normality of Errors"
      ]
    },
    {
      "cell_type": "markdown",
      "metadata": {
        "id": "NRotzz8xC6QH"
      },
      "source": [
        "Visually inspect the residuals to confirm normality"
      ]
    },
    {
      "cell_type": "code",
      "metadata": {
        "id": "_NjzxktOC_H_",
        "colab": {
          "base_uri": "https://localhost:8080/",
          "height": 279
        },
        "outputId": "09aea62b-c6e6-466f-b736-15dad8f34cd3"
      },
      "source": [
        "fig = sm.qqplot(residuals)"
      ],
      "execution_count": 71,
      "outputs": [
        {
          "output_type": "display_data",
          "data": {
            "image/png": "[encoded data removed]",
            "text/plain": [
              "<Figure size 432x288 with 1 Axes>"
            ]
          },
          "metadata": {
            "needs_background": "light"
          }
        }
      ]
    },
    {
      "cell_type": "code",
      "metadata": {
        "id": "6PSlC66HDFbf",
        "colab": {
          "base_uri": "https://localhost:8080/",
          "height": 295
        },
        "outputId": "4c1b7128-cd72-4126-a864-2d1bc5d2613d"
      },
      "source": [
        "sns.kdeplot(residuals, label = '', shade = True)\n",
        "plt.xlabel('Model Residuals'); plt.ylabel('Density'); plt.title('Distribution of Residuals');"
      ],
      "execution_count": 72,
      "outputs": [
        {
          "output_type": "display_data",
          "data": {
            "image/png": "[encoded data removed]",
            "text/plain": [
              "<Figure size 432x288 with 1 Axes>"
            ]
          },
          "metadata": {
            "needs_background": "light"
          }
        }
      ]
    },
    {
      "cell_type": "markdown",
      "metadata": {
        "id": "c1oUNtOiC9KI"
      },
      "source": [
        "####3. Absence of Multicollinearity"
      ]
    },
    {
      "cell_type": "markdown",
      "metadata": {
        "id": "0K3GTpY2Dtdi"
      },
      "source": [
        "Tested and checked during data processing stage"
      ]
    },
    {
      "cell_type": "markdown",
      "metadata": {
        "id": "ko6ZzCPpDw3Y"
      },
      "source": [
        "####4. Homoscedasticity\n"
      ]
    },
    {
      "cell_type": "markdown",
      "metadata": {
        "id": "i87wy-MkEKRq"
      },
      "source": [
        "Visually inspect residuals to confirm constant variance"
      ]
    },
    {
      "cell_type": "code",
      "metadata": {
        "id": "NDCWmRTuEPcf",
        "colab": {
          "base_uri": "https://localhost:8080/",
          "height": 265
        },
        "outputId": "acedbf48-0bdd-408f-e5fe-2e5c0d68b6f3"
      },
      "source": [
        "plt.plot(residuals,'o',alpha=0.5)\n",
        "plt.show()"
      ],
      "execution_count": 73,
      "outputs": [
        {
          "output_type": "display_data",
          "data": {
            "image/png": "[encoded data removed]",
            "text/plain": [
              "<Figure size 432x288 with 1 Axes>"
            ]
          },
          "metadata": {
            "needs_background": "light"
          }
        }
      ]
    }
  ]
}