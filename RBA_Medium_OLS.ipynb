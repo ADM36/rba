{
  "nbformat": 4,
  "nbformat_minor": 0,
  "metadata": {
    "colab": {
      "name": "RBA Medium - OLS",
      "provenance": [],
      "collapsed_sections": [],
      "toc_visible": true
    },
    "kernelspec": {
      "display_name": "Python 3",
      "name": "python3"
    },
    "language_info": {
      "name": "python"
    }
  },
  "cells": [
    {
      "cell_type": "markdown",
      "metadata": {
        "id": "qR3ca-feDOrw"
      },
      "source": [
        "Copyright 2021 Google Inc.\n",
        "\n",
        "Licensed under the Apache License, Version 2.0 (the \"License\");\n",
        "you may not use this file except in compliance with the License.\n",
        "You may obtain a copy of the License at\n",
        "\n",
        "[https://www.apache.org/licenses/LICENSE-2.0](https://www.apache.org/licenses/LICENSE-2.0)\n",
        "\n",
        "Unless required by applicable law or agreed to in writing, software\n",
        "distributed under the License is distributed on an \"AS IS\" BASIS,\n",
        "WITHOUT WARRANTIES OR CONDITIONS OF ANY KIND, either express or implied.\n",
        "See the License for the specific language governing permissions and\n",
        "limitations under the License.\n",
        "\n",
        "This solution, including any related sample code or data, is made available \n",
        "on an “as is,” “as available,” and “with all faults” basis, solely for \n",
        "illustrative purposes, and without warranty or representation of any kind. \n",
        "This solution is experimental, unsupported and provided solely for your \n",
        "convenience. Your use of it is subject to your agreements with Google, as \n",
        "applicable, and may constitute a beta feature as defined under those \n",
        "agreements.  To the extent that you make any data available to Google in \n",
        "connection with your use of the solution, you represent and warrant that you \n",
        "have all necessary and appropriate rights, consents and permissions to permit \n",
        "Google to use and process that data.  By using any portion of this solution, \n",
        "you acknowledge, assume and accept all risks, known and unknown, associated \n",
        "with its usage, including with respect to your deployment of any portion of \n",
        "this solution in your systems, or usage in connection with your business, \n",
        "if at all.\n"
      ]
    },
    {
      "cell_type": "markdown",
      "metadata": {
        "id": "l19lClJob3IR"
      },
      "source": [
        "# Setup"
      ]
    },
    {
      "cell_type": "markdown",
      "metadata": {
        "id": "uh6JyZGLcEgE"
      },
      "source": [
        "### Load modules"
      ]
    },
    {
      "cell_type": "code",
      "metadata": {
        "colab": {
          "base_uri": "https://localhost:8080/"
        },
        "id": "4aupXJjFcHkq",
        "outputId": "eeff5535-f8fd-4695-fe58-1ae12318f36c"
      },
      "source": [
        "# authenication libraries for colab & bigquery tools\n",
        "from google.colab import auth\n",
        "from google.cloud import bigquery\n",
        "!pip install --upgrade -q gspread # you may see a version error on the first run - the code will still run\n",
        "import gspread\n",
        "from gspread_dataframe import set_with_dataframe\n",
        "from oauth2client.client import GoogleCredentials\n",
        "auth.authenticate_user()\n",
        "gc = gspread.authorize(GoogleCredentials.get_application_default())\n",
        "bigquery.USE_LEGACY_SQL = False\n",
        "\n",
        "# BQ Magics\n",
        "from google.cloud import bigquery\n",
        "from google.cloud.bigquery import magics\n",
        "magics.context.project = 'db-platform-sol' #list BQ project name\n",
        "client = bigquery.Client(project=magics.context.project)\n",
        "%load_ext google.cloud.bigquery\n",
        "\n",
        "# data processing libraries\n",
        "import numpy as np\n",
        "import pandas as pd\n",
        "pd.set_option('display.max_rows', None)\n",
        "pd.set_option('display.max_columns', None)\n",
        "pd.set_option('display.width', None)\n",
        "pd.set_option('display.max_colwidth', -1)\n",
        "pd.options.display.float_format = '{:.5f}'.format\n",
        "from sklearn.preprocessing import MinMaxScaler, StandardScaler, Normalizer\n",
        "from sklearn.model_selection import train_test_split, cross_val_score, LeaveOneOut, KFold, LeavePOut\n",
        "from sklearn.feature_selection import SelectKBest, f_regression, RFE\n",
        "from sklearn.linear_model import LinearRegression\n",
        "from sklearn.metrics import mean_squared_error, r2_score, mean_absolute_error\n",
        "\n",
        "import datetime\n",
        "\n",
        "# modeling and metrics\n",
        "from scipy.optimize import least_squares\n",
        "from statsmodels.stats.outliers_influence import variance_inflation_factor\n",
        "from statsmodels.tools.tools import add_constant\n",
        "import statsmodels.api as sm\n",
        "\n",
        "# Bayesian Package\n",
        "import pymc3 as pm\n",
        "from pymc3 import *\n",
        "print(f\"Running on PyMC3 v{pm.__version__}\")\n",
        "\n",
        "\n",
        "# Visualization\n",
        "import matplotlib.pyplot as plt\n",
        "%matplotlib inline\n",
        "import seaborn as sns\n",
        "import arviz as az"
      ],
      "execution_count": 1,
      "outputs": [
        {
          "output_type": "stream",
          "text": [
            "/usr/local/lib/python3.7/dist-packages/ipykernel_launcher.py:25: FutureWarning: Passing a negative integer is deprecated in version 1.0 and will not be supported in future version. Instead, use None to not limit the column width.\n",
            "/usr/local/lib/python3.7/dist-packages/statsmodels/tools/_testing.py:19: FutureWarning: pandas.util.testing is deprecated. Use the functions in the public API at pandas.testing instead.\n",
            "  import pandas.util.testing as tm\n"
          ],
          "name": "stderr"
        },
        {
          "output_type": "stream",
          "text": [
            "Running on PyMC3 v3.11.2\n"
          ],
          "name": "stdout"
        }
      ]
    },
    {
      "cell_type": "markdown",
      "metadata": {
        "id": "ZEieYk1j9w3h"
      },
      "source": [
        "# Define Parameters"
      ]
    },
    {
      "cell_type": "code",
      "metadata": {
        "id": "w8CWn0tC91mB"
      },
      "source": [
        "#@title Parameters\n",
        "\n",
        "INPUT_SHEET_NAME = 'model input data 8.17.21' #@param {type:\"string\"}"
      ],
      "execution_count": 2,
      "outputs": []
    },
    {
      "cell_type": "markdown",
      "metadata": {
        "id": "8N8-scWPc7fP"
      },
      "source": [
        "### Load model input data"
      ]
    },
    {
      "cell_type": "code",
      "metadata": {
        "id": "PtdFBo79xURE"
      },
      "source": [
        "google_sheets_name = INPUT_SHEET_NAME #@param"
      ],
      "execution_count": 3,
      "outputs": []
    },
    {
      "cell_type": "code",
      "metadata": {
        "id": "Z754pIbvxI63"
      },
      "source": [
        "worksheet = gc.open(INPUT_SHEET_NAME).sheet1\n",
        "\n",
        "# get_all_values gives a list of rows.\n",
        "rows = worksheet.get_all_values()\n",
        "\n",
        "df=pd.DataFrame.from_records(rows)\n",
        "\n",
        "\n",
        "#get column names from first row\n",
        "df.columns = df.iloc[0]\n",
        "\n",
        "#drop row with column names\n",
        "df = df.drop(df.index[0])\n",
        "\n",
        "#reset indexes\n",
        "df = df.reset_index(drop=True)\n",
        "\n",
        "#convert numeric data to numeric types\n",
        "df = df.apply(pd.to_numeric, errors='ignore')"
      ],
      "execution_count": 4,
      "outputs": []
    },
    {
      "cell_type": "code",
      "metadata": {
        "id": "-5lC4wyo9By5",
        "colab": {
          "base_uri": "https://localhost:8080/",
          "height": 35
        },
        "outputId": "f23ed5c4-8f58-419a-8427-1a7ecbc79a10"
      },
      "source": [
        "'''\n",
        "%%bigquery df\n",
        "SELECT *\n",
        "FROM `db-platform-sol.ComcastGBA_test.ne_mains_clean`\n",
        "WHERE Division IS NOT NULL;\n",
        "'''"
      ],
      "execution_count": 5,
      "outputs": [
        {
          "output_type": "execute_result",
          "data": {
            "application/vnd.google.colaboratory.intrinsic+json": {
              "type": "string"
            },
            "text/plain": [
              "'\\n%%bigquery df\\nSELECT *\\nFROM `db-platform-sol.ComcastGBA_test.ne_mains_clean`\\nWHERE Division IS NOT NULL;\\n'"
            ]
          },
          "metadata": {},
          "execution_count": 5
        }
      ]
    },
    {
      "cell_type": "code",
      "metadata": {
        "id": "Vybd_4Xz9MAz"
      },
      "source": [
        "df = df[['Brand_x_Core_x_NC_clicks', 'The_Trade_Desk_x_Audio_x_AWA_imps','DBM_x_Display_x_RTG_imps', \n",
        "'Amazon_x_Display_x_AWA_imps','DBM_x_Video_x_AWA_imps','OTHER_x_Display_x_AWA_imps','Oath_x_Display_x_AWA_imps', \n",
        "'DBM_x_Display_x_AWA_imps','Brand_x_RMKT_x_EC_clicks','DBM_x_Display_x_ACQ_imps', 'new_accounts']]"
      ],
      "execution_count": 6,
      "outputs": []
    },
    {
      "cell_type": "code",
      "metadata": {
        "colab": {
          "base_uri": "https://localhost:8080/"
        },
        "id": "4tVMgae8KVQV",
        "outputId": "117232df-7a43-4315-aa22-4cd20c09b624"
      },
      "source": [
        "df.info()"
      ],
      "execution_count": 7,
      "outputs": [
        {
          "output_type": "stream",
          "text": [
            "<class 'pandas.core.frame.DataFrame'>\n",
            "RangeIndex: 607 entries, 0 to 606\n",
            "Data columns (total 11 columns):\n",
            " #   Column                             Non-Null Count  Dtype  \n",
            "---  ------                             --------------  -----  \n",
            " 0   Brand_x_Core_x_NC_clicks           607 non-null    float64\n",
            " 1   The_Trade_Desk_x_Audio_x_AWA_imps  607 non-null    float64\n",
            " 2   DBM_x_Display_x_RTG_imps           607 non-null    float64\n",
            " 3   Amazon_x_Display_x_AWA_imps        607 non-null    float64\n",
            " 4   DBM_x_Video_x_AWA_imps             607 non-null    float64\n",
            " 5   OTHER_x_Display_x_AWA_imps         607 non-null    float64\n",
            " 6   Oath_x_Display_x_AWA_imps          607 non-null    float64\n",
            " 7   DBM_x_Display_x_AWA_imps           607 non-null    float64\n",
            " 8   Brand_x_RMKT_x_EC_clicks           607 non-null    float64\n",
            " 9   DBM_x_Display_x_ACQ_imps           607 non-null    float64\n",
            " 10  new_accounts                       607 non-null    int64  \n",
            "dtypes: float64(10), int64(1)\n",
            "memory usage: 52.3 KB\n"
          ],
          "name": "stdout"
        }
      ]
    },
    {
      "cell_type": "code",
      "metadata": {
        "colab": {
          "base_uri": "https://localhost:8080/",
          "height": 225
        },
        "id": "uwy66SrIhTDA",
        "outputId": "77af1776-8448-43cb-ee80-57d187001365"
      },
      "source": [
        "df.head()"
      ],
      "execution_count": 8,
      "outputs": [
        {
          "output_type": "execute_result",
          "data": {
            "text/html": [
              "<div>\n",
              "<style scoped>\n",
              "    .dataframe tbody tr th:only-of-type {\n",
              "        vertical-align: middle;\n",
              "    }\n",
              "\n",
              "    .dataframe tbody tr th {\n",
              "        vertical-align: top;\n",
              "    }\n",
              "\n",
              "    .dataframe thead th {\n",
              "        text-align: right;\n",
              "    }\n",
              "</style>\n",
              "<table border=\"1\" class=\"dataframe\">\n",
              "  <thead>\n",
              "    <tr style=\"text-align: right;\">\n",
              "      <th></th>\n",
              "      <th>Brand_x_Core_x_NC_clicks</th>\n",
              "      <th>The_Trade_Desk_x_Audio_x_AWA_imps</th>\n",
              "      <th>DBM_x_Display_x_RTG_imps</th>\n",
              "      <th>Amazon_x_Display_x_AWA_imps</th>\n",
              "      <th>DBM_x_Video_x_AWA_imps</th>\n",
              "      <th>OTHER_x_Display_x_AWA_imps</th>\n",
              "      <th>Oath_x_Display_x_AWA_imps</th>\n",
              "      <th>DBM_x_Display_x_AWA_imps</th>\n",
              "      <th>Brand_x_RMKT_x_EC_clicks</th>\n",
              "      <th>DBM_x_Display_x_ACQ_imps</th>\n",
              "      <th>new_accounts</th>\n",
              "    </tr>\n",
              "  </thead>\n",
              "  <tbody>\n",
              "    <tr>\n",
              "      <th>0</th>\n",
              "      <td>1.17396</td>\n",
              "      <td>0.85686</td>\n",
              "      <td>0.53833</td>\n",
              "      <td>0.13739</td>\n",
              "      <td>2.42995</td>\n",
              "      <td>0.15935</td>\n",
              "      <td>0.14012</td>\n",
              "      <td>2.38000</td>\n",
              "      <td>-0.17394</td>\n",
              "      <td>3.02039</td>\n",
              "      <td>1653</td>\n",
              "    </tr>\n",
              "    <tr>\n",
              "      <th>1</th>\n",
              "      <td>-0.36973</td>\n",
              "      <td>0.38510</td>\n",
              "      <td>-0.24605</td>\n",
              "      <td>0.83248</td>\n",
              "      <td>-0.33732</td>\n",
              "      <td>1.41059</td>\n",
              "      <td>0.14012</td>\n",
              "      <td>0.45270</td>\n",
              "      <td>-0.93820</td>\n",
              "      <td>0.17586</td>\n",
              "      <td>1466</td>\n",
              "    </tr>\n",
              "    <tr>\n",
              "      <th>2</th>\n",
              "      <td>-2.47505</td>\n",
              "      <td>-0.21720</td>\n",
              "      <td>-0.06182</td>\n",
              "      <td>0.61213</td>\n",
              "      <td>-0.89596</td>\n",
              "      <td>1.30628</td>\n",
              "      <td>0.14012</td>\n",
              "      <td>-0.17511</td>\n",
              "      <td>-1.48463</td>\n",
              "      <td>0.26480</td>\n",
              "      <td>604</td>\n",
              "    </tr>\n",
              "    <tr>\n",
              "      <th>3</th>\n",
              "      <td>-1.60225</td>\n",
              "      <td>0.46500</td>\n",
              "      <td>0.38572</td>\n",
              "      <td>1.57292</td>\n",
              "      <td>-0.29257</td>\n",
              "      <td>1.83450</td>\n",
              "      <td>0.14012</td>\n",
              "      <td>0.56023</td>\n",
              "      <td>-1.28564</td>\n",
              "      <td>0.14549</td>\n",
              "      <td>891</td>\n",
              "    </tr>\n",
              "    <tr>\n",
              "      <th>4</th>\n",
              "      <td>-0.64928</td>\n",
              "      <td>0.74772</td>\n",
              "      <td>-0.06955</td>\n",
              "      <td>0.15105</td>\n",
              "      <td>2.07830</td>\n",
              "      <td>-0.96072</td>\n",
              "      <td>0.14012</td>\n",
              "      <td>1.63565</td>\n",
              "      <td>-0.75104</td>\n",
              "      <td>2.31277</td>\n",
              "      <td>1023</td>\n",
              "    </tr>\n",
              "  </tbody>\n",
              "</table>\n",
              "</div>"
            ],
            "text/plain": [
              "0  Brand_x_Core_x_NC_clicks  The_Trade_Desk_x_Audio_x_AWA_imps  \\\n",
              "0 1.17396                   0.85686                              \n",
              "1 -0.36973                  0.38510                              \n",
              "2 -2.47505                  -0.21720                             \n",
              "3 -1.60225                  0.46500                              \n",
              "4 -0.64928                  0.74772                              \n",
              "\n",
              "0  DBM_x_Display_x_RTG_imps  Amazon_x_Display_x_AWA_imps  \\\n",
              "0 0.53833                   0.13739                        \n",
              "1 -0.24605                  0.83248                        \n",
              "2 -0.06182                  0.61213                        \n",
              "3 0.38572                   1.57292                        \n",
              "4 -0.06955                  0.15105                        \n",
              "\n",
              "0  DBM_x_Video_x_AWA_imps  OTHER_x_Display_x_AWA_imps  \\\n",
              "0 2.42995                 0.15935                       \n",
              "1 -0.33732                1.41059                       \n",
              "2 -0.89596                1.30628                       \n",
              "3 -0.29257                1.83450                       \n",
              "4 2.07830                 -0.96072                      \n",
              "\n",
              "0  Oath_x_Display_x_AWA_imps  DBM_x_Display_x_AWA_imps  \\\n",
              "0 0.14012                    2.38000                     \n",
              "1 0.14012                    0.45270                     \n",
              "2 0.14012                    -0.17511                    \n",
              "3 0.14012                    0.56023                     \n",
              "4 0.14012                    1.63565                     \n",
              "\n",
              "0  Brand_x_RMKT_x_EC_clicks  DBM_x_Display_x_ACQ_imps  new_accounts  \n",
              "0 -0.17394                  3.02039                    1653          \n",
              "1 -0.93820                  0.17586                    1466          \n",
              "2 -1.48463                  0.26480                    604           \n",
              "3 -1.28564                  0.14549                    891           \n",
              "4 -0.75104                  2.31277                    1023          "
            ]
          },
          "metadata": {},
          "execution_count": 8
        }
      ]
    },
    {
      "cell_type": "code",
      "metadata": {
        "id": "GQHF7XUi9H0_"
      },
      "source": [
        "#df.fillna(0, inplace = True)"
      ],
      "execution_count": 9,
      "outputs": []
    },
    {
      "cell_type": "code",
      "metadata": {
        "id": "fD-NZnVYIpiP"
      },
      "source": [
        "KPI_COL = \"new_accounts\" #@param {type: \"string\"}"
      ],
      "execution_count": 10,
      "outputs": []
    },
    {
      "cell_type": "code",
      "metadata": {
        "id": "qxSRpjLrxIvo"
      },
      "source": [
        "y = df[KPI_COL]\n",
        "X = df[df.columns[df.columns != KPI_COL]].values"
      ],
      "execution_count": 11,
      "outputs": []
    },
    {
      "cell_type": "markdown",
      "metadata": {
        "id": "lVBNE964LY2H"
      },
      "source": [
        "## OLS Model with Sklearn"
      ]
    },
    {
      "cell_type": "code",
      "metadata": {
        "id": "1JudSSm0MJY9"
      },
      "source": [
        "reg = LinearRegression().fit(X,y)"
      ],
      "execution_count": 12,
      "outputs": []
    },
    {
      "cell_type": "code",
      "metadata": {
        "colab": {
          "base_uri": "https://localhost:8080/"
        },
        "id": "TaK9iU5DPChz",
        "outputId": "9ed0a1cb-a921-430d-d8bc-22c464d651aa"
      },
      "source": [
        "df.columns.to_list()"
      ],
      "execution_count": 13,
      "outputs": [
        {
          "output_type": "execute_result",
          "data": {
            "text/plain": [
              "['Brand_x_Core_x_NC_clicks',\n",
              " 'The_Trade_Desk_x_Audio_x_AWA_imps',\n",
              " 'DBM_x_Display_x_RTG_imps',\n",
              " 'Amazon_x_Display_x_AWA_imps',\n",
              " 'DBM_x_Video_x_AWA_imps',\n",
              " 'OTHER_x_Display_x_AWA_imps',\n",
              " 'Oath_x_Display_x_AWA_imps',\n",
              " 'DBM_x_Display_x_AWA_imps',\n",
              " 'Brand_x_RMKT_x_EC_clicks',\n",
              " 'DBM_x_Display_x_ACQ_imps',\n",
              " 'new_accounts']"
            ]
          },
          "metadata": {},
          "execution_count": 13
        }
      ]
    },
    {
      "cell_type": "code",
      "metadata": {
        "colab": {
          "base_uri": "https://localhost:8080/"
        },
        "id": "x62ce4Pc9giv",
        "outputId": "a004eb5b-adeb-47fe-f1fe-98f5a07d18d1"
      },
      "source": [
        "reg.score(X,y)"
      ],
      "execution_count": 14,
      "outputs": [
        {
          "output_type": "execute_result",
          "data": {
            "text/plain": [
              "0.7130596421386299"
            ]
          },
          "metadata": {},
          "execution_count": 14
        }
      ]
    },
    {
      "cell_type": "code",
      "metadata": {
        "colab": {
          "base_uri": "https://localhost:8080/"
        },
        "id": "dtR3L7u-MgE-",
        "outputId": "9ca7707b-33de-4e02-cd3c-0fef5fd34bdf"
      },
      "source": [
        "reg.intercept_"
      ],
      "execution_count": 15,
      "outputs": [
        {
          "output_type": "execute_result",
          "data": {
            "text/plain": [
              "1500.7627677135292"
            ]
          },
          "metadata": {},
          "execution_count": 15
        }
      ]
    },
    {
      "cell_type": "code",
      "metadata": {
        "id": "s6rZOII_9i7N"
      },
      "source": [
        "coefficients = reg.coef_.tolist()"
      ],
      "execution_count": 16,
      "outputs": []
    },
    {
      "cell_type": "code",
      "metadata": {
        "id": "O_hXLQvO99AF",
        "colab": {
          "base_uri": "https://localhost:8080/"
        },
        "outputId": "7a709639-7059-4e49-bfe6-e5dff66704ed"
      },
      "source": [
        "coefficients"
      ],
      "execution_count": 17,
      "outputs": [
        {
          "output_type": "execute_result",
          "data": {
            "text/plain": [
              "[363.03906013932226,\n",
              " -145.67722126087074,\n",
              " 42.0348582241224,\n",
              " 36.70217534315376,\n",
              " 44.80053630780203,\n",
              " -80.97778297223078,\n",
              " 36.80990000092297,\n",
              " -123.19429481089185,\n",
              " -140.29087245715442,\n",
              " 104.03549094359911]"
            ]
          },
          "metadata": {},
          "execution_count": 17
        }
      ]
    },
    {
      "cell_type": "code",
      "metadata": {
        "id": "golvq9M_P9DO"
      },
      "source": [
        "coef_df = pd.DataFrame({'feature': df.columns[df.columns != KPI_COL],'coef': coefficients})"
      ],
      "execution_count": 18,
      "outputs": []
    },
    {
      "cell_type": "code",
      "metadata": {
        "id": "XMzBNrCnQLY_",
        "colab": {
          "base_uri": "https://localhost:8080/",
          "height": 362
        },
        "outputId": "7557e7ad-6b15-4398-e2ee-8b3c02b6bae3"
      },
      "source": [
        "coef_df"
      ],
      "execution_count": 19,
      "outputs": [
        {
          "output_type": "execute_result",
          "data": {
            "text/html": [
              "<div>\n",
              "<style scoped>\n",
              "    .dataframe tbody tr th:only-of-type {\n",
              "        vertical-align: middle;\n",
              "    }\n",
              "\n",
              "    .dataframe tbody tr th {\n",
              "        vertical-align: top;\n",
              "    }\n",
              "\n",
              "    .dataframe thead th {\n",
              "        text-align: right;\n",
              "    }\n",
              "</style>\n",
              "<table border=\"1\" class=\"dataframe\">\n",
              "  <thead>\n",
              "    <tr style=\"text-align: right;\">\n",
              "      <th></th>\n",
              "      <th>feature</th>\n",
              "      <th>coef</th>\n",
              "    </tr>\n",
              "  </thead>\n",
              "  <tbody>\n",
              "    <tr>\n",
              "      <th>0</th>\n",
              "      <td>Brand_x_Core_x_NC_clicks</td>\n",
              "      <td>363.03906</td>\n",
              "    </tr>\n",
              "    <tr>\n",
              "      <th>1</th>\n",
              "      <td>The_Trade_Desk_x_Audio_x_AWA_imps</td>\n",
              "      <td>-145.67722</td>\n",
              "    </tr>\n",
              "    <tr>\n",
              "      <th>2</th>\n",
              "      <td>DBM_x_Display_x_RTG_imps</td>\n",
              "      <td>42.03486</td>\n",
              "    </tr>\n",
              "    <tr>\n",
              "      <th>3</th>\n",
              "      <td>Amazon_x_Display_x_AWA_imps</td>\n",
              "      <td>36.70218</td>\n",
              "    </tr>\n",
              "    <tr>\n",
              "      <th>4</th>\n",
              "      <td>DBM_x_Video_x_AWA_imps</td>\n",
              "      <td>44.80054</td>\n",
              "    </tr>\n",
              "    <tr>\n",
              "      <th>5</th>\n",
              "      <td>OTHER_x_Display_x_AWA_imps</td>\n",
              "      <td>-80.97778</td>\n",
              "    </tr>\n",
              "    <tr>\n",
              "      <th>6</th>\n",
              "      <td>Oath_x_Display_x_AWA_imps</td>\n",
              "      <td>36.80990</td>\n",
              "    </tr>\n",
              "    <tr>\n",
              "      <th>7</th>\n",
              "      <td>DBM_x_Display_x_AWA_imps</td>\n",
              "      <td>-123.19429</td>\n",
              "    </tr>\n",
              "    <tr>\n",
              "      <th>8</th>\n",
              "      <td>Brand_x_RMKT_x_EC_clicks</td>\n",
              "      <td>-140.29087</td>\n",
              "    </tr>\n",
              "    <tr>\n",
              "      <th>9</th>\n",
              "      <td>DBM_x_Display_x_ACQ_imps</td>\n",
              "      <td>104.03549</td>\n",
              "    </tr>\n",
              "  </tbody>\n",
              "</table>\n",
              "</div>"
            ],
            "text/plain": [
              "                             feature       coef\n",
              "0  Brand_x_Core_x_NC_clicks          363.03906 \n",
              "1  The_Trade_Desk_x_Audio_x_AWA_imps -145.67722\n",
              "2  DBM_x_Display_x_RTG_imps          42.03486  \n",
              "3  Amazon_x_Display_x_AWA_imps       36.70218  \n",
              "4  DBM_x_Video_x_AWA_imps            44.80054  \n",
              "5  OTHER_x_Display_x_AWA_imps        -80.97778 \n",
              "6  Oath_x_Display_x_AWA_imps         36.80990  \n",
              "7  DBM_x_Display_x_AWA_imps          -123.19429\n",
              "8  Brand_x_RMKT_x_EC_clicks          -140.29087\n",
              "9  DBM_x_Display_x_ACQ_imps          104.03549 "
            ]
          },
          "metadata": {},
          "execution_count": 19
        }
      ]
    },
    {
      "cell_type": "code",
      "metadata": {
        "id": "VMxgSdDxMqHm"
      },
      "source": [
        "Y_prediction = reg.predict(X) # predicted values to be used for residual calculations"
      ],
      "execution_count": 20,
      "outputs": []
    },
    {
      "cell_type": "code",
      "metadata": {
        "colab": {
          "base_uri": "https://localhost:8080/"
        },
        "id": "LysCAUZo9ktT",
        "outputId": "881e9397-d2da-49db-87dd-4fea320842f4"
      },
      "source": [
        "mean_absolute_error(y,Y_prediction)"
      ],
      "execution_count": 21,
      "outputs": [
        {
          "output_type": "execute_result",
          "data": {
            "text/plain": [
              "191.57888154374825"
            ]
          },
          "metadata": {},
          "execution_count": 21
        }
      ]
    },
    {
      "cell_type": "code",
      "metadata": {
        "colab": {
          "base_uri": "https://localhost:8080/"
        },
        "id": "bl3DaTiv9miZ",
        "outputId": "aea7e368-4ab1-4adf-9621-bc38214fd4a3"
      },
      "source": [
        "mean_squared_error(y,Y_prediction)"
      ],
      "execution_count": 22,
      "outputs": [
        {
          "output_type": "execute_result",
          "data": {
            "text/plain": [
              "60508.9312627047"
            ]
          },
          "metadata": {},
          "execution_count": 22
        }
      ]
    },
    {
      "cell_type": "code",
      "metadata": {
        "colab": {
          "base_uri": "https://localhost:8080/"
        },
        "id": "4ku0_krs9o6K",
        "outputId": "18fd3b48-78e2-4aac-e793-f5d48ce3261d"
      },
      "source": [
        "rmse = np.sqrt(mean_squared_error(y,Y_prediction))\n",
        "rmse"
      ],
      "execution_count": 23,
      "outputs": [
        {
          "output_type": "execute_result",
          "data": {
            "text/plain": [
              "245.9856322281948"
            ]
          },
          "metadata": {},
          "execution_count": 23
        }
      ]
    },
    {
      "cell_type": "code",
      "metadata": {
        "id": "RLNwk2wycndG"
      },
      "source": [
        "residuals = Y_prediction - y"
      ],
      "execution_count": 24,
      "outputs": []
    },
    {
      "cell_type": "markdown",
      "metadata": {
        "id": "HuZp1ueCLdn9"
      },
      "source": [
        "### Cross-Validation"
      ]
    },
    {
      "cell_type": "markdown",
      "metadata": {
        "id": "tcY8t5pYN3B0"
      },
      "source": [
        "#### Leave One Out"
      ]
    },
    {
      "cell_type": "code",
      "metadata": {
        "id": "w1R2VY8AN49g"
      },
      "source": [
        "loo = LeaveOneOut()\n",
        "scores_mse_loo = cross_val_score(reg, X, y, scoring=\"neg_mean_squared_error\", cv=loo)\n",
        "mse_loo = np.mean(np.abs(scores_mse_loo))\n",
        "rmse_loo = np.sqrt(mse_loo)"
      ],
      "execution_count": 25,
      "outputs": []
    },
    {
      "cell_type": "code",
      "metadata": {
        "id": "SkrE5Pn_OEvF"
      },
      "source": [
        "# initiate list for loop to aggregate metric results\n",
        "\n",
        "X_array = np.array(X) \n",
        "Y_array = np.array(y)\n",
        "\n",
        "Y_true = []\n",
        "Y_hat = []\n",
        "for train_idx, test_idx in loo.split(X):\n",
        "    X_train, X_test = X_array[train_idx], X_array[test_idx] #requires arrays\n",
        "    Y_train, Y_test = Y_array[train_idx], Y_array[test_idx]\n",
        "    \n",
        "   \n",
        "    reg.fit(X = X_train, y = Y_train) \n",
        "    Y_pred = reg.predict(X_test)\n",
        "        \n",
        "    Y_true += list(Y_test)\n",
        "    Y_hat += list(Y_pred)\n",
        "       \n",
        "r2_loo = r2_score(np.array(Y_true), np.array(Y_hat))\n",
        "mae_loo = mean_absolute_error(np.array(Y_true), np.array(Y_hat))"
      ],
      "execution_count": 26,
      "outputs": []
    },
    {
      "cell_type": "markdown",
      "metadata": {
        "id": "xP8wAU6rN92e"
      },
      "source": [
        "#### Leave P Out"
      ]
    },
    {
      "cell_type": "code",
      "metadata": {
        "id": "JJWksebwPdil"
      },
      "source": [
        "#@title Input P for hold-out size (for model cross validation using leave-P-out)\n",
        "P_HOLD_OUT = 2 #@param {type: \"integer\"}"
      ],
      "execution_count": 27,
      "outputs": []
    },
    {
      "cell_type": "code",
      "metadata": {
        "id": "6tEnvOahPf5_"
      },
      "source": [
        "# model cross validation using leave-P-out (specify P as hold-out size)\n",
        "lpo = LeavePOut(p=P_HOLD_OUT)\n",
        "scores_mse_lpo = cross_val_score(reg, X, y, scoring=\"neg_mean_squared_error\", cv=lpo) \n",
        "mse_lpo = np.mean(np.abs(scores_mse_lpo))\n",
        "rmse_lpo = np.sqrt(mse_lpo)\n",
        "\n",
        "# initiate list for loop to aggregate metric results (overrides arrays created above)\n",
        "Y_true = []\n",
        "Y_hat = []\n",
        "for train_idx, test_idx in lpo.split(X):\n",
        "    X_train, X_test = X_array[train_idx], X_array[test_idx] #requires arrays\n",
        "    Y_train, Y_test = Y_array[train_idx], Y_array[test_idx]\n",
        "    \n",
        "    reg.fit(X = X_train, y = Y_train) \n",
        "    Y_pred = reg.predict(X_test)\n",
        "        \n",
        "    Y_true += list(Y_test)\n",
        "    Y_hat += list(Y_pred)\n",
        "        \n",
        "r2_lpo = r2_score(np.array(Y_true), np.array(Y_hat))\n",
        "mae_lpo = mean_absolute_error(np.array(Y_true), np.array(Y_hat))"
      ],
      "execution_count": 28,
      "outputs": []
    },
    {
      "cell_type": "markdown",
      "metadata": {
        "id": "52I7SsXrQc71"
      },
      "source": [
        "#### Evaluation"
      ]
    },
    {
      "cell_type": "markdown",
      "metadata": {
        "id": "fAa7Wivd-Rrp"
      },
      "source": [
        "Compare scoring"
      ]
    },
    {
      "cell_type": "code",
      "metadata": {
        "colab": {
          "base_uri": "https://localhost:8080/",
          "height": 112
        },
        "id": "9Hn7uMn0QeLr",
        "outputId": "037152c4-fa67-44f5-8faf-d30646878452"
      },
      "source": [
        "cv_df = pd.DataFrame(columns=('CV Method','MAE','R2', 'MSE', 'RMSE')) \n",
        "cv_df.loc[len(cv_df)] = ['LOO',mae_loo, r2_loo[0], mse_loo, rmse_loo]\n",
        "cv_df.loc[len(cv_df)] = ['LPO',mae_lpo, r2_lpo[0], mse_lpo, rmse_lpo]\n",
        "cv_df"
      ],
      "execution_count": 29,
      "outputs": [
        {
          "output_type": "execute_result",
          "data": {
            "text/html": [
              "<div>\n",
              "<style scoped>\n",
              "    .dataframe tbody tr th:only-of-type {\n",
              "        vertical-align: middle;\n",
              "    }\n",
              "\n",
              "    .dataframe tbody tr th {\n",
              "        vertical-align: top;\n",
              "    }\n",
              "\n",
              "    .dataframe thead th {\n",
              "        text-align: right;\n",
              "    }\n",
              "</style>\n",
              "<table border=\"1\" class=\"dataframe\">\n",
              "  <thead>\n",
              "    <tr style=\"text-align: right;\">\n",
              "      <th></th>\n",
              "      <th>CV Method</th>\n",
              "      <th>MAE</th>\n",
              "      <th>R2</th>\n",
              "      <th>MSE</th>\n",
              "      <th>RMSE</th>\n",
              "    </tr>\n",
              "  </thead>\n",
              "  <tbody>\n",
              "    <tr>\n",
              "      <th>0</th>\n",
              "      <td>LOO</td>\n",
              "      <td>195.31559</td>\n",
              "      <td>0.70520</td>\n",
              "      <td>63006.59991</td>\n",
              "      <td>251.01115</td>\n",
              "    </tr>\n",
              "    <tr>\n",
              "      <th>1</th>\n",
              "      <td>LPO</td>\n",
              "      <td>195.31780</td>\n",
              "      <td>0.70520</td>\n",
              "      <td>63008.74842</td>\n",
              "      <td>251.01543</td>\n",
              "    </tr>\n",
              "  </tbody>\n",
              "</table>\n",
              "</div>"
            ],
            "text/plain": [
              "  CV Method       MAE      R2         MSE      RMSE\n",
              "0  LOO      195.31559 0.70520 63006.59991 251.01115\n",
              "1  LPO      195.31780 0.70520 63008.74842 251.01543"
            ]
          },
          "metadata": {},
          "execution_count": 29
        }
      ]
    },
    {
      "cell_type": "markdown",
      "metadata": {
        "id": "ONUcKmxtCB6u"
      },
      "source": [
        "# Validate Linear Regression Model Assumptions"
      ]
    },
    {
      "cell_type": "markdown",
      "metadata": {
        "id": "33adShh4CwUP"
      },
      "source": [
        "####1. Linearity"
      ]
    },
    {
      "cell_type": "markdown",
      "metadata": {
        "id": "mNk8VP2TCw7v"
      },
      "source": [
        "Visually inspect linearity between target variable and predictions"
      ]
    },
    {
      "cell_type": "code",
      "metadata": {
        "id": "p8PmoZ2bC14r",
        "colab": {
          "base_uri": "https://localhost:8080/",
          "height": 265
        },
        "outputId": "dc5fe3f8-f0d2-4d5d-fc1c-61341710e0d4"
      },
      "source": [
        "plt.plot(Y_prediction,y,'o',alpha=0.5)\n",
        "plt.show()"
      ],
      "execution_count": 30,
      "outputs": [
        {
          "output_type": "display_data",
          "data": {
            "image/png": "[encoded data removed]",
            "text/plain": [
              "<Figure size 432x288 with 1 Axes>"
            ]
          },
          "metadata": {
            "needs_background": "light"
          }
        }
      ]
    },
    {
      "cell_type": "markdown",
      "metadata": {
        "id": "cLBcLEXTC3yV"
      },
      "source": [
        "#### 2. Normality of Errors"
      ]
    },
    {
      "cell_type": "markdown",
      "metadata": {
        "id": "NRotzz8xC6QH"
      },
      "source": [
        "Visually inspect the residuals to confirm normality"
      ]
    },
    {
      "cell_type": "code",
      "metadata": {
        "id": "_NjzxktOC_H_",
        "colab": {
          "base_uri": "https://localhost:8080/",
          "height": 279
        },
        "outputId": "e52be064-5263-485a-93f1-e90a24f7213d"
      },
      "source": [
        "fig = sm.qqplot(residuals)"
      ],
      "execution_count": 31,
      "outputs": [
        {
          "output_type": "display_data",
          "data": {
            "image/png": "[encoded data removed]",
            "text/plain": [
              "<Figure size 432x288 with 1 Axes>"
            ]
          },
          "metadata": {
            "needs_background": "light"
          }
        }
      ]
    },
    {
      "cell_type": "code",
      "metadata": {
        "id": "6PSlC66HDFbf",
        "colab": {
          "base_uri": "https://localhost:8080/",
          "height": 295
        },
        "outputId": "b66af666-145e-4fc0-b11c-f059635c70f3"
      },
      "source": [
        "sns.kdeplot(residuals, label = '', shade = True)\n",
        "plt.xlabel('Model Residuals'); plt.ylabel('Density'); plt.title('Distribution of Residuals');"
      ],
      "execution_count": 32,
      "outputs": [
        {
          "output_type": "display_data",
          "data": {
            "image/png": "[encoded data removed]",
            "text/plain": [
              "<Figure size 432x288 with 1 Axes>"
            ]
          },
          "metadata": {
            "needs_background": "light"
          }
        }
      ]
    },
    {
      "cell_type": "markdown",
      "metadata": {
        "id": "c1oUNtOiC9KI"
      },
      "source": [
        "####3. Absence of Multicollinearity"
      ]
    },
    {
      "cell_type": "markdown",
      "metadata": {
        "id": "0K3GTpY2Dtdi"
      },
      "source": [
        "Tested and checked during data processing stage"
      ]
    },
    {
      "cell_type": "markdown",
      "metadata": {
        "id": "ko6ZzCPpDw3Y"
      },
      "source": [
        "####4. Homoscedasticity\n"
      ]
    },
    {
      "cell_type": "markdown",
      "metadata": {
        "id": "i87wy-MkEKRq"
      },
      "source": [
        "Visually inspect residuals to confirm constant variance"
      ]
    },
    {
      "cell_type": "code",
      "metadata": {
        "id": "NDCWmRTuEPcf",
        "colab": {
          "base_uri": "https://localhost:8080/",
          "height": 265
        },
        "outputId": "b108fd74-482e-444c-cae8-dca9096e5aa0"
      },
      "source": [
        "plt.plot(residuals,'o',alpha=0.5)\n",
        "plt.show()"
      ],
      "execution_count": 33,
      "outputs": [
        {
          "output_type": "display_data",
          "data": {
            "image/png": "[encoded data removed]",
            "text/plain": [
              "<Figure size 432x288 with 1 Axes>"
            ]
          },
          "metadata": {
            "needs_background": "light"
          }
        }
      ]
    }
  ]
}
